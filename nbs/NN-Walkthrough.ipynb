{
 "cells": [
  {
   "cell_type": "markdown",
   "metadata": {},
   "source": [
    "# NN Walkthrough\n",
    "\n",
    "In this notebook we will walk through the forward and backward direction of neural networks."
   ]
  },
  {
   "cell_type": "code",
   "execution_count": 1,
   "metadata": {},
   "outputs": [],
   "source": [
    "import numpy as np\n",
    "import sklearn\n",
    "import sklearn.datasets\n",
    "import matplotlib as mpl\n",
    "import matplotlib.pyplot as plt\n",
    "from mpl_toolkits.mplot3d import Axes3D\n",
    "from matplotlib import cm\n",
    "import seaborn as sns\n",
    "\n",
    "# for creating animations\n",
    "import matplotlib.animation\n",
    "from IPython.display import HTML"
   ]
  },
  {
   "cell_type": "code",
   "execution_count": 2,
   "metadata": {},
   "outputs": [
    {
     "data": {
      "text/html": [
       "<style>div.info{padding: 15px; border: 1px solid transparent; border-left: 5px solid #dfb5b4; border-color: transparent; margin-bottom: 10px; border-radius: 4px; background-color: #fcf8e3; border-color: #faebcc;}</style>"
      ],
      "text/plain": [
       "<IPython.core.display.HTML object>"
      ]
     },
     "execution_count": 2,
     "metadata": {},
     "output_type": "execute_result"
    }
   ],
   "source": [
    "# styling additions\n",
    "from IPython.display import HTML\n",
    "# style = \"<style>div.warn{background-color: #fcf2f2;border-color: #dFb5b4; border-left: 5px solid #dfb5b4; padding: 0.5em;}</style>\"\n",
    "style = \"<style>div.info{padding: 15px; border: 1px solid transparent; border-left: 5px solid #dfb5b4; border-color: transparent; margin-bottom: 10px; border-radius: 4px; background-color: #fcf8e3; border-color: #faebcc;}</style>\"\n",
    "HTML(style)"
   ]
  },
  {
   "cell_type": "markdown",
   "metadata": {},
   "source": [
    " # Forward Direction\n",
    "\n",
    "Lets start with the simplest network we can imagine, and first understand how a neural network calculates its output for a particular input. This is known as the \"forward\" direction (we will see why later). \n",
    "\n",
    "## Dataset\n",
    "\n",
    "Lets generate a simple 1-D toy dataset:"
   ]
  },
  {
   "cell_type": "code",
   "execution_count": 3,
   "metadata": {},
   "outputs": [],
   "source": [
    "def toy():\n",
    "    N = 1000\n",
    "    inputs = np.linspace(-5,5,N).reshape(N,1)\n",
    "    labels = ((inputs>0).astype(int)*2-1).reshape(N,1)\n",
    "    return inputs,labels"
   ]
  },
  {
   "cell_type": "code",
   "execution_count": 4,
   "metadata": {},
   "outputs": [
    {
     "data": {
      "text/plain": [
       "(array([-5.]), array([-1]))"
      ]
     },
     "execution_count": 4,
     "metadata": {},
     "output_type": "execute_result"
    }
   ],
   "source": [
    "inputs,labels = toy()\n",
    "inputs[0],labels[0]"
   ]
  },
  {
   "cell_type": "markdown",
   "metadata": {},
   "source": [
    "## 1-D Network\n",
    "\n",
    "Lets give the simplest network we can imagine. One that consists of a few 1-D \"layers\" of size 1! We have an:\n",
    "* input node/layer, \n",
    "* hidden node/layer:$h_1$, \n",
    "* another hidden node/layer $h_2$\n",
    "* output node/layer. "
   ]
  },
  {
   "cell_type": "markdown",
   "metadata": {},
   "source": [
    "Networks are typically drawn with the **weights** on the wires. Our simple network can be given as:\n",
    "![](figures/simple_network.png)"
   ]
  },
  {
   "cell_type": "markdown",
   "metadata": {},
   "source": [
    "<div class=\"info\">\n",
    "\n",
    "**Note:** This is sometimes confusing, as technically its the **activations** of the previous layer that \"flow\" into the next layer. However, the weights are what we are tying to **learn**, and their relative **strengths** tells us something about the structure of the network.\n",
    "    \n",
    "</div>\n",
    "\n",
    "\n",
    "Each node has an associated:\n",
    "* weight\n",
    "* bias\n",
    "* activation function\n",
    "\n",
    "In our example, we have $w_1,b_1,w_2,b_2,w_3,b_3$ as our **parameters** and we are using the **sigmoid** as our activation function.\n",
    "\n",
    "The function of each node, is to apply its own weight and bias to a previous layers activation value, and then pass it through its activation function to produce its own activation. For example, $h_1$ is doing:\n",
    "\n",
    "$$\n",
    "a_1 = \\sigma(w\\cdot x + b)\n",
    "$$\n",
    "\n",
    "The *input* to a nodes activation function is useful to think about separately, so we can introduce an additional variable to denote it as:\n",
    "$$\n",
    "z_i = w\\cdot x + b, \\quad\\quad a_1 = \\sigma(z_i)\n",
    "$$"
   ]
  },
  {
   "cell_type": "markdown",
   "metadata": {},
   "source": [
    "So, we can describe the behavior of each of our nodes as:\n",
    "\n",
    "![](figures/nodes.png)"
   ]
  },
  {
   "cell_type": "markdown",
   "metadata": {},
   "source": [
    "### Implementation\n",
    "\n",
    "Now we can actually implement this simple network. Lets start by recalling the sigmoid function:"
   ]
  },
  {
   "cell_type": "code",
   "execution_count": 5,
   "metadata": {},
   "outputs": [
    {
     "data": {
      "image/png": "[encoded data removed]",
      "text/plain": [
       "<Figure size 432x288 with 1 Axes>"
      ]
     },
     "metadata": {
      "needs_background": "light"
     },
     "output_type": "display_data"
    }
   ],
   "source": [
    "def sigmoid(x):\n",
    "    return 1 / (1 + np.exp(-x))\n",
    "\n",
    "plt.plot(np.linspace(-5,5),sigmoid(np.linspace(-5,5)));"
   ]
  },
  {
   "cell_type": "markdown",
   "metadata": {},
   "source": [
    "Lets define the function of a **node**, being careful to match our notation:"
   ]
  },
  {
   "cell_type": "code",
   "execution_count": 6,
   "metadata": {},
   "outputs": [],
   "source": [
    "def node(w,b,a):\n",
    "    z = w*a + b\n",
    "    return sigmoid(z)"
   ]
  },
  {
   "cell_type": "markdown",
   "metadata": {},
   "source": [
    "Now we are ready to define our **actual network**! Lets initialize our random weights and biases:"
   ]
  },
  {
   "cell_type": "code",
   "execution_count": 7,
   "metadata": {},
   "outputs": [],
   "source": [
    "w1,b1,w2,b2,w3,b3 = np.random.rand(6)"
   ]
  },
  {
   "cell_type": "markdown",
   "metadata": {},
   "source": [
    "Now, lets pick a training example and run it through our network:"
   ]
  },
  {
   "cell_type": "code",
   "execution_count": 8,
   "metadata": {},
   "outputs": [],
   "source": [
    "input,label = inputs[0],labels[0]\n",
    "\n",
    "# h1 node - operates on our input\n",
    "a1 = node(w1,b1,input)\n",
    "\n",
    "# h2 node - operates on a1\n",
    "a2 = node(w2,b2,a1)\n",
    "\n",
    "# output node - operates on a2 - produces our output\n",
    "output = node(w3,b3,a2)\n",
    "y_hat = output"
   ]
  },
  {
   "cell_type": "markdown",
   "metadata": {},
   "source": [
    "Lets see how we did!"
   ]
  },
  {
   "cell_type": "code",
   "execution_count": 9,
   "metadata": {},
   "outputs": [
    {
     "name": "stdout",
     "output_type": "stream",
     "text": [
      "for input: [-5.] with label: [-1], this network calculated: [0.79238682]\n"
     ]
    }
   ],
   "source": [
    "print(f\"for input: {input} with label: {label}, this network calculated: {y_hat}\")"
   ]
  },
  {
   "cell_type": "markdown",
   "metadata": {},
   "source": [
    "As we know, to actually see how we did, we need to **define a cost**! Lets proceed with the usual average-MSE:"
   ]
  },
  {
   "cell_type": "code",
   "execution_count": 10,
   "metadata": {},
   "outputs": [],
   "source": [
    "def mse(y_hat,y,average=True):\n",
    "    if average:\n",
    "        return np.mean((y_hat-y)**2)\n",
    "    else:\n",
    "        return ((y_hat-y)**2)"
   ]
  },
  {
   "cell_type": "code",
   "execution_count": 11,
   "metadata": {},
   "outputs": [],
   "source": [
    "def cost_mse(y_hat,y):\n",
    "    return 0.5*np.linalg.norm(y-y_hat)**2"
   ]
  },
  {
   "cell_type": "code",
   "execution_count": 12,
   "metadata": {},
   "outputs": [
    {
     "name": "stdout",
     "output_type": "stream",
     "text": [
      "for input: [-5.] with label: [-1], this network calculated: [0.79238682], giving us a cost of: 3.2126504956753434\n"
     ]
    }
   ],
   "source": [
    "print(f\"for input: {input} with label: {label}, this network calculated: {output}, giving us a cost of: {mse(output,label)}\")"
   ]
  },
  {
   "cell_type": "markdown",
   "metadata": {},
   "source": [
    "Ok - so we've demonstrated the entire forward direction, for one sample. Lets define a function for this simple network, so we can run our entire training set through!"
   ]
  },
  {
   "cell_type": "code",
   "execution_count": 13,
   "metadata": {},
   "outputs": [],
   "source": [
    "def simple_network(inputs):\n",
    "    outputs = []\n",
    "    N = inputs.shape[0]\n",
    "    \n",
    "    # initialized weights\n",
    "    w1,b1,w2,b2,w3,b3 = np.random.rand(6)\n",
    "\n",
    "    for i in range(N):\n",
    "        input = inputs[i,:]\n",
    "        \n",
    "        # h1 node\n",
    "        a1 = node(w1,b1,input)\n",
    "\n",
    "        # h2 node\n",
    "        a2 = node(w2,b2,a1)\n",
    "\n",
    "        # output node\n",
    "        output = node(w3,b3,a2)\n",
    "        \n",
    "        # append to form output\n",
    "        outputs.append(output)\n",
    "    \n",
    "    return np.asarray(outputs)"
   ]
  },
  {
   "cell_type": "markdown",
   "metadata": {},
   "source": [
    "We can now calculate our **average loss** over the entire training set:"
   ]
  },
  {
   "cell_type": "code",
   "execution_count": 14,
   "metadata": {},
   "outputs": [
    {
     "data": {
      "text/plain": [
       "1.4791082625176943"
      ]
     },
     "execution_count": 14,
     "metadata": {},
     "output_type": "execute_result"
    }
   ],
   "source": [
    "mse(simple_network(inputs),labels)"
   ]
  },
  {
   "cell_type": "code",
   "execution_count": null,
   "metadata": {},
   "outputs": [],
   "source": []
  },
  {
   "cell_type": "markdown",
   "metadata": {},
   "source": [
    "--- \n",
    "\n",
    "## Multidimensional Network\n",
    "\n",
    "\n",
    "We've looked at a very simple example above which captures the essence of what we are doing. However, our networks are really never actually composed of layers with one element each. Instead, **each** layer has **multiple** nodes. \n",
    "\n",
    "Technically, we could continue in the same way as above and individually number our weights and biases but this quickly gets out of hand! As an exercise, try repeating the above analysis and implementation where each hidden layer is now of size 2!\n",
    "\n",
    "Ironically, to avoid this notational complexity, it seems like we must introduce additional notation, and rewrite our problem in the language of **linear algebra**. "
   ]
  },
  {
   "cell_type": "markdown",
   "metadata": {},
   "source": [
    "To introduce this notation, lets imagine a network the following structure:\n",
    "![](figures/md-1.png)"
   ]
  },
  {
   "cell_type": "markdown",
   "metadata": {},
   "source": [
    "To make our analysis simpler, lets zoom in on node node, and all of its input weights:\n",
    "\n",
    "![](figures/md-2.png)"
   ]
  },
  {
   "cell_type": "markdown",
   "metadata": {},
   "source": [
    "We've highlighted the 0th node in our last hidden layer and all of its inputs from the previous layer in $\\color{orange}{\\text{orange}}$. We've also numbered each of it input nodes with their layer-specific numbering and shown them in $\\color{blue}{\\text{blue}}$.\n",
    "\n",
    "We've also named each weight according to the following format:\n",
    "\n",
    "$$\n",
    "w_{\\;\\color{orange}{\\text{current node #}} \\;,\\; \\color{blue}{\\text{incoming node #}}}\n",
    "$$\n",
    "\n",
    "This may seem a bit counter intuitive at first, as the tendency when reading from left to write is to want to write our weights as:\n",
    "\n",
    "$$\n",
    "w_{\\;\\color{blue}{\\text{incoming node #}} \\;,\\; \\color{orange}{\\text{current node #}} }\n",
    "$$\n",
    "\n",
    "You absolutely can, but that will result in a bunch of transposes in later equations. To get rid of them now, we will number our weights as we did above. As is typically the case, people make seemingly weird/arbitrary decisions at the front to result in simplifications down the line. \n",
    "\n",
    "Recall, the function of a node is to apply its weight to the activation of its input/previous layer. In this case, we have three previous nodes/input nodes, so we will also write them in $\\color{blue}{\\text{blue}}$ to make it clear that they are coming from the previous layer. \n",
    "\n",
    "So our orange node is performing:\n",
    "\n",
    "$$\n",
    "\\color{orange}{w}_{\\color{orange}{0},\\color{blue}{0}} \\cdot \\color{blue}{a_0} + \n",
    "\\color{orange}{w}_{\\color{orange}{0},\\color{blue}{1}} \\cdot \\color{blue}{a_1} + \n",
    "\\color{orange}{w}_{\\color{orange}{0},\\color{blue}{2}} \\cdot \\color{blue}{a_2} + \n",
    "\\color{orange}{b_0}\n",
    "$$\n",
    "\n",
    "Already, our eyes should be screaming **dot-product**! "
   ]
  },
  {
   "cell_type": "markdown",
   "metadata": {},
   "source": [
    "### Notation\n",
    "\n",
    "Indeed, we can form a **vector** of the <font color='blue'>**previous layer's**</font> activations as:\n",
    "\n",
    "$$\n",
    "\\color{blue}{\\mathbf{a}_{prev}} = \n",
    "\\begin{bmatrix}\n",
    "\\color{blue}{a_0 \\\\\n",
    "a_1 \\\\\n",
    "a_2}\n",
    "\\end{bmatrix}\n",
    "$$\n",
    "\n",
    "and a **vector** of the 0-th neurons **weights** in the <font color=\"orange\">**current layer**</font> as:\n",
    "\n",
    "$$\n",
    "\\color{orange}{\\mathbf{w}_0} = \n",
    "\\begin{bmatrix}\n",
    "\\color{orange}{w}_{\\color{orange}{0},\\color{blue}{0}} \\\\\n",
    "\\color{orange}{w}_{\\color{orange}{0},\\color{blue}{1}} \\\\\n",
    "\\color{orange}{w}_{\\color{orange}{0},\\color{blue}{2}}\n",
    "\\end{bmatrix}\n",
    "$$\n",
    "\n",
    "where we have used color again to make it clear what layer we are talking about: the <font color='orange'>current</font> or <font color='blue'>previous</font> layer."
   ]
  },
  {
   "cell_type": "markdown",
   "metadata": {},
   "source": [
    "Then we can rewrite what our orange node is calculating as:\n",
    "$$\n",
    "\\begin{align}\n",
    "\\color{orange}{z_0} &= \\color{orange}{\\mathbf{w}_0} \\cdot \\color{blue}{\\mathbf{a}_{prev}} + \\color{orange}{b_0} \\\\\n",
    "\\color{orange}{a_0} &= \\sigma(\\color{orange}{z_0})\n",
    "\\end{align}\n",
    "$$"
   ]
  },
  {
   "cell_type": "markdown",
   "metadata": {},
   "source": [
    "Well, we've managed to rewrite the activation of **one-node** in slightly better notation. But we can we do better! Lets now reason about the entire layer!\n",
    "\n",
    "Recall, we already have a vector of the <font color='blue'>**previous layer's** </font>activations in $\\color{blue}{\\mathbf{a}_{prev}}$, although we never actually gave a formula for it. Based on the formula for the <font color='orange'>0th-node</font> in the <font color='orange'>current layer</font> we just gave, lets try to give a **vector** of activations for the entire <font color='orange'>**current layer**</font>. \n",
    "\n",
    "(Note: to prevent a color explosion, since we're talking about the current layer, I will drop orange to refer to it most places. I will keep blue to refer to the previous layer)."
   ]
  },
  {
   "cell_type": "markdown",
   "metadata": {},
   "source": [
    "To simplify our analysis, lets first note that:\n",
    "$$\n",
    "\\mathbf{a}_{curr} = \n",
    "\\begin{bmatrix}\n",
    "\\sigma (z_0) \\\\\n",
    "\\sigma (z_1) \\\\\n",
    "\\sigma (z_2) \\\\\n",
    "\\end{bmatrix} = \n",
    "\\sigma\\left(\\;\n",
    "\\begin{bmatrix}\n",
    "z_0 \\\\\n",
    "z_1 \\\\\n",
    "z_2 \\\\\n",
    "\\end{bmatrix}\\;\n",
    "\\right) = \n",
    "\\sigma (\\mathbf{z}_{curr})\n",
    "$$\n",
    "\n",
    "So, lets focus on writing a formula for the vector $\\mathbf{z}_{curr}$:\n",
    "\n",
    "$$\n",
    "\\mathbf{z}_{curr} = \n",
    "\\begin{bmatrix}\n",
    "\\mathbf{w}_0 \\cdot \\color{blue}{\\mathbf{a}_{prev}} + b_0 \\\\\n",
    "\\mathbf{w}_1 \\cdot \\color{blue}{\\mathbf{a}_{prev}} + b_1 \\\\\n",
    "\\mathbf{w}_2 \\cdot \\color{blue}{\\mathbf{a}_{prev}} + b_2 \\\\\n",
    "\\end{bmatrix}\n",
    "$$\n",
    "\n",
    "Lets make it a bit clearer by writing our biases for the entire layer as a separate **vector** $\\mathbf{b}$:\n",
    "\n",
    "$$\n",
    "\\mathbf{z}_{curr} = \n",
    "\\begin{bmatrix}\n",
    "\\mathbf{w}_0 \\cdot \\color{blue}{\\mathbf{a}_{prev}} \\\\\n",
    "\\mathbf{w}_1 \\cdot \\color{blue}{\\mathbf{a}_{prev}} \\\\\n",
    "\\mathbf{w}_2 \\cdot \\color{blue}{\\mathbf{a}_{prev}}  \\\\\n",
    "\\end{bmatrix}\n",
    "+\n",
    "\\mathbf{b}\n",
    "$$"
   ]
  },
  {
   "cell_type": "markdown",
   "metadata": {},
   "source": [
    "Just like we saw when we discussed linear regression, this vector of dot products is exactly the **matrix-vector** product of the **weight matrix** and the previous layers **activation vector**!\n",
    "\n",
    "<div class=\"info\">\n",
    "\n",
    "**Definition**: The current layers **weight matrix**: $\\mathbf{W}$  is a matrix of $k$-many rows, and $j$-many columns, where $k$ is the number of nodes in the current layer, and $j$ is the number of nodes in the previous layer:\n",
    "\n",
    "$$\n",
    "\\mathbf{W} \\in \\mathbb{R}^{k,j}= \n",
    "\\begin{bmatrix}\n",
    "\\mathbf{w}_0^T \\\\\n",
    "\\mathbf{w}_1^T \\\\\n",
    "\\ldots \\\\\n",
    "\\mathbf{w}_k^T\n",
    "\\end{bmatrix} = \n",
    "\\begin{bmatrix}\n",
    "w_{0,0} & w_{0,1} & \\ldots & w_{0,j} \\\\\n",
    "\\ldots \\\\\n",
    "w_{k,0} & w_{0,1} & \\ldots & w_{k,j} \\\\\n",
    "\\end{bmatrix}\n",
    "$$\n",
    "\n",
    "**Note**: each row of the weight matrix represents all inputs to a specific node in the current layer.\n",
    "    \n",
    "</div>\n",
    "\n",
    "Now, we can finally write a complete linear algebraic equation for the function of a <font color=\"orange\">current layer</font> on a <font color=\"blue\">previous layer</font>:\n",
    "\n",
    "$$\n",
    "\\begin{align}\n",
    "\\mathbf{z}_{curr} &= \\mathbf{W}\\color{blue}{\\mathbf{a}_{prev}}+\\mathbf{b} \\\\\n",
    "\\mathbf{a}_{curr} &= \\sigma(\\mathbf{z}_{curr})\n",
    "\\end{align}\n",
    "$$"
   ]
  },
  {
   "cell_type": "markdown",
   "metadata": {},
   "source": [
    "Now, neural networks do this **sequentially**, so the last piece of the puzzle is to be able to refer to a *specific layer* by number. We now introduce the final piece of notation to let us do this: a **superscript** to designate the layer number:\n",
    "\n",
    "<div class=\"info\">\n",
    "\n",
    "The activation of layer $L$ is given by:\n",
    "    \n",
    "$$\n",
    "\\begin{align}\n",
    "\\mathbf{z}^L &= \\mathbf{W}^L \\mathbf{a}^{L-1}+\\mathbf{b}^L \\\\\n",
    "\\mathbf{a}^L &= \\sigma(\\mathbf{z}^L)\n",
    "\\end{align}\n",
    "$$\n",
    "\n",
    "This is often written succinctly as:\n",
    "\n",
    "$$\n",
    "\\boxed{\\mathbf{a}^L = \\sigma(\\mathbf{W}\\mathbf{a}^{L-1} + \\mathbf{b})}\n",
    "$$\n",
    "\n",
    "where the specific $\\mathbf{W},\\mathbf{b}$ we are talking about is implied.\n",
    "</div>"
   ]
  },
  {
   "cell_type": "markdown",
   "metadata": {},
   "source": [
    "<br/>\n",
    "Wow we've come a long way! We've given a very clear and succinct linear algebraic equation for the entire forward direction for a network of any number of layers and size of each layer!"
   ]
  },
  {
   "cell_type": "markdown",
   "metadata": {},
   "source": [
    "Lets perform a **size sanity check**: \n",
    "* $\\mathbf{W}$ is of size $k \\times j$, where $j$ is the number of neurons in the previous layer. \n",
    "* $\\mathbf{a}^{L-1}$ is a vector of size $j \\times 1$, the activations of the previous layer. \n",
    "* Their multiplication results in a vector of size $k \\times 1$, where $k$ is the number of neurons in the current layer. \n",
    "* Our bias vector is also $k \\times 1$ (as we expect!). \n",
    "\n",
    "So everything works as expected! \n",
    "\n",
    "This is why we decided to write our weight matrix to be of size $k \\times j$ or $\\text{# neurons in prev layer} \\times \\text{# neurons in current layer}$ instead of the other way around. If we had, we'd need a transpose in the equation above."
   ]
  },
  {
   "cell_type": "markdown",
   "metadata": {},
   "source": [
    "---\n",
    "### Implementation\n",
    "\n",
    "Armed with our new notation, lets write an implementation of the network we gave above:\n",
    "\n",
    "![](figures/md-1.png)\n",
    "\n",
    "<div class=\"info\">\n",
    "\n",
    "🧐**Pause-and-ponder**: What should the sizes of each $W$ be for this network? Lets go through it together! \n",
    "    \n",
    "</div>"
   ]
  },
  {
   "cell_type": "markdown",
   "metadata": {},
   "source": [
    "Ok! Now lets implement it! "
   ]
  },
  {
   "cell_type": "code",
   "execution_count": 15,
   "metadata": {},
   "outputs": [],
   "source": [
    "inputs,labels = toy()"
   ]
  },
  {
   "cell_type": "code",
   "execution_count": 16,
   "metadata": {},
   "outputs": [],
   "source": [
    "def simple_network2(inputs):\n",
    "    outputs = []\n",
    "    N = inputs.shape[0]\n",
    "    \n",
    "    # initialize weight matrices - notice the dimensions\n",
    "    W_1 = np.random.randn(3,1)\n",
    "    W_2 = np.random.randn(2,3)\n",
    "    W_3 = np.random.randn(1,2)\n",
    "    \n",
    "    # and our biases\n",
    "    b_1 = np.random.randn(3,1)\n",
    "    b_2 = np.random.randn(2,1)\n",
    "    b_3 = np.random.randn(1,1)\n",
    "    \n",
    "    # loop through training data\n",
    "    for i in range(N):\n",
    "        \n",
    "        # correct size for current input\n",
    "        input = inputs[i,:]\n",
    "        \n",
    "        # layer 1\n",
    "        a_1 = sigmoid(W_1*input + b_1)\n",
    "\n",
    "        # layer 2\n",
    "        a_2 = sigmoid(W_2.dot(a_1)+b_2)\n",
    "\n",
    "        # output layer\n",
    "        output = sigmoid(W_3.dot(a_2)+b_3)\n",
    "        \n",
    "        # append to form output\n",
    "        outputs.append(output)\n",
    "    \n",
    "    return np.squeeze(np.asarray(outputs)).reshape(-1,1)"
   ]
  },
  {
   "cell_type": "code",
   "execution_count": 17,
   "metadata": {},
   "outputs": [
    {
     "data": {
      "image/png": "[encoded data removed]",
      "text/plain": [
       "<Figure size 432x288 with 1 Axes>"
      ]
     },
     "metadata": {
      "needs_background": "light"
     },
     "output_type": "display_data"
    }
   ],
   "source": [
    "outputs = simple_network2(inputs)\n",
    "plt.scatter(inputs,outputs,c=labels);"
   ]
  },
  {
   "cell_type": "code",
   "execution_count": null,
   "metadata": {},
   "outputs": [],
   "source": []
  },
  {
   "cell_type": "markdown",
   "metadata": {},
   "source": [
    "## Mini-Batch Notation\n",
    "\n",
    "Note, this implementation runs an example through the network **one-by-one**! Instead, we can imagine feeding our entire dataset through **at once**! This formalism will pave the way for us later to feed in a mini-batch at a time.\n",
    "\n",
    "Lets just reason our way through this one from **first-principles** (fancy way to say: **lets match our matrix sizes!**), seeing how we get our entire dataset through the first hidden layer. \n",
    "\n",
    "The first weight matrix is of size:\n",
    "\n",
    "$$\n",
    "\\mathbf{W}_1: (\\text{size of hidden layer} \\times \\text{dimension of input})\n",
    "$$\n",
    "\n",
    "which in this case is: $3 \\times 1$. If our input was 2-D, it would be $3 \\times 2$. So what we *dot* it with, needs to be of size: $\\text{dimension of input} \\times \\text{??}$. \n",
    "\n",
    "**Its in that dimension that we can place our entire dataset!**\n",
    "\n",
    "So, now we're going to be shuffling **activation matrices** around! In these activation matrices, each **column** is an activation for the last layer on a different training example! \n",
    "\n",
    "![](figures/activation-matrix.png)"
   ]
  },
  {
   "cell_type": "markdown",
   "metadata": {},
   "source": [
    "So we expect the **first activation matrix** to be of size: $\\text{dimension of input} \\times \\text{number of samples}$. This means this must also be the size of the initial input matrix for the first hidden layer. \n",
    "\n",
    "\n",
    "So, we can rewrite our layer propagation equation above for our entire dataset:\n",
    "\n",
    "$$\n",
    "\\boxed{\\mathbf{A}^L = \\sigma(\\mathbf{W}\\mathbf{A}^{L-1} + \\mathbf{b})}\n",
    "$$\n",
    "\n",
    "where we use **broadcasting rules** to let us add a vector $\\mathbf{b}$ to a matrix. \n",
    "\n",
    "---\n",
    "\n",
    "Lets make a special note about the **first hidden layer**, and how it processes our **input matrix**. "
   ]
  },
  {
   "cell_type": "markdown",
   "metadata": {},
   "source": [
    "Typically, we imagine our data matrix such that the first dimension is the `batch_size`:\n",
    "\n",
    "![](figures/X.png)"
   ]
  },
  {
   "cell_type": "markdown",
   "metadata": {},
   "source": [
    "This means **each row** of this matrix, corresponds to **one sample.**\n",
    "\n",
    "So if our data matrix is of size $\\text{batch_size} \\times \\text{dimension}$, in order for our first layer to calculate correctly, **we have to make the sizes work**! Meaning, our first layer should be: \n",
    "\n",
    "$$\n",
    "\\mathbf{A}^1 = \\sigma(\\mathbf{W}^1\\mathbf{X}^T + \\mathbf{b})\n",
    "$$\n",
    "\n",
    "where $X^T$ is:"
   ]
  },
  {
   "cell_type": "markdown",
   "metadata": {},
   "source": [
    "\n",
    "![](figures/X-T.png)\n",
    "\n",
    "<div class=\"info\">\n",
    "    \n",
    "**Note:** Here we **define** the input matrix $X$ to be of size: $N \\times d$. That is why we transpose it in the first layer. This is by no means universal, and different numerical libraries do it differently. You might come across libraries or papers to talks, where the input matrix is defined to be of size $d \\times N$. If that is the case, the first layer does **not** need an $X^T$!\n",
    "\n",
    "</div>"
   ]
  },
  {
   "cell_type": "markdown",
   "metadata": {},
   "source": [
    "Now we can implement this simple network, using this notation! "
   ]
  },
  {
   "cell_type": "code",
   "execution_count": 18,
   "metadata": {},
   "outputs": [],
   "source": [
    "def simple_network2_batch(inputs):\n",
    "    # assume inputs is of shape Nxd\n",
    "    \n",
    "    # initialize weight matrices - notice the dimensions\n",
    "    W_1 = np.random.randn(3,1)\n",
    "    W_2 = np.random.randn(2,3)\n",
    "    W_3 = np.random.randn(1,2)\n",
    "    \n",
    "    # and our biases\n",
    "    b_1 = np.random.randn(3,1)\n",
    "    b_2 = np.random.randn(2,1)\n",
    "    b_3 = np.random.randn(1,1)\n",
    "    \n",
    "    # NOTE - there is no for loop here! \n",
    "    \n",
    "    # layer 1\n",
    "    a_1 = sigmoid(W_1.dot(X.T) + b_1)\n",
    "\n",
    "    # layer 2\n",
    "    a_2 = sigmoid(W_2.dot(a_1)+b_2)\n",
    "\n",
    "    # output layer\n",
    "    output = sigmoid(W_3.dot(a_2)+b_3)\n",
    "    \n",
    "    return np.squeeze(np.asarray(outputs)).reshape(-1,1)"
   ]
  },
  {
   "cell_type": "markdown",
   "metadata": {},
   "source": [
    "Now lets actually run our **entire dataset** through (since we aren't yet dealing with batches), to generate outputs:"
   ]
  },
  {
   "cell_type": "code",
   "execution_count": 19,
   "metadata": {},
   "outputs": [],
   "source": [
    "inputs,labels = toy()\n",
    "y_hat = outputs = simple_network2(inputs)"
   ]
  },
  {
   "cell_type": "markdown",
   "metadata": {},
   "source": [
    "Just for fun, lets plot it! "
   ]
  },
  {
   "cell_type": "code",
   "execution_count": 20,
   "metadata": {},
   "outputs": [
    {
     "data": {
      "image/png": "[encoded data removed]",
      "text/plain": [
       "<Figure size 1080x504 with 2 Axes>"
      ]
     },
     "metadata": {
      "needs_background": "light"
     },
     "output_type": "display_data"
    }
   ],
   "source": [
    "fig,(ax1,ax2) = plt.subplots(1,2,figsize=(15,7))\n",
    "ax1.set_title('Original poits and labels')\n",
    "ax1.scatter(inputs,labels);\n",
    "\n",
    "ax1.set_title('Original poits and Y_Hat')\n",
    "ax2.scatter(inputs,outputs,color='orange');"
   ]
  },
  {
   "cell_type": "markdown",
   "metadata": {},
   "source": [
    "Note the huge difference in our y-axis! This is **without** and training so its bound to be bad! \n",
    "\n",
    "<div class=\"info\">\n",
    "\n",
    "**Pause-and-ponder**: Go back and re run the network above and re-plot the final representation. Notice how random it is! This is because we initialize with random weights, but never actually do any training! \n",
    "    \n",
    "</div>"
   ]
  },
  {
   "cell_type": "code",
   "execution_count": null,
   "metadata": {},
   "outputs": [],
   "source": []
  },
  {
   "cell_type": "markdown",
   "metadata": {},
   "source": [
    "## Dealing with Biases\n",
    "\n",
    "Another very common notational trick people do, as we saw in **linear regression**, was to **add \"another dimension\"** to \"automatically\" deal with our **bias**. \n",
    "\n",
    "Here,  that means adding **another \"node\" to each layer**. This node has **no input, only outputs**, and its **activation is always the value 1**.\n",
    "\n",
    "![](figures/biases.png)"
   ]
  },
  {
   "cell_type": "markdown",
   "metadata": {},
   "source": [
    "<div class=\"info\">\n",
    "\n",
    "**Question**: How does this act as a bias?\n",
    "    \n",
    "</div>\n",
    "\n",
    "Well, lets look at what this means for a particular node. Lets once again highlight the orange node:\n",
    "\n",
    "![](figures/bias-weights.png)"
   ]
  },
  {
   "cell_type": "markdown",
   "metadata": {},
   "source": [
    "What **effect** does this have for this orange nodes update? Well, lets write out what it is:\n",
    "\n",
    "![](figures/bias-weights-eqn.png)"
   ]
  },
  {
   "cell_type": "markdown",
   "metadata": {},
   "source": [
    "So, $\\color{orange}{w}_{\\color{orange}{0},\\color{blue}{3}}$ is **always** being multiplied by the value $1$. This is exactly the role of the bias! \n",
    "\n",
    "![](figures/bias-weights-eqn-simp.png)"
   ]
  },
  {
   "cell_type": "markdown",
   "metadata": {},
   "source": [
    "As we can see, the addition of a constant node in a layer **gives an extra weight to each node in the next layer**. This weight, multiplied by 1, **acts as the bias for each node**. \n",
    "\n",
    "So all we have to do, is **add an extra <font color=\"red\">column</font> to each weight matrix** in our network. (Note: often, this bias is omitted from the final layer).\n",
    "\n",
    "Now, for a layer $L$, the **weight matrix** is of size: $k \\times j+1$, where $k$ is the number of *actual*/*real* hidden nodes in layer $L$, and $j$ is the number of *actual/real* hidden nodes in layer $L-1$. "
   ]
  },
  {
   "cell_type": "markdown",
   "metadata": {},
   "source": [
    "**Note**: often this is drawn with the bias nodes on top of the others, not below. \n",
    "    \n",
    "![](figures/bias-on-top.png)\n",
    "    \n",
    "So we would think of the 0-th weight acting as the bias, so we would add an extra column to the left/right of each weight matrix. Its ultimately the same thing\n",
    " "
   ]
  },
  {
   "cell_type": "markdown",
   "metadata": {},
   "source": [
    "As a sanity check that this works, lets compare the output of the previous implementation with this new notation. To do so, we need to make sure they use the same initialization. Lets take it out of the function and \"make it flat\" so we can easily compare:"
   ]
  },
  {
   "cell_type": "code",
   "execution_count": 21,
   "metadata": {},
   "outputs": [],
   "source": [
    "# W and b network\n",
    "# initialize weight matrices - notice the dimensions\n",
    "W_1 = np.random.randn(3,1)\n",
    "W_2 = np.random.randn(2,3)\n",
    "W_3 = np.random.randn(1,2)\n",
    "\n",
    "# and our biases\n",
    "b_1 = np.random.randn(3,1)\n",
    "b_2 = np.random.randn(2,1)\n",
    "b_3 = np.random.randn(1,1)"
   ]
  },
  {
   "cell_type": "code",
   "execution_count": 22,
   "metadata": {},
   "outputs": [],
   "source": [
    "# W network - adding biases to the right:\n",
    "W_1_b = np.hstack((W_1,b_1))\n",
    "W_2_b = np.hstack((W_2,b_2))\n",
    "W_3_b = np.hstack((W_3,b_3))"
   ]
  },
  {
   "cell_type": "markdown",
   "metadata": {},
   "source": [
    "Lets run the \"old network\" notation:"
   ]
  },
  {
   "cell_type": "code",
   "execution_count": 23,
   "metadata": {},
   "outputs": [],
   "source": [
    "# layer 1\n",
    "a_1_old = sigmoid(W_1.dot(inputs.T) + b_1)\n",
    "\n",
    "# layer 2\n",
    "a_2_old = sigmoid(W_2.dot(a_1_old)+b_2)\n",
    "\n",
    "# output layer\n",
    "output_old = sigmoid(W_3.dot(a_2_old)+b_3)\n",
    "output_old = np.squeeze(np.asarray(output_old)).reshape(-1,1)"
   ]
  },
  {
   "cell_type": "markdown",
   "metadata": {},
   "source": [
    "And now the \"new\" network notation. Note: in order to run the inputs through, we need to add the \"extra dimension of 1's\", as we've done many times before!"
   ]
  },
  {
   "cell_type": "code",
   "execution_count": 24,
   "metadata": {},
   "outputs": [],
   "source": [
    "inputs_new = np.c_[inputs,np.ones(inputs.shape[0])]"
   ]
  },
  {
   "cell_type": "markdown",
   "metadata": {},
   "source": [
    "Now we can go ahead and \"feed it in\""
   ]
  },
  {
   "cell_type": "code",
   "execution_count": 25,
   "metadata": {},
   "outputs": [],
   "source": [
    "# layer 1\n",
    "a_1_new = sigmoid(W_1_b.dot(inputs_new.T))\n",
    "# append the 1 to the end of the previous layers activations:\n",
    "a_1_new = np.r_[a_1_new, np.ones((1,a_1_new.shape[1]))]\n",
    "\n",
    "# layer 2\n",
    "a_2_new = sigmoid(W_2_b.dot(a_1_new))\n",
    "# append the 1 to the end of the previous layers activations:\n",
    "a_2_new = np.r_[a_2_new, np.ones((1,a_2_new.shape[1]))]\n",
    "\n",
    "# output layer\n",
    "output_new = sigmoid(W_3_b.dot(a_2_new))\n",
    "output_new = np.squeeze(np.asarray(output_new)).reshape(-1,1)"
   ]
  },
  {
   "cell_type": "markdown",
   "metadata": {},
   "source": [
    "Lets verify they are both equal:"
   ]
  },
  {
   "cell_type": "code",
   "execution_count": 26,
   "metadata": {},
   "outputs": [
    {
     "data": {
      "text/plain": [
       "True"
      ]
     },
     "execution_count": 26,
     "metadata": {},
     "output_type": "execute_result"
    }
   ],
   "source": [
    "np.equal(output_new,output_old).all()"
   ]
  },
  {
   "cell_type": "markdown",
   "metadata": {},
   "source": [
    "<div class=\"info\">\n",
    "\n",
    "**Note**: This might seem like **a strange hack** - We have to reshape each layers weight matrix, and each layers activation matrix to account for this extra \"1\" flying around everywhere. \n",
    "\n",
    "I will not try to convince you one way or the other which makes the most sense. I'm just explaining it here in case it is useful to you to think of the bias as \"being wrapped up\" in our weight matrix, as it was when we discussed linear regression. \n",
    "    \n",
    "Moving forward, we will **not** be using this notation in the rest of the notebook.\n",
    "\n",
    "</div>"
   ]
  },
  {
   "cell_type": "code",
   "execution_count": null,
   "metadata": {},
   "outputs": [],
   "source": []
  },
  {
   "cell_type": "markdown",
   "metadata": {},
   "source": [
    "## Activation Functions\n",
    "\n",
    "Lets imagine revisiting the previous network structure under different activation functions:"
   ]
  },
  {
   "cell_type": "markdown",
   "metadata": {},
   "source": [
    "### Linear\n",
    "\n",
    "Lets start with a **linear activation** function:"
   ]
  },
  {
   "cell_type": "code",
   "execution_count": 27,
   "metadata": {},
   "outputs": [],
   "source": [
    "def linear(z):\n",
    "    return z"
   ]
  },
  {
   "cell_type": "markdown",
   "metadata": {},
   "source": [
    "This is almost always called a linear activation, but is better thought of as the identity activation - that is, it just returns what it was given, unaltered.\n",
    "\n",
    "What does this mean for the computation our network can perform? \n",
    "\n",
    "Once again, lets flatten our implementation to take a look:"
   ]
  },
  {
   "cell_type": "code",
   "execution_count": 28,
   "metadata": {},
   "outputs": [],
   "source": [
    "inputs,labels = toy()"
   ]
  },
  {
   "cell_type": "code",
   "execution_count": 29,
   "metadata": {},
   "outputs": [],
   "source": [
    "# initialize weight matrices - notice the dimensions\n",
    "W_1 = np.random.randn(3,1)\n",
    "W_2 = np.random.randn(2,3)\n",
    "W_3 = np.random.randn(1,2)\n",
    "\n",
    "# and our biases\n",
    "b_1 = np.random.randn(3,1)\n",
    "b_2 = np.random.randn(2,1)\n",
    "b_3 = np.random.randn(1,1)"
   ]
  },
  {
   "cell_type": "code",
   "execution_count": 30,
   "metadata": {},
   "outputs": [],
   "source": [
    "# layer 1\n",
    "a_1 = linear(W_1.dot(inputs.T) + b_1)\n",
    "\n",
    "# layer 2\n",
    "a_2 = linear(W_2.dot(a_1)+b_2)\n",
    "\n",
    "# output layer\n",
    "outputs = linear(W_3.dot(a_2)+b_3)\n",
    "outputs = np.squeeze(np.asarray(outputs)).reshape(-1,1)"
   ]
  },
  {
   "cell_type": "markdown",
   "metadata": {},
   "source": [
    "Lets plot it:"
   ]
  },
  {
   "cell_type": "code",
   "execution_count": 31,
   "metadata": {},
   "outputs": [
    {
     "data": {
      "image/png": "[encoded data removed]",
      "text/plain": [
       "<Figure size 1080x504 with 2 Axes>"
      ]
     },
     "metadata": {
      "needs_background": "light"
     },
     "output_type": "display_data"
    }
   ],
   "source": [
    "fig,(ax1,ax2) = plt.subplots(1,2,figsize=(15,7))\n",
    "ax1.set_title('Original poits and labels')\n",
    "ax1.scatter(inputs,labels);\n",
    "\n",
    "ax1.set_title('Original poits and Y_Hat')\n",
    "ax2.scatter(inputs,outputs,color='orange');"
   ]
  },
  {
   "cell_type": "markdown",
   "metadata": {},
   "source": [
    "<div class=\"info\">\n",
    "    \n",
    "🧐 **Pause-and-ponder**: Go back and re-run the above a few times. What does this mean?\n",
    "    \n",
    "</div>"
   ]
  },
  {
   "cell_type": "markdown",
   "metadata": {},
   "source": [
    "Remember, what we are visualizing is the inputs and the corresponding output value - what our network has been able to map to.\n",
    "\n",
    "You might be noticing that this is strangely linear! Indeed! With linear activation functions, all we are able to do is calculate some linear combination of our inputs! \n",
    "\n",
    "Lets dig in a bit more, and show what we are actually calculating at Layer $L$:\n",
    "\n",
    "$$\n",
    "A^L = W_3((W_2(W_1X^T + b_1) + b_2) + b_3\n",
    "$$\n",
    "\n",
    "Well, lets distribute this out:\n",
    "$$\n",
    "A^L = W_3W_2W_1X^T + W_3W_2b_1 + W_3b_2 + b_3\n",
    "$$"
   ]
  },
  {
   "cell_type": "markdown",
   "metadata": {},
   "source": [
    "Ok, wait a second... this is getting confusing - lets check to make sure the sizes work out! \n",
    "\n",
    "![](figures/linear-sizes.png)"
   ]
  },
  {
   "cell_type": "markdown",
   "metadata": {},
   "source": [
    "<div class=\"info\">\n",
    "\n",
    "Lets go through this part together in class!\n",
    "\n",
    "</div>"
   ]
  },
  {
   "cell_type": "markdown",
   "metadata": {},
   "source": [
    "Ok! We can see that the sizes do in fact work out!\n",
    "\n",
    "\n",
    "<div class=\"info\">\n",
    "\n",
    "🧐**Pause-and-ponder:** In your resulting equation, perform some clarifying substitutions. What do we discover? \n",
    "    \n",
    "</div>\n",
    "\n",
    "After some substitutions, we can write an equation like the following:\n",
    "\n",
    "$$\n",
    "\\hat{\\mathbf{Y}} = \\mathbf{W}^*X^T + \\mathbf{b}^*\n",
    "$$\n",
    "\n",
    "Which tells us that a NN with only linear activations, is ultimately just another linear function of its inputs! It doesn't matter how deep or wide it is! "
   ]
  },
  {
   "cell_type": "code",
   "execution_count": null,
   "metadata": {},
   "outputs": [],
   "source": []
  },
  {
   "cell_type": "markdown",
   "metadata": {},
   "source": [
    "### A Final Sigmoid\n",
    "\n",
    "Given our understanding above, what would happen if we only add a sigmoid at the end? Something like:\n",
    "\n",
    "![](figures/final-sig.png)\n",
    "\n",
    "<div class=\"info\">\n",
    "\n",
    "🧐**Pause-and-ponder**: What do you think it represents? What is its **representational capacity**? \n",
    "    \n",
    "</div>"
   ]
  },
  {
   "cell_type": "code",
   "execution_count": null,
   "metadata": {},
   "outputs": [],
   "source": []
  },
  {
   "cell_type": "markdown",
   "metadata": {},
   "source": [
    "# Backprop\n",
    "\n",
    "Now that we have a good idea about **forward propagation** we're ready to learn by **backpropagating an error** signal through the network, allowing us to **attribute** \"blame\"/\"error\" to each specific weight/bias in our network. \n",
    "\n",
    "In other words, one way to think of what the result of backprop is as a large vector which tells us which parameters are the most responsible for our error - or phrased another way - which ones we should change, and by how much, and in what direction, in order to get the biggest reduction of our error. "
   ]
  },
  {
   "cell_type": "markdown",
   "metadata": {},
   "source": [
    "## Latex definitions\n",
    "This cell just creates some latex definitions we will need later. \n",
    "$\n",
    "\\newcommand{\\bx}[1]{\\color{purple}{b^{#1}}}\n",
    "\\newcommand{\\bl}{\\color{purple}{b^L}}\n",
    "\\newcommand{\\wx}[1]{\\color{blue}{w^{#1}}}\n",
    "\\newcommand{\\wl}{\\color{blue}{w^L}}\n",
    "\\newcommand{\\wone}{\\color{blue}{w_1}}\n",
    "\\newcommand{\\ax}[1]{\\color{green}{a^{#1}}}\n",
    "\\newcommand{\\al}{\\color{green}{a^L}}\n",
    "\\newcommand{\\zx}[1]{\\color{orange}{z^{#1}}}\n",
    "\\newcommand{\\zl}{\\color{orange}{z^L}}\n",
    "\\newcommand{\\ap}{\\color{green}{a^{L-1}}}\n",
    "\\newcommand{\\czero}{\\color{red}{C_0}}\n",
    "\\newcommand{\\dc}{\\color{red}{\\partial C_0}}\n",
    "\\newcommand{\\dw}[1]{\\color{blue}{\\partial \\wx{#1}}}\n",
    "\\newcommand{\\dz}[1]{\\color{orange}{\\partial \\zx{#1}}}\n",
    "\\newcommand{\\da}[1]{\\color{green}{\\partial \\ax{#1}}}\n",
    "\\newcommand{\\db}[1]{\\color{purple}{\\partial \\bx{#1}}}\n",
    "\\newcommand{\\dap}{\\color{green}{\\partial \\ax{L-1}}}\n",
    "\\newcommand{\\dcdw}[1]{\\frac{\\dc}{\\dw{#1}}}\n",
    "\\newcommand{\\dcdz}[1]{\\frac{\\dc}{\\dz{#1}}}\n",
    "\\newcommand{\\dzdb}[1]{\\frac{\\dz{#1}}{\\db{#1}}}\n",
    "\\newcommand{\\dzdw}[1]{\\frac{\\dz{#1}}{\\dw{#1}}}\n",
    "\\newcommand{\\dadz}[1]{\\frac{\\da{#1}}{\\dz{#1}}}\n",
    "\\newcommand{\\dcda}[1]{\\frac{\\dc}{\\da{#1}}}\n",
    "\\newcommand{\\dcdb}[1]{\\frac{\\dc}{\\db{#1}}}\n",
    "\\newcommand{\\dcdap}{\\frac{\\dc}{\\dap}}\n",
    "\\newcommand{\\deltal}{\\delta^L}\n",
    "\\newcommand{\\deltax}[1]{\\delta^{#1}}\n",
    "$\n",
    "**Note: Make sure you run this cell!**"
   ]
  },
  {
   "cell_type": "code",
   "execution_count": null,
   "metadata": {},
   "outputs": [],
   "source": []
  },
  {
   "cell_type": "markdown",
   "metadata": {},
   "source": [
    "## 1-D Case"
   ]
  },
  {
   "cell_type": "markdown",
   "metadata": {},
   "source": [
    "**Note**: This presentation follows **very closely** these two **fantastic** resources\n",
    "* [3blue1brown - Backpropagation calculus](https://www.youtube.com/watch?v=tIeHLnjs5U8)\n",
    "* [Michael Nielsen - Neural Networks and Deep Learning - Chapter 2](http://neuralnetworksanddeeplearning.com/chap2.html)"
   ]
  },
  {
   "cell_type": "markdown",
   "metadata": {},
   "source": [
    "Lets revisit the simplest network we started with at the beginning of this notebook:\n",
    "\n",
    "![](figures/1d-bp-net.png)\n",
    "\n",
    "**Notation Note**: we're introducing a new notation $\\color{blue}{w_3 = w^L, w_2 = w^{L-1}}, \\ldots$ and we will be using them interchangeably. "
   ]
  },
  {
   "cell_type": "markdown",
   "metadata": {},
   "source": [
    "To focus our discussion, lets just focus on the last two levels, and label their activation values:\n",
    "\n",
    "![](figures/1d-bp-end.png)\n",
    "\n",
    "The output layer defines the \"representation\" our network has created for a specific input: \n",
    "\n",
    "$$\n",
    "\\begin{align}\n",
    "\\zl &= \\wl\\ap+\\bl \\\\\n",
    "\\al &= \\sigma(\\zl)\n",
    "\\end{align}\n",
    "$$\n",
    "\n",
    "Where now we are using color to denote the *kind* of variable we are talking about. For example, activations for any layer are <font color=\"green\">green</font>.\n",
    "\n",
    "So, its with this layers activation that we want to measure our **cost**, on a **specific example** $x_0$ run through our network:\n",
    "\n",
    "$$\n",
    "\\czero = (\\al - y)^2\n",
    "$$\n",
    "\n",
    "Another way to think about this process, is as this **computational graph**:\n",
    "\n",
    "![](figures/1d-bp-graph.png)\n",
    "\n",
    "This tells a \"causal\" story, about what variables are needed to compute other variables. Note: this could be carried even further back through the network, all the way to the inputs! \n",
    "\n",
    "<div class=\"info\">\n",
    "\n",
    "**Note:** This is a \"light weight\"/conceptual **computational graph**. Its a way to introduce the concept of backpropagating partial derivatives through a graph using the chain rule. \n",
    "\n",
    "</div>"
   ]
  },
  {
   "cell_type": "markdown",
   "metadata": {},
   "source": [
    "Lets try to understand exactly what a \"partial derivative\" like $\\dcdw{L}$ is telling us, by associating **a little number line** with each of these variables:\n",
    "\n",
    "![](figures/1d-bp-graph-num-line.png)\n",
    "\n",
    "Pictorially, this is telling us that a little nudge to a weight, results in a nudge to the \"activity\"/$\\zl$ of the neuron (Q: how big/how small of a nudge?), which then results in a nudge to the activation/$\\al$ of the neuron (Q: how big/how small of a nudge?) which then results in a nudge to the total cost of the network (how big/how small of a nudge?).\n",
    "\n",
    "So conceptually, the partial $\\dcdw{L}$ is capturing:\n",
    "\n",
    "![](figures/1d-bp-dcdw.png)"
   ]
  },
  {
   "cell_type": "markdown",
   "metadata": {},
   "source": [
    "### Simulation\n",
    "We actually go ahead and simulate this to better understand what its telling us! Lets start by running an example through our network:"
   ]
  },
  {
   "cell_type": "code",
   "execution_count": 32,
   "metadata": {},
   "outputs": [],
   "source": [
    "inputs,outputs = toy()\n",
    "input,output = inputs[0],outputs[0]"
   ]
  },
  {
   "cell_type": "code",
   "execution_count": 33,
   "metadata": {},
   "outputs": [],
   "source": [
    "# initialize weights\n",
    "w_1 = np.random.randn()\n",
    "w_2 = np.random.randn()\n",
    "w_3 = 1 #exagerating for plotting purposes\n",
    "\n",
    "# and our biases\n",
    "b_1 = np.random.randn()\n",
    "b_2 = np.random.randn()\n",
    "b_3 = np.random.randn()\n",
    "\n",
    "\n",
    "# layer 1\n",
    "z_1 = w_1*input+b_1\n",
    "a_1 = sigmoid(z_1)\n",
    "\n",
    "# layer 2\n",
    "z_2 = w_2*a_1+b_2\n",
    "a_2 = sigmoid(z_2)\n",
    "\n",
    "# output layer\n",
    "z_3 = w_3*a_2+b_3\n",
    "a_3 = sigmoid(z_3)"
   ]
  },
  {
   "cell_type": "code",
   "execution_count": 34,
   "metadata": {},
   "outputs": [],
   "source": [
    "cost_0 = (output - a_3)**2"
   ]
  },
  {
   "cell_type": "markdown",
   "metadata": {},
   "source": [
    "### Nudge $\\color{blue}{w^L}$\n",
    "\n",
    "Now lets give $\\wl$ a \"little nudge\", and see how it propagates through the network! \n",
    "\n",
    "**Note**: This is not really a little nudge. Ive greatly exaggerated it to provide a good looking plot."
   ]
  },
  {
   "cell_type": "code",
   "execution_count": 35,
   "metadata": {},
   "outputs": [],
   "source": [
    "nudge = np.linspace(-5,5,51)\n",
    "z_3_nudged = (w_3 + nudge)*a_2 + b_3\n",
    "a_3_nudged = sigmoid(z_3_nudged)\n",
    "cost_0_nudged = (a_3_nudged - output)**2"
   ]
  },
  {
   "cell_type": "markdown",
   "metadata": {},
   "source": [
    "Lets plot it!"
   ]
  },
  {
   "cell_type": "code",
   "execution_count": 36,
   "metadata": {},
   "outputs": [
    {
     "data": {
      "image/png": "[encoded data removed]",
      "text/plain": [
       "<Figure size 1440x504 with 3 Axes>"
      ]
     },
     "metadata": {
      "needs_background": "light"
     },
     "output_type": "display_data"
    }
   ],
   "source": [
    "fig, (ax1,ax2,ax3) = plt.subplots(1,3,figsize=(20,7),sharex=True)\n",
    "ax1.plot(w_3+nudge,z_3_nudged,c=\"orange\");\n",
    "ax1.scatter(w_3,w_3*a_2+b_3,s=100,c='orange');\n",
    "ax1.set_xlabel('w_3 + nudge');\n",
    "ax1.set_ylabel('z_3');\n",
    "ax1.set_title(\"How a nudge in w_3 affects z_3\")\n",
    "\n",
    "ax2.plot(w_3+nudge, a_3_nudged,c='green');\n",
    "ax2.scatter(w_3,sigmoid(w_3*a_2+b_3),s=100,c='green');\n",
    "ax2.set_xlabel('w_3 + nudge');\n",
    "ax2.set_ylabel('a_3');\n",
    "ax2.set_title(\"How a nudge in a_3 affects z_3\")\n",
    "\n",
    "ax3.plot(w_3+nudge, cost_0_nudged,c='red');\n",
    "ax3.scatter(w_3,(sigmoid(w_3*a_2+b_3)-output)**2,s=100,c='red');\n",
    "ax3.set_xlabel('w_3 + nudge');\n",
    "ax3.set_ylabel('C_0');\n",
    "ax3.set_title(\"How a nudge in w_3 affects C_0\");"
   ]
  },
  {
   "cell_type": "markdown",
   "metadata": {},
   "source": [
    "What is this telling us? That a little nudge in $w_3$ results in very different changes to each the variables down our computational graph! "
   ]
  },
  {
   "cell_type": "markdown",
   "metadata": {},
   "source": [
    "### Nudge $\\color{blue}{w_1}$\n",
    "\n",
    "Lets repeat this simulation, except go **more back/backer** to see how a nudge at $w_1$ affects our output layer and our cost!"
   ]
  },
  {
   "cell_type": "code",
   "execution_count": 37,
   "metadata": {},
   "outputs": [],
   "source": [
    "nudge = np.linspace(-5,5,51)\n",
    "z_1_nudged = (w_1 + nudge)*input + b_1\n",
    "a_1_nudged = sigmoid(z_1_nudged)\n",
    "\n",
    "z_2_nudged = w_2*a_1_nudged + b_2\n",
    "a_2_nudged = sigmoid(z_2_nudged)\n",
    "\n",
    "z_3_nudged = w_3*a_2_nudged + b_3\n",
    "a_3_nudged = sigmoid(z_3_nudged)\n",
    "\n",
    "cost_0_nudged = (a_3_nudged - output)**2"
   ]
  },
  {
   "cell_type": "markdown",
   "metadata": {},
   "source": [
    "Plot it!"
   ]
  },
  {
   "cell_type": "code",
   "execution_count": 38,
   "metadata": {},
   "outputs": [
    {
     "data": {
      "image/png": "[encoded data removed]",
      "text/plain": [
       "<Figure size 1440x504 with 3 Axes>"
      ]
     },
     "metadata": {
      "needs_background": "light"
     },
     "output_type": "display_data"
    }
   ],
   "source": [
    "fig, (ax1,ax2,ax3) = plt.subplots(1,3,figsize=(20,7),sharex=True)\n",
    "\n",
    "ax1.plot(w_1+nudge,z_1_nudged,c=\"orange\");\n",
    "ax1.scatter(w_1,w_1*input+b_1,s=100,c='orange');\n",
    "ax1.set_xlabel('W+nudge');\n",
    "ax1.set_ylabel('z_1');\n",
    "ax1.set_title(\"How a nudge in w_1 affects z_1\")\n",
    "\n",
    "ax2.plot(w_1+nudge, a_3_nudged,c='green');\n",
    "ax2.scatter(w_1,sigmoid(w_3*(sigmoid(w_2*sigmoid(w_1*input+b_1)+b_2))+b_3),s=100,c='green');\n",
    "ax2.set_xlabel('W+nudge');\n",
    "ax2.set_ylabel('a_3');\n",
    "ax2.set_title(\"How a nudge in w_1 affects a_3\")\n",
    "\n",
    "ax3.plot(w_1+nudge, cost_0_nudged,c='red');\n",
    "ax3.scatter(w_1,(sigmoid(w_3*(sigmoid(w_2*sigmoid(w_1*input+b_1)+b_2))+b_3)-output)**2,s=100,c='red');\n",
    "ax3.set_xlabel('W+nudge');\n",
    "ax3.set_ylabel('C_0');\n",
    "ax3.set_title(\"How a nudge in w_1 affects our cost\");"
   ]
  },
  {
   "cell_type": "markdown",
   "metadata": {},
   "source": [
    "Ah, these graphs have are a bit more interesting, so we can point out the following:\n",
    "\n",
    "**Implicit** in all of these graphs are the following idea:\n",
    "\n",
    "$$\n",
    "\\frac{\\text{the amount of change in a dependent variable}}{\\text{the amount of change in a variable that it depends on}}\n",
    "$$\n",
    "\n",
    "Well, this is just the **rate of change** of the graph! Which we might remember! Lets restate this idea for each subplot:\n",
    "\n",
    "The specific rate of change for the first subplot is:\n",
    "\n",
    "$$\n",
    "\\frac{\\text{resulting change in }\\color{orange}{z_1}}{\\text{some amount of change in } \\color{blue}{w_1}} = \\frac{\\color{orange}{\\Delta z_1}}{\\color{blue}{\\Delta w_1}}\n",
    "$$\n",
    "\n",
    "The specific rate of change for the second subplot is:\n",
    "\n",
    "$$\n",
    "\\frac{\\text{resulting change in }\\color{green}{a_3}}{\\text{some amount of change in } \\color{blue}{w_1}} = \\frac{\\color{green}{\\Delta a_3}}{\\color{blue}{\\Delta w_1}}\n",
    "$$\n",
    "\n",
    "\n",
    "The specific rate of change for the third subplot is:\n",
    "\n",
    "$$\n",
    "\\frac{\\text{resulting change in } \\color{red}{C_0}}{\\text{some amount of change in } \\color{blue}{w_1}} = \\frac{\\color{red}{\\Delta C_0}}{\\color{blue}{\\Delta w_1}}\n",
    "$$\n",
    "\n"
   ]
  },
  {
   "cell_type": "markdown",
   "metadata": {},
   "source": [
    "Aha! That last subplot is telling us something about how **sensitive** the cost $\\czero$ is to changes in $\\wone$. This is what we want! \n",
    "\n",
    "We can see that a little change to $\\wone$ to the left/right (depends on random vals), results in a big change to our final cost on this example! \n",
    "\n",
    "This **rate of change**/**derivative** tells us the direction we need to change $\\wone$ in order to reduce our costs!"
   ]
  },
  {
   "cell_type": "markdown",
   "metadata": {},
   "source": [
    "---\n",
    "### We could do better\n",
    "\n",
    "Now, from the plotting code for the last subplot up there you might notice that to generate that last subplot, we basically had to run the entire nudged $\\wone + \\Delta$ all the way through our entire network!\n",
    "\n",
    "We are also reasoning about the derivative by looking at a graph, instead of actually calculating it so that we can use it. \n",
    "\n",
    "Lets see if we can think of a clever scheme of **actually calculating** our partials with respect to our weights: $\\ldots,\\dcdw{L-1},\\dcdw{L}$, by starting with \n",
    "\n",
    "$$\n",
    "\\dcdw{L} = ?\n",
    "$$\n",
    "\n",
    "Lets **bring back our computational graph**:\n",
    "\n",
    "![](figures/1d-bp-graph.png)\n",
    "\n",
    "Lets use the following idea to **decompose our graph** starting from the end/bottom:\n",
    "\n",
    "$$\n",
    "\\frac{\\text{the amount of change in a dependent variable}}{\\text{the amount of change in a variable that it depends on}}\n",
    "$$"
   ]
  },
  {
   "cell_type": "markdown",
   "metadata": {},
   "source": [
    "---\n",
    "Starting at $\\czero$, we have:\n",
    "\n",
    "$$\n",
    "\\dcda{L}\n",
    "$$\n",
    "\n",
    "This object tells us how the cost changes with respect to the final layers activation. Lets calculate it:\n",
    "\n",
    "$$\n",
    "\\begin{align}\n",
    "\\czero &= (\\al - y)^2 \\\\\n",
    "\\dcda{L}  &= 2(\\al -y)\n",
    "\\end{align}\n",
    "$$\n",
    "\n",
    "What happens if $\\al$ is small? Well then it contributes less to our error! \n",
    "\n",
    "So we should focus on making sure that when $\\al$ is large, its correct!\n",
    "\n",
    "\n",
    "<div class=\"info\">\n",
    "\n",
    "🧐**Pause-and-ponder**: What about $\\frac{\\czero}{\\partial y}$ ? What can we say about this?\n",
    "    \n",
    "</div>"
   ]
  },
  {
   "cell_type": "markdown",
   "metadata": {},
   "source": [
    "---\n",
    "According to our computational graph, thats all of the **immediate** \"independent\" variables $\\czero$ has. So lets now switch our focus to $\\al$:\n",
    "\n",
    "$$\n",
    "\\begin{align}\n",
    "\\al &= \\sigma (\\zl) \\\\\n",
    "\\dadz{L} &= \\sigma ^{\\color{red}{\\prime}}(\\zl)\n",
    "\\end{align}\n",
    "$$\n",
    "\n",
    "where $\\sigma^{\\color{red}{\\prime}}(\\cdot)$ is the *derivative* of our sigmoid activation function:\n",
    "\n",
    "$$\n",
    "\\sigma^{\\color{red}{\\prime}}(\\cdot) = \\sigma(\\cdot)(1-\\sigma(\\cdot))\n",
    "$$\n",
    "\n",
    "This lets us rewrite the above as:\n",
    "\n",
    "$$\n",
    "\\begin{align}\n",
    "\\dadz{L} &= \\sigma(\\zl)(1-\\sigma(\\zl))\n",
    "\\end{align}\n",
    "$$"
   ]
  },
  {
   "cell_type": "markdown",
   "metadata": {},
   "source": [
    "---\n",
    "\n",
    "We now have the following partials:\n",
    "\n",
    "$$\n",
    "\\begin{align}\n",
    "\\dcda{L} &: \\text{how changing } \\al \\text{ changes } \\czero \\\\ \\\\\n",
    "\\dadz{L} &: \\text{how changing } \\zl \\text{ changes } \\al\n",
    "\\end{align}\n",
    "$$\n",
    "\n",
    "It shouldn't require too much convincing that we can **multiply** these two objects together to create a new partial:\n",
    "\n",
    "$$\n",
    "\\begin{align}\n",
    "\\dcda{L} \\cdot \\dadz{L} &= \\dcdz{L} \\\\\n",
    "                        &= \\text{how changing } \\zl \\text{ changes } \\czero\n",
    "\\end{align}\n",
    "$$\n",
    "\n",
    "Indeed, the notation itself suggests this by allowing us to \"cancel out\" partials that appear on top and on bottom:\n",
    "\n",
    "\n",
    "<div style=\"text-align:center\">\n",
    "<img src=\"figures/dcdz.png\">\n",
    "</div>\n",
    "\n",
    "The last step is to actually write this out to get an expression for $\\dcdz{L}$:\n",
    "\n",
    "$$\n",
    "\\begin{align}\n",
    "\\dcdz{L} &= \\dadz{L} \\cdot \\dcda{L} \\\\\n",
    "         &= \\underbrace{\\sigma(\\zl)(1-\\sigma(\\zl))}_{\\text{how changing }\\zl\\text{ affects }\\al} \\cdot  \\underbrace{2(\\al -y)}_{\\text{how changing }\\al\\text{ affects }\\czero}\n",
    "\\end{align}\n",
    "$$"
   ]
  },
  {
   "cell_type": "markdown",
   "metadata": {},
   "source": [
    "<div class=\"info\">\n",
    "\n",
    "🧐**Pause-and-ponder**: We have just discovered and applied the **chain rule**! We have used it to **backpropagate** a change at the output of our last layer: $\\dcda{L}$, to a change at the input of the activation function of our last layer: $\\dadz{L}$.\n",
    "\n",
    "</div>"
   ]
  },
  {
   "cell_type": "markdown",
   "metadata": {},
   "source": [
    "<div class=\"info\">\n",
    "    \n",
    "📖**Semi-Definition**: **Backpropagation** can be thought of as applying the chain rule **back** across our computational graph!\n",
    "    \n",
    "</div>"
   ]
  },
  {
   "cell_type": "code",
   "execution_count": null,
   "metadata": {},
   "outputs": [],
   "source": []
  },
  {
   "cell_type": "markdown",
   "metadata": {},
   "source": [
    "---\n",
    "### Lets keep going!\n",
    "\n",
    "So far we've backpropagated once. Lets look at our map so far:\n",
    "\n",
    "![](figures/1d-bp-graph-current.png)"
   ]
  },
  {
   "cell_type": "markdown",
   "metadata": {},
   "source": [
    "Lets keep **backpropagating** (chain-ruling)! We can now look at the inputs $\\zl$ has. Lets focus on one of the most interesting for right now, $\\wl$:\n",
    "\n",
    "$$\n",
    "\\begin{align}\n",
    "\\zl &= \\wl\\ax{L-1}+\\bl \\\\\n",
    "\\dzdw{L} &= \\ax{L-1}\n",
    "\\end{align}\n",
    "$$\n",
    "\n",
    "<div class=\"info\">\n",
    "\n",
    "🧐**Pause-and-ponder**: This derivative has a particularly interesting interpretation. Its saying that the amount a nudge to our weight in the last layer influences the \"activity\" of the last layer, depends on how strong the previous neuron was firing! In other words, if the previous neuron was very active, even a small nudge could cause big changes! But if the previous neuron was always low activation/low firing, then this weight doesn't really matter!\n",
    "    \n",
    "**Note:** This observation is often stated as:\n",
    "    \n",
    "* \"Neurons that fire together, wire together\",\n",
    "* \"Weights between low activation neurons learn very slowly\"\n",
    "\n",
    "</div>"
   ]
  },
  {
   "cell_type": "markdown",
   "metadata": {},
   "source": [
    "With this, we can **chain it** together with our other partials to write an expression for $\\dcdw{L}$:\n",
    "\n",
    "$$\n",
    "\\begin{align}\n",
    "\\dcdw{L} &= \\dzdw{L}\\dcdz{L}\\\\ \\\\\n",
    "         &= \\dzdw{L}\\dadz{L}\\dcda{L} \\\\ \\\\\n",
    "         &= \\underbrace{\\ax{L-1}}_{\\text{how changing }\\wl\\text{ affects } \\zl} \\quad \\underbrace{\\sigma(\\zl)(1-\\sigma(\\zl))}_{\\text{how changing }\\zl\\text{ affects }\\al} \\quad \\underbrace{2(\\al -y)}_{\\text{how changing }\\al\\text{ affects }\\czero}\n",
    "\\end{align}\n",
    "$$\n",
    "\n",
    "Or simply:\n",
    "\n",
    "$$\n",
    "\\begin{align}\n",
    "\\dcdw{L} &= \\dzdw{L}\\dadz{L}\\dcda{L} \\\\ \n",
    "         &= \\left(\\ax{L-1}\\right) \\left(\\sigma(\\zl)(1-\\sigma(\\zl))\\right) \\left(2(\\al -y)\\right)\n",
    "\\end{align}\n",
    "$$\n",
    "\n",
    "<div class=\"info\">\n",
    "\n",
    "🧐**Pause-and-ponder**: From here, can you guess the appropriate equation for $\\dcdb{L}$? \n",
    "    \n",
    "**Hint**:\n",
    "    \n",
    "$$\n",
    "\\frac{\\dc}{?} = \\frac{\\dz{L}}{?}\\dadz{L}\\dcda{L}\n",
    "$$\n",
    "    \n",
    "</div>"
   ]
  },
  {
   "cell_type": "markdown",
   "metadata": {},
   "source": [
    "---\n",
    "Wow! We've come a long way! We finally have an actual expression for how a change to **one of our weights** ($\\wl$) causes a change to our cost **for a single example**.\n",
    "\n",
    "![](figures/1d-bp-graph-wl.png)"
   ]
  },
  {
   "cell_type": "markdown",
   "metadata": {},
   "source": [
    "Lets finish up by using the **hint** I gave above \n",
    "    \n",
    "$$\n",
    "\\frac{\\dc}{?} = \\frac{\\dz{L}}{?}\\dadz{L}\\dcda{L}\n",
    "$$\n",
    "\n",
    "to find an expression for how the cost changes with respect to the **previous layers activity** $\\dcda{L-1}$:\n",
    "\n",
    "$$\n",
    "\\dcda{L-1} = \\underbrace{\\frac{\\dz{L}}{\\da{L-1}}}_{\\text{need to calculate}}\\underbrace{\\dadz{L}\\dcda{L}}_{\\text{already have this}}\n",
    "$$\n",
    "\n",
    "So all we need is an expression for $\\frac{\\dz{L}}{\\da{L-1}}$:\n",
    "\n",
    "$$\n",
    "\\begin{align}\n",
    "\\zl &= \\wl\\ax{L-1}+\\bl \\\\ \n",
    "\\frac{\\dz{L}}{\\da{L-1}} &= \\wl\n",
    "\\end{align}\n",
    "$$\n",
    "\n",
    "Letting us write:\n",
    "\n",
    "$$\n",
    "\\dcda{L-1} = \\left(\\wl\\right) \\left(\\sigma(\\zl)(1-\\sigma(\\zl))\\right) \\left(2(\\al -y)\\right)\n",
    "$$"
   ]
  },
  {
   "cell_type": "markdown",
   "metadata": {},
   "source": [
    "For completion, and as an answer to a previous pause-and-ponder, lets write out the expression for $\\dcdb{L}$:\n",
    "\n",
    "$$\n",
    "\\dcdb{L} = \\dzdb{L}\\dadz{L}\\dcda{L}\n",
    "$$\n",
    "\n",
    "We can get an expression for $\\dzdb{L}$:\n",
    "\n",
    "$$\n",
    "\\begin{align}\n",
    "\\zl      &= \\wl\\ax{L-1}+\\bl \\\\\n",
    "\\dzdb{L} &= 1\n",
    "\\end{align}\n",
    "$$\n",
    "\n",
    "And so\n",
    "$$\n",
    "\\begin{align}\n",
    "\\dcdb{L} &= 1\\cdot\\dadz{L}\\dcda{L}\\\\\n",
    "         &= \\left(\\sigma(\\zl)(1-\\sigma(\\zl))\\right) \\left(2(\\al -y)\\right)\n",
    "\\end{align}\n",
    "$$"
   ]
  },
  {
   "cell_type": "markdown",
   "metadata": {},
   "source": [
    "Lets group this level all together to write all partials for this level:\n",
    "\n",
    "$$\n",
    "\\begin{align}\n",
    "\\dcdw{L}   &= \\left(\\ax{L-1}\\right) &&\\cdot&\\left(\\sigma(\\zl)(1-\\sigma(\\zl))\\right) \\left(2(\\al -y)\\right) \\\\\n",
    "\\dcdb{L}   &= 1 &&\\cdot&\\left(\\sigma(\\zl)(1-\\sigma(\\zl))\\right) \\left(2(\\al -y)\\right) \\\\\n",
    "\\dcda{L-1} &=\\left(\\wl\\right) &&\\cdot&\\left(\\sigma(\\zl)(1-\\sigma(\\zl))\\right) \\left(2(\\al -y)\\right)\n",
    "\\end{align}\n",
    "$$"
   ]
  },
  {
   "cell_type": "markdown",
   "metadata": {},
   "source": [
    "---\n",
    "### Speaking of Error...\n",
    "Aha! We can notice they all have something in common: \n",
    "\n",
    "$$\n",
    "\\dcdz{L}=\\dadz{L}\\dcda{L}\n",
    "$$\n",
    "\n",
    "<div class=\"info\">\n",
    "\n",
    "**Definition**: The **error** associated with layer $L$ is given by:\n",
    "    \n",
    "$$\n",
    "\\deltal = \\dcdz{L}=\\dadz{L}\\dcda{L}\n",
    "$$\n",
    "    \n",
    "often stated simply as:\n",
    "    \n",
    "$$\n",
    "\\deltal = \\dcdz{L}\n",
    "$$\n",
    "    \n",
    "and completely as:\n",
    "    \n",
    "$$\n",
    "\\begin{align}\n",
    "\\deltal &= \\sigma(\\zl)(1-\\sigma(\\zl)) (\\al -y) \\\\\n",
    "        &= \\sigma^{\\color{red}{\\prime}}(\\zl) (\\al-y)\n",
    "\\end{align}\n",
    "$$\n",
    "\n",
    "**Note:** We've discarded that $2$ from the cost as is often done.\n",
    "    \n",
    "</div>"
   ]
  },
  {
   "cell_type": "markdown",
   "metadata": {},
   "source": [
    "<div class=\"info\">\n",
    "\n",
    "🧐**Pause-and-ponder**: Why is this called the error?\n",
    "    \n",
    "</div>"
   ]
  },
  {
   "cell_type": "markdown",
   "metadata": {},
   "source": [
    "This lets rewrite our partials as:\n",
    "\n",
    "$$\n",
    "\\begin{align}\n",
    "\\dcdw{L}   &= \\ax{L-1} \\deltal \\\\\n",
    "\\dcdb{L}   &= \\deltal \\\\\n",
    "\\dcda{L-1} &= \\wl \\deltal\n",
    "\\end{align}\n",
    "$$"
   ]
  },
  {
   "cell_type": "markdown",
   "metadata": {},
   "source": [
    "---\n",
    "### What about the rest?\n",
    "\n",
    "And thats it! We've **finally** finished out how our cost function changes with respect to one layer: $L$. But we've only done one layer! Not to worry! We've discovered backpropagation and the chain rule! So the rest is easy! \n",
    "\n",
    "Lets look at our map\n",
    "\n",
    "![](figures/1d-bp-map-lminus1.png)"
   ]
  },
  {
   "cell_type": "markdown",
   "metadata": {},
   "source": [
    "We've boxed in what we know how to do so far. This also tells us its very straight forward to now give the equations for layer $L-1$:\n",
    "\n",
    "$$\n",
    "\\begin{align}\n",
    "\\dcdw{L-1} &= \\dzdw{L-1} \\dadz{L-1} \\dcda{L-1} \\\\\n",
    "\\dcdb{L-1} &= \\dzdb{L-1} \\dadz{L-1} \\dcda{L-1} \\\\\n",
    "\\dcda{L-2} &= \\frac{\\dz{L-1}}{\\da{L-2}} \\dadz{L-1} \\dcda{L-1}\n",
    "\\end{align}\n",
    "$$"
   ]
  },
  {
   "cell_type": "markdown",
   "metadata": {},
   "source": [
    "---\n",
    "### Fully recursive definition \n",
    "Wow! We again see they have something in common!\n",
    "\n",
    "<div class=\"info\">\n",
    "\n",
    "**Definition**: The error for layer $L-1$ is:\n",
    "    \n",
    "$$\n",
    "\\deltax{L-1} = \\dcdz{L-1}=\\dadz{L-1}\\dcda{L-1}\n",
    "$$\n",
    "    \n",
    "often stated simply as:\n",
    "    \n",
    "$$\n",
    "\\deltax{L-1} = \\dcdz{L-1}\n",
    "$$\n",
    "    \n",
    "</div>"
   ]
  },
  {
   "cell_type": "markdown",
   "metadata": {},
   "source": [
    "We can now restate the above as:\n",
    "\n",
    "$$\n",
    "\\begin{align}\n",
    "\\dcdw{L-1} &= \\ax{L-2} \\deltax{L-1} \\\\\n",
    "\\dcdb{L-1} &=  \\deltax{L-1} \\\\\n",
    "\\dcda{L-2} &= \\wx{L-1} \\deltax{L-1}\n",
    "\\end{align}\n",
    "$$\n"
   ]
  },
  {
   "cell_type": "markdown",
   "metadata": {},
   "source": [
    "That is a **recursive definition** that serves for the rest of the graph!"
   ]
  },
  {
   "cell_type": "markdown",
   "metadata": {},
   "source": [
    "---\n",
    "### But wait...\n",
    "\n",
    "Theres more! Lets bring back the definitions of error for layer $L-1$, and the partials for layer $L$:\n",
    "\n",
    "Partials at layer $L$:\n",
    "\n",
    "$$\n",
    "\\begin{align}\n",
    "\\dcdw{L}   &= \\ax{L-1} \\deltal \\\\\n",
    "\\dcdb{L}   &= \\deltal \\\\\n",
    "\\dcda{L-1} &= \\wl \\deltal\n",
    "\\end{align}\n",
    "$$\n",
    "\n",
    "Error at layer $L-1$:\n",
    "\n",
    "$$\n",
    "\\deltax{L-1} = \\dcdz{L-1}=\\dadz{L-1}\\dcda{L-1}\n",
    "$$\n",
    "\n",
    "Aha! We see something in common again! \n",
    "\n",
    "$$\n",
    "\\boxed{\\dcda{L-1} = \\wl \\deltal}\n",
    "$$\n",
    "\n",
    "$$\n",
    "\\deltax{L-1} = \\dcdz{L-1}=\\dadz{L-1}\\boxed{\\dcda{L-1}}\n",
    "$$\n",
    "\n",
    "Lets sub that in and write:\n",
    "\n",
    "$$\n",
    "\\deltax{L-1} = \\dcdz{L-1}=\\dadz{L-1}\\wl \\deltal\n",
    "$$\n",
    "\n",
    "We've discovered another **major equation!**:\n",
    "\n",
    "<div class=\"info\">\n",
    "\n",
    "📖 **Definition**: The error at **any** layer $L-1$ can be written as a function of the **next layer** $L$:\n",
    "    \n",
    "$$\n",
    "\\deltax{L-1} = \\wl \\deltal \\cdot \\sigma^{\\color{red}{\\prime}}(\\zx{L-1})\n",
    "$$\n",
    "    \n",
    "</div>\n",
    "\n",
    "For example, for layer $L-2$:\n",
    "\n",
    "$$\n",
    "\\begin{align}\n",
    "\\deltax{L-2} &= \\wx{L-1}\\deltax{L-1}\\sigma^{\\color{red}{\\prime}}(\\zx{L-2}) \\\\\n",
    "             &= \\wx{L-1}\\left[  \\wl \\deltal \\cdot \\sigma^{\\color{red}{\\prime}}(\\zx{L-1}) \\right]\\sigma^{\\color{red}{\\prime}}(\\zx{L-2})\n",
    "\\end{align}\n",
    "$$"
   ]
  },
  {
   "cell_type": "markdown",
   "metadata": {},
   "source": [
    "---\n",
    "### The Four Fundamental Backpropagation Equations™\n",
    "\n",
    "We did it! We've completed backprop on this simple 1D network!\n",
    "\n",
    "![](figures/1d-bp-net.png)"
   ]
  },
  {
   "cell_type": "markdown",
   "metadata": {},
   "source": [
    "Lets cap this off by rewriting **scalar versions** of the four fundamental backpropagation equations:\n",
    "\n",
    "<div class=\"info\">\n",
    "    \n",
    "**📖Definition**: **Scalar** versions of the **Four Fundamental Backpropagation Equations™** are given by:\n",
    "    \n",
    "$$\n",
    "\\begin{align}\n",
    "\\delta^L &= (\\al-y) \\cdot \\sigma^{\\color{red}{\\prime}}(\\zl)  \\tag{BP1} \\\\\n",
    "\\deltax{\\ell} &= \\wx{l+1} \\delta^{\\ell+1} \\cdot \\sigma^{\\color{red}{\\prime}}(\\zx{\\ell}) \\tag{BP2} \\\\\n",
    "\\dcdb{\\ell} &= \\delta^{\\ell} \\tag{BP3} \\\\\n",
    "\\dcdw{\\ell} &= \\ax{\\ell-1}\\delta^{\\ell} \\tag{BP4}\n",
    "\\end{align}\n",
    "$$\n",
    "    \n",
    "where $\\ell$ is any layer.\n",
    "\n",
    "</div>\n",
    "\n",
    "\n",
    "\n",
    "Some explanation of each:\n",
    "\n",
    "* BP1 defines the error for the **last layer**. This is the first thing we calculate to perform backprop.\n",
    "* BP2 defines the error for **any layer** $\\ell$ in terms of the error at the next level $\\ell+1$. \n",
    "* BP3 defines the bias update at **any layer** $\\ell$\n",
    "* BP4 defines the weight update at **any layer** $\\ell$"
   ]
  },
  {
   "cell_type": "markdown",
   "metadata": {},
   "source": [
    "BP2 and BP4 have **interesting interpretations** which will become more salient when we get to matrices/vectors, but that we can first describe here:\n",
    "\n",
    "---\n",
    "Lets start with BP2:\n",
    "\n",
    "$$\n",
    "\\deltax{\\ell} = \\wx{l+1} \\delta^{\\ell+1} \\cdot \\sigma^{\\color{red}{\\prime}}(\\zx{\\ell})\n",
    "$$\n",
    "\n",
    "We can think of this as **the** backprop equation, as it clearly captures the backward flow of errors from outputs back through the network! \n",
    "\n",
    "You can also think of BP2 as saying the following: Just as $\\wx{\\ell+1}$ acted on the **activation** of the **previous** layer $\\ax{l}$ to **bring it forward** to the current layer, it acts on the **error** of the **current layer** to **bring it back** to the previous layer! \n",
    " \n",
    "**Note:** This will become a bit more intutive when we get to matrices, as we will see this equation will have a weight matrix in the forward direction, and a **transpose** in the reverse direction\n",
    "\n",
    "---\n",
    "Lets rewrite BP4 as:\n",
    "\n",
    "$$\n",
    "\\dcdw{} = \\color{green}{a_{in}}\\delta_{out}\n",
    "$$\n",
    "\n",
    "\n",
    "where it's understood that $\\color{green}{a_{in}}$ is the activation of the neuron input to the weight $w$, and $\\delta_{out}$ is the **error** of the neuron output from the weight $w$.\n",
    "\n",
    "Clearly, when $\\color{green}{a_{in}}$ is small, then $\\dcdw{}$ is small. This is another way to say that this weight **learns slowly**, meaning that it's not changing much during gradient descent. In other words, one consequence of BP4 is that weights output from low-activation neurons learn slowly."
   ]
  },
  {
   "cell_type": "markdown",
   "metadata": {},
   "source": [
    "<div class=\"info\">\n",
    "\n",
    "🧐**Pause-and-ponder**: What else can we say? Think about what these equations are telling us! \n",
    "    \n",
    "</div>"
   ]
  },
  {
   "cell_type": "code",
   "execution_count": null,
   "metadata": {},
   "outputs": [],
   "source": []
  },
  {
   "cell_type": "markdown",
   "metadata": {},
   "source": [
    "### Implementation\n",
    "\n",
    "We're now ready to go ahead and implement backprop ourselves! \n",
    "\n",
    "<div class=\"info\">\n",
    "\n",
    "💪🏽**Exercise**: Implement this procedure on our toy example!\n",
    "    \n",
    "</div>"
   ]
  },
  {
   "cell_type": "code",
   "execution_count": 39,
   "metadata": {},
   "outputs": [],
   "source": [
    "def backprop_1D():\n",
    "    # EDIT HERE\n",
    "    return"
   ]
  },
  {
   "cell_type": "code",
   "execution_count": null,
   "metadata": {},
   "outputs": [],
   "source": []
  },
  {
   "cell_type": "markdown",
   "metadata": {},
   "source": [
    "<div class=\"info\">\n",
    "\n",
    "🧐**Pause-and-ponder**: Once we've implemented these equations and calculated our partials all the way back through our network, what do we do?! \n",
    "    \n",
    "</div>"
   ]
  },
  {
   "cell_type": "code",
   "execution_count": null,
   "metadata": {},
   "outputs": [],
   "source": []
  },
  {
   "cell_type": "markdown",
   "metadata": {},
   "source": [
    "## Multidimensional case\n",
    "\n",
    "\n",
    "Now things are going to get **interesting**! In our simple toy example, we only had one neuron per layer. This means in our resulting equations everything was just scalar values. "
   ]
  },
  {
   "cell_type": "markdown",
   "metadata": {},
   "source": [
    "### Latex definitions\n",
    "This cell contains more latex definitions. $\n",
    "\\newcommand{\\j}{{j}}\n",
    "\\newcommand{\\k}{{k}}\n",
    "\\newcommand{\\wjkl}{\\color{blue}{w_{\\j,\\k}^L}}\n",
    "\\newcommand{\\ajl}{\\color{green}{a_j^L}}\n",
    "\\newcommand{\\ajx}[1]{\\color{green}{a_j^{#1}}}\n",
    "\\newcommand{\\akx}[1]{\\color{green}{a_k^{#1}}}\n",
    "\\newcommand{\\zjl}{\\color{orange}{z_j^L}}\n",
    "\\newcommand{\\va}{\\color{green}{\\mathbf{a}}}\n",
    "\\newcommand{\\vy}{\\mathbf{y}}\n",
    "\\newcommand{\\vz}{\\color{orange}{\\mathbf{z}}}\n",
    "\\newcommand{\\dwjkl}{\\color{blue}{\\partial w_{\\j,\\k}^L}}\n",
    "\\newcommand{\\dcdwjk}{\\frac{\\dc}{\\dwjkl}}\n",
    "\\newcommand{\\dzjdwjk}{\\frac{\\color{orange}{\\partial z_j^L}}{\\dwjkl}}\n",
    "\\newcommand{\\dajdzj}{\\frac{\\color{green}{\\partial \\ajl}}{\\color{orange}{\\partial z_j^L}}}\n",
    "\\newcommand{\\dcdaj}{\\frac{\\dc}{\\color{green}{\\partial \\ajl}}}\n",
    "\\newcommand{\\dcdakx}[1]{\\frac{\\dc}{\\color{green}{\\partial \\akx{#1}}}}\n",
    "$**Note**: remember to run it!"
   ]
  },
  {
   "cell_type": "markdown",
   "metadata": {},
   "source": [
    "### Notation\n",
    "\n",
    "Now, we have to be a bit more careful! Lets remind ourselves of the notation we used above:\n",
    "\n",
    "![](figures/nd-net.png)"
   ]
  },
  {
   "cell_type": "markdown",
   "metadata": {},
   "source": [
    "Here, we've labeled each neuron by its activation, layer number, and number in layer. For example, $\\ajl$ is neuron $\\j$, in layer $L$, and $\\wjkl$ is the weight that connects neuron $\\k$ in layer $L-1$ to neuron $\\j$ in layer $L$.\n",
    "\n",
    "Now, the **cost** of a single example $\\czero$ is a sum over the activations of all neurons in the last layer:\n",
    "\n",
    "$$\n",
    "\\czero = \\frac{1}{2}\\sum_{\\j} (\\ajl - y_{\\j})^2\n",
    "$$\n",
    "\n",
    "which in vector notation is:\n",
    "\n",
    "$$\n",
    "\\czero = \\frac{1}{2}\\|\\va^L - \\vy\\|^2\n",
    "$$"
   ]
  },
  {
   "cell_type": "markdown",
   "metadata": {},
   "source": [
    "Before going into vector/matrix notation, lets still deal with an **individual weight** in this network: $\\wjkl$, and write out our backprop equation for this single weight:\n",
    "\n",
    "$$\n",
    "\\dcdwjk = \\dzjdwjk \\dajdzj \\dcdaj\n",
    "$$"
   ]
  },
  {
   "cell_type": "markdown",
   "metadata": {},
   "source": [
    "For completion, lets write expressions for each of its pieces.\n",
    "\n",
    "For $\\dcdaj$:\n",
    "\n",
    "$$\n",
    "\\begin{align}\n",
    "\\czero &= \\frac{1}{2}\\sum_{\\j} (\\ajl - y_{\\j})^2 \\\\\n",
    "\\dcdaj &= (\\ajl - y_j)\n",
    "\\end{align}\n",
    "$$\n",
    "\n",
    "For $\\dajdzj$:\n",
    "$$\n",
    "\\begin{align}\n",
    "\\dajdzj = \\sigma(\\zjl)(1-\\zjl)\n",
    "\\end{align}\n",
    "$$\n",
    "\n",
    "For $\\dzjdwjk$:\n",
    "$$\n",
    "\\begin{align}\n",
    "\\zjl     &= \\ldots + \\wjkl \\color{green}{a_k^{L-1}} + \\ldots \\\\\n",
    "\\dzjdwjk & =  \\color{green}{a_k^{L-1}}\n",
    "\\end{align}\n",
    "$$\n",
    "\n",
    "**Note:** Pay particular attention to the $k$ index in the equation above! Remember, our weights are applied to the activations of the previous layer, which we are using $k$ to index!"
   ]
  },
  {
   "cell_type": "markdown",
   "metadata": {},
   "source": [
    "Just as we did above, we can define a **neuron specific error measure** for neuron $j$ in layer $L$ as:\n",
    "\n",
    "$$\n",
    "\\begin{align}\n",
    "\\delta_{j}^L &= \\frac{\\dc}{\\color{orange}{\\partial}\\zjl} \\\\\n",
    "             &= \\dajdzj \\dcdaj \\\\\n",
    "             &= \\sigma(\\zjl)\\sigma(1-\\zjl) (\\ajl - y_j)\n",
    "\\end{align}\n",
    "$$\n",
    "\n",
    "**Note**: pay particular attention to the $j$ index above! This is with respect to the current layer, which we are using $j$ to index!\n",
    "\n",
    "This lets us rewrite the above as:\n",
    "\n",
    "$$\n",
    "\\dcdwjk = \\color{green}{a_k^{L-1}} \\delta_{j}^L\n",
    "$$"
   ]
  },
  {
   "cell_type": "markdown",
   "metadata": {},
   "source": [
    "Above we've given the equation for how the cost changes with a specific weight in our multi dimensional network. Notice how close it is to the 1D case! \n",
    "\n",
    "<div class=\"info\">\n",
    "    \n",
    "💪🏽**Exercise**: Give the equation for $\\frac{\\dc}{\\color{purple}{\\partial b^L_j}}$\n",
    "    \n",
    "</div>"
   ]
  },
  {
   "cell_type": "code",
   "execution_count": null,
   "metadata": {},
   "outputs": [],
   "source": []
  },
  {
   "cell_type": "markdown",
   "metadata": {},
   "source": [
    "Now, lets look at $\\dcdakx{L-1}$. This is asking how the cost varies when we change the activation of a neuron $k$ in layer $L-1$. \n",
    "\n",
    "Just using pattern matching, we might **want** to write:\n",
    "\n",
    "$$\n",
    "\\dcdakx{L-1} \\stackrel{\\color{red}{?}}{=} \\wjkl \\delta_j^L\n",
    "$$\n",
    "\n",
    "But **this is incorrect!** To see why, lets draw a picture showing how nueron $k$ in layer $L-1$ affects the current layer (and therefore the cost):\n",
    "\n",
    "![](figures/2d-ak.png)\n"
   ]
  },
  {
   "cell_type": "markdown",
   "metadata": {},
   "source": [
    "Aha! The activation of neuron $k$ in layer $L-1: \\akx{L-1}$ does **not** just flow through neuron $j$ in layer $L$, it flows through **every single neuron in layer $L$!**\n",
    "\n",
    "So if we want to account for the effect a small nudge to this neuron's activation value has on our cost, we need to account for **each neuron in layer $L$**, and each associated weight! \n",
    "\n",
    "Our correct equation is then:\n",
    "\n",
    "$$\n",
    "\\dcdakx{L-1} = \\sum_j \\left[ \\wjkl \\delta_j^L \\right]\n",
    "$$\n"
   ]
  },
  {
   "cell_type": "code",
   "execution_count": null,
   "metadata": {},
   "outputs": [],
   "source": []
  },
  {
   "cell_type": "markdown",
   "metadata": {},
   "source": [
    "### Implementation\n",
    "\n",
    "Ok! We've gone to the multidimensional case, but still given equations for each individual parameter. So really, its almost exactly as it was in the 1D case!\n",
    "\n",
    "<div class=\"info\">\n",
    "    \n",
    "💪🏽**Exercise**: Implement the backprop equations above! \n",
    "\n",
    "</div>\n",
    "\n",
    "As a hint, some **pseudo-code** for the implementation would be:\n",
    "\n",
    "```\n",
    "# skipping setup\n",
    "# skipping forward pass\n",
    "\n",
    "for sample in inputs:\n",
    "    # last layer\n",
    "    for neuron_j in layer[-1].neurons:\n",
    "        delta_j = # calculate according to formula above\n",
    "        dc_dwj = # calculate according to formula above\n",
    "        dc_dbj = # calculate according to formula above\n",
    "        dc_dak^{L-1} = # calculate according to formula above\n",
    "    \n",
    "    # other layers\n",
    "    for layer in layers-1:\n",
    "        for neuron_j in layer[l].neurons:\n",
    "            delta_j = # calculate according to formula above\n",
    "            dc_dwj = # calculate according to formula above\n",
    "            dc_dbj = # calculate according to formula above\n",
    "            dc_dak^{L-1} = # calculate according to formula above\n",
    "    \n",
    "```"
   ]
  },
  {
   "cell_type": "code",
   "execution_count": null,
   "metadata": {},
   "outputs": [],
   "source": []
  },
  {
   "cell_type": "code",
   "execution_count": null,
   "metadata": {},
   "outputs": [],
   "source": []
  },
  {
   "cell_type": "markdown",
   "metadata": {},
   "source": [
    "## N-D Revisited - Vector Notation\n",
    "\n",
    "Above, we gave specific equations for each parameter in a multi dimensional network. This will work, as your implementation should prove! \n",
    "\n",
    "However, it leaves much to be desired in terms of efficiency, and conciseness, and it doesn't allow us to make full use of the magic of our numerical linear algebra libraries! "
   ]
  },
  {
   "cell_type": "markdown",
   "metadata": {},
   "source": [
    "Lets begin our analysis with our error vector $\\delta_{j}^L$:\n",
    "\n",
    "$$\n",
    "\\begin{align}\n",
    "\\delta_{j}^L &= \\frac{\\dc}{\\color{orange}{\\partial}\\zjl} \\\\\n",
    "             &= \\dajdzj \\dcdaj \\\\\n",
    "             &= \\sigma(\\zjl)\\sigma(1-\\zjl) (\\ajl - y_j) \\\\\n",
    "             &= \\sigma^{\\color{red}{\\prime}}(\\zjl) (\\ajl - y_j)\n",
    "\\end{align}\n",
    "$$\n",
    "where we brought back the $\\sigma^{\\color{red}{\\prime}}(\\cdot)$ notation.\n",
    "\n",
    "\n",
    "We would like to write a **vector** for our error $\\delta^L$, where each component is:\n",
    "\n",
    "$$\n",
    "\\delta^L = \\begin{bmatrix}\n",
    "\\sigma^{\\color{red}{\\prime}}(\\color{orange}{z_1^L}) (\\color{green}{a_1^L} - y_1) \\\\\n",
    "\\cdots \\\\\n",
    "\\sigma^{\\color{red}{\\prime}}(\\zjl) (\\color{green}{a_j^L} - y_j)\\\\\n",
    "\\cdots\n",
    "\\end{bmatrix}\n",
    "$$\n",
    "\n",
    "This is exactly the definition of element-wise product of the following vectors: $\\color{orange}{\\mathbf{z}^L},\\color{green}{\\mathbf{a}^L}$ and $\\vy$:\n",
    "\n",
    "$$\n",
    "\\delta^L = \\sigma^{\\color{red}{\\prime}}(\\color{orange}{\\mathbf{z}^L}) \\odot (\\color{green}{\\mathbf{a}^L} - \\vy)\n",
    "$$\n",
    "\n",
    "where we introduce another piece of notation:\n",
    "\n",
    "<div class=\"info\">\n",
    "\n",
    "📖**Definition**: The **Hadamard product** between two vectors is the element-wise product:\n",
    "    \n",
    "$$\n",
    "\\mathbf{a} \\odot \\mathbf{b} = \n",
    "\\begin{bmatrix}\n",
    "a_1 \\cdot b_1 \\\\\n",
    "\\cdots \\\\\n",
    "a_n \\cdot b_n\n",
    "\\end{bmatrix}\n",
    "$$\n",
    "    \n",
    "</div>"
   ]
  },
  {
   "cell_type": "markdown",
   "metadata": {},
   "source": [
    "Lets define a **function** to implement this element-wise product:"
   ]
  },
  {
   "cell_type": "code",
   "execution_count": 40,
   "metadata": {},
   "outputs": [],
   "source": [
    "def hadamard(a,b):\n",
    "    result = np.zeros_like(a)\n",
    "    for i in range(a.shape[0]):\n",
    "        result[i] = a[i] * b[i]\n",
    "    \n",
    "    return result"
   ]
  },
  {
   "cell_type": "markdown",
   "metadata": {},
   "source": [
    "Lets test it!"
   ]
  },
  {
   "cell_type": "code",
   "execution_count": 41,
   "metadata": {},
   "outputs": [
    {
     "data": {
      "text/plain": [
       "(array([[8],\n",
       "        [3],\n",
       "        [3]]),\n",
       " array([[5],\n",
       "        [8],\n",
       "        [3]]))"
      ]
     },
     "execution_count": 41,
     "metadata": {},
     "output_type": "execute_result"
    }
   ],
   "source": [
    "a,b = np.random.randint(1,10,(3,1)),np.random.randint(1,10,(3,1))\n",
    "a,b"
   ]
  },
  {
   "cell_type": "code",
   "execution_count": 42,
   "metadata": {},
   "outputs": [
    {
     "data": {
      "text/plain": [
       "array([[40],\n",
       "       [24],\n",
       "       [ 9]])"
      ]
     },
     "execution_count": 42,
     "metadata": {},
     "output_type": "execute_result"
    }
   ],
   "source": [
    "hadamard(a,b)"
   ]
  },
  {
   "cell_type": "markdown",
   "metadata": {},
   "source": [
    "It works! \n",
    "\n",
    "**However**, Python actually already does this element-wise product for us! Using the `*` operator!"
   ]
  },
  {
   "cell_type": "code",
   "execution_count": 43,
   "metadata": {},
   "outputs": [
    {
     "data": {
      "text/plain": [
       "array([[40],\n",
       "       [24],\n",
       "       [ 9]])"
      ]
     },
     "execution_count": 43,
     "metadata": {},
     "output_type": "execute_result"
    }
   ],
   "source": [
    "a*b"
   ]
  },
  {
   "cell_type": "markdown",
   "metadata": {},
   "source": [
    "So we didn't have to implement our own. But thats ok, because we know how to.  Lets get back to business! \n",
    "\n",
    "---\n",
    "\n",
    "We've rewritten BP1 in vector notation. Lets now focus on BP2: **moving the error \"backward\"**.\n",
    "\n",
    "Well, we can probably already guess its going to involve the hadamard product with $\\sigma^{\\color{red}{\\prime}}(\\cdot)$ as it did previously. We just don't know with what yet! \n",
    "\n",
    "$$\n",
    "\\begin{align}\n",
    "\\delta^\\ell = ?? \\odot \\sigma^{\\color{red}{\\prime}}(\\mathbf{\\zx{\\ell}})\n",
    "\\end{align}\n",
    "$$\n",
    "\n",
    "Well, lets try to reason through it from \"first principles\" (**recall**: this means **make the sizes work!**).\n",
    "\n",
    "$\\delta^\\ell$ is a vector, which should be of size $k$, the number of elements in layer $\\ell$. We know its going to be formed with the **weight matrix** and $\\delta^{\\ell+1}$, so lets write their sizes:\n",
    "\n",
    "$$\n",
    "\\color{blue}{W^{\\ell+1}}: (j \\times k), \\quad\\quad \\delta^{\\ell+1}: (j \\times 1)\n",
    "$$\n",
    "\n",
    "How do we multiply these out to get a vector of size $k \\times 1$ out?\n",
    "\n",
    "🧐\n",
    "\n",
    "Indeed! We need to **transpose** our weight matrix, and then take the usual matrix-vector product with $\\delta^{\\ell+1}$! \n",
    "\n",
    "Now we can write the vectorized equation for the error at any layer:"
   ]
  },
  {
   "cell_type": "markdown",
   "metadata": {},
   "source": [
    "<div class=\"info\">\n",
    "\n",
    "📖**Vectorized BP2**: The error at **any** layer $\\ell$ can be written as as function of the next layer as:\n",
    "\n",
    "$$\n",
    "\\delta^{\\ell} = (\\color{blue}{W^{\\ell+1}})^T \\delta^{\\ell+1} \\odot \\sigma^{\\color{red}{\\prime}}(\\mathbf{\\zx{\\ell}})\n",
    "$$\n",
    "\n",
    "</div>"
   ]
  },
  {
   "cell_type": "markdown",
   "metadata": {},
   "source": [
    "<div class=\"info\">\n",
    "\n",
    "🧐**Pause-and-ponder**: What can we say about our previous interpretation in light of this new equation? \n",
    "    \n",
    "</div>"
   ]
  },
  {
   "cell_type": "markdown",
   "metadata": {},
   "source": [
    "Lets quickly tackle BP3:\n",
    "\n",
    "\n",
    "<div class=\"info\">\n",
    "\n",
    "📖**Vectorized-BP3**: \n",
    "\n",
    "$$\n",
    "\\frac{\\dc}{\\color{purple}{\\partial \\mathbf{b}^\\ell}} = \\delta^\\ell\n",
    "$$\n",
    "\n",
    "</div>\n",
    "\n",
    "Well, that was easy! Its just as it was above, but as a vector. "
   ]
  },
  {
   "cell_type": "markdown",
   "metadata": {},
   "source": [
    "Hm. Now we get to the tough one: **BP4**. This is now a partial derivative of our cost **with respect to weight matrix**! \n",
    "\n",
    "Lets start at the last layer. $\\color{blue}{W^L}$ is of size $j \\times k$, where $j$ is the size of the last layer. \n",
    "\n",
    "So, we should expect its **gradient** to be of the same size: **a matrix**. If its not clear why, just imagine how were going to use this partial. We're going to add it the current value of $\\color{blue}{W}$ in gradient descent, so it better be of the same size!\n",
    "\n",
    "To form this matrix, we have $\\color{green}{\\mathbf{a}^{L-1}}$, which is of size $k \\times 1$, the size of the previous layer, and $\\delta^L$, which is of size $j \\times 1$. \n",
    "\n",
    "So how do we form this matrix using these two vectors? We take the **outer product**:\n",
    "\n",
    "$$\n",
    "\\delta^L(\\color{green}{\\mathbf{a}^{L-1}})^T\n",
    "$$\n",
    "\n",
    "Lets make sure the sizes work! \n",
    "\n",
    "$$\n",
    "(j \\times 1)(1 \\times k) = (j \\times k)\n",
    "$$\n",
    "\n",
    "Perfect! \n",
    "\n",
    "<div class=\"info\">\n",
    "\n",
    "📖**Vectorized BP4**: \n",
    "    \n",
    "$$\n",
    "\\frac{\\dc}{ \\color{blue}{ \\partial \\mathbf{W^\\ell} } } = \\delta^L(\\color{green}{\\mathbf{a}^{L-1}})^T\n",
    "$$\n",
    "    \n",
    "</div>\n",
    "\n"
   ]
  },
  {
   "cell_type": "markdown",
   "metadata": {},
   "source": [
    "Finally! Lets give fully vectorized forms of the batchprop equations:"
   ]
  },
  {
   "cell_type": "markdown",
   "metadata": {},
   "source": [
    "---\n",
    "### F.F.B.E - Vectorized™\n",
    "\n",
    "Lets cap this off by writing **vectorized versions** of the four fundamental backpropagation equations:\n",
    "\n",
    "<div class=\"info\">\n",
    "    \n",
    "**📖Definition**: **Vectorized** versions of the **Four Fundamental Backpropagation Equations™** are given by:\n",
    "    \n",
    "$$\n",
    "\\begin{align}\n",
    "\\delta^L &= (\\color{green}{\\mathbf{a}^L} - \\vy)  \\odot  \\sigma^{\\color{red}{\\prime}}(\\color{orange}{\\mathbf{z}^L}) \\tag{BP1}\\\\\n",
    "\\delta^{\\ell} &= (\\color{blue}{W^{\\ell+1}})^T \\delta^{\\ell+1} \\odot \\sigma^{\\color{red}{\\prime}}(\\mathbf{\\zx{\\ell}})\\tag{BP2} \\\\\n",
    "\\frac{\\dc}{\\color{purple}{\\partial \\mathbf{b}^\\ell}} &= \\delta^\\ell \\tag{BP3} \\\\\n",
    "\\frac{\\dc}{ \\color{blue}{ \\partial \\mathbf{W^\\ell} } } &= \\delta^\\ell(\\color{green}{\\mathbf{a}^{\\ell-1}})^T \\tag{BP4}\n",
    "\\end{align}\n",
    "$$\n",
    "\n",
    "</div>"
   ]
  },
  {
   "cell_type": "markdown",
   "metadata": {},
   "source": [
    "---\n",
    "### Implementation\n",
    "\n",
    "Wow! Now we've really come a long way!\n",
    "\n",
    "<div class=\"info\">\n",
    "    \n",
    "💪🏽**Exercise**: Implement the backprop equations above! \n",
    "\n",
    "</div>\n",
    "\n",
    "As you're implementing this, think about the following:\n",
    "<div class=\"info\">\n",
    "    \n",
    "🧐**Pause-and-ponder**: How do you deal with multiple samples? \n",
    "    \n",
    "</div>"
   ]
  },
  {
   "cell_type": "markdown",
   "metadata": {},
   "source": [
    "Initialize our toy problem as always:"
   ]
  },
  {
   "cell_type": "code",
   "execution_count": 44,
   "metadata": {},
   "outputs": [],
   "source": [
    "X,y = toy()"
   ]
  },
  {
   "cell_type": "markdown",
   "metadata": {},
   "source": [
    "Since we're still dealing with a **flat implementation**, lets go ahead and initialize our weights and biases here:"
   ]
  },
  {
   "cell_type": "code",
   "execution_count": 45,
   "metadata": {},
   "outputs": [],
   "source": [
    "# initialize weight matrices - notice the dimensions\n",
    "W_1_init = # EDIT HERE\n",
    "W_2_init = # EDIT HERE\n",
    "W_3_init = # EDIT HERE\n",
    "weights = [W_1_init,W_2_init,W_3_init]\n",
    "\n",
    "# and our biases\n",
    "b_1_init = # EDIT HERE\n",
    "b_2_init = # EDIT HERE\n",
    "b_3_init = # EDIT HERE\n",
    "biases = [b_1_init,b_2_init,b_3_init]"
   ]
  },
  {
   "cell_type": "markdown",
   "metadata": {},
   "source": [
    "Now we can use the feedforward batch implementation we gave above:"
   ]
  },
  {
   "cell_type": "code",
   "execution_count": 46,
   "metadata": {},
   "outputs": [],
   "source": [
    "def feedforward_batch(X, weights, biases):\n",
    "    # assume inputs is of shape Nxd\n",
    "    W_1,W_2,W_3 = weights[0],weights[1],weights[2]\n",
    "    b_1,b_2,b_3 = biases[0],biases[1],biases[2]\n",
    "    \n",
    "    activities = []\n",
    "    activations = []\n",
    "    \n",
    "    # NOTE - there is no for loop here! \n",
    "    \n",
    "    # treat activations like layer_0 activations:\n",
    "    activations.append(X.T)\n",
    "    \n",
    "    # layer 1\n",
    "    z_1 = W_1.dot(X.T) + b_1\n",
    "    a_1 = sigmoid(z_1)\n",
    "    activities.append(z_1)\n",
    "    activations.append(np.squeeze(np.asarray(a_1)))\n",
    "    \n",
    "    # layer 2\n",
    "    z_2 = W_2.dot(a_1)+b_2\n",
    "    a_2 = sigmoid(z_2)\n",
    "    activities.append(z_2)\n",
    "    activations.append(np.squeeze(np.asarray(a_2)))\n",
    "    \n",
    "    # output layer\n",
    "    z_3 = W_3.dot(a_2)+b_3\n",
    "    y_hat = sigmoid(z_3)\n",
    "    activities.append(z_3)\n",
    "    activations.append(np.asarray(y_hat))\n",
    "    \n",
    "    return activities, activations"
   ]
  },
  {
   "cell_type": "markdown",
   "metadata": {},
   "source": [
    "Lets actually feed-forward our entire dataset:"
   ]
  },
  {
   "cell_type": "code",
   "execution_count": 47,
   "metadata": {},
   "outputs": [],
   "source": [
    "activities, activations = feedforward_batch(X,weights,biases)"
   ]
  },
  {
   "cell_type": "markdown",
   "metadata": {},
   "source": [
    "Lets check the sizes of these:"
   ]
  },
  {
   "cell_type": "code",
   "execution_count": 48,
   "metadata": {},
   "outputs": [
    {
     "name": "stdout",
     "output_type": "stream",
     "text": [
      "(3, 1000) (2, 1000) (1, 1000)\n"
     ]
    }
   ],
   "source": [
    "print(activities[0].shape,activities[1].shape,activities[2].shape)"
   ]
  },
  {
   "cell_type": "code",
   "execution_count": 49,
   "metadata": {},
   "outputs": [
    {
     "name": "stdout",
     "output_type": "stream",
     "text": [
      "(1, 1000) (3, 1000) (2, 1000) (1, 1000)\n"
     ]
    }
   ],
   "source": [
    "print(activations[0].shape,activations[1].shape,\n",
    "      activations[2].shape, activations[3].shape)"
   ]
  },
  {
   "cell_type": "markdown",
   "metadata": {},
   "source": [
    "**Note**: We're calling our input our first activity, which is why there is one extra."
   ]
  },
  {
   "cell_type": "markdown",
   "metadata": {},
   "source": [
    "Now we're ready to run backprop **on each sample** in our dataset, to generate bias and weight updates for each sample.\n",
    "\n",
    "Lets start with a sigmoid prime function we will need:"
   ]
  },
  {
   "cell_type": "code",
   "execution_count": 50,
   "metadata": {},
   "outputs": [],
   "source": [
    "def sigmoid_prime(z):\n",
    "    return sigmoid(z)*(1-sigmoid(z))"
   ]
  },
  {
   "cell_type": "code",
   "execution_count": 51,
   "metadata": {},
   "outputs": [
    {
     "data": {
      "image/png": "[encoded data removed]",
      "text/plain": [
       "<Figure size 432x288 with 1 Axes>"
      ]
     },
     "metadata": {
      "needs_background": "light"
     },
     "output_type": "display_data"
    }
   ],
   "source": [
    "plt.plot(sigmoid(np.linspace(-10,10)));\n",
    "plt.plot(sigmoid_prime(np.linspace(-10,10)));"
   ]
  },
  {
   "cell_type": "markdown",
   "metadata": {},
   "source": [
    "Lets continue our work:"
   ]
  },
  {
   "cell_type": "code",
   "execution_count": 52,
   "metadata": {},
   "outputs": [],
   "source": [
    "N,d = inputs.shape\n",
    "\n",
    "weight_updates = []\n",
    "bias_updates = []"
   ]
  },
  {
   "cell_type": "code",
   "execution_count": 53,
   "metadata": {},
   "outputs": [],
   "source": [
    "layer_num = len(activations)\n",
    "weight_updates = []\n",
    "bias_updates = []"
   ]
  },
  {
   "cell_type": "markdown",
   "metadata": {},
   "source": [
    "Now our equations are above are only for one sample! So lets pick one and proceed:"
   ]
  },
  {
   "cell_type": "code",
   "execution_count": 54,
   "metadata": {},
   "outputs": [],
   "source": [
    "sample_idx = 0"
   ]
  },
  {
   "cell_type": "markdown",
   "metadata": {},
   "source": [
    "Ok, so lets run backprop on that one sample, by starting with our last layer:"
   ]
  },
  {
   "cell_type": "code",
   "execution_count": 55,
   "metadata": {},
   "outputs": [],
   "source": [
    "########################################\n",
    "#           Last Level\n",
    "########################################\n",
    "# get last layer specific variables - pay special attention the sizes! \n",
    "z_L = # EDIT HERE\n",
    "a_L = # EDIT HERE\n",
    "a_L_minus_1 = # EDIT HERE"
   ]
  },
  {
   "cell_type": "code",
   "execution_count": 56,
   "metadata": {},
   "outputs": [
    {
     "data": {
      "text/plain": [
       "((1, 1), (1, 1), (2, 1))"
      ]
     },
     "execution_count": 56,
     "metadata": {},
     "output_type": "execute_result"
    }
   ],
   "source": [
    "(z_L.shape,a_L.shape,a_L_minus_1.shape)"
   ]
  },
  {
   "cell_type": "markdown",
   "metadata": {},
   "source": [
    "Are these what we expect?"
   ]
  },
  {
   "cell_type": "markdown",
   "metadata": {},
   "source": [
    "Lets use them in the formulas we gave above!"
   ]
  },
  {
   "cell_type": "code",
   "execution_count": 57,
   "metadata": {},
   "outputs": [],
   "source": [
    "# calculate delta_L for the last level\n",
    "delta_L = # EDIT HERE"
   ]
  },
  {
   "cell_type": "code",
   "execution_count": 58,
   "metadata": {},
   "outputs": [
    {
     "data": {
      "text/plain": [
       "(1, 1)"
      ]
     },
     "execution_count": 58,
     "metadata": {},
     "output_type": "execute_result"
    }
   ],
   "source": [
    "delta_L.shape"
   ]
  },
  {
   "cell_type": "markdown",
   "metadata": {},
   "source": [
    "Lets make a list to store all these delta values!"
   ]
  },
  {
   "cell_type": "code",
   "execution_count": 59,
   "metadata": {},
   "outputs": [],
   "source": [
    "deltas = []\n",
    "deltas.append(delta_L)"
   ]
  },
  {
   "cell_type": "markdown",
   "metadata": {},
   "source": [
    "Now lets calculate the bias update:"
   ]
  },
  {
   "cell_type": "code",
   "execution_count": 60,
   "metadata": {},
   "outputs": [
    {
     "data": {
      "text/plain": [
       "(1, 1)"
      ]
     },
     "execution_count": 60,
     "metadata": {},
     "output_type": "execute_result"
    }
   ],
   "source": [
    "# calculate bias update\n",
    "dc_db_l = # EDIT HERE\n",
    "bias_updates = [dc_db_l] + bias_updates\n",
    "dc_db_l.shape"
   ]
  },
  {
   "cell_type": "markdown",
   "metadata": {},
   "source": [
    "And the weight update:"
   ]
  },
  {
   "cell_type": "code",
   "execution_count": 61,
   "metadata": {},
   "outputs": [
    {
     "data": {
      "text/plain": [
       "(1, 2)"
      ]
     },
     "execution_count": 61,
     "metadata": {},
     "output_type": "execute_result"
    }
   ],
   "source": [
    "# calcualte weight updates\n",
    "dc_dw_l = # EDIT HERE\n",
    "weight_updates = [dc_dw_l] + weight_updates\n",
    "dc_dw_l.shape"
   ]
  },
  {
   "cell_type": "markdown",
   "metadata": {},
   "source": [
    "Wow! We've run backprop across our last layer! Now all we have to do, is apply this to the rest of our layers!"
   ]
  },
  {
   "cell_type": "code",
   "execution_count": 62,
   "metadata": {},
   "outputs": [
    {
     "name": "stdout",
     "output_type": "stream",
     "text": [
      "Loop variable: 2, l=-2, corresponding to layer: l-2\n",
      "=========Layer:2=========\n",
      "Using negative index: -2\n",
      "z_l:(2, 1), a_l:(2, 1), a_l_minus_1:(3, 1)\n",
      "delta_l:(2, 1), dc_db_l:(2, 1),dc_dw_l:(2, 3)\n",
      "\n",
      "Loop variable: 3, l=-3, corresponding to layer: l-3\n",
      "=========Layer:1=========\n",
      "Using negative index: -3\n",
      "z_l:(3, 1), a_l:(3, 1), a_l_minus_1:(1, 1)\n",
      "delta_l:(3, 1), dc_db_l:(3, 1),dc_dw_l:(3, 1)\n",
      "\n"
     ]
    }
   ],
   "source": [
    "########################################\n",
    "# loop through each layer, from 2 to L-1\n",
    "######################################## \n",
    "for layer in range(2,layer_num):\n",
    "    # using level as a **negative index**\n",
    "    l = -layer\n",
    "\n",
    "    # uncomment this print statement \n",
    "    # to help you understand how negative indexing works\n",
    "    print(f\"Loop variable: {layer}, l={l}, corresponding to layer: l{l}\")\n",
    "\n",
    "    # calculate delta_l for each layer\n",
    "    z_l = # EDIT HERE\n",
    "    a_l = # EDIT HERE\n",
    "    delta_l = # EDIT HERE\n",
    "    deltas = [delta_l] + deltas\n",
    "\n",
    "    # calculate bias update\n",
    "    dc_db_l = # EDIT HERE\n",
    "    bias_updates = [dc_db_l] + bias_updates\n",
    "\n",
    "    # calcualte weight updates\n",
    "    a_l_minus_1 = # EDIT HERE\n",
    "    dc_dw_l = # EDIT HERE\n",
    "    weight_updates = [dc_dw_l] + weight_updates\n",
    "    \n",
    "    print(f'=========Layer:{layer_num+l}=========')\n",
    "    print(f'Using negative index: {l}')\n",
    "    print(f'z_l:{z_l.shape}, a_l:{a_l.shape}, a_l_minus_1:{a_l_minus_1.shape}')\n",
    "    print(f'delta_l:{delta_l.shape}, dc_db_l:{dc_db_l.shape},dc_dw_l:{dc_dw_l.shape}')\n",
    "    print()"
   ]
  },
  {
   "cell_type": "markdown",
   "metadata": {},
   "source": [
    "All thats left to do, is wrap this up in a reusable function! "
   ]
  },
  {
   "cell_type": "code",
   "execution_count": 63,
   "metadata": {},
   "outputs": [],
   "source": [
    "def backprop_1_example(activities,activations,y,sample_idx,quiet=True):\n",
    "    layer_num = len(activations)\n",
    "    weight_updates = []\n",
    "    bias_updates = []\n",
    "    \n",
    "    ########################################\n",
    "    #           Last Level\n",
    "    ########################################\n",
    "    # get last layer specific variables\n",
    "    a_L = # EDIT HERE\n",
    "    a_L_minus_1 = # EDIT HERE\n",
    "    z_L = # EDIT HERE\n",
    "    \n",
    "    # calculate delta_L for the last level\n",
    "    delta_L = # EDIT HERE\n",
    "    deltas = []\n",
    "    deltas.append(delta_L)\n",
    "\n",
    "    # calculate bias update\n",
    "    dc_db_L = # EDIT HERE\n",
    "    bias_updates = [dc_db_L] + bias_updates\n",
    "\n",
    "    # calcualte weight updates\n",
    "    dc_dw_L = # EDIT HERE\n",
    "    weight_updates = [dc_dw_L] + weight_updates\n",
    "    \n",
    "    if not quiet:\n",
    "        print(f'=========Layer:{layer_num+-1}=========')\n",
    "        print(f'Using negative index: -1')\n",
    "        print(f'z_l:{z_L.shape}, a_l:{a_L.shape}, a_l_minus_1:{a_L_minus_1.shape}')\n",
    "        print(f'delta_l:{delta_L.shape}, dc_db_l:{dc_db_L.shape},dc_dw_l:{dc_dw_L.shape}')\n",
    "        print()\n",
    "    \n",
    "    ########################################\n",
    "    # loop through each layer, from 2 to L-1\n",
    "    ######################################## \n",
    "    for layer in range(2,layer_num):\n",
    "        # using level as a **negative index**\n",
    "        l = -layer\n",
    "        \n",
    "        # uncomment this print statement \n",
    "        # to help you understand how negative indexing works\n",
    "        # print(f\"Loop variable: {layer}, l={l}, corresponding to layer: l{l}\")\n",
    "\n",
    "        # calculate delta_l for each layer\n",
    "        a_l = # EDIT HERE\n",
    "        z_l = # EDIT HERE\n",
    "        delta_l = # EDIT HERE\n",
    "        deltas = [delta_l] + deltas\n",
    "\n",
    "        # calculate bias update\n",
    "        dc_db_l = # EDIT HERE\n",
    "        bias_updates = [dc_db_l] + bias_updates\n",
    "\n",
    "        # calcualte weight updates\n",
    "        a_l_minus_1 = # EDIT HERE\n",
    "        dc_dw_l = # EDIT HERE\n",
    "        weight_updates = [dc_dw_l] + weight_updates\n",
    "        \n",
    "        if not quiet:\n",
    "            print(f'=========Layer:{layer_num+l}=========')\n",
    "            print(f'Using negative index: {l}')\n",
    "            print(f'z_l:{z_l.shape}, a_l:{a_l.shape}, a_l_minus_1:{a_l_minus_1.shape}')\n",
    "            print(f'delta_l:{delta_l.shape}, dc_db_l:{dc_db_l.shape},dc_dw_l:{dc_dw_l.shape}')\n",
    "            print()\n",
    "    \n",
    "    return weight_updates, bias_updates"
   ]
  },
  {
   "cell_type": "markdown",
   "metadata": {},
   "source": [
    "We now have the following:\n",
    "* `feedforward_batch`: a function which feeds entire **batches** through our network\n",
    "* `backprop_1_example`: a function which backpropagates **the erorr associated with a single example** through the network\n",
    "\n",
    "\n",
    "Lets now revisit: \n",
    "\n",
    "<div class=\"info\">\n",
    "    \n",
    "🧐**Pause-and-ponder**: How do you deal with multiple samples? \n",
    "    \n",
    "</div>\n",
    "\n",
    "And try to think of how we can implement this algorithm:"
   ]
  },
  {
   "cell_type": "markdown",
   "metadata": {},
   "source": [
    "## More interesting example"
   ]
  },
  {
   "cell_type": "code",
   "execution_count": 64,
   "metadata": {},
   "outputs": [
    {
     "name": "stdout",
     "output_type": "stream",
     "text": [
      "shape of X: (1000, 2)\n",
      "shape of y: (1000, 1)\n"
     ]
    }
   ],
   "source": [
    "# Generate the dataset\n",
    "X, y = sklearn.datasets.make_circles(\n",
    "    n_samples=1000, shuffle=False, factor=0.3, noise=0.1)\n",
    "\n",
    "# Separate the red and blue samples for plotting\n",
    "x_red = X[y==0]\n",
    "x_blue = X[y==1]\n",
    "\n",
    "# correct size of y\n",
    "y = y.reshape(-1,1)\n",
    "\n",
    "print('shape of X: {}'.format(X.shape))\n",
    "print('shape of y: {}'.format(y.shape))"
   ]
  },
  {
   "cell_type": "code",
   "execution_count": 65,
   "metadata": {},
   "outputs": [
    {
     "data": {
      "image/png": "[encoded data removed]",
      "text/plain": [
       "<Figure size 720x504 with 1 Axes>"
      ]
     },
     "metadata": {
      "needs_background": "light"
     },
     "output_type": "display_data"
    }
   ],
   "source": [
    "# Plot both classes on the x1, x2 plane\n",
    "plt.figure(figsize=(10, 7))\n",
    "plt.plot(x_red[:,0], x_red[:,1], 'r*', \n",
    "         label='class: red star', alpha=0.75)\n",
    "plt.plot(x_blue[:,0], x_blue[:,1], 'bo', \n",
    "         label='class: blue circle', alpha=0.75)\n",
    "plt.legend(loc=1)\n",
    "plt.xlabel('$x_1$', fontsize=20)\n",
    "plt.ylabel('$x_2$', fontsize=20)\n",
    "plt.axis([-1.5, 1.5, -1.5, 1.5])\n",
    "plt.title('red star vs blue circle classes in the input space', fontsize=20);"
   ]
  },
  {
   "cell_type": "markdown",
   "metadata": {},
   "source": [
    "### Train our Network! \n",
    "\n",
    "Now we can actually train our network using gradient descent as we have before! "
   ]
  },
  {
   "cell_type": "code",
   "execution_count": 66,
   "metadata": {},
   "outputs": [
    {
     "name": "stdout",
     "output_type": "stream",
     "text": [
      "Epoch:1/10\n",
      "Epoch:2/10\n",
      "Epoch:3/10\n",
      "Epoch:4/10\n",
      "Epoch:5/10\n",
      "Epoch:6/10\n",
      "Epoch:7/10\n",
      "Epoch:8/10\n",
      "Epoch:9/10\n",
      "Epoch:10/10\n"
     ]
    }
   ],
   "source": [
    "# dataset\n",
    "N = X.shape[0]\n",
    "d = X.shape[1]\n",
    "batch_size = 50\n",
    "epochs = 10\n",
    "eta=1e-2\n",
    "dataset=X\n",
    "quiet=False\n",
    "\n",
    "# initialize weight matrices - notice the dimensions\n",
    "W_1_init = # EDIT HERE\n",
    "W_2_init = # EDIT HERE\n",
    "W_3_init = # EDIT HERE\n",
    "weights = [W_1_init,W_2_init,W_3_init]\n",
    "\n",
    "# and our biases\n",
    "b_1_init = # EDIT HERE\n",
    "b_2_init = # EDIT HERE\n",
    "b_3_init = # EDIT HERE\n",
    "biases = [b_1_init,b_2_init,b_3_init]\n",
    "\n",
    "# network\n",
    "W_1,W_2,W_3 = weights[0],weights[1],weights[2]\n",
    "b_1,b_2,b_3 = biases[0],biases[1],biases[2]\n",
    "\n",
    "# mini-batch params \n",
    "num_batches = int(N/batch_size)\n",
    "iterations = 0\n",
    "\n",
    "# debugging lists\n",
    "loss = []\n",
    "grad_norm_1 = []\n",
    "grad_norm_2 = []\n",
    "grad_norm_3 = []\n",
    "norm_1 = []\n",
    "norm_2 = []\n",
    "norm_3 = []\n",
    "\n",
    "\n",
    "for epoch in range(epochs):\n",
    "\n",
    "    # work on current batch \n",
    "    for batch_num in range(num_batches):\n",
    "\n",
    "        # get current batch\n",
    "        batch_start = batch_num*batch_size\n",
    "        batch_end = (batch_num+1)*batch_size\n",
    "        batch = dataset[batch_start:batch_end,:]\n",
    "        batch_labels = labels[batch_start:batch_end,:].reshape(-1,1)\n",
    "\n",
    "        # feedforward on batch\n",
    "        # EDIT HERE\n",
    "        \n",
    "\n",
    "        # setup matrices to hold gradients\n",
    "        grad_W_1 = np.zeros_like(W_1)\n",
    "        grad_b_1 = np.zeros_like(b_1)\n",
    "        grad_W_2 = np.zeros_like(W_2)\n",
    "        grad_b_2 = np.zeros_like(b_2)\n",
    "        grad_W_3 = np.zeros_like(W_3)\n",
    "        grad_b_3 = np.zeros_like(b_3)\n",
    "        \n",
    "\n",
    "        # loop through each example in the batch\n",
    "        for idx in range(batch.shape[0]):\n",
    "            current_sample = batch[idx,:]\n",
    "            current_label = batch_labels[idx]\n",
    "\n",
    "            # get current weight and bias updates\n",
    "            # EDIT HERE\n",
    "\n",
    "            # aggregate them \n",
    "            grad_W_1 = grad_W_1 + weight_updates[0]\n",
    "            grad_b_1 = grad_b_1 + bias_updates[0]\n",
    "\n",
    "            grad_W_2 = grad_W_2 + weight_updates[1]\n",
    "            grad_b_2 = grad_b_2 + bias_updates[1]\n",
    "\n",
    "            grad_W_3 = grad_W_3 + weight_updates[2]\n",
    "            grad_b_3 = grad_b_3 + bias_updates[2]\n",
    "            \n",
    "            \n",
    "        grad_norm_1.append(np.linalg.norm(grad_W_1))\n",
    "        grad_norm_2.append(np.linalg.norm(grad_W_2))\n",
    "        grad_norm_3.append(np.linalg.norm(grad_W_3))\n",
    "\n",
    "\n",
    "        # take your steps:\n",
    "        W_1 = # EDIT HERE\n",
    "        b_1 = # EDIT HERE\n",
    "\n",
    "        W_2 = # EDIT HERE\n",
    "        b_2 = # EDIT HERE\n",
    "\n",
    "        W_3 = # EDIT HERE\n",
    "        b_3 = # EDIT HERE\n",
    "        \n",
    "        norm_1.append(np.linalg.norm(W_1))\n",
    "        norm_2.append(np.linalg.norm(W_2))\n",
    "        norm_3.append(np.linalg.norm(W_3))\n",
    "        \n",
    "        # save new weights and biases to be used in the next feedforward step\n",
    "        weights = [W_1,W_2,W_3]\n",
    "        biases = [b_1,b_2,b_3]\n",
    "        \n",
    "        # calculate current loss \n",
    "        loss.append(mse(activations[-1],batch_labels))\n",
    "    \n",
    "    print(f\"Epoch:{epoch+1}/{epochs}\")"
   ]
  },
  {
   "cell_type": "markdown",
   "metadata": {},
   "source": [
    "🧐 Hm. Wait a minute - **how do we know we're doing the right thing**? We should check it! "
   ]
  },
  {
   "cell_type": "markdown",
   "metadata": {},
   "source": [
    "## Gradient Checking\n",
    "\n",
    "Backprop implementations are notoriously difficult to get right! That means we should implement some kind of **numerical check for correctness**.\n",
    "\n",
    "<div class=\"info\">\n",
    "    \n",
    "🧐**Pause-and-ponder**: Can you think of a way we could **numerically check** that our *analytical* gradients are correct? \n",
    "    \n",
    "</div>\n",
    "\n",
    "### Numerical Gradients! \n",
    "\n",
    "Having thought about it a bit, you might have thought to check our numerical approximations for the derivative! \n",
    "\n",
    "Recall, we could write the cost function as a function of **one long vector** of **all of our parameters**: \n",
    "\n",
    "$$\n",
    "\\czero(\\color{blue}{\\mathbf{W}_1,\\mathbf{W}_2,\\mathbf{W}_3},\\color{purple}{\\mathbf{b}_1,\\mathbf{b}_2,\\mathbf{b}_3}) = \\czero(\\color{blue}{w_{0,0},w_{0,1},\\ldots,w_{1,0},w_{1,1}},\\ldots,\\color{purple}{b_{0,0},b_{0,1}},\\ldots) \n",
    "$$\n",
    "\n",
    "To abstract this away, we can write it out as:\n",
    "\n",
    "$$\n",
    "\\czero (\\theta_1,\\theta_2,\\ldots,\\theta_i,\\ldots)\n",
    "$$\n",
    "\n",
    "Well, then one way we could check for correctness, is to calculate **the two sided difference** $\\Delta_i$: \n",
    "\n",
    "$$\n",
    "\\begin{align}\n",
    "\\Delta_i &= \\frac{\\czero (\\theta_1,\\theta_2,\\ldots,\\color{red}{\\theta_i+\\epsilon},\\ldots) - \\czero (\\theta_1,\\theta_2,\\ldots,\\color{red}{\\theta_i-\\epsilon},\\ldots)}{2\\epsilon} \n",
    "\\end{align}\n",
    "$$\n",
    "\n",
    "We know this is an **approximation** for our desired partial when $\\epsilon$ is **very small**:\n",
    "\n",
    "$$\n",
    "\\Delta_i \\approx \\frac{\\dc}{\\partial \\theta_i}\n",
    "$$\n",
    "\n",
    "So we can use this approximation to see how close it is to our analytical gradient! \n",
    "\n",
    "Specifically, we want to calculate: \n",
    "\n",
    "$$\n",
    "\\frac{\\|\\Delta_i - \\frac{\\dc}{\\partial \\theta_i}  \\|_2}{\\|\\Delta_i\\|_2 + \\|\\frac{\\dc}{\\partial \\theta_i}\\|_2  }\n",
    "$$\n",
    "\n",
    "And verify that this is **very small** for all of our parameters! Specifically, we can choose $\\epsilon = 10^{-7}$, and expect this difference to be $<10^{-7}$. If so, we can call our backprop code:"
   ]
  },
  {
   "cell_type": "markdown",
   "metadata": {},
   "source": [
    "<center><strong>numerically verified™ 😎</strong></center>"
   ]
  },
  {
   "cell_type": "markdown",
   "metadata": {},
   "source": [
    "A note before we proceed, its very common to use the `ravel` function to do this *flattening out*, and then use `concatenate` to join our newly flattened arrays\""
   ]
  },
  {
   "cell_type": "code",
   "execution_count": 67,
   "metadata": {},
   "outputs": [
    {
     "data": {
      "text/plain": [
       "(array([[7, 5],\n",
       "        [3, 2],\n",
       "        [5, 2]]),\n",
       " array([[4, 6, 1],\n",
       "        [2, 9, 4],\n",
       "        [4, 4, 2],\n",
       "        [6, 4, 1]]))"
      ]
     },
     "execution_count": 67,
     "metadata": {},
     "output_type": "execute_result"
    }
   ],
   "source": [
    "a,b = np.random.randint(1,10,(3,2)),np.random.randint(1,10,(4,3))\n",
    "a,b"
   ]
  },
  {
   "cell_type": "code",
   "execution_count": 68,
   "metadata": {},
   "outputs": [
    {
     "data": {
      "text/plain": [
       "array([7, 5, 3, 2, 5, 2])"
      ]
     },
     "execution_count": 68,
     "metadata": {},
     "output_type": "execute_result"
    }
   ],
   "source": [
    "a.ravel()"
   ]
  },
  {
   "cell_type": "code",
   "execution_count": 69,
   "metadata": {},
   "outputs": [
    {
     "data": {
      "text/plain": [
       "array([7, 5, 3, 2, 5, 2, 4, 6, 1, 2, 9, 4, 4, 4, 2, 6, 4, 1])"
      ]
     },
     "execution_count": 69,
     "metadata": {},
     "output_type": "execute_result"
    }
   ],
   "source": [
    "np.concatenate((a.ravel(),b.ravel()))"
   ]
  },
  {
   "cell_type": "markdown",
   "metadata": {},
   "source": [
    "So now, we can use these to flatten all of our parameters, and join them into one big vector which we can then **perturb**. \n",
    "\n",
    "Lets define a couple helper functions which will help us **unravel** and then **reform** them.\n",
    "\n",
    "The first is `get_params`, which will return a single vector of all our parameters, using python's **list comprehension**:"
   ]
  },
  {
   "cell_type": "code",
   "execution_count": 70,
   "metadata": {},
   "outputs": [],
   "source": [
    "def get_params(weights,biases):\n",
    "    weight_params = [weight.ravel() for weight in weights]\n",
    "    bias_params = [bias.ravel() for bias in biases]\n",
    "    all_params = weight_params+bias_params\n",
    "    return np.concatenate(all_params)"
   ]
  },
  {
   "cell_type": "code",
   "execution_count": 71,
   "metadata": {},
   "outputs": [
    {
     "data": {
      "text/plain": [
       "array([ 0.24548718,  0.0559058 ,  0.3162173 ,  0.95008869,  0.44114182,\n",
       "        0.56387827,  0.41966275,  0.60940562,  0.222933  ,  0.0963859 ,\n",
       "        0.47173995,  0.35284266,  0.25525141,  0.09705749,  0.5587288 ,\n",
       "       -0.67885261, -0.26216487, -0.61567399,  0.63896662,  0.40576545,\n",
       "        0.36140958,  0.93930182,  0.09760185,  0.15316687,  0.46442196])"
      ]
     },
     "execution_count": 71,
     "metadata": {},
     "output_type": "execute_result"
    }
   ],
   "source": [
    "get_params(weights,biases)"
   ]
  },
  {
   "cell_type": "markdown",
   "metadata": {},
   "source": [
    "Verify that this is of the correct length, based on our network structure! "
   ]
  },
  {
   "cell_type": "code",
   "execution_count": 72,
   "metadata": {},
   "outputs": [
    {
     "data": {
      "text/plain": [
       "(25,)"
      ]
     },
     "execution_count": 72,
     "metadata": {},
     "output_type": "execute_result"
    }
   ],
   "source": [
    "get_params(weights,biases).shape"
   ]
  },
  {
   "cell_type": "markdown",
   "metadata": {},
   "source": [
    "We can also define a `set_params` function, which is responsible for **re-forming** our parameters into the correct shapes, given one long vector:"
   ]
  },
  {
   "cell_type": "code",
   "execution_count": 73,
   "metadata": {},
   "outputs": [],
   "source": [
    "def set_params(param_vector,orig_weights,orig_biases):\n",
    "    # set weights\n",
    "    new_weights=[]\n",
    "    pointer = 0\n",
    "    for weight_mat in orig_weights:\n",
    "        curr_len = (weight_mat.shape[0]*weight_mat.shape[1])\n",
    "        new_mat = param_vector[pointer:pointer+curr_len].reshape(weight_mat.shape)\n",
    "        new_weights.append(new_mat)\n",
    "        pointer += curr_len\n",
    "    \n",
    "    # set biases\n",
    "    new_biases=[]\n",
    "    for weight_vec in orig_biases:\n",
    "        curr_len = (weight_vec.shape[0]*weight_vec.shape[1])\n",
    "        new_vec = param_vector[pointer:pointer+curr_len].reshape(weight_vec.shape)\n",
    "        new_biases.append(new_vec)\n",
    "        pointer += curr_len\n",
    "        \n",
    "    return new_weights,new_biases"
   ]
  },
  {
   "cell_type": "markdown",
   "metadata": {},
   "source": [
    "Note: This function takes an original set of weights and biases, but only uses it for the sizes of each element! "
   ]
  },
  {
   "cell_type": "markdown",
   "metadata": {},
   "source": [
    "Lets run both of our new functions and **verify** they work as expected:"
   ]
  },
  {
   "cell_type": "code",
   "execution_count": 74,
   "metadata": {},
   "outputs": [],
   "source": [
    "new_weights,new_biases = set_params(get_params(weights,biases),weights,biases)"
   ]
  },
  {
   "cell_type": "markdown",
   "metadata": {},
   "source": [
    "Now we can once again use list comprehension to quickly check if `new_weights` is equal to `weights`, and `new_biases` is equal to `biases` at each element:"
   ]
  },
  {
   "cell_type": "code",
   "execution_count": 75,
   "metadata": {},
   "outputs": [
    {
     "data": {
      "text/plain": [
       "[True, True, True]"
      ]
     },
     "execution_count": 75,
     "metadata": {},
     "output_type": "execute_result"
    }
   ],
   "source": [
    "[np.array_equal(i,j) for i,j in zip(weights,new_weights)]"
   ]
  },
  {
   "cell_type": "code",
   "execution_count": 76,
   "metadata": {},
   "outputs": [
    {
     "data": {
      "text/plain": [
       "[True, True, True]"
      ]
     },
     "execution_count": 76,
     "metadata": {},
     "output_type": "execute_result"
    }
   ],
   "source": [
    "[np.array_equal(i,j) for i,j in zip(biases,new_biases)]"
   ]
  },
  {
   "cell_type": "markdown",
   "metadata": {},
   "source": [
    "We should see all `True` there! Perfect, our unraveling and raveling works as we expect. Now we can use this to perform gradient checking."
   ]
  },
  {
   "cell_type": "markdown",
   "metadata": {},
   "source": [
    "### Implementation\n",
    "\n",
    "We can now begin to implement our **numerical gradient checking**, by defining a function that lets us do this:"
   ]
  },
  {
   "cell_type": "code",
   "execution_count": 77,
   "metadata": {},
   "outputs": [],
   "source": [
    "def gradient_checking(weights,biases,batch,idx,current_label,weight_updates,bias_updates,epsilon=1e-7):\n",
    "\n",
    "    # unravel the current params\n",
    "    params = get_params(weights,biases)\n",
    "    diff_vec = np.zeros_like(params)\n",
    "\n",
    "    # loop through, perturbing one parameter at a time:\n",
    "    for p_index in range(params.shape[0]):\n",
    "        perturb = np.zeros_like(params)\n",
    "        perturb[p_index] = epsilon\n",
    "\n",
    "        # feedforward at each side\n",
    "        _, activations_p = # EDIT HERE\n",
    "        _, activations_m = # EDIT HERE\n",
    "\n",
    "        # calculate cost of each side\n",
    "        cost_plus = # EDIT HERE\n",
    "        cost_minus = # EDIT HERE\n",
    "\n",
    "        # calcualte \\Delta_i\n",
    "        diff_vec[p_index] = # EDIT HERE\n",
    "\n",
    "    # calculate the difference for this round of backprop\n",
    "    grad_vec = get_params(weight_updates, bias_updates)\n",
    "    grad_error = # EDIT HERE\n",
    "   \n",
    "    if grad_error > epsilon:\n",
    "        print(\"Error in gradient calculation!\")\n",
    "   \n",
    "    return grad_error"
   ]
  },
  {
   "cell_type": "markdown",
   "metadata": {},
   "source": [
    "This function takes the following:\n",
    "\n",
    "* `weights`: the current weights of our network\n",
    "* `biases`: the current biases of our network \n",
    "* `batch`: the current batch of data\n",
    "* `idx`: the index of our current sample,\n",
    "* `current_label`: the current label, of the **current sample**\n",
    "* `weight_updates`: the list of gradients of the weights we calculated\n",
    "* `bias_updates`: the list of gradients of the biases we calculated\n",
    "* `epsilon=1e-7`: a default epsilon value\n",
    "\n",
    "Its a bit verbose, but thats because we're going for a flat implementation. Once we've understood all the pieces, we can wrap everything up nice and neat. "
   ]
  },
  {
   "cell_type": "markdown",
   "metadata": {},
   "source": [
    "With this, lets re-run our training but this time perform gradient checking! "
   ]
  },
  {
   "cell_type": "code",
   "execution_count": 78,
   "metadata": {},
   "outputs": [
    {
     "name": "stdout",
     "output_type": "stream",
     "text": [
      "Epoch:1/10\n",
      "Epoch:2/10\n",
      "Epoch:3/10\n",
      "Epoch:4/10\n",
      "Epoch:5/10\n",
      "Epoch:6/10\n",
      "Epoch:7/10\n",
      "Epoch:8/10\n",
      "Epoch:9/10\n",
      "Epoch:10/10\n"
     ]
    }
   ],
   "source": [
    "# dataset\n",
    "N = X.shape[0]\n",
    "d = X.shape[1]\n",
    "batch_size = 50\n",
    "epochs = 10\n",
    "eta=1e-2\n",
    "dataset=X\n",
    "quiet=False\n",
    "\n",
    "# gradient checking\n",
    "epsilon = 1e-7\n",
    "\n",
    "# initialize weight matrices - notice the dimensions\n",
    "W_1_init = # EDIT HERE\n",
    "W_2_init = # EDIT HERE\n",
    "W_3_init = # EDIT HERE\n",
    "weights = [W_1_init,W_2_init,W_3_init]\n",
    "\n",
    "# and our biases\n",
    "b_1_init = # EDIT HERE\n",
    "b_2_init = # EDIT HERE\n",
    "b_3_init = # EDIT HERE\n",
    "biases = [b_1_init,b_2_init,b_3_init]\n",
    "\n",
    "# network\n",
    "W_1,W_2,W_3 = weights[0],weights[1],weights[2]\n",
    "b_1,b_2,b_3 = biases[0],biases[1],biases[2]\n",
    "\n",
    "# mini-batch params \n",
    "num_batches = int(N/batch_size)\n",
    "iterations = 0\n",
    "\n",
    "# various debugging lists\n",
    "loss = []\n",
    "grad_norm_1 = []\n",
    "grad_norm_2 = []\n",
    "grad_norm_3 = []\n",
    "norm_1 = []\n",
    "norm_2 = []\n",
    "norm_3 = []\n",
    "grad_errors = []\n",
    "diff_vecs = []\n",
    "grad_vecs = []\n",
    "\n",
    "\n",
    "for epoch in range(epochs):\n",
    "    # shuffle the dataset - note we do this by shuffling indices\n",
    "    indices = np.random.permutation(N)\n",
    "    shuffled_dataset = dataset[indices,:]\n",
    "    shuffled_labels = labels[indices,:]\n",
    "        \n",
    "    # work on current batch \n",
    "    for batch_num in range(num_batches):\n",
    "\n",
    "        # get current batch\n",
    "        batch_start = batch_num*batch_size\n",
    "        batch_end = (batch_num+1)*batch_size\n",
    "        batch = shuffled_dataset[batch_start:batch_end,:]\n",
    "        batch_labels = shuffled_labels[batch_start:batch_end,:].reshape(-1,1)\n",
    "\n",
    "        # feedforward on batch\n",
    "        activities, activations = # EDIT HERE\n",
    "        \n",
    "\n",
    "        # setup matrices to hold gradients\n",
    "        grad_W_1 = np.zeros_like(W_1)\n",
    "        grad_b_1 = np.zeros_like(b_1)\n",
    "        grad_W_2 = np.zeros_like(W_2)\n",
    "        grad_b_2 = np.zeros_like(b_2)\n",
    "        grad_W_3 = np.zeros_like(W_3)\n",
    "        grad_b_3 = np.zeros_like(b_3)\n",
    "        \n",
    "\n",
    "        # loop through each example in the batch\n",
    "        for idx in range(batch.shape[0]):\n",
    "            current_sample = batch[idx,:].reshape(1,-1)\n",
    "            current_label = batch_labels[idx]\n",
    "\n",
    "            # get current weight and bias updates\n",
    "            weight_updates, bias_updates = # EDIT HERE\n",
    "\n",
    "            # perform gradient cehcking\n",
    "            grad_error = # EDIT HERE\n",
    "            grad_errors.append(grad_error)\n",
    "            \n",
    "            # aggregate our updates\n",
    "            grad_W_1 = grad_W_1 + weight_updates[0]\n",
    "            grad_b_1 = grad_b_1 + bias_updates[0]\n",
    "\n",
    "            grad_W_2 = grad_W_2 + weight_updates[1]\n",
    "            grad_b_2 = grad_b_2 + bias_updates[1]\n",
    "\n",
    "            grad_W_3 = grad_W_3 + weight_updates[2]\n",
    "            grad_b_3 = grad_b_3 + bias_updates[2]\n",
    "            \n",
    "            \n",
    "        grad_norm_1.append(np.linalg.norm(grad_W_1))\n",
    "        grad_norm_2.append(np.linalg.norm(grad_W_2))\n",
    "        grad_norm_3.append(np.linalg.norm(grad_W_3))\n",
    "\n",
    "\n",
    "        # take your steps:\n",
    "        W_1 = # EDIT HERE\n",
    "        b_1 = # EDIT HERE\n",
    "\n",
    "        W_2 = # EDIT HERE\n",
    "        b_2 = # EDIT HERE\n",
    "\n",
    "        W_3 = # EDIT HERE\n",
    "        b_3 = # EDIT HERE\n",
    "        \n",
    "        norm_1.append(np.linalg.norm(W_1))\n",
    "        norm_2.append(np.linalg.norm(W_2))\n",
    "        norm_3.append(np.linalg.norm(W_3))\n",
    "        \n",
    "        # save new weights and biases to be used in the next feedforward step\n",
    "        weights = [W_1,W_2,W_3]\n",
    "        biases = [b_1,b_2,b_3]\n",
    "        \n",
    "  \n",
    "    \n",
    "    print(f\"Epoch:{epoch+1}/{epochs}\")"
   ]
  },
  {
   "cell_type": "markdown",
   "metadata": {},
   "source": [
    "Now, lets plot our estimated **gradient errors**:"
   ]
  },
  {
   "cell_type": "code",
   "execution_count": 79,
   "metadata": {},
   "outputs": [
    {
     "data": {
      "image/png": "[encoded data removed]",
      "text/plain": [
       "<Figure size 432x288 with 1 Axes>"
      ]
     },
     "metadata": {
      "needs_background": "light"
     },
     "output_type": "display_data"
    }
   ],
   "source": [
    "plt.plot(grad_errors);"
   ]
  },
  {
   "cell_type": "markdown",
   "metadata": {},
   "source": [
    "Wow! Look at that y axis! Pretty good! We cal also verify:"
   ]
  },
  {
   "cell_type": "code",
   "execution_count": 80,
   "metadata": {},
   "outputs": [
    {
     "data": {
      "text/plain": [
       "True"
      ]
     },
     "execution_count": 80,
     "metadata": {},
     "output_type": "execute_result"
    }
   ],
   "source": [
    "(np.array(grad_errors) < epsilon).all()"
   ]
  },
  {
   "cell_type": "markdown",
   "metadata": {},
   "source": [
    "Perfect! Our implementation of backprop is now completely: \n",
    "\n",
    "<center><strong>numerically verified™ 😎</strong></center>"
   ]
  },
  {
   "cell_type": "code",
   "execution_count": null,
   "metadata": {},
   "outputs": [],
   "source": []
  },
  {
   "cell_type": "markdown",
   "metadata": {},
   "source": [
    "## Fully vectorized implementation\n",
    "\n",
    "Ok! We've done a lot of hard work! Now we've come to the final linear algebraic thing we need to do to make this fast 🏎💨.\n",
    "\n",
    "We want to be able to backprop **across batches**, instead of across individual samples in a batch. \n",
    "\n",
    "To do so, we will have to introduce **3D matrices!**. In math these are called **tensors**! \n",
    "\n",
    "<div class=\"info\">\n",
    "    \n",
    "📖 **Definition**: For our purposes, a **tensor** is defined as a multidimensional matrix. \n",
    "    \n",
    "**Note:** In python, these objects are called \"N-D arrays\" or just \"arrays\". Vectors, and matrices are just 1D and 2D versions of these tensors/arrays. \n",
    "\n",
    "</div>\n",
    "\n",
    "Lets create one right now!"
   ]
  },
  {
   "cell_type": "code",
   "execution_count": 81,
   "metadata": {},
   "outputs": [
    {
     "data": {
      "text/plain": [
       "array([[[1, 9, 2],\n",
       "        [1, 9, 5],\n",
       "        [7, 1, 4]],\n",
       "\n",
       "       [[5, 1, 9],\n",
       "        [9, 8, 2],\n",
       "        [6, 3, 2]],\n",
       "\n",
       "       [[2, 6, 9],\n",
       "        [3, 5, 9],\n",
       "        [7, 5, 6]]])"
      ]
     },
     "execution_count": 81,
     "metadata": {},
     "output_type": "execute_result"
    }
   ],
   "source": [
    "a = np.random.randint(1,10,(3,3,3))\n",
    "a"
   ]
  },
  {
   "cell_type": "markdown",
   "metadata": {},
   "source": [
    "<font size=\"20\">🤔</font>\n",
    "\n",
    "This doesn't look that special. Thats just because were printing this 3D object on a 2D notebook. Pay special attention to the `[` and `]` characters and you'll notice its almost like its a list of 2D matrices. Indeed, for right now, we can just think of it like that.\n",
    "\n",
    "Lets grab the first matrix in the list:"
   ]
  },
  {
   "cell_type": "code",
   "execution_count": 82,
   "metadata": {},
   "outputs": [
    {
     "data": {
      "text/plain": [
       "array([[1, 9, 2],\n",
       "       [1, 9, 5],\n",
       "       [7, 1, 4]])"
      ]
     },
     "execution_count": 82,
     "metadata": {},
     "output_type": "execute_result"
    }
   ],
   "source": [
    "a[0,:,:]"
   ]
  },
  {
   "cell_type": "markdown",
   "metadata": {},
   "source": [
    "And the second:"
   ]
  },
  {
   "cell_type": "code",
   "execution_count": 83,
   "metadata": {},
   "outputs": [
    {
     "data": {
      "text/plain": [
       "array([[5, 1, 9],\n",
       "       [9, 8, 2],\n",
       "       [6, 3, 2]])"
      ]
     },
     "execution_count": 83,
     "metadata": {},
     "output_type": "execute_result"
    }
   ],
   "source": [
    "a[1,:,:]"
   ]
  },
  {
   "cell_type": "markdown",
   "metadata": {},
   "source": [
    "And the last:"
   ]
  },
  {
   "cell_type": "code",
   "execution_count": 84,
   "metadata": {},
   "outputs": [
    {
     "data": {
      "text/plain": [
       "array([[2, 6, 9],\n",
       "       [3, 5, 9],\n",
       "       [7, 5, 6]])"
      ]
     },
     "execution_count": 84,
     "metadata": {},
     "output_type": "execute_result"
    }
   ],
   "source": [
    "a[-1,:,:]"
   ]
  },
  {
   "cell_type": "markdown",
   "metadata": {},
   "source": [
    "Ok, so far so good. Lets understand one more thing we need to do with these objects.\n",
    "\n",
    "We want to be able to take this list/stack of matrices, and **multiply the stack with another vector/matrix**. \n",
    "\n",
    "In other words, if I have a tensor `T`, which contains four matrices which we will call `A`, `B`, `C`, and `D` I want to be able to do something like:\n",
    "\n",
    "    T*v = R\n",
    "\n",
    "where `R` is now a stack which contains `Av`,`Bv`, `Cv`, `Dv`. \n",
    "\n",
    "And then at the end, I can **average/sum across the stack dimension**, to produce one final 2D matrix which is just: \n",
    "\n",
    "    (Av+Bv+Cv+Dv)/4\n",
    "\n",
    "Ok. We've described in words the procedure we want to perform, so lets go about coding it up! To make this clear, lets define our tensor T as we described above:"
   ]
  },
  {
   "cell_type": "code",
   "execution_count": 85,
   "metadata": {},
   "outputs": [
    {
     "data": {
      "text/plain": [
       "array([[1., 1., 1.],\n",
       "       [1., 1., 1.],\n",
       "       [1., 1., 1.]])"
      ]
     },
     "execution_count": 85,
     "metadata": {},
     "output_type": "execute_result"
    }
   ],
   "source": [
    "A = np.ones((3,3))\n",
    "A"
   ]
  },
  {
   "cell_type": "code",
   "execution_count": 86,
   "metadata": {},
   "outputs": [
    {
     "data": {
      "text/plain": [
       "array([[2., 2., 2.],\n",
       "       [2., 2., 2.],\n",
       "       [2., 2., 2.]])"
      ]
     },
     "execution_count": 86,
     "metadata": {},
     "output_type": "execute_result"
    }
   ],
   "source": [
    "B = np.ones((3,3))*2\n",
    "B"
   ]
  },
  {
   "cell_type": "code",
   "execution_count": 87,
   "metadata": {},
   "outputs": [
    {
     "data": {
      "text/plain": [
       "array([[3., 3., 3.],\n",
       "       [3., 3., 3.],\n",
       "       [3., 3., 3.]])"
      ]
     },
     "execution_count": 87,
     "metadata": {},
     "output_type": "execute_result"
    }
   ],
   "source": [
    "C = np.ones((3,3))*3\n",
    "C"
   ]
  },
  {
   "cell_type": "code",
   "execution_count": 88,
   "metadata": {},
   "outputs": [
    {
     "data": {
      "text/plain": [
       "array([[4., 4., 4.],\n",
       "       [4., 4., 4.],\n",
       "       [4., 4., 4.]])"
      ]
     },
     "execution_count": 88,
     "metadata": {},
     "output_type": "execute_result"
    }
   ],
   "source": [
    "D = np.ones((3,3))*4\n",
    "D"
   ]
  },
  {
   "cell_type": "code",
   "execution_count": 89,
   "metadata": {},
   "outputs": [
    {
     "data": {
      "text/plain": [
       "((4, 3, 3),\n",
       " array([[[1., 1., 1.],\n",
       "         [1., 1., 1.],\n",
       "         [1., 1., 1.]],\n",
       " \n",
       "        [[2., 2., 2.],\n",
       "         [2., 2., 2.],\n",
       "         [2., 2., 2.]],\n",
       " \n",
       "        [[3., 3., 3.],\n",
       "         [3., 3., 3.],\n",
       "         [3., 3., 3.]],\n",
       " \n",
       "        [[4., 4., 4.],\n",
       "         [4., 4., 4.],\n",
       "         [4., 4., 4.]]]))"
      ]
     },
     "execution_count": 89,
     "metadata": {},
     "output_type": "execute_result"
    }
   ],
   "source": [
    "T = np.zeros((4,3,3))\n",
    "T[0,:,:] = A\n",
    "T[1,:,:] = B\n",
    "T[2,:,:] = C\n",
    "T[3,:,:] = D\n",
    "T.shape,T"
   ]
  },
  {
   "cell_type": "markdown",
   "metadata": {},
   "source": [
    "**Note**: we could have also used `np.stack` to do this for us:"
   ]
  },
  {
   "cell_type": "code",
   "execution_count": 90,
   "metadata": {},
   "outputs": [
    {
     "data": {
      "text/plain": [
       "((4, 3, 3),\n",
       " array([[[1., 1., 1.],\n",
       "         [1., 1., 1.],\n",
       "         [1., 1., 1.]],\n",
       " \n",
       "        [[2., 2., 2.],\n",
       "         [2., 2., 2.],\n",
       "         [2., 2., 2.]],\n",
       " \n",
       "        [[3., 3., 3.],\n",
       "         [3., 3., 3.],\n",
       "         [3., 3., 3.]],\n",
       " \n",
       "        [[4., 4., 4.],\n",
       "         [4., 4., 4.],\n",
       "         [4., 4., 4.]]]))"
      ]
     },
     "execution_count": 90,
     "metadata": {},
     "output_type": "execute_result"
    }
   ],
   "source": [
    "np.stack((A,B,C,D)).shape, np.stack((A,B,C,D))"
   ]
  },
  {
   "cell_type": "markdown",
   "metadata": {},
   "source": [
    "And now lets create that vector we wanted:"
   ]
  },
  {
   "cell_type": "code",
   "execution_count": 91,
   "metadata": {},
   "outputs": [
    {
     "data": {
      "text/plain": [
       "array([[1.],\n",
       "       [1.],\n",
       "       [1.]])"
      ]
     },
     "execution_count": 91,
     "metadata": {},
     "output_type": "execute_result"
    }
   ],
   "source": [
    "v = np.ones((3,1))\n",
    "v"
   ]
  },
  {
   "cell_type": "markdown",
   "metadata": {},
   "source": [
    "and verify how it interacts with each matrix in our stack:"
   ]
  },
  {
   "cell_type": "code",
   "execution_count": 92,
   "metadata": {},
   "outputs": [
    {
     "data": {
      "text/plain": [
       "array([[3.],\n",
       "       [3.],\n",
       "       [3.]])"
      ]
     },
     "execution_count": 92,
     "metadata": {},
     "output_type": "execute_result"
    }
   ],
   "source": [
    "A.dot(v)"
   ]
  },
  {
   "cell_type": "code",
   "execution_count": 93,
   "metadata": {},
   "outputs": [
    {
     "data": {
      "text/plain": [
       "array([[6.],\n",
       "       [6.],\n",
       "       [6.]])"
      ]
     },
     "execution_count": 93,
     "metadata": {},
     "output_type": "execute_result"
    }
   ],
   "source": [
    "B.dot(v)"
   ]
  },
  {
   "cell_type": "code",
   "execution_count": 94,
   "metadata": {},
   "outputs": [
    {
     "data": {
      "text/plain": [
       "array([[9.],\n",
       "       [9.],\n",
       "       [9.]])"
      ]
     },
     "execution_count": 94,
     "metadata": {},
     "output_type": "execute_result"
    }
   ],
   "source": [
    "C.dot(v)"
   ]
  },
  {
   "cell_type": "code",
   "execution_count": 95,
   "metadata": {},
   "outputs": [
    {
     "data": {
      "text/plain": [
       "array([[12.],\n",
       "       [12.],\n",
       "       [12.]])"
      ]
     },
     "execution_count": 95,
     "metadata": {},
     "output_type": "execute_result"
    }
   ],
   "source": [
    "D.dot(v)"
   ]
  },
  {
   "cell_type": "markdown",
   "metadata": {},
   "source": [
    "Ok! So now we know what we want `R` to look like. It should be the stack of those vectors. \n",
    "\n",
    "We can create this using the `matmul` function, which stands for **matrix multiply**. We can check its documentation:"
   ]
  },
  {
   "cell_type": "code",
   "execution_count": 96,
   "metadata": {},
   "outputs": [],
   "source": [
    "# np.matmul?"
   ]
  },
  {
   "cell_type": "markdown",
   "metadata": {},
   "source": [
    "The line that we are interested in is the following:\n",
    "\n",
    "    If either argument is N-D, N > 2, it is treated as a stack of matrices residing in the last two indexes and broadcast accordingly."
   ]
  },
  {
   "cell_type": "markdown",
   "metadata": {},
   "source": [
    "Thats exactly what we want! So lets use it!"
   ]
  },
  {
   "cell_type": "code",
   "execution_count": 97,
   "metadata": {},
   "outputs": [
    {
     "data": {
      "text/plain": [
       "array([[[ 3.],\n",
       "        [ 3.],\n",
       "        [ 3.]],\n",
       "\n",
       "       [[ 6.],\n",
       "        [ 6.],\n",
       "        [ 6.]],\n",
       "\n",
       "       [[ 9.],\n",
       "        [ 9.],\n",
       "        [ 9.]],\n",
       "\n",
       "       [[12.],\n",
       "        [12.],\n",
       "        [12.]]])"
      ]
     },
     "execution_count": 97,
     "metadata": {},
     "output_type": "execute_result"
    }
   ],
   "source": [
    "R = np.matmul(T,v)\n",
    "R"
   ]
  },
  {
   "cell_type": "markdown",
   "metadata": {},
   "source": [
    "Perfect! Thats what we expected! Lets stop and realize this:\n",
    "\n",
    "You can think of this one function as having handled the four separate multiplications for us! In one function! And it did so **as fast as possible** because its relying on the underlying numerical libraries! \n",
    "\n",
    "**Hint:** In a few cells from now, we will see this is exactly what we want to do for our batch! \n",
    "\n",
    "The `matmul` function is also represented by the handy `@` symbol, meaning we could also just type:"
   ]
  },
  {
   "cell_type": "code",
   "execution_count": 98,
   "metadata": {},
   "outputs": [
    {
     "data": {
      "text/plain": [
       "array([[[ 3.],\n",
       "        [ 3.],\n",
       "        [ 3.]],\n",
       "\n",
       "       [[ 6.],\n",
       "        [ 6.],\n",
       "        [ 6.]],\n",
       "\n",
       "       [[ 9.],\n",
       "        [ 9.],\n",
       "        [ 9.]],\n",
       "\n",
       "       [[12.],\n",
       "        [12.],\n",
       "        [12.]]])"
      ]
     },
     "execution_count": 98,
     "metadata": {},
     "output_type": "execute_result"
    }
   ],
   "source": [
    "R = T@v\n",
    "R"
   ]
  },
  {
   "cell_type": "markdown",
   "metadata": {},
   "source": [
    "Note: `matmul/@` work as we expect in simpler cases:"
   ]
  },
  {
   "cell_type": "code",
   "execution_count": 99,
   "metadata": {},
   "outputs": [
    {
     "data": {
      "text/plain": [
       "(array([[5, 4],\n",
       "        [2, 7],\n",
       "        [4, 2]]),\n",
       " array([[5, 6, 5],\n",
       "        [5, 3, 7]]))"
      ]
     },
     "execution_count": 99,
     "metadata": {},
     "output_type": "execute_result"
    }
   ],
   "source": [
    "a,b = np.random.randint(1,10,(3,2)),np.random.randint(1,10,(2,3))\n",
    "a,b"
   ]
  },
  {
   "cell_type": "code",
   "execution_count": 100,
   "metadata": {},
   "outputs": [
    {
     "data": {
      "text/plain": [
       "(array([[45, 42, 53],\n",
       "        [45, 33, 59],\n",
       "        [30, 30, 34]]),\n",
       " array([[45, 42, 53],\n",
       "        [45, 33, 59],\n",
       "        [30, 30, 34]]))"
      ]
     },
     "execution_count": 100,
     "metadata": {},
     "output_type": "execute_result"
    }
   ],
   "source": [
    "a@b, a.dot(b)"
   ]
  },
  {
   "cell_type": "markdown",
   "metadata": {},
   "source": [
    "One final thing which might be useful, is the `einsum` function:"
   ]
  },
  {
   "cell_type": "code",
   "execution_count": 101,
   "metadata": {},
   "outputs": [],
   "source": [
    "# np.einsum?"
   ]
  },
  {
   "cell_type": "markdown",
   "metadata": {},
   "source": [
    "This is a **very powerful** function, but we can use it in a straightforward manner to just describe to numpy the shapes of each of our matrices, and the **shape we want** afterwards! \n",
    "\n",
    "Lets revisit the T/R example above"
   ]
  },
  {
   "cell_type": "code",
   "execution_count": 102,
   "metadata": {},
   "outputs": [
    {
     "data": {
      "text/plain": [
       "(4, 3, 1)"
      ]
     },
     "execution_count": 102,
     "metadata": {},
     "output_type": "execute_result"
    }
   ],
   "source": [
    "np.einsum('ijk,kl->ijl',T,v).shape"
   ]
  },
  {
   "cell_type": "code",
   "execution_count": 103,
   "metadata": {},
   "outputs": [
    {
     "data": {
      "text/plain": [
       "array([[[ 3.],\n",
       "        [ 3.],\n",
       "        [ 3.]],\n",
       "\n",
       "       [[ 6.],\n",
       "        [ 6.],\n",
       "        [ 6.]],\n",
       "\n",
       "       [[ 9.],\n",
       "        [ 9.],\n",
       "        [ 9.]],\n",
       "\n",
       "       [[12.],\n",
       "        [12.],\n",
       "        [12.]]])"
      ]
     },
     "execution_count": 103,
     "metadata": {},
     "output_type": "execute_result"
    }
   ],
   "source": [
    "np.einsum('ijk,kl->ijl',T,v)"
   ]
  },
  {
   "cell_type": "markdown",
   "metadata": {},
   "source": [
    "<font size=20>🤯</font>"
   ]
  },
  {
   "cell_type": "markdown",
   "metadata": {},
   "source": [
    "What?! What just happened! Well, we just described the operation we wanted directly in terms of sizes using the **Einstein summation convention**.\n",
    "\n",
    "We said `T` is of size `i x j x k`, and that `v` is of size `k x l`, and I want to  turn this into something that is of size `i x j x l`. And thats exactly what we got! "
   ]
  },
  {
   "cell_type": "markdown",
   "metadata": {},
   "source": [
    "The last thing we want to do is \"collapse\" across one of our dimensions to form the average. This is easy in numpy, we just tell numpy across what **axis** we want to average:"
   ]
  },
  {
   "cell_type": "code",
   "execution_count": 104,
   "metadata": {},
   "outputs": [
    {
     "data": {
      "text/plain": [
       "array([[[ 3.],\n",
       "        [ 3.],\n",
       "        [ 3.]],\n",
       "\n",
       "       [[ 6.],\n",
       "        [ 6.],\n",
       "        [ 6.]],\n",
       "\n",
       "       [[ 9.],\n",
       "        [ 9.],\n",
       "        [ 9.]],\n",
       "\n",
       "       [[12.],\n",
       "        [12.],\n",
       "        [12.]]])"
      ]
     },
     "execution_count": 104,
     "metadata": {},
     "output_type": "execute_result"
    }
   ],
   "source": [
    "R = T@v\n",
    "R"
   ]
  },
  {
   "cell_type": "code",
   "execution_count": 105,
   "metadata": {},
   "outputs": [
    {
     "data": {
      "text/plain": [
       "(4, 3, 1)"
      ]
     },
     "execution_count": 105,
     "metadata": {},
     "output_type": "execute_result"
    }
   ],
   "source": [
    "R.shape"
   ]
  },
  {
   "cell_type": "code",
   "execution_count": 106,
   "metadata": {},
   "outputs": [
    {
     "data": {
      "text/plain": [
       "array([[30.],\n",
       "       [30.],\n",
       "       [30.]])"
      ]
     },
     "execution_count": 106,
     "metadata": {},
     "output_type": "execute_result"
    }
   ],
   "source": [
    "np.sum(R,axis=0)"
   ]
  },
  {
   "cell_type": "code",
   "execution_count": 107,
   "metadata": {},
   "outputs": [
    {
     "data": {
      "text/plain": [
       "(3, 1)"
      ]
     },
     "execution_count": 107,
     "metadata": {},
     "output_type": "execute_result"
    }
   ],
   "source": [
    "np.sum(R,axis=0).shape"
   ]
  },
  {
   "cell_type": "markdown",
   "metadata": {},
   "source": [
    "It worked! We told numpy to take the average across the first dimension (`axis=0`), so the result is the `3x1` matrix/vector which is just the average of all of the members of our stack! "
   ]
  },
  {
   "cell_type": "markdown",
   "metadata": {},
   "source": [
    "---\n",
    "\n",
    "Lets point out one more potentially confusing aspect of our implementations. Lets take an activation matrix as our example. The tranpose of this matrix is of size `batch_size x nodes in our layer`. \n",
    "\n",
    "We've been using this 2D matrix to represent our collection of vectors, implicitly. \n",
    "\n",
    "We could make this more explicit, by adding on the **missing dimension**, making it: \n",
    "\n",
    "    batch_size x nodes in our layer x 1\n",
    "    \n",
    "giving us a clearer interpretation of this as a **stack of vectors**. \n"
   ]
  },
  {
   "cell_type": "code",
   "execution_count": 108,
   "metadata": {},
   "outputs": [
    {
     "data": {
      "text/plain": [
       "array([[2, 4, 6],\n",
       "       [2, 6, 6],\n",
       "       [2, 2, 5],\n",
       "       [2, 6, 8],\n",
       "       [9, 3, 2],\n",
       "       [7, 5, 3],\n",
       "       [8, 2, 3],\n",
       "       [7, 7, 8],\n",
       "       [5, 9, 3],\n",
       "       [6, 6, 9]])"
      ]
     },
     "execution_count": 108,
     "metadata": {},
     "output_type": "execute_result"
    }
   ],
   "source": [
    "a = np.random.randint(1,10,(10,3))\n",
    "a"
   ]
  },
  {
   "cell_type": "code",
   "execution_count": 109,
   "metadata": {},
   "outputs": [
    {
     "data": {
      "text/plain": [
       "(10, 3, 1)"
      ]
     },
     "execution_count": 109,
     "metadata": {},
     "output_type": "execute_result"
    }
   ],
   "source": [
    "a = a[:,:,np.newaxis]\n",
    "a.shape"
   ]
  },
  {
   "cell_type": "markdown",
   "metadata": {},
   "source": [
    "Now, `a` is a **stack of column vectors**! Lets grab the first vector:"
   ]
  },
  {
   "cell_type": "code",
   "execution_count": 110,
   "metadata": {},
   "outputs": [
    {
     "data": {
      "text/plain": [
       "array([[2],\n",
       "       [4],\n",
       "       [6]])"
      ]
     },
     "execution_count": 110,
     "metadata": {},
     "output_type": "execute_result"
    }
   ],
   "source": [
    "a[0,:,:]"
   ]
  },
  {
   "cell_type": "markdown",
   "metadata": {},
   "source": [
    "### Flat Implementation\n",
    "This is the final piece of the puzzle we need. We are now ready to use this in our backprop implementation! \n",
    "\n",
    "Lets once again give the flat implementation of backprop, with this new formalism:"
   ]
  },
  {
   "cell_type": "code",
   "execution_count": 111,
   "metadata": {},
   "outputs": [],
   "source": [
    "activities, activations = feedforward_batch(X,weights,biases)"
   ]
  },
  {
   "cell_type": "code",
   "execution_count": 112,
   "metadata": {},
   "outputs": [],
   "source": [
    "weight_updates = []\n",
    "bias_updates = []\n",
    "layer_num = len(activations)"
   ]
  },
  {
   "cell_type": "markdown",
   "metadata": {},
   "source": [
    "And verify our shapes:"
   ]
  },
  {
   "cell_type": "code",
   "execution_count": 113,
   "metadata": {},
   "outputs": [
    {
     "name": "stdout",
     "output_type": "stream",
     "text": [
      "(3, 1000)\n",
      "(3, 1000)\n",
      "(1, 1000)\n"
     ]
    }
   ],
   "source": [
    "for activity in activities:\n",
    "    print(activity.shape) "
   ]
  },
  {
   "cell_type": "code",
   "execution_count": 114,
   "metadata": {},
   "outputs": [
    {
     "name": "stdout",
     "output_type": "stream",
     "text": [
      "(2, 1000)\n",
      "(3, 1000)\n",
      "(3, 1000)\n",
      "(1, 1000)\n"
     ]
    }
   ],
   "source": [
    "for activation in activations:\n",
    "    print(activation.shape) "
   ]
  },
  {
   "cell_type": "markdown",
   "metadata": {},
   "source": [
    "Recall: We are thinknig of this as having a `batch_size` of $1000$. \n",
    "\n",
    "Lets continue! We want to move the batch size **to the front** so that its out of the way for our multiplications! "
   ]
  },
  {
   "cell_type": "code",
   "execution_count": 115,
   "metadata": {},
   "outputs": [
    {
     "name": "stdout",
     "output_type": "stream",
     "text": [
      "(1000, 2)\n",
      "(1000, 3)\n",
      "(1000, 3)\n",
      "(1000, 1)\n"
     ]
    }
   ],
   "source": [
    "for activation in activations:\n",
    "    print(activation.T.shape) "
   ]
  },
  {
   "cell_type": "markdown",
   "metadata": {},
   "source": [
    "Its to these that we want to add our \"new dimension\" to clearly **make these a stack:**"
   ]
  },
  {
   "cell_type": "code",
   "execution_count": 116,
   "metadata": {},
   "outputs": [
    {
     "name": "stdout",
     "output_type": "stream",
     "text": [
      "(1000, 2, 1)\n",
      "(1000, 3, 1)\n",
      "(1000, 3, 1)\n",
      "(1000, 1, 1)\n"
     ]
    }
   ],
   "source": [
    "for activation in activations:\n",
    "    print((activation.T)[:,:,np.newaxis].shape) "
   ]
  },
  {
   "cell_type": "markdown",
   "metadata": {},
   "source": [
    "This is saying: I have a `batch_size`-many stack, composed of vectors, where each vector is ___ size."
   ]
  },
  {
   "cell_type": "markdown",
   "metadata": {},
   "source": [
    "Perfect! Lets get cooking!"
   ]
  },
  {
   "cell_type": "code",
   "execution_count": 117,
   "metadata": {},
   "outputs": [
    {
     "data": {
      "text/plain": [
       "((1000, 1, 1), (1000, 1, 1), (1000, 3, 1))"
      ]
     },
     "execution_count": 117,
     "metadata": {},
     "output_type": "execute_result"
    }
   ],
   "source": [
    "########################################\n",
    "#           Last Level\n",
    "########################################\n",
    "# get last layer specific variables\n",
    "z_L = # EDIT HERE\n",
    "a_L = # EDIT HERE\n",
    "a_L_minus_1 = # EDIT HERE\n",
    "z_L.shape, a_L.shape,a_L_minus_1.shape"
   ]
  },
  {
   "cell_type": "markdown",
   "metadata": {},
   "source": [
    "As before, we can calculate our delta:"
   ]
  },
  {
   "cell_type": "code",
   "execution_count": 118,
   "metadata": {},
   "outputs": [
    {
     "data": {
      "text/plain": [
       "(1000, 1, 1)"
      ]
     },
     "execution_count": 118,
     "metadata": {},
     "output_type": "execute_result"
    }
   ],
   "source": [
    "# calculate delta_L for the last level\n",
    "delta_L = # EDIT HERE\n",
    "delta_L.shape"
   ]
  },
  {
   "cell_type": "markdown",
   "metadata": {},
   "source": [
    "And save it:"
   ]
  },
  {
   "cell_type": "code",
   "execution_count": 119,
   "metadata": {},
   "outputs": [],
   "source": [
    "deltas = []\n",
    "deltas.append(delta_L)"
   ]
  },
  {
   "cell_type": "markdown",
   "metadata": {},
   "source": [
    "Now were ready to form the weight and bias updates. But **remember**: we need to **collapse it down across the batch axis** so that its the same size as the weights and parameters! "
   ]
  },
  {
   "cell_type": "code",
   "execution_count": 120,
   "metadata": {},
   "outputs": [
    {
     "data": {
      "text/plain": [
       "(1, 1)"
      ]
     },
     "execution_count": 120,
     "metadata": {},
     "output_type": "execute_result"
    }
   ],
   "source": [
    "# calculate bias update\n",
    "dc_db_l = # EDIT HERE\n",
    "bias_updates = [dc_db_l] + bias_updates\n",
    "dc_db_l.shape"
   ]
  },
  {
   "cell_type": "code",
   "execution_count": 121,
   "metadata": {},
   "outputs": [
    {
     "data": {
      "text/plain": [
       "(1, 3)"
      ]
     },
     "execution_count": 121,
     "metadata": {},
     "output_type": "execute_result"
    }
   ],
   "source": [
    "# calcualte weight updates\n",
    "dc_dw_l = # EDIT HERE\n",
    "weight_updates = [dc_dw_l] + weight_updates\n",
    "dc_dw_l.shape"
   ]
  },
  {
   "cell_type": "markdown",
   "metadata": {},
   "source": [
    "And now we're ready to loop through the rest of our layers:"
   ]
  },
  {
   "cell_type": "code",
   "execution_count": 122,
   "metadata": {},
   "outputs": [
    {
     "name": "stdout",
     "output_type": "stream",
     "text": [
      "Loop variable: 2, Our index l:-2, corresponding to layer: L-1\n",
      "=========Layer:2=========\n",
      "Using negative index: -2\n",
      "z_l:(1000, 3, 1), a_l:(1000, 3, 1), a_l_minus_1:(1000, 3, 1)\n",
      "delta_l:(1000, 3, 1), dc_db_l:(3, 1), dc_dw_l:(3, 3)\n",
      "\n",
      "Loop variable: 3, Our index l:-3, corresponding to layer: L-2\n",
      "=========Layer:1=========\n",
      "Using negative index: -3\n",
      "z_l:(1000, 3, 1), a_l:(1000, 3, 1), a_l_minus_1:(1000, 2, 1)\n",
      "delta_l:(1000, 3, 1), dc_db_l:(3, 1), dc_dw_l:(3, 2)\n",
      "\n"
     ]
    }
   ],
   "source": [
    "########################################\n",
    "# loop through each layer, from 2 to L-1\n",
    "######################################## \n",
    "for layer in range(2,layer_num):\n",
    "    # using level as a **negative index**\n",
    "    l = -layer\n",
    "\n",
    "    # uncomment this print statement \n",
    "    # to help you understand how negative indexing works\n",
    "    print(f\"Loop variable: {layer}, Our index l:{l}, corresponding to layer: L{l+1}\")\n",
    "\n",
    "    # get layer values\n",
    "    z_l = # EDIT HERE\n",
    "    a_l = # EDIT HERE\n",
    "    a_l_minus_1 = # EDIT HERE\n",
    "    \n",
    "    # calculate delta_l for each layer\n",
    "    delta_l = # EDIT HERE\n",
    "    deltas = [delta_l] + deltas\n",
    "\n",
    "    # calculate bias update\n",
    "    dc_db_l = # EDIT HERE\n",
    "    bias_updates = [dc_db_l] + bias_updates\n",
    "\n",
    "    # calcualte weight updates\n",
    "    dc_dw_l = # EDIT HERE\n",
    "    weight_updates = [dc_dw_l] + weight_updates\n",
    "    \n",
    "    print(f'=========Layer:{layer_num+l}=========')\n",
    "    print(f'Using negative index: {l}')\n",
    "    print(f'z_l:{z_l.shape}, a_l:{a_l.shape}, a_l_minus_1:{a_l_minus_1.shape}')\n",
    "    print(f'delta_l:{delta_l.shape}, dc_db_l:{dc_db_l.shape}, dc_dw_l:{dc_dw_l.shape}')\n",
    "    print()"
   ]
  },
  {
   "cell_type": "markdown",
   "metadata": {},
   "source": [
    "Wow! That was easy! We just backproped across **every single example in our batch!** At once! \n",
    "\n",
    "---\n",
    "\n",
    "### Function Implementation\n",
    "We're done! Lets define a new function that does the above:"
   ]
  },
  {
   "cell_type": "code",
   "execution_count": 123,
   "metadata": {},
   "outputs": [],
   "source": [
    "def backprop_batch(activities,activations,y_batch,quiet=True):\n",
    "    weight_updates = []\n",
    "    bias_updates = []\n",
    "    layer_num = len(activations)\n",
    "    \n",
    "    ########################################\n",
    "    #           Last Level\n",
    "    ########################################\n",
    "    # get last layer specific variables\n",
    "    z_L = # EDIT HERE\n",
    "    a_L = # EDIT HERE\n",
    "    a_L_minus_1 = # EDIT HERE\n",
    "    \n",
    "    # calculate delta_L for the last level\n",
    "    delta_L = # EDIT HERE\n",
    "\n",
    "    deltas = []\n",
    "    deltas.append(delta_L)\n",
    "    \n",
    "    # calculate bias update\n",
    "    dc_db_L = # EDIT HERE\n",
    "    bias_updates = [dc_db_L] + bias_updates\n",
    "    \n",
    "    # calcualte weight updates\n",
    "    dc_dw_L = # EDIT HERE\n",
    "    weight_updates = [dc_dw_L] + weight_updates\n",
    "    \n",
    "\n",
    "    ########################################\n",
    "    # loop through each layer, from 2 to L-1\n",
    "    ######################################## \n",
    "    for layer in range(2,layer_num):\n",
    "        # using level as a **negative index**\n",
    "        l = -layer\n",
    "\n",
    "        # uncomment this print statement \n",
    "        # to help you understand how negative indexing works\n",
    "        if not quiet: print(f\"Loop variable: {layer}, l={l}, corresponding to layer: l{l}\")\n",
    "\n",
    "        # get layer values\n",
    "        z_l = # EDIT HERE\n",
    "        a_l = # EDIT HERE\n",
    "        a_l_minus_1 = # EDIT HERE\n",
    "\n",
    "        # calculate delta_l for each layer\n",
    "        delta_l = # EDIT HERE\n",
    "        deltas = [delta_l] + deltas\n",
    "\n",
    "        # calculate bias update\n",
    "        dc_db_l = # EDIT HERE\n",
    "        bias_updates = [dc_db_l] + bias_updates\n",
    "\n",
    "        # calcualte weight updates\n",
    "        dc_dw_l = # EDIT HERE\n",
    "        weight_updates = [dc_dw_l] + weight_updates\n",
    "    \n",
    "        if not quiet:\n",
    "            print(f'=========Layer:{layer_num+l}=========')\n",
    "            print(f'Using negative index: {l}')\n",
    "            print(f'z_l:{z_l.shape}, a_l:{a_l.shape}, a_l_minus_1:{a_l_minus_1.shape}')\n",
    "            print(f'delta_l:{delta_l.shape}, dc_db_l:{dc_db_l.shape}, dc_dw_l:{dc_dw_l.shape}')\n",
    "            print()\n",
    "    \n",
    "    return weight_updates,bias_updates"
   ]
  },
  {
   "cell_type": "markdown",
   "metadata": {},
   "source": [
    "---\n",
    "### Training\n",
    "And now we can use it in our training!"
   ]
  },
  {
   "cell_type": "code",
   "execution_count": 124,
   "metadata": {},
   "outputs": [
    {
     "name": "stdout",
     "output_type": "stream",
     "text": [
      "Epoch:1/10\n",
      "Epoch:2/10\n",
      "Epoch:3/10\n",
      "Epoch:4/10\n",
      "Epoch:5/10\n",
      "Epoch:6/10\n",
      "Epoch:7/10\n",
      "Epoch:8/10\n",
      "Epoch:9/10\n",
      "Epoch:10/10\n"
     ]
    }
   ],
   "source": [
    "# dataset\n",
    "N = X.shape[0]\n",
    "d = X.shape[1]\n",
    "batch_size = 50\n",
    "epochs = 10\n",
    "eta=1e-2\n",
    "dataset=X\n",
    "labels=y\n",
    "quiet=False\n",
    "\n",
    "# initialize weight matrices - notice the dimensions\n",
    "W_1_init = # EDIT HERE\n",
    "W_2_init = # EDIT HERE\n",
    "W_3_init = # EDIT HERE\n",
    "weights = [W_1_init,W_2_init,W_3_init]\n",
    "\n",
    "# and our biases\n",
    "b_1_init = # EDIT HERE\n",
    "b_2_init = # EDIT HERE\n",
    "b_3_init = # EDIT HERE\n",
    "biases = [b_1_init,b_2_init,b_3_init]\n",
    "\n",
    "# network\n",
    "W_1,W_2,W_3 = weights[0],weights[1],weights[2]\n",
    "b_1,b_2,b_3 = biases[0],biases[1],biases[2]\n",
    "\n",
    "# mini-batch params \n",
    "num_batches = int(N/batch_size)\n",
    "iterations = 0\n",
    "\n",
    "# Training loop\n",
    "for epoch in range(epochs):\n",
    "    # shuffle the dataset - note we do this by shuffling indices\n",
    "    indices = np.random.permutation(N)\n",
    "    shuffled_dataset = dataset[indices,:]\n",
    "    shuffled_labels = labels[indices,:]\n",
    "        \n",
    "    # work on current batch \n",
    "    for batch_num in range(num_batches):\n",
    "\n",
    "        # get current batch\n",
    "        batch_start = batch_num*batch_size\n",
    "        batch_end = (batch_num+1)*batch_size\n",
    "        batch = shuffled_dataset[batch_start:batch_end,:]\n",
    "        batch_labels = shuffled_labels[batch_start:batch_end,:].reshape(-1,1)\n",
    "\n",
    "        # feedforward on batch\n",
    "        activities, activations = # EDIT HERE\n",
    "\n",
    "        # backprop on batch\n",
    "        weight_grads,bias_grads = # EDIT HERE\n",
    "\n",
    "        # take your steps:\n",
    "        W_1 = # EDIT HERE\n",
    "        b_1 = # EDIT HERE\n",
    "\n",
    "        W_2 = # EDIT HERE\n",
    "        b_2 = # EDIT HERE\n",
    "\n",
    "        W_3 = # EDIT HERE\n",
    "        b_3 = # EDIT HERE\n",
    "        \n",
    "        # save new weights and biases to be used in the next feedforward step\n",
    "        weights = [W_1,W_2,W_3]\n",
    "        biases = [b_1,b_2,b_3]\n",
    "    \n",
    "    print(f\"Epoch:{epoch+1}/{epochs}\")"
   ]
  },
  {
   "cell_type": "markdown",
   "metadata": {},
   "source": [
    "<center><font size=\"20\">🏎💨💨💨</font></center>"
   ]
  },
  {
   "cell_type": "markdown",
   "metadata": {},
   "source": [
    "Wow... that was <font size=\"20\">⚡️</font> fast!\n",
    "\n",
    "We're **done**! We've completed all the pieces of building a fast-and-efficient neural network implementation from the bottom up! Great job!"
   ]
  },
  {
   "cell_type": "code",
   "execution_count": null,
   "metadata": {},
   "outputs": [],
   "source": []
  },
  {
   "cell_type": "markdown",
   "metadata": {},
   "source": [
    "# Comparison to Michael Nielsen's Implementation\n",
    "\n",
    "Michael Nielsen's [Neural Networks and Deep Learning](http://neuralnetworksanddeeplearning.com/) book is a famous and **fantastic** resource. \n",
    "\n",
    "He gives a **standard reference implementation** of what we gave above, **without the matrix/batch implementation** that we worked so hard to give.\n",
    "\n",
    "Its still **very very instructive** to take a closer look at it, however.\n",
    "\n",
    "Lets give it piece by piece (without the comments he gave):"
   ]
  },
  {
   "cell_type": "code",
   "execution_count": 125,
   "metadata": {},
   "outputs": [],
   "source": [
    "class Network(object):\n",
    "\n",
    "    def __init__(self, sizes):\n",
    "        self.num_layers = len(sizes)\n",
    "        self.sizes = sizes\n",
    "        self.biases = [np.random.randn(y, 1) for y in sizes[1:]]\n",
    "        self.weights = [np.random.randn(y, x)\n",
    "                        for x, y in zip(sizes[:-1], sizes[1:])]\n",
    "\n",
    "    def feedforward(self, a):\n",
    "        for b, w in zip(self.biases, self.weights):\n",
    "            a = sigmoid(np.dot(w, a)+b)\n",
    "        return a"
   ]
  },
  {
   "cell_type": "markdown",
   "metadata": {},
   "source": [
    "This is the **entire** feedforward loop. Wow! Thats **concise**. \n",
    "\n",
    "But now our eyes can recognize the tricks being used, namely, **list comprehension** to create the list of weight and bias matrices, and **the use of `zip`** to feedforward across arbitrary many layers. \n",
    "\n",
    "These are tricks we can use ourselves! \n",
    "\n",
    "Lets give the rest of his implementation:"
   ]
  },
  {
   "cell_type": "code",
   "execution_count": 126,
   "metadata": {},
   "outputs": [],
   "source": [
    "class Network(object):\n",
    "\n",
    "    def __init__(self, sizes):\n",
    "        self.num_layers = len(sizes)\n",
    "        self.sizes = sizes\n",
    "        self.biases = [np.random.randn(y, 1) for y in sizes[1:]]\n",
    "        self.weights = [np.random.randn(y, x)\n",
    "                        for x, y in zip(sizes[:-1], sizes[1:])]\n",
    "\n",
    "    def feedforward(self, a):\n",
    "        \"\"\"Return the output of the network if ``a`` is input.\"\"\"\n",
    "        for b, w in zip(self.biases, self.weights):\n",
    "            a = sigmoid(np.dot(w, a)+b)\n",
    "        return a\n",
    "\n",
    "    def SGD(self, training_data, epochs, mini_batch_size, eta,\n",
    "            test_data=None):\n",
    "        if test_data: n_test = len(test_data)\n",
    "        n = len(training_data)\n",
    "        for j in range(epochs):\n",
    "            random.shuffle(training_data)\n",
    "            mini_batches = [\n",
    "                training_data[k:k+mini_batch_size]\n",
    "                for k in range(0, n, mini_batch_size)]\n",
    "            for mini_batch in mini_batches:\n",
    "                self.update_mini_batch(mini_batch, eta)\n",
    "            if test_data:\n",
    "                print(\"Epoch {0}: {1} / {2}\".format(\n",
    "                    j, self.evaluate(test_data), n_test))\n",
    "            else:\n",
    "                print(\"Epoch {0} complete\".format(j))\n",
    "\n",
    "    def update_mini_batch(self, mini_batch, eta):\n",
    "        \"\"\"Update the network's weights and biases by applying\n",
    "        gradient descent using backpropagation to a single mini batch.\n",
    "        The ``mini_batch`` is a list of tuples ``(x, y)``, and ``eta``\n",
    "        is the learning rate.\"\"\"\n",
    "        nabla_b = [np.zeros(b.shape) for b in self.biases]\n",
    "        nabla_w = [np.zeros(w.shape) for w in self.weights]\n",
    "        for x, y in mini_batch:\n",
    "            delta_nabla_b, delta_nabla_w = self.backprop(x, y)\n",
    "            nabla_b = [nb+dnb for nb, dnb in zip(nabla_b, delta_nabla_b)]\n",
    "            nabla_w = [nw+dnw for nw, dnw in zip(nabla_w, delta_nabla_w)]\n",
    "        self.weights = [w-(eta/len(mini_batch))*nw\n",
    "                        for w, nw in zip(self.weights, nabla_w)]\n",
    "        self.biases = [b-(eta/len(mini_batch))*nb\n",
    "                       for b, nb in zip(self.biases, nabla_b)]\n",
    "\n",
    "    def backprop(self, x, y):\n",
    "        \"\"\"Return a tuple ``(nabla_b, nabla_w)`` representing the\n",
    "        gradient for the cost function C_x.  ``nabla_b`` and\n",
    "        ``nabla_w`` are layer-by-layer lists of numpy arrays, similar\n",
    "        to ``self.biases`` and ``self.weights``.\"\"\"\n",
    "        nabla_b = [np.zeros(b.shape) for b in self.biases]\n",
    "        nabla_w = [np.zeros(w.shape) for w in self.weights]\n",
    "        # feedforward\n",
    "        activation = x\n",
    "        activations = [x] # list to store all the activations, layer by layer\n",
    "        zs = [] # list to store all the z vectors, layer by layer\n",
    "        for b, w in zip(self.biases, self.weights):\n",
    "            z = np.dot(w, activation)+b\n",
    "            zs.append(z)\n",
    "            activation = sigmoid(z)\n",
    "            activations.append(activation)\n",
    "        # backward pass\n",
    "        delta = self.cost_derivative(activations[-1], y) * \\\n",
    "            sigmoid_prime(zs[-1])\n",
    "        nabla_b[-1] = delta\n",
    "        nabla_w[-1] = np.dot(delta, activations[-2].transpose())\n",
    "        \n",
    "        for l in range(2, self.num_layers):\n",
    "            z = zs[-l]\n",
    "            sp = sigmoid_prime(z)\n",
    "            delta = np.dot(self.weights[-l+1].transpose(), delta) * sp\n",
    "            nabla_b[-l] = delta\n",
    "            nabla_w[-l] = np.dot(delta, activations[-l-1].transpose())\n",
    "        return (nabla_b, nabla_w)\n",
    "\n",
    "\n",
    "    def cost_derivative(self, output_activations, y):\n",
    "        \"\"\"Return the vector of partial derivatives \\partial C_x /\n",
    "        \\partial a for the output activations.\"\"\"\n",
    "        return (output_activations-y)"
   ]
  },
  {
   "cell_type": "markdown",
   "metadata": {},
   "source": [
    "<font size=\"20\">🧐</font>\n",
    "\n",
    "Ah. We see that we can get much more conciseness if we make use of list comprehension and zipping. \n",
    "\n",
    "We also see that our implementations are **very very similar!** This is be design! His textbook and implementation served as reference for me developing this notebook."
   ]
  },
  {
   "cell_type": "markdown",
   "metadata": {},
   "source": [
    "<div class=\"info\">\n",
    "\n",
    "<font size=\"20\">💪🏽</font> **Exercise**: Slightly modify and use Nielsen's implementation to **re-verify** ours. In other words, run our implementation for a certain amount of `epochs`, with a certain `batch_size` and step size `eta` to get our final weights. \n",
    "    \n",
    "Then, start Nielsen's with the same parameters, at the same initial weights, and verify that both reach the same weights and biases! \n",
    "    \n",
    "**Note**: When doing this, be careful with **shuffling** during training. You can turn that off for the comparison. \n",
    "    \n",
    "</div>"
   ]
  },
  {
   "cell_type": "markdown",
   "metadata": {},
   "source": [
    "# Reset Notebook\n",
    "\n",
    "To make sure there aren't any problems with names, definitions, etc. lets clear out all of the previous definitions/variables, to start fresh. \n",
    "\n",
    "We this by calling the `%reset` notebook command:"
   ]
  },
  {
   "cell_type": "code",
   "execution_count": 127,
   "metadata": {},
   "outputs": [],
   "source": [
    "%reset -f "
   ]
  },
  {
   "cell_type": "markdown",
   "metadata": {},
   "source": [
    "Now, we once again declare our inputs:"
   ]
  },
  {
   "cell_type": "code",
   "execution_count": 128,
   "metadata": {},
   "outputs": [
    {
     "name": "stdout",
     "output_type": "stream",
     "text": [
      "=== Executing: ===\n",
      "import numpy as np\n",
      "import sklearn\n",
      "import sklearn.datasets\n",
      "import matplotlib as mpl\n",
      "import matplotlib.pyplot as plt\n",
      "from mpl_toolkits.mplot3d import Axes3D\n",
      "from matplotlib import cm\n",
      "import seaborn as sns\n",
      "\n",
      "# for creating animations\n",
      "import matplotlib.animation\n",
      "from IPython.display import HTML\n",
      "=== Output: ===\n"
     ]
    }
   ],
   "source": [
    "%rerun 1"
   ]
  },
  {
   "cell_type": "markdown",
   "metadata": {},
   "source": [
    "Perfect! We have a fresh blank notebook to work with! "
   ]
  },
  {
   "cell_type": "markdown",
   "metadata": {},
   "source": [
    "# Implement our own concise version\n",
    "\n",
    "Using everything that we've learned, we can get to the big exercise! "
   ]
  },
  {
   "cell_type": "markdown",
   "metadata": {},
   "source": [
    "<div class=\"info\">\n",
    "\n",
    "<font size=\"20\">💪🏽</font> **Exercise**: Implement a **concise class-based** version of our fully vectorized code, in the style of Nielsen's. \n",
    "    \n",
    "</div>"
   ]
  },
  {
   "cell_type": "markdown",
   "metadata": {},
   "source": [
    "Lets try and give our version of feedforward together:"
   ]
  },
  {
   "cell_type": "code",
   "execution_count": null,
   "metadata": {},
   "outputs": [],
   "source": []
  },
  {
   "cell_type": "markdown",
   "metadata": {},
   "source": [
    "Now lets give our class:"
   ]
  },
  {
   "cell_type": "code",
   "execution_count": 129,
   "metadata": {
    "code_folding": []
   },
   "outputs": [],
   "source": [
    "class OurNetwork(object):\n",
    "\n",
    "    def __init__(self, sizes):\n",
    "        self.num_layers = len(sizes)\n",
    "        self.sizes   = sizes\n",
    "        self.biases  = [np.random.randn(y, 1) \n",
    "                        for y in sizes[1:]]\n",
    "        self.weights = [np.random.randn(y, x) \n",
    "                        for x, y in zip(sizes[:-1], sizes[1:])]\n",
    "        \n",
    "        \n",
    "    def feedforward(self,X):\n",
    "        activations = []             # z's\n",
    "        activities = []              # a's\n",
    "\n",
    "        # set our input as the \"first layers\" activation\n",
    "        a = # EDIT HERE\n",
    "        activations.append(a) \n",
    "\n",
    "        # loop through each layer and feed it forward\n",
    "        for b, W in zip(self.biases, self.weights):\n",
    "            z = # EDIT HERE\n",
    "            a = # EDIT HERE\n",
    "            activities.append(z)\n",
    "            activations.append(a)\n",
    "\n",
    "        return activities, activations\n",
    "    \n",
    "    \n",
    "    def cost_mse(self,y_hat,y):\n",
    "        return 0.5/(y_hat.shape[0])*np.linalg.norm(y-y_hat)**2\n",
    "    \n",
    "    \n",
    "    def backprop(self,activities,activations,y_batch,quiet=True):\n",
    "        # EDIT HERE\n",
    "        return weight_updates,bias_updates\n",
    "    \n",
    "    \n",
    "    def SGD(self,dataset,labels,batch_size=50,epochs=10,eta=1e-2,quiet=False):\n",
    "        # mini-batch params \n",
    "        N = dataset.shape[0]\n",
    "        num_batches = int(N/batch_size)\n",
    "        loss = []\n",
    "\n",
    "        # Training loop\n",
    "        for epoch in range(epochs):\n",
    "            # shuffle the dataset - note we do this by shuffling indices\n",
    "            indices = np.random.permutation(N)\n",
    "            shuffled_dataset = dataset[indices,:]\n",
    "            shuffled_labels = labels[indices,:]\n",
    "\n",
    "            # work on current batch \n",
    "            for batch_num in range(num_batches):\n",
    "\n",
    "                # get current batch\n",
    "                batch_start = batch_num*batch_size\n",
    "                batch_end = (batch_num+1)*batch_size\n",
    "                batch = shuffled_dataset[batch_start:batch_end,:]\n",
    "                batch_labels = shuffled_labels[batch_start:batch_end,:].reshape(-1,1)\n",
    "\n",
    "                # feedforward on batch\n",
    "                activities, activations = self.feedforward(batch)\n",
    "\n",
    "                # backprop on batch\n",
    "                grads_weights, grads_biases = self.backprop(activities,activations,batch_labels)\n",
    "\n",
    "                # take your SGD steps\n",
    "                self.weights = [W - (eta/batch_size)*grad_W \n",
    "                                for W, grad_W in zip(self.weights, grads_weights)]\n",
    "                self.biases  = [b - (eta/batch_size)*grad_b\n",
    "                                for b, grad_b in zip(self.biases, grads_biases)]\n",
    "                \n",
    "            # measure loss at end of epoch \n",
    "            _,activ_X = self.feedforward(X)\n",
    "            loss.append(self.cost_mse(activ_X[-1],labels))\n",
    "    \n",
    "            if not quiet: print(f\"Epoch:{epoch+1}/{epochs}\")\n",
    "        \n",
    "        return loss\n",
    "            \n",
    "            \n",
    "## Utility functions\n",
    "def sigmoid(z):\n",
    "    return 1.0/(1.0+np.exp(-z))\n",
    "\n",
    "def sigmoid_prime(z):\n",
    "    return sigmoid(z)*(1-sigmoid(z))"
   ]
  },
  {
   "cell_type": "markdown",
   "metadata": {},
   "source": [
    "Before we train it, we have to redefine our interesting example:"
   ]
  },
  {
   "cell_type": "markdown",
   "metadata": {},
   "source": [
    "## More interesting example\n"
   ]
  },
  {
   "cell_type": "code",
   "execution_count": 130,
   "metadata": {},
   "outputs": [
    {
     "name": "stdout",
     "output_type": "stream",
     "text": [
      "shape of X: (1000, 2)\n",
      "shape of y: (1000, 1)\n"
     ]
    }
   ],
   "source": [
    "# Generate the dataset\n",
    "X, y = sklearn.datasets.make_circles(\n",
    "    n_samples=1000, shuffle=False, factor=0.3, noise=0.1)\n",
    "\n",
    "# Separate the red and blue samples for plotting\n",
    "x_red = X[y==0]\n",
    "x_blue = X[y==1]\n",
    "\n",
    "# correct size of y\n",
    "y = y.reshape(-1,1)\n",
    "\n",
    "print('shape of X: {}'.format(X.shape))\n",
    "print('shape of y: {}'.format(y.shape))"
   ]
  },
  {
   "cell_type": "code",
   "execution_count": 131,
   "metadata": {},
   "outputs": [
    {
     "data": {
      "image/png": "[encoded data removed]",
      "text/plain": [
       "<Figure size 720x504 with 1 Axes>"
      ]
     },
     "metadata": {
      "needs_background": "light"
     },
     "output_type": "display_data"
    }
   ],
   "source": [
    "# Plot both classes on the x1, x2 plane\n",
    "plt.figure(figsize=(10, 7))\n",
    "plt.plot(x_red[:,0], x_red[:,1], 'r*', \n",
    "         label='class: red star', alpha=0.75)\n",
    "plt.plot(x_blue[:,0], x_blue[:,1], 'bo', \n",
    "         label='class: blue circle', alpha=0.75)\n",
    "plt.legend(loc=1)\n",
    "plt.xlabel('$x_1$', fontsize=20)\n",
    "plt.ylabel('$x_2$', fontsize=20)\n",
    "plt.axis([-1.5, 1.5, -1.5, 1.5])\n",
    "plt.title('red star vs blue circle classes in the input space', fontsize=20);"
   ]
  },
  {
   "cell_type": "markdown",
   "metadata": {},
   "source": [
    "## Train our network!"
   ]
  },
  {
   "cell_type": "code",
   "execution_count": 169,
   "metadata": {},
   "outputs": [
    {
     "data": {
      "text/plain": [
       "[array([[-2.96262814, -0.43814874],\n",
       "        [ 0.58032544, -0.43620826],\n",
       "        [-2.53084164,  0.7563676 ]]),\n",
       " array([[-2.9720952 ,  1.47977316,  1.18152228],\n",
       "        [ 1.62775423,  0.94393007,  0.17209817],\n",
       "        [ 0.62362431, -1.60841658, -0.00873878]]),\n",
       " array([[-0.77541979,  0.85105724,  0.09100153]])]"
      ]
     },
     "execution_count": 169,
     "metadata": {},
     "output_type": "execute_result"
    }
   ],
   "source": [
    "ourNet = OurNetwork([2,3,3,1])\n",
    "ourNet.weights"
   ]
  },
  {
   "cell_type": "code",
   "execution_count": 170,
   "metadata": {},
   "outputs": [],
   "source": [
    "loss = ourNet.SGD(X,y,epochs=5000,quiet=True)"
   ]
  },
  {
   "cell_type": "code",
   "execution_count": 171,
   "metadata": {},
   "outputs": [
    {
     "data": {
      "text/plain": [
       "[array([[-4.78500878, -0.65367216],\n",
       "        [-0.11844259, -0.20950182],\n",
       "        [-3.79639258,  0.94598253]]),\n",
       " array([[-3.94221292,  2.21050664,  3.71139173],\n",
       "        [ 2.10103087,  0.69877912, -0.33791663],\n",
       "        [ 0.30012757, -1.7109326 ,  0.28709866]]),\n",
       " array([[-4.6723984 ,  1.78136459, -0.23587884]])]"
      ]
     },
     "execution_count": 171,
     "metadata": {},
     "output_type": "execute_result"
    }
   ],
   "source": [
    "ourNet.weights"
   ]
  },
  {
   "cell_type": "code",
   "execution_count": 182,
   "metadata": {},
   "outputs": [
    {
     "data": {
      "image/png": "[encoded data removed]",
      "text/plain": [
       "<Figure size 720x504 with 1 Axes>"
      ]
     },
     "metadata": {
      "needs_background": "light"
     },
     "output_type": "display_data"
    }
   ],
   "source": [
    "%matplotlib inline\n",
    "fig = plt.figure(figsize=(10,7))\n",
    "plt.plot(range(len(loss)),np.array(loss));"
   ]
  },
  {
   "cell_type": "markdown",
   "metadata": {},
   "source": [
    "## See result"
   ]
  },
  {
   "cell_type": "code",
   "execution_count": 183,
   "metadata": {},
   "outputs": [],
   "source": [
    "_,activations_red = ourNet.feedforward(x_red)\n",
    "_,activations_blue = ourNet.feedforward(x_blue)"
   ]
  },
  {
   "cell_type": "code",
   "execution_count": 184,
   "metadata": {},
   "outputs": [],
   "source": [
    "H_red = activations_red[-2].T\n",
    "H_blue = activations_blue[-2].T"
   ]
  },
  {
   "cell_type": "code",
   "execution_count": 185,
   "metadata": {},
   "outputs": [
    {
     "data": {
      "application/javascript": [
       "/* Put everything inside the global mpl namespace */\n",
       "/* global mpl */\n",
       "window.mpl = {};\n",
       "\n",
       "mpl.get_websocket_type = function () {\n",
       "    if (typeof WebSocket !== 'undefined') {\n",
       "        return WebSocket;\n",
       "    } else if (typeof MozWebSocket !== 'undefined') {\n",
       "        return MozWebSocket;\n",
       "    } else {\n",
       "        alert(\n",
       "            'Your browser does not have WebSocket support. ' +\n",
       "                'Please try Chrome, Safari or Firefox ≥ 6. ' +\n",
       "                'Firefox 4 and 5 are also supported but you ' +\n",
       "                'have to enable WebSockets in about:config.'\n",
       "        );\n",
       "    }\n",
       "};\n",
       "\n",
       "mpl.figure = function (figure_id, websocket, ondownload, parent_element) {\n",
       "    this.id = figure_id;\n",
       "\n",
       "    this.ws = websocket;\n",
       "\n",
       "    this.supports_binary = this.ws.binaryType !== undefined;\n",
       "\n",
       "    if (!this.supports_binary) {\n",
       "        var warnings = document.getElementById('mpl-warnings');\n",
       "        if (warnings) {\n",
       "            warnings.style.display = 'block';\n",
       "            warnings.textContent =\n",
       "                'This browser does not support binary websocket messages. ' +\n",
       "                'Performance may be slow.';\n",
       "        }\n",
       "    }\n",
       "\n",
       "    this.imageObj = new Image();\n",
       "\n",
       "    this.context = undefined;\n",
       "    this.message = undefined;\n",
       "    this.canvas = undefined;\n",
       "    this.rubberband_canvas = undefined;\n",
       "    this.rubberband_context = undefined;\n",
       "    this.format_dropdown = undefined;\n",
       "\n",
       "    this.image_mode = 'full';\n",
       "\n",
       "    this.root = document.createElement('div');\n",
       "    this.root.setAttribute('style', 'display: inline-block');\n",
       "    this._root_extra_style(this.root);\n",
       "\n",
       "    parent_element.appendChild(this.root);\n",
       "\n",
       "    this._init_header(this);\n",
       "    this._init_canvas(this);\n",
       "    this._init_toolbar(this);\n",
       "\n",
       "    var fig = this;\n",
       "\n",
       "    this.waiting = false;\n",
       "\n",
       "    this.ws.onopen = function () {\n",
       "        fig.send_message('supports_binary', { value: fig.supports_binary });\n",
       "        fig.send_message('send_image_mode', {});\n",
       "        if (mpl.ratio !== 1) {\n",
       "            fig.send_message('set_dpi_ratio', { dpi_ratio: mpl.ratio });\n",
       "        }\n",
       "        fig.send_message('refresh', {});\n",
       "    };\n",
       "\n",
       "    this.imageObj.onload = function () {\n",
       "        if (fig.image_mode === 'full') {\n",
       "            // Full images could contain transparency (where diff images\n",
       "            // almost always do), so we need to clear the canvas so that\n",
       "            // there is no ghosting.\n",
       "            fig.context.clearRect(0, 0, fig.canvas.width, fig.canvas.height);\n",
       "        }\n",
       "        fig.context.drawImage(fig.imageObj, 0, 0);\n",
       "    };\n",
       "\n",
       "    this.imageObj.onunload = function () {\n",
       "        fig.ws.close();\n",
       "    };\n",
       "\n",
       "    this.ws.onmessage = this._make_on_message_function(this);\n",
       "\n",
       "    this.ondownload = ondownload;\n",
       "};\n",
       "\n",
       "mpl.figure.prototype._init_header = function () {\n",
       "    var titlebar = document.createElement('div');\n",
       "    titlebar.classList =\n",
       "        'ui-dialog-titlebar ui-widget-header ui-corner-all ui-helper-clearfix';\n",
       "    var titletext = document.createElement('div');\n",
       "    titletext.classList = 'ui-dialog-title';\n",
       "    titletext.setAttribute(\n",
       "        'style',\n",
       "        'width: 100%; text-align: center; padding: 3px;'\n",
       "    );\n",
       "    titlebar.appendChild(titletext);\n",
       "    this.root.appendChild(titlebar);\n",
       "    this.header = titletext;\n",
       "};\n",
       "\n",
       "mpl.figure.prototype._canvas_extra_style = function (_canvas_div) {};\n",
       "\n",
       "mpl.figure.prototype._root_extra_style = function (_canvas_div) {};\n",
       "\n",
       "mpl.figure.prototype._init_canvas = function () {\n",
       "    var fig = this;\n",
       "\n",
       "    var canvas_div = (this.canvas_div = document.createElement('div'));\n",
       "    canvas_div.setAttribute(\n",
       "        'style',\n",
       "        'border: 1px solid #ddd;' +\n",
       "            'box-sizing: content-box;' +\n",
       "            'clear: both;' +\n",
       "            'min-height: 1px;' +\n",
       "            'min-width: 1px;' +\n",
       "            'outline: 0;' +\n",
       "            'overflow: hidden;' +\n",
       "            'position: relative;' +\n",
       "            'resize: both;'\n",
       "    );\n",
       "\n",
       "    function on_keyboard_event_closure(name) {\n",
       "        return function (event) {\n",
       "            return fig.key_event(event, name);\n",
       "        };\n",
       "    }\n",
       "\n",
       "    canvas_div.addEventListener(\n",
       "        'keydown',\n",
       "        on_keyboard_event_closure('key_press')\n",
       "    );\n",
       "    canvas_div.addEventListener(\n",
       "        'keyup',\n",
       "        on_keyboard_event_closure('key_release')\n",
       "    );\n",
       "\n",
       "    this._canvas_extra_style(canvas_div);\n",
       "    this.root.appendChild(canvas_div);\n",
       "\n",
       "    var canvas = (this.canvas = document.createElement('canvas'));\n",
       "    canvas.classList.add('mpl-canvas');\n",
       "    canvas.setAttribute('style', 'box-sizing: content-box;');\n",
       "\n",
       "    this.context = canvas.getContext('2d');\n",
       "\n",
       "    var backingStore =\n",
       "        this.context.backingStorePixelRatio ||\n",
       "        this.context.webkitBackingStorePixelRatio ||\n",
       "        this.context.mozBackingStorePixelRatio ||\n",
       "        this.context.msBackingStorePixelRatio ||\n",
       "        this.context.oBackingStorePixelRatio ||\n",
       "        this.context.backingStorePixelRatio ||\n",
       "        1;\n",
       "\n",
       "    mpl.ratio = (window.devicePixelRatio || 1) / backingStore;\n",
       "\n",
       "    var rubberband_canvas = (this.rubberband_canvas = document.createElement(\n",
       "        'canvas'\n",
       "    ));\n",
       "    rubberband_canvas.setAttribute(\n",
       "        'style',\n",
       "        'box-sizing: content-box; position: absolute; left: 0; top: 0; z-index: 1;'\n",
       "    );\n",
       "\n",
       "    var resizeObserver = new ResizeObserver(function (entries) {\n",
       "        var nentries = entries.length;\n",
       "        for (var i = 0; i < nentries; i++) {\n",
       "            var entry = entries[i];\n",
       "            var width, height;\n",
       "            if (entry.contentBoxSize) {\n",
       "                if (entry.contentBoxSize instanceof Array) {\n",
       "                    // Chrome 84 implements new version of spec.\n",
       "                    width = entry.contentBoxSize[0].inlineSize;\n",
       "                    height = entry.contentBoxSize[0].blockSize;\n",
       "                } else {\n",
       "                    // Firefox implements old version of spec.\n",
       "                    width = entry.contentBoxSize.inlineSize;\n",
       "                    height = entry.contentBoxSize.blockSize;\n",
       "                }\n",
       "            } else {\n",
       "                // Chrome <84 implements even older version of spec.\n",
       "                width = entry.contentRect.width;\n",
       "                height = entry.contentRect.height;\n",
       "            }\n",
       "\n",
       "            // Keep the size of the canvas and rubber band canvas in sync with\n",
       "            // the canvas container.\n",
       "            if (entry.devicePixelContentBoxSize) {\n",
       "                // Chrome 84 implements new version of spec.\n",
       "                canvas.setAttribute(\n",
       "                    'width',\n",
       "                    entry.devicePixelContentBoxSize[0].inlineSize\n",
       "                );\n",
       "                canvas.setAttribute(\n",
       "                    'height',\n",
       "                    entry.devicePixelContentBoxSize[0].blockSize\n",
       "                );\n",
       "            } else {\n",
       "                canvas.setAttribute('width', width * mpl.ratio);\n",
       "                canvas.setAttribute('height', height * mpl.ratio);\n",
       "            }\n",
       "            canvas.setAttribute(\n",
       "                'style',\n",
       "                'width: ' + width + 'px; height: ' + height + 'px;'\n",
       "            );\n",
       "\n",
       "            rubberband_canvas.setAttribute('width', width);\n",
       "            rubberband_canvas.setAttribute('height', height);\n",
       "\n",
       "            // And update the size in Python. We ignore the initial 0/0 size\n",
       "            // that occurs as the element is placed into the DOM, which should\n",
       "            // otherwise not happen due to the minimum size styling.\n",
       "            if (width != 0 && height != 0) {\n",
       "                fig.request_resize(width, height);\n",
       "            }\n",
       "        }\n",
       "    });\n",
       "    resizeObserver.observe(canvas_div);\n",
       "\n",
       "    function on_mouse_event_closure(name) {\n",
       "        return function (event) {\n",
       "            return fig.mouse_event(event, name);\n",
       "        };\n",
       "    }\n",
       "\n",
       "    rubberband_canvas.addEventListener(\n",
       "        'mousedown',\n",
       "        on_mouse_event_closure('button_press')\n",
       "    );\n",
       "    rubberband_canvas.addEventListener(\n",
       "        'mouseup',\n",
       "        on_mouse_event_closure('button_release')\n",
       "    );\n",
       "    // Throttle sequential mouse events to 1 every 20ms.\n",
       "    rubberband_canvas.addEventListener(\n",
       "        'mousemove',\n",
       "        on_mouse_event_closure('motion_notify')\n",
       "    );\n",
       "\n",
       "    rubberband_canvas.addEventListener(\n",
       "        'mouseenter',\n",
       "        on_mouse_event_closure('figure_enter')\n",
       "    );\n",
       "    rubberband_canvas.addEventListener(\n",
       "        'mouseleave',\n",
       "        on_mouse_event_closure('figure_leave')\n",
       "    );\n",
       "\n",
       "    canvas_div.addEventListener('wheel', function (event) {\n",
       "        if (event.deltaY < 0) {\n",
       "            event.step = 1;\n",
       "        } else {\n",
       "            event.step = -1;\n",
       "        }\n",
       "        on_mouse_event_closure('scroll')(event);\n",
       "    });\n",
       "\n",
       "    canvas_div.appendChild(canvas);\n",
       "    canvas_div.appendChild(rubberband_canvas);\n",
       "\n",
       "    this.rubberband_context = rubberband_canvas.getContext('2d');\n",
       "    this.rubberband_context.strokeStyle = '#000000';\n",
       "\n",
       "    this._resize_canvas = function (width, height, forward) {\n",
       "        if (forward) {\n",
       "            canvas_div.style.width = width + 'px';\n",
       "            canvas_div.style.height = height + 'px';\n",
       "        }\n",
       "    };\n",
       "\n",
       "    // Disable right mouse context menu.\n",
       "    this.rubberband_canvas.addEventListener('contextmenu', function (_e) {\n",
       "        event.preventDefault();\n",
       "        return false;\n",
       "    });\n",
       "\n",
       "    function set_focus() {\n",
       "        canvas.focus();\n",
       "        canvas_div.focus();\n",
       "    }\n",
       "\n",
       "    window.setTimeout(set_focus, 100);\n",
       "};\n",
       "\n",
       "mpl.figure.prototype._init_toolbar = function () {\n",
       "    var fig = this;\n",
       "\n",
       "    var toolbar = document.createElement('div');\n",
       "    toolbar.classList = 'mpl-toolbar';\n",
       "    this.root.appendChild(toolbar);\n",
       "\n",
       "    function on_click_closure(name) {\n",
       "        return function (_event) {\n",
       "            return fig.toolbar_button_onclick(name);\n",
       "        };\n",
       "    }\n",
       "\n",
       "    function on_mouseover_closure(tooltip) {\n",
       "        return function (event) {\n",
       "            if (!event.currentTarget.disabled) {\n",
       "                return fig.toolbar_button_onmouseover(tooltip);\n",
       "            }\n",
       "        };\n",
       "    }\n",
       "\n",
       "    fig.buttons = {};\n",
       "    var buttonGroup = document.createElement('div');\n",
       "    buttonGroup.classList = 'mpl-button-group';\n",
       "    for (var toolbar_ind in mpl.toolbar_items) {\n",
       "        var name = mpl.toolbar_items[toolbar_ind][0];\n",
       "        var tooltip = mpl.toolbar_items[toolbar_ind][1];\n",
       "        var image = mpl.toolbar_items[toolbar_ind][2];\n",
       "        var method_name = mpl.toolbar_items[toolbar_ind][3];\n",
       "\n",
       "        if (!name) {\n",
       "            /* Instead of a spacer, we start a new button group. */\n",
       "            if (buttonGroup.hasChildNodes()) {\n",
       "                toolbar.appendChild(buttonGroup);\n",
       "            }\n",
       "            buttonGroup = document.createElement('div');\n",
       "            buttonGroup.classList = 'mpl-button-group';\n",
       "            continue;\n",
       "        }\n",
       "\n",
       "        var button = (fig.buttons[name] = document.createElement('button'));\n",
       "        button.classList = 'mpl-widget';\n",
       "        button.setAttribute('role', 'button');\n",
       "        button.setAttribute('aria-disabled', 'false');\n",
       "        button.addEventListener('click', on_click_closure(method_name));\n",
       "        button.addEventListener('mouseover', on_mouseover_closure(tooltip));\n",
       "\n",
       "        var icon_img = document.createElement('img');\n",
       "        icon_img.src = '_images/' + image + '.png';\n",
       "        icon_img.srcset = '_images/' + image + '_large.png 2x';\n",
       "        icon_img.alt = tooltip;\n",
       "        button.appendChild(icon_img);\n",
       "\n",
       "        buttonGroup.appendChild(button);\n",
       "    }\n",
       "\n",
       "    if (buttonGroup.hasChildNodes()) {\n",
       "        toolbar.appendChild(buttonGroup);\n",
       "    }\n",
       "\n",
       "    var fmt_picker = document.createElement('select');\n",
       "    fmt_picker.classList = 'mpl-widget';\n",
       "    toolbar.appendChild(fmt_picker);\n",
       "    this.format_dropdown = fmt_picker;\n",
       "\n",
       "    for (var ind in mpl.extensions) {\n",
       "        var fmt = mpl.extensions[ind];\n",
       "        var option = document.createElement('option');\n",
       "        option.selected = fmt === mpl.default_extension;\n",
       "        option.innerHTML = fmt;\n",
       "        fmt_picker.appendChild(option);\n",
       "    }\n",
       "\n",
       "    var status_bar = document.createElement('span');\n",
       "    status_bar.classList = 'mpl-message';\n",
       "    toolbar.appendChild(status_bar);\n",
       "    this.message = status_bar;\n",
       "};\n",
       "\n",
       "mpl.figure.prototype.request_resize = function (x_pixels, y_pixels) {\n",
       "    // Request matplotlib to resize the figure. Matplotlib will then trigger a resize in the client,\n",
       "    // which will in turn request a refresh of the image.\n",
       "    this.send_message('resize', { width: x_pixels, height: y_pixels });\n",
       "};\n",
       "\n",
       "mpl.figure.prototype.send_message = function (type, properties) {\n",
       "    properties['type'] = type;\n",
       "    properties['figure_id'] = this.id;\n",
       "    this.ws.send(JSON.stringify(properties));\n",
       "};\n",
       "\n",
       "mpl.figure.prototype.send_draw_message = function () {\n",
       "    if (!this.waiting) {\n",
       "        this.waiting = true;\n",
       "        this.ws.send(JSON.stringify({ type: 'draw', figure_id: this.id }));\n",
       "    }\n",
       "};\n",
       "\n",
       "mpl.figure.prototype.handle_save = function (fig, _msg) {\n",
       "    var format_dropdown = fig.format_dropdown;\n",
       "    var format = format_dropdown.options[format_dropdown.selectedIndex].value;\n",
       "    fig.ondownload(fig, format);\n",
       "};\n",
       "\n",
       "mpl.figure.prototype.handle_resize = function (fig, msg) {\n",
       "    var size = msg['size'];\n",
       "    if (size[0] !== fig.canvas.width || size[1] !== fig.canvas.height) {\n",
       "        fig._resize_canvas(size[0], size[1], msg['forward']);\n",
       "        fig.send_message('refresh', {});\n",
       "    }\n",
       "};\n",
       "\n",
       "mpl.figure.prototype.handle_rubberband = function (fig, msg) {\n",
       "    var x0 = msg['x0'] / mpl.ratio;\n",
       "    var y0 = (fig.canvas.height - msg['y0']) / mpl.ratio;\n",
       "    var x1 = msg['x1'] / mpl.ratio;\n",
       "    var y1 = (fig.canvas.height - msg['y1']) / mpl.ratio;\n",
       "    x0 = Math.floor(x0) + 0.5;\n",
       "    y0 = Math.floor(y0) + 0.5;\n",
       "    x1 = Math.floor(x1) + 0.5;\n",
       "    y1 = Math.floor(y1) + 0.5;\n",
       "    var min_x = Math.min(x0, x1);\n",
       "    var min_y = Math.min(y0, y1);\n",
       "    var width = Math.abs(x1 - x0);\n",
       "    var height = Math.abs(y1 - y0);\n",
       "\n",
       "    fig.rubberband_context.clearRect(\n",
       "        0,\n",
       "        0,\n",
       "        fig.canvas.width / mpl.ratio,\n",
       "        fig.canvas.height / mpl.ratio\n",
       "    );\n",
       "\n",
       "    fig.rubberband_context.strokeRect(min_x, min_y, width, height);\n",
       "};\n",
       "\n",
       "mpl.figure.prototype.handle_figure_label = function (fig, msg) {\n",
       "    // Updates the figure title.\n",
       "    fig.header.textContent = msg['label'];\n",
       "};\n",
       "\n",
       "mpl.figure.prototype.handle_cursor = function (fig, msg) {\n",
       "    var cursor = msg['cursor'];\n",
       "    switch (cursor) {\n",
       "        case 0:\n",
       "            cursor = 'pointer';\n",
       "            break;\n",
       "        case 1:\n",
       "            cursor = 'default';\n",
       "            break;\n",
       "        case 2:\n",
       "            cursor = 'crosshair';\n",
       "            break;\n",
       "        case 3:\n",
       "            cursor = 'move';\n",
       "            break;\n",
       "    }\n",
       "    fig.rubberband_canvas.style.cursor = cursor;\n",
       "};\n",
       "\n",
       "mpl.figure.prototype.handle_message = function (fig, msg) {\n",
       "    fig.message.textContent = msg['message'];\n",
       "};\n",
       "\n",
       "mpl.figure.prototype.handle_draw = function (fig, _msg) {\n",
       "    // Request the server to send over a new figure.\n",
       "    fig.send_draw_message();\n",
       "};\n",
       "\n",
       "mpl.figure.prototype.handle_image_mode = function (fig, msg) {\n",
       "    fig.image_mode = msg['mode'];\n",
       "};\n",
       "\n",
       "mpl.figure.prototype.handle_history_buttons = function (fig, msg) {\n",
       "    for (var key in msg) {\n",
       "        if (!(key in fig.buttons)) {\n",
       "            continue;\n",
       "        }\n",
       "        fig.buttons[key].disabled = !msg[key];\n",
       "        fig.buttons[key].setAttribute('aria-disabled', !msg[key]);\n",
       "    }\n",
       "};\n",
       "\n",
       "mpl.figure.prototype.handle_navigate_mode = function (fig, msg) {\n",
       "    if (msg['mode'] === 'PAN') {\n",
       "        fig.buttons['Pan'].classList.add('active');\n",
       "        fig.buttons['Zoom'].classList.remove('active');\n",
       "    } else if (msg['mode'] === 'ZOOM') {\n",
       "        fig.buttons['Pan'].classList.remove('active');\n",
       "        fig.buttons['Zoom'].classList.add('active');\n",
       "    } else {\n",
       "        fig.buttons['Pan'].classList.remove('active');\n",
       "        fig.buttons['Zoom'].classList.remove('active');\n",
       "    }\n",
       "};\n",
       "\n",
       "mpl.figure.prototype.updated_canvas_event = function () {\n",
       "    // Called whenever the canvas gets updated.\n",
       "    this.send_message('ack', {});\n",
       "};\n",
       "\n",
       "// A function to construct a web socket function for onmessage handling.\n",
       "// Called in the figure constructor.\n",
       "mpl.figure.prototype._make_on_message_function = function (fig) {\n",
       "    return function socket_on_message(evt) {\n",
       "        if (evt.data instanceof Blob) {\n",
       "            /* FIXME: We get \"Resource interpreted as Image but\n",
       "             * transferred with MIME type text/plain:\" errors on\n",
       "             * Chrome.  But how to set the MIME type?  It doesn't seem\n",
       "             * to be part of the websocket stream */\n",
       "            evt.data.type = 'image/png';\n",
       "\n",
       "            /* Free the memory for the previous frames */\n",
       "            if (fig.imageObj.src) {\n",
       "                (window.URL || window.webkitURL).revokeObjectURL(\n",
       "                    fig.imageObj.src\n",
       "                );\n",
       "            }\n",
       "\n",
       "            fig.imageObj.src = (window.URL || window.webkitURL).createObjectURL(\n",
       "                evt.data\n",
       "            );\n",
       "            fig.updated_canvas_event();\n",
       "            fig.waiting = false;\n",
       "            return;\n",
       "        } else if (\n",
       "            typeof evt.data === 'string' &&\n",
       "            evt.data.slice(0, 21) === 'data:image/png;base64'\n",
       "        ) {\n",
       "            fig.imageObj.src = evt.data;\n",
       "            fig.updated_canvas_event();\n",
       "            fig.waiting = false;\n",
       "            return;\n",
       "        }\n",
       "\n",
       "        var msg = JSON.parse(evt.data);\n",
       "        var msg_type = msg['type'];\n",
       "\n",
       "        // Call the  \"handle_{type}\" callback, which takes\n",
       "        // the figure and JSON message as its only arguments.\n",
       "        try {\n",
       "            var callback = fig['handle_' + msg_type];\n",
       "        } catch (e) {\n",
       "            console.log(\n",
       "                \"No handler for the '\" + msg_type + \"' message type: \",\n",
       "                msg\n",
       "            );\n",
       "            return;\n",
       "        }\n",
       "\n",
       "        if (callback) {\n",
       "            try {\n",
       "                // console.log(\"Handling '\" + msg_type + \"' message: \", msg);\n",
       "                callback(fig, msg);\n",
       "            } catch (e) {\n",
       "                console.log(\n",
       "                    \"Exception inside the 'handler_\" + msg_type + \"' callback:\",\n",
       "                    e,\n",
       "                    e.stack,\n",
       "                    msg\n",
       "                );\n",
       "            }\n",
       "        }\n",
       "    };\n",
       "};\n",
       "\n",
       "// from http://stackoverflow.com/questions/1114465/getting-mouse-location-in-canvas\n",
       "mpl.findpos = function (e) {\n",
       "    //this section is from http://www.quirksmode.org/js/events_properties.html\n",
       "    var targ;\n",
       "    if (!e) {\n",
       "        e = window.event;\n",
       "    }\n",
       "    if (e.target) {\n",
       "        targ = e.target;\n",
       "    } else if (e.srcElement) {\n",
       "        targ = e.srcElement;\n",
       "    }\n",
       "    if (targ.nodeType === 3) {\n",
       "        // defeat Safari bug\n",
       "        targ = targ.parentNode;\n",
       "    }\n",
       "\n",
       "    // pageX,Y are the mouse positions relative to the document\n",
       "    var boundingRect = targ.getBoundingClientRect();\n",
       "    var x = e.pageX - (boundingRect.left + document.body.scrollLeft);\n",
       "    var y = e.pageY - (boundingRect.top + document.body.scrollTop);\n",
       "\n",
       "    return { x: x, y: y };\n",
       "};\n",
       "\n",
       "/*\n",
       " * return a copy of an object with only non-object keys\n",
       " * we need this to avoid circular references\n",
       " * http://stackoverflow.com/a/24161582/3208463\n",
       " */\n",
       "function simpleKeys(original) {\n",
       "    return Object.keys(original).reduce(function (obj, key) {\n",
       "        if (typeof original[key] !== 'object') {\n",
       "            obj[key] = original[key];\n",
       "        }\n",
       "        return obj;\n",
       "    }, {});\n",
       "}\n",
       "\n",
       "mpl.figure.prototype.mouse_event = function (event, name) {\n",
       "    var canvas_pos = mpl.findpos(event);\n",
       "\n",
       "    if (name === 'button_press') {\n",
       "        this.canvas.focus();\n",
       "        this.canvas_div.focus();\n",
       "    }\n",
       "\n",
       "    var x = canvas_pos.x * mpl.ratio;\n",
       "    var y = canvas_pos.y * mpl.ratio;\n",
       "\n",
       "    this.send_message(name, {\n",
       "        x: x,\n",
       "        y: y,\n",
       "        button: event.button,\n",
       "        step: event.step,\n",
       "        guiEvent: simpleKeys(event),\n",
       "    });\n",
       "\n",
       "    /* This prevents the web browser from automatically changing to\n",
       "     * the text insertion cursor when the button is pressed.  We want\n",
       "     * to control all of the cursor setting manually through the\n",
       "     * 'cursor' event from matplotlib */\n",
       "    event.preventDefault();\n",
       "    return false;\n",
       "};\n",
       "\n",
       "mpl.figure.prototype._key_event_extra = function (_event, _name) {\n",
       "    // Handle any extra behaviour associated with a key event\n",
       "};\n",
       "\n",
       "mpl.figure.prototype.key_event = function (event, name) {\n",
       "    // Prevent repeat events\n",
       "    if (name === 'key_press') {\n",
       "        if (event.which === this._key) {\n",
       "            return;\n",
       "        } else {\n",
       "            this._key = event.which;\n",
       "        }\n",
       "    }\n",
       "    if (name === 'key_release') {\n",
       "        this._key = null;\n",
       "    }\n",
       "\n",
       "    var value = '';\n",
       "    if (event.ctrlKey && event.which !== 17) {\n",
       "        value += 'ctrl+';\n",
       "    }\n",
       "    if (event.altKey && event.which !== 18) {\n",
       "        value += 'alt+';\n",
       "    }\n",
       "    if (event.shiftKey && event.which !== 16) {\n",
       "        value += 'shift+';\n",
       "    }\n",
       "\n",
       "    value += 'k';\n",
       "    value += event.which.toString();\n",
       "\n",
       "    this._key_event_extra(event, name);\n",
       "\n",
       "    this.send_message(name, { key: value, guiEvent: simpleKeys(event) });\n",
       "    return false;\n",
       "};\n",
       "\n",
       "mpl.figure.prototype.toolbar_button_onclick = function (name) {\n",
       "    if (name === 'download') {\n",
       "        this.handle_save(this, null);\n",
       "    } else {\n",
       "        this.send_message('toolbar_button', { name: name });\n",
       "    }\n",
       "};\n",
       "\n",
       "mpl.figure.prototype.toolbar_button_onmouseover = function (tooltip) {\n",
       "    this.message.textContent = tooltip;\n",
       "};\n",
       "mpl.toolbar_items = [[\"Home\", \"Reset original view\", \"fa fa-home icon-home\", \"home\"], [\"Back\", \"Back to previous view\", \"fa fa-arrow-left icon-arrow-left\", \"back\"], [\"Forward\", \"Forward to next view\", \"fa fa-arrow-right icon-arrow-right\", \"forward\"], [\"\", \"\", \"\", \"\"], [\"Pan\", \"Left button pans, Right button zooms\\nx/y fixes axis, CTRL fixes aspect\", \"fa fa-arrows icon-move\", \"pan\"], [\"Zoom\", \"Zoom to rectangle\\nx/y fixes axis, CTRL fixes aspect\", \"fa fa-square-o icon-check-empty\", \"zoom\"], [\"\", \"\", \"\", \"\"], [\"Download\", \"Download plot\", \"fa fa-floppy-o icon-save\", \"download\"]];\n",
       "\n",
       "mpl.extensions = [\"eps\", \"jpeg\", \"pdf\", \"png\", \"ps\", \"raw\", \"svg\", \"tif\"];\n",
       "\n",
       "mpl.default_extension = \"png\";/* global mpl */\n",
       "\n",
       "var comm_websocket_adapter = function (comm) {\n",
       "    // Create a \"websocket\"-like object which calls the given IPython comm\n",
       "    // object with the appropriate methods. Currently this is a non binary\n",
       "    // socket, so there is still some room for performance tuning.\n",
       "    var ws = {};\n",
       "\n",
       "    ws.close = function () {\n",
       "        comm.close();\n",
       "    };\n",
       "    ws.send = function (m) {\n",
       "        //console.log('sending', m);\n",
       "        comm.send(m);\n",
       "    };\n",
       "    // Register the callback with on_msg.\n",
       "    comm.on_msg(function (msg) {\n",
       "        //console.log('receiving', msg['content']['data'], msg);\n",
       "        // Pass the mpl event to the overridden (by mpl) onmessage function.\n",
       "        ws.onmessage(msg['content']['data']);\n",
       "    });\n",
       "    return ws;\n",
       "};\n",
       "\n",
       "mpl.mpl_figure_comm = function (comm, msg) {\n",
       "    // This is the function which gets called when the mpl process\n",
       "    // starts-up an IPython Comm through the \"matplotlib\" channel.\n",
       "\n",
       "    var id = msg.content.data.id;\n",
       "    // Get hold of the div created by the display call when the Comm\n",
       "    // socket was opened in Python.\n",
       "    var element = document.getElementById(id);\n",
       "    var ws_proxy = comm_websocket_adapter(comm);\n",
       "\n",
       "    function ondownload(figure, _format) {\n",
       "        window.open(figure.canvas.toDataURL());\n",
       "    }\n",
       "\n",
       "    var fig = new mpl.figure(id, ws_proxy, ondownload, element);\n",
       "\n",
       "    // Call onopen now - mpl needs it, as it is assuming we've passed it a real\n",
       "    // web socket which is closed, not our websocket->open comm proxy.\n",
       "    ws_proxy.onopen();\n",
       "\n",
       "    fig.parent_element = element;\n",
       "    fig.cell_info = mpl.find_output_cell(\"<div id='\" + id + \"'></div>\");\n",
       "    if (!fig.cell_info) {\n",
       "        console.error('Failed to find cell for figure', id, fig);\n",
       "        return;\n",
       "    }\n",
       "};\n",
       "\n",
       "mpl.figure.prototype.handle_close = function (fig, msg) {\n",
       "    var width = fig.canvas.width / mpl.ratio;\n",
       "    fig.root.removeEventListener('remove', this._remove_fig_handler);\n",
       "\n",
       "    // Update the output cell to use the data from the current canvas.\n",
       "    fig.push_to_output();\n",
       "    var dataURL = fig.canvas.toDataURL();\n",
       "    // Re-enable the keyboard manager in IPython - without this line, in FF,\n",
       "    // the notebook keyboard shortcuts fail.\n",
       "    IPython.keyboard_manager.enable();\n",
       "    fig.parent_element.innerHTML =\n",
       "        '<img src=\"' + dataURL + '\" width=\"' + width + '\">';\n",
       "    fig.close_ws(fig, msg);\n",
       "};\n",
       "\n",
       "mpl.figure.prototype.close_ws = function (fig, msg) {\n",
       "    fig.send_message('closing', msg);\n",
       "    // fig.ws.close()\n",
       "};\n",
       "\n",
       "mpl.figure.prototype.push_to_output = function (_remove_interactive) {\n",
       "    // Turn the data on the canvas into data in the output cell.\n",
       "    var width = this.canvas.width / mpl.ratio;\n",
       "    var dataURL = this.canvas.toDataURL();\n",
       "    this.cell_info[1]['text/html'] =\n",
       "        '<img src=\"' + dataURL + '\" width=\"' + width + '\">';\n",
       "};\n",
       "\n",
       "mpl.figure.prototype.updated_canvas_event = function () {\n",
       "    // Tell IPython that the notebook contents must change.\n",
       "    IPython.notebook.set_dirty(true);\n",
       "    this.send_message('ack', {});\n",
       "    var fig = this;\n",
       "    // Wait a second, then push the new image to the DOM so\n",
       "    // that it is saved nicely (might be nice to debounce this).\n",
       "    setTimeout(function () {\n",
       "        fig.push_to_output();\n",
       "    }, 1000);\n",
       "};\n",
       "\n",
       "mpl.figure.prototype._init_toolbar = function () {\n",
       "    var fig = this;\n",
       "\n",
       "    var toolbar = document.createElement('div');\n",
       "    toolbar.classList = 'btn-toolbar';\n",
       "    this.root.appendChild(toolbar);\n",
       "\n",
       "    function on_click_closure(name) {\n",
       "        return function (_event) {\n",
       "            return fig.toolbar_button_onclick(name);\n",
       "        };\n",
       "    }\n",
       "\n",
       "    function on_mouseover_closure(tooltip) {\n",
       "        return function (event) {\n",
       "            if (!event.currentTarget.disabled) {\n",
       "                return fig.toolbar_button_onmouseover(tooltip);\n",
       "            }\n",
       "        };\n",
       "    }\n",
       "\n",
       "    fig.buttons = {};\n",
       "    var buttonGroup = document.createElement('div');\n",
       "    buttonGroup.classList = 'btn-group';\n",
       "    var button;\n",
       "    for (var toolbar_ind in mpl.toolbar_items) {\n",
       "        var name = mpl.toolbar_items[toolbar_ind][0];\n",
       "        var tooltip = mpl.toolbar_items[toolbar_ind][1];\n",
       "        var image = mpl.toolbar_items[toolbar_ind][2];\n",
       "        var method_name = mpl.toolbar_items[toolbar_ind][3];\n",
       "\n",
       "        if (!name) {\n",
       "            /* Instead of a spacer, we start a new button group. */\n",
       "            if (buttonGroup.hasChildNodes()) {\n",
       "                toolbar.appendChild(buttonGroup);\n",
       "            }\n",
       "            buttonGroup = document.createElement('div');\n",
       "            buttonGroup.classList = 'btn-group';\n",
       "            continue;\n",
       "        }\n",
       "\n",
       "        button = fig.buttons[name] = document.createElement('button');\n",
       "        button.classList = 'btn btn-default';\n",
       "        button.href = '#';\n",
       "        button.title = name;\n",
       "        button.innerHTML = '<i class=\"fa ' + image + ' fa-lg\"></i>';\n",
       "        button.addEventListener('click', on_click_closure(method_name));\n",
       "        button.addEventListener('mouseover', on_mouseover_closure(tooltip));\n",
       "        buttonGroup.appendChild(button);\n",
       "    }\n",
       "\n",
       "    if (buttonGroup.hasChildNodes()) {\n",
       "        toolbar.appendChild(buttonGroup);\n",
       "    }\n",
       "\n",
       "    // Add the status bar.\n",
       "    var status_bar = document.createElement('span');\n",
       "    status_bar.classList = 'mpl-message pull-right';\n",
       "    toolbar.appendChild(status_bar);\n",
       "    this.message = status_bar;\n",
       "\n",
       "    // Add the close button to the window.\n",
       "    var buttongrp = document.createElement('div');\n",
       "    buttongrp.classList = 'btn-group inline pull-right';\n",
       "    button = document.createElement('button');\n",
       "    button.classList = 'btn btn-mini btn-primary';\n",
       "    button.href = '#';\n",
       "    button.title = 'Stop Interaction';\n",
       "    button.innerHTML = '<i class=\"fa fa-power-off icon-remove icon-large\"></i>';\n",
       "    button.addEventListener('click', function (_evt) {\n",
       "        fig.handle_close(fig, {});\n",
       "    });\n",
       "    button.addEventListener(\n",
       "        'mouseover',\n",
       "        on_mouseover_closure('Stop Interaction')\n",
       "    );\n",
       "    buttongrp.appendChild(button);\n",
       "    var titlebar = this.root.querySelector('.ui-dialog-titlebar');\n",
       "    titlebar.insertBefore(buttongrp, titlebar.firstChild);\n",
       "};\n",
       "\n",
       "mpl.figure.prototype._remove_fig_handler = function () {\n",
       "    this.close_ws(this, {});\n",
       "};\n",
       "\n",
       "mpl.figure.prototype._root_extra_style = function (el) {\n",
       "    el.style.boxSizing = 'content-box'; // override notebook setting of border-box.\n",
       "    el.addEventListener('remove', this._remove_fig_handler);\n",
       "};\n",
       "\n",
       "mpl.figure.prototype._canvas_extra_style = function (el) {\n",
       "    // this is important to make the div 'focusable\n",
       "    el.setAttribute('tabindex', 0);\n",
       "    // reach out to IPython and tell the keyboard manager to turn it's self\n",
       "    // off when our div gets focus\n",
       "\n",
       "    // location in version 3\n",
       "    if (IPython.notebook.keyboard_manager) {\n",
       "        IPython.notebook.keyboard_manager.register_events(el);\n",
       "    } else {\n",
       "        // location in version 2\n",
       "        IPython.keyboard_manager.register_events(el);\n",
       "    }\n",
       "};\n",
       "\n",
       "mpl.figure.prototype._key_event_extra = function (event, _name) {\n",
       "    var manager = IPython.notebook.keyboard_manager;\n",
       "    if (!manager) {\n",
       "        manager = IPython.keyboard_manager;\n",
       "    }\n",
       "\n",
       "    // Check for shift+enter\n",
       "    if (event.shiftKey && event.which === 13) {\n",
       "        this.canvas_div.blur();\n",
       "        // select the cell after this one\n",
       "        var index = IPython.notebook.find_cell_index(this.cell_info[0]);\n",
       "        IPython.notebook.select(index + 1);\n",
       "    }\n",
       "};\n",
       "\n",
       "mpl.figure.prototype.handle_save = function (fig, _msg) {\n",
       "    fig.ondownload(fig, null);\n",
       "};\n",
       "\n",
       "mpl.find_output_cell = function (html_output) {\n",
       "    // Return the cell and output element which can be found *uniquely* in the notebook.\n",
       "    // Note - this is a bit hacky, but it is done because the \"notebook_saving.Notebook\"\n",
       "    // IPython event is triggered only after the cells have been serialised, which for\n",
       "    // our purposes (turning an active figure into a static one), is too late.\n",
       "    var cells = IPython.notebook.get_cells();\n",
       "    var ncells = cells.length;\n",
       "    for (var i = 0; i < ncells; i++) {\n",
       "        var cell = cells[i];\n",
       "        if (cell.cell_type === 'code') {\n",
       "            for (var j = 0; j < cell.output_area.outputs.length; j++) {\n",
       "                var data = cell.output_area.outputs[j];\n",
       "                if (data.data) {\n",
       "                    // IPython >= 3 moved mimebundle to data attribute of output\n",
       "                    data = data.data;\n",
       "                }\n",
       "                if (data['text/html'] === html_output) {\n",
       "                    return [cell, data, j];\n",
       "                }\n",
       "            }\n",
       "        }\n",
       "    }\n",
       "};\n",
       "\n",
       "// Register the function which deals with the matplotlib target/channel.\n",
       "// The kernel may be null if the page has been refreshed.\n",
       "if (IPython.notebook.kernel !== null) {\n",
       "    IPython.notebook.kernel.comm_manager.register_target(\n",
       "        'matplotlib',\n",
       "        mpl.mpl_figure_comm\n",
       "    );\n",
       "}\n"
      ],
      "text/plain": [
       "<IPython.core.display.Javascript object>"
      ]
     },
     "metadata": {},
     "output_type": "display_data"
    },
    {
     "data": {
      "text/html": [
       "<img src=\"data:image/png;base64,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\" width=\"640\">"
      ],
      "text/plain": [
       "<IPython.core.display.HTML object>"
      ]
     },
     "metadata": {},
     "output_type": "display_data"
    }
   ],
   "source": [
    "%matplotlib notebook\n",
    "\n",
    "fig = plt.figure()\n",
    "with sns.axes_style(\"whitegrid\"):\n",
    "    ax = Axes3D(fig)\n",
    "ax.plot(\n",
    "    np.ravel(H_blue[:,0]), np.ravel(H_blue[:,1]), np.ravel(H_blue[:,2]),\n",
    "    'bo', label='class: blue circle', alpha=0.5)\n",
    "ax.plot(\n",
    "    np.ravel(H_red[:,0]), np.ravel(H_red[:,1]), np.ravel(H_red[:,2]), \n",
    "    'r*', label='class: red star', alpha=0.5)\n",
    "ax.set_xlabel('$h_1$', fontsize=20)\n",
    "ax.set_ylabel('$h_2$', fontsize=20)\n",
    "ax.set_zlabel('$h_3$', fontsize=20)\n",
    "ax.view_init(elev=30, azim=-200)\n",
    "plt.title('Projection of the input X onto the hidden layer H');"
   ]
  },
  {
   "cell_type": "markdown",
   "metadata": {},
   "source": [
    "## Reflect\n",
    "\n",
    "<div class=\"info\">\n",
    "\n",
    "<font size=\"20\">🧐</font>**Pause-and-ponder**: What does this mean? What are we looking at? What have we observed here, and why? Think! \n",
    "    \n",
    "</div>\n"
   ]
  },
  {
   "cell_type": "code",
   "execution_count": null,
   "metadata": {},
   "outputs": [],
   "source": []
  },
  {
   "cell_type": "markdown",
   "metadata": {},
   "source": [
    "# Additional Resources\n",
    "This implementation follows the details of: \n",
    "* http://ufldl.stanford.edu/tutorial/supervised/MultiLayerNeuralNetworks/\n",
    "* https://www.youtube.com/watch?v=GlcnxUlrtek&list=PLiaHhY2iBX9hdHaRr6b7XevZtgZRa1PoU&index=4&pbjreload=101\n",
    "* https://github.com/stephencwelch/Neural-Networks-Demystified/blob/master/Part%202%20Forward%20Propagation.ipynb\n",
    "* https://www.youtube.com/watch?v=7bLEWDZng_M&list=PLkDaE6sCZn6Ec-XTbcX1uRg2_u4xOEky0&index=33\n",
    "* https://www.youtube.com/watch?v=gl3lfL-g5mA\n",
    "* https://news.ycombinator.com/item?id=15782156\n",
    "* https://developers-dot-devsite-v2-prod.appspot.com/machine-learning/crash-course/backprop-scroll"
   ]
  },
  {
   "cell_type": "code",
   "execution_count": null,
   "metadata": {},
   "outputs": [],
   "source": []
  },
  {
   "cell_type": "code",
   "execution_count": null,
   "metadata": {},
   "outputs": [],
   "source": []
  }
 ],
 "metadata": {
  "kernelspec": {
   "display_name": "Python 3",
   "language": "python",
   "name": "python3"
  },
  "language_info": {
   "codemirror_mode": {
    "name": "ipython",
    "version": 3
   },
   "file_extension": ".py",
   "mimetype": "text/x-python",
   "name": "python",
   "nbconvert_exporter": "python",
   "pygments_lexer": "ipython3",
   "version": "3.7.6"
  },
  "toc": {
   "base_numbering": 1,
   "nav_menu": {},
   "number_sections": false,
   "sideBar": true,
   "skip_h1_title": false,
   "title_cell": "Table of Contents",
   "title_sidebar": "Contents",
   "toc_cell": false,
   "toc_position": {
    "height": "calc(100% - 180px)",
    "left": "10px",
    "top": "150px",
    "width": "288px"
   },
   "toc_section_display": true,
   "toc_window_display": true
  }
 },
 "nbformat": 4,
 "nbformat_minor": 4
}
