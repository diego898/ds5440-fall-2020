{
 "cells": [
  {
   "cell_type": "markdown",
   "metadata": {},
   "source": [
    "# NN Walkthrough"
   ]
  },
  {
   "cell_type": "code",
   "execution_count": 1,
   "metadata": {},
   "outputs": [],
   "source": [
    "import numpy as np\n",
    "import matplotlib as mpl\n",
    "import matplotlib.pyplot as plt\n",
    "from mpl_toolkits.mplot3d import Axes3D\n",
    "from matplotlib import cm\n",
    "import seaborn as sns\n",
    "\n",
    "# for creating animations\n",
    "import matplotlib.animation\n",
    "from IPython.display import HTML"
   ]
  },
  {
   "cell_type": "code",
   "execution_count": 2,
   "metadata": {},
   "outputs": [
    {
     "data": {
      "text/html": [
       "<style>div.info{padding: 15px; border: 1px solid transparent; border-left: 5px solid #dfb5b4; border-color: transparent; margin-bottom: 10px; border-radius: 4px; background-color: #fcf8e3; border-color: #faebcc;}</style>"
      ],
      "text/plain": [
       "<IPython.core.display.HTML object>"
      ]
     },
     "execution_count": 2,
     "metadata": {},
     "output_type": "execute_result"
    }
   ],
   "source": [
    "# styling additions\n",
    "from IPython.display import HTML\n",
    "# style = \"<style>div.warn{background-color: #fcf2f2;border-color: #dFb5b4; border-left: 5px solid #dfb5b4; padding: 0.5em;}</style>\"\n",
    "style = \"<style>div.info{padding: 15px; border: 1px solid transparent; border-left: 5px solid #dfb5b4; border-color: transparent; margin-bottom: 10px; border-radius: 4px; background-color: #fcf8e3; border-color: #faebcc;}</style>\"\n",
    "HTML(style)"
   ]
  },
  {
   "cell_type": "markdown",
   "metadata": {},
   "source": [
    "## Latex definitions\n",
    "This cell just creates some latex definitions we will need later:\n",
    "$$\n",
    "\\newcommand{\\dc}{\\color{red}{\\partial C_0}}\n",
    "\\newcommand{\\dw}{\\color{blue}{\\partial w^{(L)}}}\n",
    "\\newcommand{\\dz}{\\color{green}{\\partial z^{(L)}}}\n",
    "\\newcommand{\\da}{\\color{orange}{\\partial a^{(L)}}}\n",
    "\\newcommand{\\dcdw}{\\frac{\\dc}{\\dw}}\n",
    "\\newcommand{\\dzdw}{\\frac{\\dz}{\\dw}}\n",
    "\\newcommand{\\dadz}{\\frac{\\da}{\\dz}}\n",
    "\\newcommand{\\dcda}{\\frac{\\dc}{\\da}}\n",
    "$$"
   ]
  },
  {
   "cell_type": "markdown",
   "metadata": {},
   "source": [
    " # Forward Direction\n",
    "\n",
    "Lets start with the simplest network we can imagine, and first understand how a neural network calculates its output for a particular input. This is known as the \"forward\" direction (we will see why later). \n",
    "\n",
    "## Dataset\n",
    "\n",
    "Lets generate a simple 1-D toy dataset:"
   ]
  },
  {
   "cell_type": "code",
   "execution_count": 3,
   "metadata": {},
   "outputs": [],
   "source": [
    "def toy():\n",
    "    N = 1000\n",
    "    inputs = np.linspace(-5,5,N).reshape(N,1)\n",
    "    labels = ((inputs>0).astype(int)*2-1).reshape(N,1)\n",
    "    return inputs,labels"
   ]
  },
  {
   "cell_type": "code",
   "execution_count": 4,
   "metadata": {},
   "outputs": [
    {
     "data": {
      "text/plain": [
       "(array([-5.]), array([-1]))"
      ]
     },
     "execution_count": 4,
     "metadata": {},
     "output_type": "execute_result"
    }
   ],
   "source": [
    "inputs,labels = toy()\n",
    "inputs[0],labels[0]"
   ]
  },
  {
   "cell_type": "markdown",
   "metadata": {},
   "source": [
    "## 1-D Network\n",
    "\n",
    "Lets give the simplest network we can imagine. One that consists of a few 1-D \"layers\" of size 1! We have an:\n",
    "* input node/layer, \n",
    "* hidden node/layer:$h_1$, \n",
    "* another hidden node/layer $h_2$\n",
    "* output node/layer. "
   ]
  },
  {
   "cell_type": "markdown",
   "metadata": {},
   "source": [
    "Networks are typically drawn with the **weights** on the wires. Our simple network can be given as:\n",
    "![](figures/simple_network.png)"
   ]
  },
  {
   "cell_type": "markdown",
   "metadata": {},
   "source": [
    "<div class=\"info\">\n",
    "\n",
    "**Note:** This is sometimes confusing, as technically its the **activations** of the previous layer that \"flow\" into the next layer. However, the weights are what we are tying to **learn**, and their relative **strengths** tells us something about the structure of the network.\n",
    "    \n",
    "</div>\n",
    "\n",
    "\n",
    "Each node has an assocaited:\n",
    "* weight\n",
    "* bias\n",
    "* activation function\n",
    "\n",
    "In our example, we have $w_1,b_1,w_2,b_2,w_3,b_3$ as our **parameters** and we are using the **sigmoid** as our activation function.\n",
    "\n",
    "The function of each node, is to apply its own weight and bias to a previous layers activation value, and then pass it through its activation function to produce its own activation. For example, $h_1$ is doing:\n",
    "\n",
    "$$\n",
    "a_1 = \\sigma(w\\cdot x + b)\n",
    "$$\n",
    "\n",
    "The *input* to a nodes activation function is useful to think about separately, so we can introduce an additional variable to denote it as:\n",
    "$$\n",
    "z_i = w\\cdot x + b, \\quad\\quad a_1 = \\sigma(z_i)\n",
    "$$"
   ]
  },
  {
   "cell_type": "markdown",
   "metadata": {},
   "source": [
    "So, we can descrive the behavior of each of our nodes as:\n",
    "\n",
    "![](figures/nodes.png)"
   ]
  },
  {
   "cell_type": "markdown",
   "metadata": {},
   "source": [
    "### Implementation\n",
    "\n",
    "Now we can actually implement this simple network. Lets start by recalling the sigmoid function:"
   ]
  },
  {
   "cell_type": "code",
   "execution_count": 5,
   "metadata": {},
   "outputs": [
    {
     "data": {
      "image/png": "[encoded data removed]",
      "text/plain": [
       "<Figure size 432x288 with 1 Axes>"
      ]
     },
     "metadata": {
      "needs_background": "light"
     },
     "output_type": "display_data"
    }
   ],
   "source": [
    "def sigmoid(x):\n",
    "    return 1 / (1 + np.exp(-x))\n",
    "\n",
    "plt.plot(np.linspace(-5,5),sigmoid(np.linspace(-5,5)));"
   ]
  },
  {
   "cell_type": "markdown",
   "metadata": {},
   "source": [
    "Lets define the function of a **node**, being careful to match our notation:"
   ]
  },
  {
   "cell_type": "code",
   "execution_count": 6,
   "metadata": {},
   "outputs": [],
   "source": [
    "def node(w,b,a):\n",
    "    # EDIT HERE\n",
    "    return sigmoid(z)"
   ]
  },
  {
   "cell_type": "markdown",
   "metadata": {},
   "source": [
    "Now we are ready to define our **actual network**! Lets initialize our random weights and biases:"
   ]
  },
  {
   "cell_type": "code",
   "execution_count": 7,
   "metadata": {},
   "outputs": [],
   "source": [
    "w1,b1,w2,b2,w3,b3 = np.random.rand(6)"
   ]
  },
  {
   "cell_type": "markdown",
   "metadata": {},
   "source": [
    "Now, lets pick a training example and run it through our network:"
   ]
  },
  {
   "cell_type": "code",
   "execution_count": 8,
   "metadata": {},
   "outputs": [],
   "source": [
    "input,label = inputs[0],labels[0]\n",
    "\n",
    "# h1 node - operates on our input\n",
    "a1 = # EDIT HERE\n",
    "\n",
    "# h2 node - operates on a1\n",
    "a2 = # EDIT HERE\n",
    "\n",
    "# output node - operates on a2 - produces our output\n",
    "output = # EDIT HERE\n",
    "y_hat = output"
   ]
  },
  {
   "cell_type": "markdown",
   "metadata": {},
   "source": [
    "Lets see how we did!"
   ]
  },
  {
   "cell_type": "code",
   "execution_count": 9,
   "metadata": {},
   "outputs": [
    {
     "name": "stdout",
     "output_type": "stream",
     "text": [
      "for input: [-5.] with label: [-1], this network calculated: [0.6270142]\n"
     ]
    }
   ],
   "source": [
    "print(f\"for input: {input} with label: {label}, this network calculated: {y_hat}\")"
   ]
  },
  {
   "cell_type": "markdown",
   "metadata": {},
   "source": [
    "As we know, to actually see how we did, we need to **define a cost**! Lets proceed with the usual average-MSE:"
   ]
  },
  {
   "cell_type": "code",
   "execution_count": 10,
   "metadata": {},
   "outputs": [],
   "source": [
    "def mse(y_hat,y,average=True):\n",
    "    if average:\n",
    "        return # EDIT HERE\n",
    "    else:\n",
    "        return # EDIT HERE"
   ]
  },
  {
   "cell_type": "code",
   "execution_count": 11,
   "metadata": {},
   "outputs": [
    {
     "name": "stdout",
     "output_type": "stream",
     "text": [
      "for input: [-5.] with label: [-1], this network calculated: [0.6270142], giving us a cost of: 2.647175196713521\n"
     ]
    }
   ],
   "source": [
    "print(f\"for input: {input} with label: {label}, this network calculated: {output}, giving us a cost of: {mse(output,label)}\")"
   ]
  },
  {
   "cell_type": "markdown",
   "metadata": {},
   "source": [
    "Ok - so we've demonstrated the entire forward direction, for one sample. Lets define a function for this simple network, so we can run our entire training set through!"
   ]
  },
  {
   "cell_type": "code",
   "execution_count": 12,
   "metadata": {},
   "outputs": [],
   "source": [
    "def simple_network(inputs):\n",
    "    outputs = []\n",
    "    N = inputs.shape[0]\n",
    "    \n",
    "    # initialized weights\n",
    "    w1,b1,w2,b2,w3,b3 = np.random.rand(6)\n",
    "\n",
    "    for i in range(N):\n",
    "        input = inputs[i,:]\n",
    "        \n",
    "        # h1 node\n",
    "        a1 = # EDIT HERE\n",
    "\n",
    "        # h2 node\n",
    "        a2 = # EDIT HERE\n",
    "\n",
    "        # output node\n",
    "        output = # EDIT HERE\n",
    "        \n",
    "        # append to form output\n",
    "        outputs.append(output)\n",
    "    \n",
    "    return np.asarray(outputs)"
   ]
  },
  {
   "cell_type": "markdown",
   "metadata": {},
   "source": [
    "We can now calculate our **average loss** over the entire training set:"
   ]
  },
  {
   "cell_type": "code",
   "execution_count": 13,
   "metadata": {},
   "outputs": [
    {
     "data": {
      "text/plain": [
       "1.592503019308129"
      ]
     },
     "execution_count": 13,
     "metadata": {},
     "output_type": "execute_result"
    }
   ],
   "source": [
    "mse(simple_network(inputs),labels)"
   ]
  },
  {
   "cell_type": "markdown",
   "metadata": {},
   "source": [
    "## Multidimensional Network\n",
    "\n",
    "\n",
    "We've looked at a very simple example above which captures the essence of what we are doing. However, our networks are really never actually composed of layers with one element each. Instead, **each** layer has **multiple** nodes. \n",
    "\n",
    "Technically, we could continue in the same way as above and individually number our weights and biases but this quickly gets out of hand! As an exercise, try repeating the above analysis and implementation where each hidden layer is now of size 2!\n",
    "\n",
    "Ironically, to avoid this notational complexity, it seems like we must introduce additional notation, and rewrite our problem in the language of **linear algebra**. "
   ]
  },
  {
   "cell_type": "markdown",
   "metadata": {},
   "source": [
    "To introduce this notation, lets imagine a network the following structure:\n",
    "![](figures/md-1.png)"
   ]
  },
  {
   "cell_type": "markdown",
   "metadata": {},
   "source": [
    "To make our analysis simpler, lets zoom in on node node, and all of its input weights:\n",
    "\n",
    "![](figures/md-2.png)"
   ]
  },
  {
   "cell_type": "markdown",
   "metadata": {},
   "source": [
    "We've highlihted the 0th node in our last hidden layer and all of its inputs from the previous layer in $\\color{orange}{\\text{orange}}$. We've also numbered each of it input nodes with their layer-specific numbering and shown them in $\\color{blue}{\\text{blue}}$.\n",
    "\n",
    "We've also named each weight according to the following format:\n",
    "\n",
    "$$\n",
    "w_{\\;\\color{orange}{\\text{current node #}} \\;,\\; \\color{blue}{\\text{incoming node #}}}\n",
    "$$\n",
    "\n",
    "This may seem a bit counter intuitive at first, as the tendency when reading from left to write is to want to write our weights as:\n",
    "\n",
    "$$\n",
    "w_{\\;\\color{blue}{\\text{incoming node #}} \\;,\\; \\color{orange}{\\text{current node #}} }\n",
    "$$\n",
    "\n",
    "You absolutely can, but that will result in a bunch of transposes in later equations. To get rid of them now, we will number our weights as we did above. As is typically the case, people make seemingly weird/arbitrary decisions at the front to result in simplifications down the line. \n",
    "\n",
    "Recall, the function of a node is to apply its weight to the activation of its input/previous layer. In this case, we have three previous nodes/input nodes, so we will also write them in $\\color{blue}{\\text{blue}}$ to make it clear that they are coming from the previous layer. \n",
    "\n",
    "So our orange node is performing:\n",
    "\n",
    "$$\n",
    "\\color{orange}{w}_{\\color{orange}{0},\\color{blue}{0}} \\cdot \\color{blue}{a_0} + \n",
    "\\color{orange}{w}_{\\color{orange}{0},\\color{blue}{1}} \\cdot \\color{blue}{a_1} + \n",
    "\\color{orange}{w}_{\\color{orange}{0},\\color{blue}{2}} \\cdot \\color{blue}{a_2} + \n",
    "\\color{orange}{b_0}\n",
    "$$\n",
    "\n",
    "Already, our eyes should be screaming **dot-product**! "
   ]
  },
  {
   "cell_type": "markdown",
   "metadata": {},
   "source": [
    "### Notation\n",
    "\n",
    "Indeed, we can form a **vector** of the <font color='blue'>**previous layer's**</font> activations as:\n",
    "\n",
    "$$\n",
    "\\color{blue}{\\mathbf{a}_{prev}} = \n",
    "\\begin{bmatrix}\n",
    "\\color{blue}{a_0 \\\\\n",
    "a_1 \\\\\n",
    "a_2}\n",
    "\\end{bmatrix}\n",
    "$$\n",
    "\n",
    "and a **vector** of the 0-th neurons **weights** in the <font color=\"orange\">**current layer**</font> as:\n",
    "\n",
    "$$\n",
    "\\color{orange}{\\mathbf{w}_0} = \n",
    "\\begin{bmatrix}\n",
    "\\color{orange}{w}_{\\color{orange}{0},\\color{blue}{0}} \\\\\n",
    "\\color{orange}{w}_{\\color{orange}{0},\\color{blue}{1}} \\\\\n",
    "\\color{orange}{w}_{\\color{orange}{0},\\color{blue}{2}}\n",
    "\\end{bmatrix}\n",
    "$$\n",
    "\n",
    "where we have used color again to make it clear what layer we are talking about: the <font color='orange'>current</font> or <font color='blue'>previous</font> layer."
   ]
  },
  {
   "cell_type": "markdown",
   "metadata": {},
   "source": [
    "Then we can rewrite what our orange node is calculating as:\n",
    "$$\n",
    "\\begin{align}\n",
    "\\color{orange}{z_0} &= \\color{orange}{\\mathbf{w}_0} \\cdot \\color{blue}{\\mathbf{a}_{prev}} + \\color{orange}{b_0} \\\\\n",
    "\\color{orange}{a_0} &= \\sigma(\\color{orange}{z_0})\n",
    "\\end{align}\n",
    "$$"
   ]
  },
  {
   "cell_type": "markdown",
   "metadata": {},
   "source": [
    "Well, we've managed to rewrite the activation of **one-node** in slightly better notation. But we can we do better! Lets now reason about the entire layer!\n",
    "\n",
    "Recall, we already have a vector of the <font color='blue'>**previous layer's** </font>activations in $\\color{blue}{\\mathbf{a}_{prev}}$, although we never actually gave a formula for it. Based on the formula for the <font color='orange'>0th-node</font> in the <font color='orange'>current layer</font> we just gave, lets try to give a **vector** of activations for the entire <font color='orange'>**current layer**</font>. \n",
    "\n",
    "(Note: to prevent a color explosion, since we're talking about the current layer, I will drop orange to refer to it most places. I will keep blue to refer to the previous layer)."
   ]
  },
  {
   "cell_type": "markdown",
   "metadata": {},
   "source": [
    "To simplify our analysis, lets first note that:\n",
    "$$\n",
    "\\mathbf{a}_{curr} = \n",
    "\\begin{bmatrix}\n",
    "\\sigma (z_0) \\\\\n",
    "\\sigma (z_1) \\\\\n",
    "\\sigma (z_2) \\\\\n",
    "\\end{bmatrix} = \n",
    "\\sigma\\left(\\;\n",
    "\\begin{bmatrix}\n",
    "z_0 \\\\\n",
    "z_1 \\\\\n",
    "z_2 \\\\\n",
    "\\end{bmatrix}\\;\n",
    "\\right) = \n",
    "\\sigma (\\mathbf{z}_{curr})\n",
    "$$\n",
    "\n",
    "So, lets focus on writing a formula for the vector $\\mathbf{z}_{curr}$:\n",
    "\n",
    "$$\n",
    "\\mathbf{z}_{curr} = \n",
    "\\begin{bmatrix}\n",
    "\\mathbf{w}_0 \\cdot \\color{blue}{\\mathbf{a}_{prev}} + b_0 \\\\\n",
    "\\mathbf{w}_1 \\cdot \\color{blue}{\\mathbf{a}_{prev}} + b_1 \\\\\n",
    "\\mathbf{w}_2 \\cdot \\color{blue}{\\mathbf{a}_{prev}} + b_2 \\\\\n",
    "\\end{bmatrix}\n",
    "$$\n",
    "\n",
    "Lets make it a bit clearer by writing our biases for the entire layer as a separte **vector** $\\mathbf{b}$:\n",
    "\n",
    "$$\n",
    "\\mathbf{z}_{curr} = \n",
    "\\begin{bmatrix}\n",
    "\\mathbf{w}_0 \\cdot \\color{blue}{\\mathbf{a}_{prev}} \\\\\n",
    "\\mathbf{w}_1 \\cdot \\color{blue}{\\mathbf{a}_{prev}} \\\\\n",
    "\\mathbf{w}_2 \\cdot \\color{blue}{\\mathbf{a}_{prev}}  \\\\\n",
    "\\end{bmatrix}\n",
    "+\n",
    "\\mathbf{b}\n",
    "$$"
   ]
  },
  {
   "cell_type": "markdown",
   "metadata": {},
   "source": [
    "Just like we saw when we discussed linear regression, this vector of dot products is exactly the **matrix-vector** product of the **weight matrix** and the previous layers **activation vector**!\n",
    "\n",
    "<div class=\"info\">\n",
    "\n",
    "**Definition**: The current layers **weight matrix**: $\\mathbf{W}$  is a matrix of $k$-many rows, and $j$-many columns, where $k$ is the number of nodes in the current layer, and $j$ is the number of nodes in the previous layer:\n",
    "\n",
    "$$\n",
    "\\mathbf{W} \\in \\mathbb{R}^{k,j}= \n",
    "\\begin{bmatrix}\n",
    "\\mathbf{w}_0^T \\\\\n",
    "\\mathbf{w}_1^T \\\\\n",
    "\\ldots \\\\\n",
    "\\mathbf{w}_k^T\n",
    "\\end{bmatrix} = \n",
    "\\begin{bmatrix}\n",
    "w_{0,0} & w_{0,1} & \\ldots & w_{0,j} \\\\\n",
    "\\ldots \\\\\n",
    "w_{k,0} & w_{0,1} & \\ldots & w_{k,j} \\\\\n",
    "\\end{bmatrix}\n",
    "$$\n",
    "\n",
    "**Note**: each row of the weight matrix represents all inputs to a specific node in the current layer.\n",
    "    \n",
    "</div>\n",
    "\n",
    "Now, we can finally write a complete linear algebraic equation for the function of a current layer on a previous layer:\n",
    "\n",
    "$$\n",
    "\\begin{align}\n",
    "\\mathbf{z}_{curr} &= \\mathbf{W}\\mathbf{a}_{prev}+\\mathbf{b} \\\\\n",
    "\\mathbf{a}_{curr} &= \\sigma(\\mathbf{z}_{curr})\n",
    "\\end{align}\n",
    "$$\n",
    "\n",
    "Now, neural networks do this sequentially, so the last piece of the puzzle is to be able to refer to a specific layer by number. We now introduce the final piece of notation to let us do this: a **superscript** to designate the layer number:\n",
    "\n",
    "<div class=\"info\">\n",
    "\n",
    "The activation of layer $L$ is given by:\n",
    "    \n",
    "$$\n",
    "\\begin{align}\n",
    "\\mathbf{z}^L &= \\mathbf{W}^L \\mathbf{a}^{L-1}+\\mathbf{b}^L \\\\\n",
    "\\mathbf{a}^L &= \\sigma(\\mathbf{z}^L)\n",
    "\\end{align}\n",
    "$$\n",
    "\n",
    "This is often written succintly as:\n",
    "\n",
    "$$\n",
    "\\boxed{\\mathbf{a}^L = \\sigma(\\mathbf{W}\\mathbf{a}^{L-1} + \\mathbf{b})}\n",
    "$$\n",
    "\n",
    "where the specific $\\mathbf{W},\\mathbf{b}$ we are talking about is implied.\n",
    "</div>\n",
    "\n",
    "Wow we've come a long way! We've given a very clear and succinct linear algebraic equation for the entire forward direction for a network of any number of layers and size of each layer!\n",
    "\n",
    "Lets perform a size sanity check: $\\mathbf{W}$ is of size $k \\times j$, where $j$ is the number of nuerons in the previous layer. $\\mathbf{a}^{L-1}$ is a vector of size $j \\times 1$, the activations of the previous layer. Their multiplication results in a vector of size $k \\times 1$, where $k$ is the number of neurons in the current layer. Our bias vector is also $k \\times 1$ (as we expect!). So everything works as expected! \n",
    "\n",
    "This is why we decided to write our weight matrix to be of size $k \\times j$ or $\\text{# neurons in prev label} \\times \\text{# neurons in current level}$ instead of the other way around. If we had, we'd need a transpose in the equation above."
   ]
  },
  {
   "cell_type": "markdown",
   "metadata": {},
   "source": [
    "### Implementation\n",
    "\n",
    "Armed with our new notation, lets write an implementation of the network we gave above:\n",
    "\n",
    "![](figures/md-1.png)"
   ]
  },
  {
   "cell_type": "code",
   "execution_count": 14,
   "metadata": {},
   "outputs": [],
   "source": [
    "inputs,labels = toy()"
   ]
  },
  {
   "cell_type": "code",
   "execution_count": 15,
   "metadata": {},
   "outputs": [],
   "source": [
    "def simple_network2(inputs):\n",
    "    outputs = []\n",
    "    N = inputs.shape[0]\n",
    "    \n",
    "    # initialize weight matrices - notice the dimensions\n",
    "    W_1 = # EDIT HERE\n",
    "    W_2 = # EDIT HERE\n",
    "    W_3 = # EDIT HERE\n",
    "    \n",
    "    # and our biases\n",
    "    b_1 = # EDIT HERE\n",
    "    b_2 = # EDIT HERE\n",
    "    b_3 = # EDIT HERE\n",
    "    \n",
    "    # loop through training data\n",
    "    for i in range(N):\n",
    "        \n",
    "        # correct size for current input\n",
    "        input = inputs[i,:]\n",
    "        \n",
    "        # layer 1\n",
    "        a_1 = # EDIT HERE\n",
    "\n",
    "        # layer 2\n",
    "        a_2 = # EDIT HERE\n",
    "\n",
    "        # output layer\n",
    "        output = # EDIT HERE\n",
    "        \n",
    "        # append to form output\n",
    "        outputs.append(output)\n",
    "    \n",
    "    return np.squeeze(np.asarray(outputs)).reshape(-1,1)"
   ]
  },
  {
   "cell_type": "code",
   "execution_count": 16,
   "metadata": {},
   "outputs": [
    {
     "data": {
      "image/png": "[encoded data removed]",
      "text/plain": [
       "<Figure size 432x288 with 1 Axes>"
      ]
     },
     "metadata": {
      "needs_background": "light"
     },
     "output_type": "display_data"
    }
   ],
   "source": [
    "outputs = simple_network2(inputs)\n",
    "plt.scatter(inputs,outputs);"
   ]
  },
  {
   "cell_type": "code",
   "execution_count": null,
   "metadata": {},
   "outputs": [],
   "source": []
  },
  {
   "cell_type": "markdown",
   "metadata": {},
   "source": [
    "## Mini-Batch Notation\n",
    "\n",
    "Note, this implementation runs an example through the network **one-by-one**! Instead, we can imagine feeding our entire dataset throught **at once**! This formulism will pave the way for us later to feed in a mini-batch at a time.\n",
    "\n",
    "Lets just reason our way through this one from first-principles (fancy way to say: lets match our matrix sizes!), seeing how we get our entire dataset through the first hidden layer. \n",
    "\n",
    "The first weight matrix of size:\n",
    "\n",
    "$$\n",
    "\\mathbf{W}_1: (\\text{size of hidden layer} \\times \\text{dimension of input})\n",
    "$$\n",
    "\n",
    "which in this case is: $3 \\times 1$. If our input was 2-D, it would be $3 \\times 2$. So what we *dot* it with, needs to be of size: $\\text{dimension of input} \\times \\text{??}$. Its in that dimension that we can place our entire dataset! \n",
    "\n",
    "So, now we're going to be shuffling **activation matrices** around! In these activation matrices, each **column** is an activation for the last layer on a different training example! So we expect the first activation matrix to be of size: $\\text{dimension of input} \\times \\text{number of inputs}$. This means this must also be the size of the initial $a^0=input$ matrix for the first hidden layer. \n",
    "\n",
    "\n",
    "So, we can rewrite our layer propagation equation above for our entire dataset:\n",
    "\n",
    "$$\n",
    "\\boxed{\\mathbf{A}^L = \\sigma(\\mathbf{W}\\mathbf{A}^{L-1} + \\mathbf{b})}\n",
    "$$\n",
    "\n",
    "where we use broadcasting rules to let us add a vector $\\mathbf{b}$ to a matrix. \n",
    "\n",
    "Lets make a special note about the first layer. Typically, we imagine data being fed into a network where the first dimension is the `batch_size`. So if our data mtrix is of size $\\text{batch_size} \\times \\text{dimension}$, in order for our first layer to calcualte correctly, we have to make the sizes work! Meaning, our first layer should be: \n",
    "\n",
    "$$\n",
    "\\mathbf{A}^1 = \\mathbf{W}^1\\mathbf{X}^T + \\mathbf{b}\n",
    "$$\n",
    "\n",
    "<div class=\"info\">\n",
    "    \n",
    "**Note:** Here we define our input to be of size: ${N} \\times d$. That is why we transpose it in the first layer. This is by no means universal, and different numerical libaries do it differently. \n",
    "\n",
    "</div>"
   ]
  },
  {
   "cell_type": "code",
   "execution_count": 17,
   "metadata": {},
   "outputs": [],
   "source": [
    "def simple_network2_batch(inputs):\n",
    "    # assume inputs is of shape Nxd\n",
    "    \n",
    "    # initialize weight matrices - notice the dimensions\n",
    "    W_1 = # EDIT HERE\n",
    "    W_2 = # EDIT HERE\n",
    "    W_3 = # EDIT HERE\n",
    "    \n",
    "    # and our biases\n",
    "    b_1 = # EDIT HERE\n",
    "    b_2 = # EDIT HERE\n",
    "    b_3 = # EDIT HERE\n",
    "           \n",
    "    # layer 1\n",
    "    a_1 = # EDIT HERE\n",
    "\n",
    "    # layer 2\n",
    "    a_2 = # EDIT HERE\n",
    "\n",
    "    # output layer\n",
    "    output = # EDIT HERE\n",
    "    \n",
    "    return np.squeeze(np.asarray(outputs)).reshape(-1,1)"
   ]
  },
  {
   "cell_type": "code",
   "execution_count": 19,
   "metadata": {},
   "outputs": [
    {
     "data": {
      "image/png": "[encoded data removed]",
      "text/plain": [
       "<Figure size 1080x504 with 2 Axes>"
      ]
     },
     "metadata": {
      "needs_background": "light"
     },
     "output_type": "display_data"
    }
   ],
   "source": [
    "inputs,labels = toy()\n",
    "y_hat = outputs = simple_network2(inputs)\n",
    "\n",
    "fig,(ax1,ax2) = plt.subplots(1,2,figsize=(15,7))\n",
    "ax1.set_title('Original poits and labels')\n",
    "ax1.scatter(inputs,labels);\n",
    "\n",
    "ax1.set_title('Original poits and Y_Hat')\n",
    "ax2.scatter(inputs,outputs,color='orange');"
   ]
  },
  {
   "cell_type": "markdown",
   "metadata": {},
   "source": [
    "Note the huge difference in our y-axis! This is **without** and training so its bound to be bad! "
   ]
  },
  {
   "cell_type": "markdown",
   "metadata": {},
   "source": [
    "## Dealing with Biases\n",
    "\n",
    "Another very common thing, as we saw in linear regression, was to add another dimension \n",
    "\n",
    "... to be continued ..."
   ]
  },
  {
   "cell_type": "code",
   "execution_count": null,
   "metadata": {},
   "outputs": [],
   "source": []
  },
  {
   "cell_type": "markdown",
   "metadata": {},
   "source": [
    "## Class-based Implementation\n",
    "\n",
    "Michael Nielsen gives a simple class-based definition in his online textbook, which is very straight-forward to follow:"
   ]
  },
  {
   "cell_type": "code",
   "execution_count": 19,
   "metadata": {},
   "outputs": [],
   "source": [
    "class Network(object):\n",
    "\n",
    "    def __init__(self, sizes):\n",
    "        self.num_layers = len(sizes)\n",
    "        self.sizes = sizes\n",
    "        self.biases = [np.random.randn(y, 1) for y in sizes[1:]]\n",
    "        self.weights = [np.random.randn(y, x)\n",
    "                        for x, y in zip(sizes[:-1], sizes[1:])]\n",
    "\n",
    "    def feedforward(self, a):\n",
    "        \"\"\"Return the output of the network if ``a`` is input.\"\"\"\n",
    "        for b, w in zip(self.biases, self.weights):\n",
    "            a = sigmoid(np.dot(w, a)+b)\n",
    "        return a"
   ]
  },
  {
   "cell_type": "code",
   "execution_count": 29,
   "metadata": {},
   "outputs": [
    {
     "data": {
      "image/png": "[encoded data removed]",
      "text/plain": [
       "<Figure size 1080x504 with 2 Axes>"
      ]
     },
     "metadata": {
      "needs_background": "light"
     },
     "output_type": "display_data"
    }
   ],
   "source": [
    "inputs,labels = toy()\n",
    "network = Network([1,3,2,1])\n",
    "outputs = network.feedforward(inputs.T).T\n",
    "\n",
    "fig,(ax1,ax2) = plt.subplots(1,2,figsize=(15,7))\n",
    "ax1.set_title('Original poits and labels')\n",
    "ax1.scatter(inputs,labels);\n",
    "\n",
    "ax1.set_title('Original poits and Y_Hat')\n",
    "ax2.scatter(inputs,outputs,color='orange');"
   ]
  },
  {
   "cell_type": "markdown",
   "metadata": {},
   "source": [
    "<div class=\"info\">\n",
    "    \n",
    "**Pause-and-ponder**: This is a very common style of implementation - try to go back and understand it. Play with it, use it, try and break it! \n",
    "    \n",
    "Do you understand why it works?\n",
    "    \n",
    "</div>"
   ]
  },
  {
   "cell_type": "markdown",
   "metadata": {},
   "source": [
    "# Backprop"
   ]
  },
  {
   "cell_type": "code",
   "execution_count": null,
   "metadata": {},
   "outputs": [],
   "source": []
  },
  {
   "cell_type": "markdown",
   "metadata": {},
   "source": [
    "Alright! Now we're in a position to think about how to actually **use** this information to **improve** learning! \n",
    "\n",
    "In order to improve learning, we need to be able to explain how much **each parameter** is responsible for our overall error. So we somehow want to calculate and reason about:\n",
    "\n",
    "$$\n",
    "\\frac{\\partial C}{\\partial w_1},\\frac{\\partial C}{\\partial b_1},\\frac{\\partial C}{\\partial w_2},\\frac{\\partial C}{\\partial b_2},\\frac{\\partial C}{\\partial w_3},\\frac{\\partial C}{\\partial b_3}, \\cdots\n",
    "$$\n",
    "\n",
    "Wow this got complicated really fast!\n",
    "\n",
    "## Chain-rule\n",
    "\n",
    "Before we continue, lets recall the chain rule from calculus:\n",
    "\n",
    "\n",
    "Lets just focus on the last two layers:"
   ]
  },
  {
   "cell_type": "code",
   "execution_count": null,
   "metadata": {},
   "outputs": [],
   "source": []
  }
 ],
 "metadata": {
  "kernelspec": {
   "display_name": "Python 3",
   "language": "python",
   "name": "python3"
  },
  "language_info": {
   "codemirror_mode": {
    "name": "ipython",
    "version": 3
   },
   "file_extension": ".py",
   "mimetype": "text/x-python",
   "name": "python",
   "nbconvert_exporter": "python",
   "pygments_lexer": "ipython3",
   "version": "3.7.6"
  }
 },
 "nbformat": 4,
 "nbformat_minor": 4
}
