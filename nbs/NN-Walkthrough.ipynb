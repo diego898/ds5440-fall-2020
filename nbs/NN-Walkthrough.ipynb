{
 "cells": [
  {
   "cell_type": "markdown",
   "metadata": {},
   "source": [
    "# NN Walkthrough\n",
    "\n",
    "In this notebook we will walk through the forward and backward direction of neural networks."
   ]
  },
  {
   "cell_type": "code",
   "execution_count": 1,
   "metadata": {},
   "outputs": [],
   "source": [
    "import numpy as np\n",
    "import matplotlib as mpl\n",
    "import matplotlib.pyplot as plt\n",
    "from mpl_toolkits.mplot3d import Axes3D\n",
    "from matplotlib import cm\n",
    "import seaborn as sns\n",
    "\n",
    "# for creating animations\n",
    "import matplotlib.animation\n",
    "from IPython.display import HTML"
   ]
  },
  {
   "cell_type": "code",
   "execution_count": 2,
   "metadata": {},
   "outputs": [
    {
     "data": {
      "text/html": [
       "<style>div.info{padding: 15px; border: 1px solid transparent; border-left: 5px solid #dfb5b4; border-color: transparent; margin-bottom: 10px; border-radius: 4px; background-color: #fcf8e3; border-color: #faebcc;}</style>"
      ],
      "text/plain": [
       "<IPython.core.display.HTML object>"
      ]
     },
     "execution_count": 2,
     "metadata": {},
     "output_type": "execute_result"
    }
   ],
   "source": [
    "# styling additions\n",
    "from IPython.display import HTML\n",
    "# style = \"<style>div.warn{background-color: #fcf2f2;border-color: #dFb5b4; border-left: 5px solid #dfb5b4; padding: 0.5em;}</style>\"\n",
    "style = \"<style>div.info{padding: 15px; border: 1px solid transparent; border-left: 5px solid #dfb5b4; border-color: transparent; margin-bottom: 10px; border-radius: 4px; background-color: #fcf8e3; border-color: #faebcc;}</style>\"\n",
    "HTML(style)"
   ]
  },
  {
   "cell_type": "markdown",
   "metadata": {},
   "source": [
    " # Forward Direction\n",
    "\n",
    "Lets start with the simplest network we can imagine, and first understand how a neural network calculates its output for a particular input. This is known as the \"forward\" direction (we will see why later). \n",
    "\n",
    "## Dataset\n",
    "\n",
    "Lets generate a simple 1-D toy dataset:"
   ]
  },
  {
   "cell_type": "code",
   "execution_count": 3,
   "metadata": {},
   "outputs": [],
   "source": [
    "def toy():\n",
    "    N = 1000\n",
    "    inputs = np.linspace(-5,5,N).reshape(N,1)\n",
    "    labels = ((inputs>0).astype(int)*2-1).reshape(N,1)\n",
    "    return inputs,labels"
   ]
  },
  {
   "cell_type": "code",
   "execution_count": 4,
   "metadata": {},
   "outputs": [
    {
     "data": {
      "text/plain": [
       "(array([-5.]), array([-1]))"
      ]
     },
     "execution_count": 4,
     "metadata": {},
     "output_type": "execute_result"
    }
   ],
   "source": [
    "inputs,labels = toy()\n",
    "inputs[0],labels[0]"
   ]
  },
  {
   "cell_type": "markdown",
   "metadata": {},
   "source": [
    "## 1-D Network\n",
    "\n",
    "Lets give the simplest network we can imagine. One that consists of a few 1-D \"layers\" of size 1! We have an:\n",
    "* input node/layer, \n",
    "* hidden node/layer:$h_1$, \n",
    "* another hidden node/layer $h_2$\n",
    "* output node/layer. "
   ]
  },
  {
   "cell_type": "markdown",
   "metadata": {},
   "source": [
    "Networks are typically drawn with the **weights** on the wires. Our simple network can be given as:\n",
    "![](figures/simple_network.png)"
   ]
  },
  {
   "cell_type": "markdown",
   "metadata": {},
   "source": [
    "<div class=\"info\">\n",
    "\n",
    "**Note:** This is sometimes confusing, as technically its the **activations** of the previous layer that \"flow\" into the next layer. However, the weights are what we are tying to **learn**, and their relative **strengths** tells us something about the structure of the network.\n",
    "    \n",
    "</div>\n",
    "\n",
    "\n",
    "Each node has an associated:\n",
    "* weight\n",
    "* bias\n",
    "* activation function\n",
    "\n",
    "In our example, we have $w_1,b_1,w_2,b_2,w_3,b_3$ as our **parameters** and we are using the **sigmoid** as our activation function.\n",
    "\n",
    "The function of each node, is to apply its own weight and bias to a previous layers activation value, and then pass it through its activation function to produce its own activation. For example, $h_1$ is doing:\n",
    "\n",
    "$$\n",
    "a_1 = \\sigma(w\\cdot x + b)\n",
    "$$\n",
    "\n",
    "The *input* to a nodes activation function is useful to think about separately, so we can introduce an additional variable to denote it as:\n",
    "$$\n",
    "z_i = w\\cdot x + b, \\quad\\quad a_1 = \\sigma(z_i)\n",
    "$$"
   ]
  },
  {
   "cell_type": "markdown",
   "metadata": {},
   "source": [
    "So, we can describe the behavior of each of our nodes as:\n",
    "\n",
    "![](figures/nodes.png)"
   ]
  },
  {
   "cell_type": "markdown",
   "metadata": {},
   "source": [
    "### Implementation\n",
    "\n",
    "Now we can actually implement this simple network. Lets start by recalling the sigmoid function:"
   ]
  },
  {
   "cell_type": "code",
   "execution_count": 5,
   "metadata": {},
   "outputs": [
    {
     "data": {
      "image/png": "[encoded data removed]",
      "text/plain": [
       "<Figure size 432x288 with 1 Axes>"
      ]
     },
     "metadata": {
      "needs_background": "light"
     },
     "output_type": "display_data"
    }
   ],
   "source": [
    "def sigmoid(x):\n",
    "    return 1 / (1 + np.exp(-x))\n",
    "\n",
    "plt.plot(np.linspace(-5,5),sigmoid(np.linspace(-5,5)));"
   ]
  },
  {
   "cell_type": "markdown",
   "metadata": {},
   "source": [
    "Lets define the function of a **node**, being careful to match our notation:"
   ]
  },
  {
   "cell_type": "code",
   "execution_count": 6,
   "metadata": {},
   "outputs": [],
   "source": [
    "def node(w,b,a):\n",
    "    z = w*a + b\n",
    "    return sigmoid(z)"
   ]
  },
  {
   "cell_type": "markdown",
   "metadata": {},
   "source": [
    "Now we are ready to define our **actual network**! Lets initialize our random weights and biases:"
   ]
  },
  {
   "cell_type": "code",
   "execution_count": 7,
   "metadata": {},
   "outputs": [],
   "source": [
    "w1,b1,w2,b2,w3,b3 = np.random.rand(6)"
   ]
  },
  {
   "cell_type": "markdown",
   "metadata": {},
   "source": [
    "Now, lets pick a training example and run it through our network:"
   ]
  },
  {
   "cell_type": "code",
   "execution_count": 8,
   "metadata": {},
   "outputs": [],
   "source": [
    "input,label = inputs[0],labels[0]\n",
    "\n",
    "# h1 node - operates on our input\n",
    "a1 = node(w1,b1,input)\n",
    "\n",
    "# h2 node - operates on a1\n",
    "a2 = node(w2,b2,a1)\n",
    "\n",
    "# output node - operates on a2 - produces our output\n",
    "output = node(w3,b3,a2)\n",
    "y_hat = output"
   ]
  },
  {
   "cell_type": "markdown",
   "metadata": {},
   "source": [
    "Lets see how we did!"
   ]
  },
  {
   "cell_type": "code",
   "execution_count": 9,
   "metadata": {},
   "outputs": [
    {
     "name": "stdout",
     "output_type": "stream",
     "text": [
      "for input: [-5.] with label: [-1], this network calculated: [0.58630219]\n"
     ]
    }
   ],
   "source": [
    "print(f\"for input: {input} with label: {label}, this network calculated: {y_hat}\")"
   ]
  },
  {
   "cell_type": "markdown",
   "metadata": {},
   "source": [
    "As we know, to actually see how we did, we need to **define a cost**! Lets proceed with the usual average-MSE:"
   ]
  },
  {
   "cell_type": "code",
   "execution_count": 10,
   "metadata": {},
   "outputs": [],
   "source": [
    "def mse(y_hat,y,average=True):\n",
    "    if average:\n",
    "        return np.mean((y_hat-y)**2)\n",
    "    else:\n",
    "        return ((y_hat-y)**2)"
   ]
  },
  {
   "cell_type": "code",
   "execution_count": 11,
   "metadata": {},
   "outputs": [
    {
     "name": "stdout",
     "output_type": "stream",
     "text": [
      "for input: [-5.] with label: [-1], this network calculated: [0.58630219], giving us a cost of: 2.516354632935557\n"
     ]
    }
   ],
   "source": [
    "print(f\"for input: {input} with label: {label}, this network calculated: {output}, giving us a cost of: {mse(output,label)}\")"
   ]
  },
  {
   "cell_type": "markdown",
   "metadata": {},
   "source": [
    "Ok - so we've demonstrated the entire forward direction, for one sample. Lets define a function for this simple network, so we can run our entire training set through!"
   ]
  },
  {
   "cell_type": "code",
   "execution_count": 12,
   "metadata": {},
   "outputs": [],
   "source": [
    "def simple_network(inputs):\n",
    "    outputs = []\n",
    "    N = inputs.shape[0]\n",
    "    \n",
    "    # initialized weights\n",
    "    w1,b1,w2,b2,w3,b3 = np.random.rand(6)\n",
    "\n",
    "    for i in range(N):\n",
    "        input = inputs[i,:]\n",
    "        \n",
    "        # h1 node\n",
    "        a1 = node(w1,b1,input)\n",
    "\n",
    "        # h2 node\n",
    "        a2 = node(w2,b2,a1)\n",
    "\n",
    "        # output node\n",
    "        output = node(w3,b3,a2)\n",
    "        \n",
    "        # append to form output\n",
    "        outputs.append(output)\n",
    "    \n",
    "    return np.asarray(outputs)"
   ]
  },
  {
   "cell_type": "markdown",
   "metadata": {},
   "source": [
    "We can now calculate our **average loss** over the entire training set:"
   ]
  },
  {
   "cell_type": "code",
   "execution_count": 13,
   "metadata": {},
   "outputs": [
    {
     "data": {
      "text/plain": [
       "1.4985825265355983"
      ]
     },
     "execution_count": 13,
     "metadata": {},
     "output_type": "execute_result"
    }
   ],
   "source": [
    "mse(simple_network(inputs),labels)"
   ]
  },
  {
   "cell_type": "code",
   "execution_count": null,
   "metadata": {},
   "outputs": [],
   "source": []
  },
  {
   "cell_type": "markdown",
   "metadata": {},
   "source": [
    "--- \n",
    "\n",
    "## Multidimensional Network\n",
    "\n",
    "\n",
    "We've looked at a very simple example above which captures the essence of what we are doing. However, our networks are really never actually composed of layers with one element each. Instead, **each** layer has **multiple** nodes. \n",
    "\n",
    "Technically, we could continue in the same way as above and individually number our weights and biases but this quickly gets out of hand! As an exercise, try repeating the above analysis and implementation where each hidden layer is now of size 2!\n",
    "\n",
    "Ironically, to avoid this notational complexity, it seems like we must introduce additional notation, and rewrite our problem in the language of **linear algebra**. "
   ]
  },
  {
   "cell_type": "markdown",
   "metadata": {},
   "source": [
    "To introduce this notation, lets imagine a network the following structure:\n",
    "![](figures/md-1.png)"
   ]
  },
  {
   "cell_type": "markdown",
   "metadata": {},
   "source": [
    "To make our analysis simpler, lets zoom in on node node, and all of its input weights:\n",
    "\n",
    "![](figures/md-2.png)"
   ]
  },
  {
   "cell_type": "markdown",
   "metadata": {},
   "source": [
    "We've highlighted the 0th node in our last hidden layer and all of its inputs from the previous layer in $\\color{orange}{\\text{orange}}$. We've also numbered each of it input nodes with their layer-specific numbering and shown them in $\\color{blue}{\\text{blue}}$.\n",
    "\n",
    "We've also named each weight according to the following format:\n",
    "\n",
    "$$\n",
    "w_{\\;\\color{orange}{\\text{current node #}} \\;,\\; \\color{blue}{\\text{incoming node #}}}\n",
    "$$\n",
    "\n",
    "This may seem a bit counter intuitive at first, as the tendency when reading from left to write is to want to write our weights as:\n",
    "\n",
    "$$\n",
    "w_{\\;\\color{blue}{\\text{incoming node #}} \\;,\\; \\color{orange}{\\text{current node #}} }\n",
    "$$\n",
    "\n",
    "You absolutely can, but that will result in a bunch of transposes in later equations. To get rid of them now, we will number our weights as we did above. As is typically the case, people make seemingly weird/arbitrary decisions at the front to result in simplifications down the line. \n",
    "\n",
    "Recall, the function of a node is to apply its weight to the activation of its input/previous layer. In this case, we have three previous nodes/input nodes, so we will also write them in $\\color{blue}{\\text{blue}}$ to make it clear that they are coming from the previous layer. \n",
    "\n",
    "So our orange node is performing:\n",
    "\n",
    "$$\n",
    "\\color{orange}{w}_{\\color{orange}{0},\\color{blue}{0}} \\cdot \\color{blue}{a_0} + \n",
    "\\color{orange}{w}_{\\color{orange}{0},\\color{blue}{1}} \\cdot \\color{blue}{a_1} + \n",
    "\\color{orange}{w}_{\\color{orange}{0},\\color{blue}{2}} \\cdot \\color{blue}{a_2} + \n",
    "\\color{orange}{b_0}\n",
    "$$\n",
    "\n",
    "Already, our eyes should be screaming **dot-product**! "
   ]
  },
  {
   "cell_type": "markdown",
   "metadata": {},
   "source": [
    "### Notation\n",
    "\n",
    "Indeed, we can form a **vector** of the <font color='blue'>**previous layer's**</font> activations as:\n",
    "\n",
    "$$\n",
    "\\color{blue}{\\mathbf{a}_{prev}} = \n",
    "\\begin{bmatrix}\n",
    "\\color{blue}{a_0 \\\\\n",
    "a_1 \\\\\n",
    "a_2}\n",
    "\\end{bmatrix}\n",
    "$$\n",
    "\n",
    "and a **vector** of the 0-th neurons **weights** in the <font color=\"orange\">**current layer**</font> as:\n",
    "\n",
    "$$\n",
    "\\color{orange}{\\mathbf{w}_0} = \n",
    "\\begin{bmatrix}\n",
    "\\color{orange}{w}_{\\color{orange}{0},\\color{blue}{0}} \\\\\n",
    "\\color{orange}{w}_{\\color{orange}{0},\\color{blue}{1}} \\\\\n",
    "\\color{orange}{w}_{\\color{orange}{0},\\color{blue}{2}}\n",
    "\\end{bmatrix}\n",
    "$$\n",
    "\n",
    "where we have used color again to make it clear what layer we are talking about: the <font color='orange'>current</font> or <font color='blue'>previous</font> layer."
   ]
  },
  {
   "cell_type": "markdown",
   "metadata": {},
   "source": [
    "Then we can rewrite what our orange node is calculating as:\n",
    "$$\n",
    "\\begin{align}\n",
    "\\color{orange}{z_0} &= \\color{orange}{\\mathbf{w}_0} \\cdot \\color{blue}{\\mathbf{a}_{prev}} + \\color{orange}{b_0} \\\\\n",
    "\\color{orange}{a_0} &= \\sigma(\\color{orange}{z_0})\n",
    "\\end{align}\n",
    "$$"
   ]
  },
  {
   "cell_type": "markdown",
   "metadata": {},
   "source": [
    "Well, we've managed to rewrite the activation of **one-node** in slightly better notation. But we can we do better! Lets now reason about the entire layer!\n",
    "\n",
    "Recall, we already have a vector of the <font color='blue'>**previous layer's** </font>activations in $\\color{blue}{\\mathbf{a}_{prev}}$, although we never actually gave a formula for it. Based on the formula for the <font color='orange'>0th-node</font> in the <font color='orange'>current layer</font> we just gave, lets try to give a **vector** of activations for the entire <font color='orange'>**current layer**</font>. \n",
    "\n",
    "(Note: to prevent a color explosion, since we're talking about the current layer, I will drop orange to refer to it most places. I will keep blue to refer to the previous layer)."
   ]
  },
  {
   "cell_type": "markdown",
   "metadata": {},
   "source": [
    "To simplify our analysis, lets first note that:\n",
    "$$\n",
    "\\mathbf{a}_{curr} = \n",
    "\\begin{bmatrix}\n",
    "\\sigma (z_0) \\\\\n",
    "\\sigma (z_1) \\\\\n",
    "\\sigma (z_2) \\\\\n",
    "\\end{bmatrix} = \n",
    "\\sigma\\left(\\;\n",
    "\\begin{bmatrix}\n",
    "z_0 \\\\\n",
    "z_1 \\\\\n",
    "z_2 \\\\\n",
    "\\end{bmatrix}\\;\n",
    "\\right) = \n",
    "\\sigma (\\mathbf{z}_{curr})\n",
    "$$\n",
    "\n",
    "So, lets focus on writing a formula for the vector $\\mathbf{z}_{curr}$:\n",
    "\n",
    "$$\n",
    "\\mathbf{z}_{curr} = \n",
    "\\begin{bmatrix}\n",
    "\\mathbf{w}_0 \\cdot \\color{blue}{\\mathbf{a}_{prev}} + b_0 \\\\\n",
    "\\mathbf{w}_1 \\cdot \\color{blue}{\\mathbf{a}_{prev}} + b_1 \\\\\n",
    "\\mathbf{w}_2 \\cdot \\color{blue}{\\mathbf{a}_{prev}} + b_2 \\\\\n",
    "\\end{bmatrix}\n",
    "$$\n",
    "\n",
    "Lets make it a bit clearer by writing our biases for the entire layer as a separate **vector** $\\mathbf{b}$:\n",
    "\n",
    "$$\n",
    "\\mathbf{z}_{curr} = \n",
    "\\begin{bmatrix}\n",
    "\\mathbf{w}_0 \\cdot \\color{blue}{\\mathbf{a}_{prev}} \\\\\n",
    "\\mathbf{w}_1 \\cdot \\color{blue}{\\mathbf{a}_{prev}} \\\\\n",
    "\\mathbf{w}_2 \\cdot \\color{blue}{\\mathbf{a}_{prev}}  \\\\\n",
    "\\end{bmatrix}\n",
    "+\n",
    "\\mathbf{b}\n",
    "$$"
   ]
  },
  {
   "cell_type": "markdown",
   "metadata": {},
   "source": [
    "Just like we saw when we discussed linear regression, this vector of dot products is exactly the **matrix-vector** product of the **weight matrix** and the previous layers **activation vector**!\n",
    "\n",
    "<div class=\"info\">\n",
    "\n",
    "**Definition**: The current layers **weight matrix**: $\\mathbf{W}$  is a matrix of $k$-many rows, and $j$-many columns, where $k$ is the number of nodes in the current layer, and $j$ is the number of nodes in the previous layer:\n",
    "\n",
    "$$\n",
    "\\mathbf{W} \\in \\mathbb{R}^{k,j}= \n",
    "\\begin{bmatrix}\n",
    "\\mathbf{w}_0^T \\\\\n",
    "\\mathbf{w}_1^T \\\\\n",
    "\\ldots \\\\\n",
    "\\mathbf{w}_k^T\n",
    "\\end{bmatrix} = \n",
    "\\begin{bmatrix}\n",
    "w_{0,0} & w_{0,1} & \\ldots & w_{0,j} \\\\\n",
    "\\ldots \\\\\n",
    "w_{k,0} & w_{0,1} & \\ldots & w_{k,j} \\\\\n",
    "\\end{bmatrix}\n",
    "$$\n",
    "\n",
    "**Note**: each row of the weight matrix represents all inputs to a specific node in the current layer.\n",
    "    \n",
    "</div>\n",
    "\n",
    "Now, we can finally write a complete linear algebraic equation for the function of a <font color=\"orange\">current layer</font> on a <font color=\"blue\">previous layer</font>:\n",
    "\n",
    "$$\n",
    "\\begin{align}\n",
    "\\mathbf{z}_{curr} &= \\mathbf{W}\\color{blue}{\\mathbf{a}_{prev}}+\\mathbf{b} \\\\\n",
    "\\mathbf{a}_{curr} &= \\sigma(\\mathbf{z}_{curr})\n",
    "\\end{align}\n",
    "$$"
   ]
  },
  {
   "cell_type": "markdown",
   "metadata": {},
   "source": [
    "Now, neural networks do this **sequentially**, so the last piece of the puzzle is to be able to refer to a *specific layer* by number. We now introduce the final piece of notation to let us do this: a **superscript** to designate the layer number:\n",
    "\n",
    "<div class=\"info\">\n",
    "\n",
    "The activation of layer $L$ is given by:\n",
    "    \n",
    "$$\n",
    "\\begin{align}\n",
    "\\mathbf{z}^L &= \\mathbf{W}^L \\mathbf{a}^{L-1}+\\mathbf{b}^L \\\\\n",
    "\\mathbf{a}^L &= \\sigma(\\mathbf{z}^L)\n",
    "\\end{align}\n",
    "$$\n",
    "\n",
    "This is often written succinctly as:\n",
    "\n",
    "$$\n",
    "\\boxed{\\mathbf{a}^L = \\sigma(\\mathbf{W}\\mathbf{a}^{L-1} + \\mathbf{b})}\n",
    "$$\n",
    "\n",
    "where the specific $\\mathbf{W},\\mathbf{b}$ we are talking about is implied.\n",
    "</div>"
   ]
  },
  {
   "cell_type": "markdown",
   "metadata": {},
   "source": [
    "<br/>\n",
    "Wow we've come a long way! We've given a very clear and succinct linear algebraic equation for the entire forward direction for a network of any number of layers and size of each layer!"
   ]
  },
  {
   "cell_type": "markdown",
   "metadata": {},
   "source": [
    "Lets perform a **size sanity check**: \n",
    "* $\\mathbf{W}$ is of size $k \\times j$, where $j$ is the number of neurons in the previous layer. \n",
    "* $\\mathbf{a}^{L-1}$ is a vector of size $j \\times 1$, the activations of the previous layer. \n",
    "* Their multiplication results in a vector of size $k \\times 1$, where $k$ is the number of neurons in the current layer. \n",
    "* Our bias vector is also $k \\times 1$ (as we expect!). \n",
    "\n",
    "So everything works as expected! \n",
    "\n",
    "This is why we decided to write our weight matrix to be of size $k \\times j$ or $\\text{# neurons in prev layer} \\times \\text{# neurons in current layer}$ instead of the other way around. If we had, we'd need a transpose in the equation above."
   ]
  },
  {
   "cell_type": "markdown",
   "metadata": {},
   "source": [
    "---\n",
    "### Implementation\n",
    "\n",
    "Armed with our new notation, lets write an implementation of the network we gave above:\n",
    "\n",
    "![](figures/md-1.png)\n",
    "\n",
    "<div class=\"info\">\n",
    "\n",
    "🧐**Pause-and-ponder**: What should the sizes of each $W$ be for this network? Lets go through it together! \n",
    "    \n",
    "</div>"
   ]
  },
  {
   "cell_type": "markdown",
   "metadata": {},
   "source": [
    "Ok! Now lets implement it! "
   ]
  },
  {
   "cell_type": "code",
   "execution_count": 14,
   "metadata": {},
   "outputs": [],
   "source": [
    "inputs,labels = toy()"
   ]
  },
  {
   "cell_type": "code",
   "execution_count": 15,
   "metadata": {},
   "outputs": [],
   "source": [
    "def simple_network2(inputs):\n",
    "    outputs = []\n",
    "    N = inputs.shape[0]\n",
    "    \n",
    "    # initialize weight matrices - notice the dimensions\n",
    "    W_1 = np.random.randn(3,1)\n",
    "    W_2 = np.random.randn(2,3)\n",
    "    W_3 = np.random.randn(1,2)\n",
    "    \n",
    "    # and our biases\n",
    "    b_1 = np.random.randn(3,1)\n",
    "    b_2 = np.random.randn(2,1)\n",
    "    b_3 = np.random.randn(1,1)\n",
    "    \n",
    "    # loop through training data\n",
    "    for i in range(N):\n",
    "        \n",
    "        # correct size for current input\n",
    "        input = inputs[i,:]\n",
    "        \n",
    "        # layer 1\n",
    "        a_1 = sigmoid(W_1*input + b_1)\n",
    "\n",
    "        # layer 2\n",
    "        a_2 = sigmoid(W_2.dot(a_1)+b_2)\n",
    "\n",
    "        # output layer\n",
    "        output = sigmoid(W_3.dot(a_2)+b_3)\n",
    "        \n",
    "        # append to form output\n",
    "        outputs.append(output)\n",
    "    \n",
    "    return np.squeeze(np.asarray(outputs)).reshape(-1,1)"
   ]
  },
  {
   "cell_type": "code",
   "execution_count": 16,
   "metadata": {},
   "outputs": [
    {
     "data": {
      "image/png": "[encoded data removed]",
      "text/plain": [
       "<Figure size 432x288 with 1 Axes>"
      ]
     },
     "metadata": {
      "needs_background": "light"
     },
     "output_type": "display_data"
    }
   ],
   "source": [
    "outputs = simple_network2(inputs)\n",
    "plt.scatter(inputs,outputs,c=labels);"
   ]
  },
  {
   "cell_type": "code",
   "execution_count": null,
   "metadata": {},
   "outputs": [],
   "source": []
  },
  {
   "cell_type": "markdown",
   "metadata": {},
   "source": [
    "## Mini-Batch Notation\n",
    "\n",
    "Note, this implementation runs an example through the network **one-by-one**! Instead, we can imagine feeding our entire dataset through **at once**! This formalism will pave the way for us later to feed in a mini-batch at a time.\n",
    "\n",
    "Lets just reason our way through this one from **first-principles** (fancy way to say: **lets match our matrix sizes!**), seeing how we get our entire dataset through the first hidden layer. \n",
    "\n",
    "The first weight matrix is of size:\n",
    "\n",
    "$$\n",
    "\\mathbf{W}_1: (\\text{size of hidden layer} \\times \\text{dimension of input})\n",
    "$$\n",
    "\n",
    "which in this case is: $3 \\times 1$. If our input was 2-D, it would be $3 \\times 2$. So what we *dot* it with, needs to be of size: $\\text{dimension of input} \\times \\text{??}$. \n",
    "\n",
    "**Its in that dimension that we can place our entire dataset!**\n",
    "\n",
    "So, now we're going to be shuffling **activation matrices** around! In these activation matrices, each **column** is an activation for the last layer on a different training example! \n",
    "\n",
    "![](figures/activation-matrix.png)"
   ]
  },
  {
   "cell_type": "markdown",
   "metadata": {},
   "source": [
    "So we expect the **first activation matrix** to be of size: $\\text{dimension of input} \\times \\text{number of samples}$. This means this must also be the size of the initial input matrix for the first hidden layer. \n",
    "\n",
    "\n",
    "So, we can rewrite our layer propagation equation above for our entire dataset:\n",
    "\n",
    "$$\n",
    "\\boxed{\\mathbf{A}^L = \\sigma(\\mathbf{W}\\mathbf{A}^{L-1} + \\mathbf{b})}\n",
    "$$\n",
    "\n",
    "where we use **broadcasting rules** to let us add a vector $\\mathbf{b}$ to a matrix. \n",
    "\n",
    "---\n",
    "\n",
    "Lets make a special note about the **first hidden layer**, and how it processes our **input matrix**. "
   ]
  },
  {
   "cell_type": "markdown",
   "metadata": {},
   "source": [
    "Typically, we imagine our data matrix such that the first dimension is the `batch_size`:\n",
    "\n",
    "![](figures/X.png)"
   ]
  },
  {
   "cell_type": "markdown",
   "metadata": {},
   "source": [
    "This means **each row** of this matrix, corresponds to **one sample.**\n",
    "\n",
    "So if our data matrix is of size $\\text{batch_size} \\times \\text{dimension}$, in order for our first layer to calculate correctly, **we have to make the sizes work**! Meaning, our first layer should be: \n",
    "\n",
    "$$\n",
    "\\mathbf{A}^1 = \\sigma(\\mathbf{W}^1\\mathbf{X}^T + \\mathbf{b})\n",
    "$$\n",
    "\n",
    "where $X^T$ is:"
   ]
  },
  {
   "cell_type": "markdown",
   "metadata": {},
   "source": [
    "\n",
    "![](figures/X-T.png)\n",
    "\n",
    "<div class=\"info\">\n",
    "    \n",
    "**Note:** Here we **define** the input matrix $X$ to be of size: $N \\times d$. That is why we transpose it in the first layer. This is by no means universal, and different numerical libraries do it differently. You might come across libraries or papers to talks, where the input matrix is defined to be of size $d \\times N$. If that is the case, the first layer does **not** need an $X^T$!\n",
    "\n",
    "</div>"
   ]
  },
  {
   "cell_type": "markdown",
   "metadata": {},
   "source": [
    "Now we can implement this simple network, using this notation! "
   ]
  },
  {
   "cell_type": "code",
   "execution_count": 17,
   "metadata": {},
   "outputs": [],
   "source": [
    "def simple_network2_batch(inputs):\n",
    "    # assume inputs is of shape Nxd\n",
    "    \n",
    "    # initialize weight matrices - notice the dimensions\n",
    "    W_1 = np.random.randn(3,1)\n",
    "    W_2 = np.random.randn(2,3)\n",
    "    W_3 = np.random.randn(1,2)\n",
    "    \n",
    "    # and our biases\n",
    "    b_1 = np.random.randn(3,1)\n",
    "    b_2 = np.random.randn(2,1)\n",
    "    b_3 = np.random.randn(1,1)\n",
    "    \n",
    "    # NOTE - there is no for loop here! \n",
    "    \n",
    "    # layer 1\n",
    "    a_1 = sigmoid(W_1.dot(X.T) + b_1)\n",
    "\n",
    "    # layer 2\n",
    "    a_2 = sigmoid(W_2.dot(a_1)+b_2)\n",
    "\n",
    "    # output layer\n",
    "    output = sigmoid(W_3.dot(a_2)+b_3)\n",
    "    \n",
    "    return np.squeeze(np.asarray(outputs)).reshape(-1,1)"
   ]
  },
  {
   "cell_type": "markdown",
   "metadata": {},
   "source": [
    "Now lets actually run our **entire dataset** through (since we aren't yet dealing with batches), to generate outputs:"
   ]
  },
  {
   "cell_type": "code",
   "execution_count": 18,
   "metadata": {},
   "outputs": [],
   "source": [
    "inputs,labels = toy()\n",
    "y_hat = outputs = simple_network2(inputs)"
   ]
  },
  {
   "cell_type": "markdown",
   "metadata": {},
   "source": [
    "Just for fun, lets plot it! "
   ]
  },
  {
   "cell_type": "code",
   "execution_count": 19,
   "metadata": {},
   "outputs": [
    {
     "data": {
      "image/png": "[encoded data removed]",
      "text/plain": [
       "<Figure size 1080x504 with 2 Axes>"
      ]
     },
     "metadata": {
      "needs_background": "light"
     },
     "output_type": "display_data"
    }
   ],
   "source": [
    "fig,(ax1,ax2) = plt.subplots(1,2,figsize=(15,7))\n",
    "ax1.set_title('Original poits and labels')\n",
    "ax1.scatter(inputs,labels);\n",
    "\n",
    "ax1.set_title('Original poits and Y_Hat')\n",
    "ax2.scatter(inputs,outputs,color='orange');"
   ]
  },
  {
   "cell_type": "markdown",
   "metadata": {},
   "source": [
    "Note the huge difference in our y-axis! This is **without** and training so its bound to be bad! \n",
    "\n",
    "<div class=\"info\">\n",
    "\n",
    "**Pause-and-ponder**: Go back and re run the network above and re-plot the final representation. Notice how random it is! This is because we initialize with random weights, but never actually do any training! \n",
    "    \n",
    "</div>"
   ]
  },
  {
   "cell_type": "code",
   "execution_count": null,
   "metadata": {},
   "outputs": [],
   "source": []
  },
  {
   "cell_type": "markdown",
   "metadata": {},
   "source": [
    "## Dealing with Biases\n",
    "\n",
    "Another very common notational trick people do, as we saw in **linear regression**, was to **add \"another dimension\"** to \"automatically\" deal with our **bias**. \n",
    "\n",
    "Here,  that means adding **another \"node\" to each layer**. This node has **no input, only outputs**, and its **activation is always the value 1**.\n",
    "\n",
    "![](figures/biases.png)"
   ]
  },
  {
   "cell_type": "markdown",
   "metadata": {},
   "source": [
    "<div class=\"info\">\n",
    "\n",
    "**Question**: How does this act as a bias?\n",
    "    \n",
    "</div>\n",
    "\n",
    "Well, lets look at what this means for a particular node. Lets once again highlight the orange node:\n",
    "\n",
    "![](figures/bias-weights.png)"
   ]
  },
  {
   "cell_type": "markdown",
   "metadata": {},
   "source": [
    "What **effect** does this have for this orange nodes update? Well, lets write out what it is:\n",
    "\n",
    "![](figures/bias-weights-eqn.png)"
   ]
  },
  {
   "cell_type": "markdown",
   "metadata": {},
   "source": [
    "So, $\\color{orange}{w}_{\\color{orange}{0},\\color{blue}{3}}$ is **always** being multiplied by the value $1$. This is exactly the role of the bias! \n",
    "\n",
    "![](figures/bias-weights-eqn-simp.png)"
   ]
  },
  {
   "cell_type": "markdown",
   "metadata": {},
   "source": [
    "As we can see, the addition of a constant node in a layer **gives an extra weight to each node in the next layer**. This weight, multiplied by 1, **acts as the bias for each node**. \n",
    "\n",
    "So all we have to do, is **add an extra <font color=\"red\">column</font> to each weight matrix** in our network. (Note: often, this bias is omitted from the final layer).\n",
    "\n",
    "Now, for a layer $L$, the **weight matrix** is of size: $k \\times j+1$, where $k$ is the number of *actual*/*real* hidden nodes in layer $L$, and $j$ is the number of *actual/real* hidden nodes in layer $L-1$. "
   ]
  },
  {
   "cell_type": "markdown",
   "metadata": {},
   "source": [
    "**Note**: often this is drawn with the bias nodes on top of the others, not below. \n",
    "    \n",
    "![](figures/bias-on-top.png)\n",
    "    \n",
    "So we would think of the 0-th weight acting as the bias, so we would add an extra column to the left/right of each weight matrix. Its ultimately the same thing\n",
    " "
   ]
  },
  {
   "cell_type": "markdown",
   "metadata": {},
   "source": [
    "As a sanity check that this works, lets compare the output of the previous implementation with this new notation. To do so, we need to make sure they use the same initialization. Lets take it out of the function and \"make it flat\" so we can easily compare:"
   ]
  },
  {
   "cell_type": "code",
   "execution_count": 20,
   "metadata": {},
   "outputs": [],
   "source": [
    "# W and b network\n",
    "# initialize weight matrices - notice the dimensions\n",
    "W_1 = np.random.randn(3,1)\n",
    "W_2 = np.random.randn(2,3)\n",
    "W_3 = np.random.randn(1,2)\n",
    "\n",
    "# and our biases\n",
    "b_1 = np.random.randn(3,1)\n",
    "b_2 = np.random.randn(2,1)\n",
    "b_3 = np.random.randn(1,1)"
   ]
  },
  {
   "cell_type": "code",
   "execution_count": 21,
   "metadata": {},
   "outputs": [],
   "source": [
    "# W network - adding biases to the right:\n",
    "W_1_b = np.hstack((W_1,b_1))\n",
    "W_2_b = np.hstack((W_2,b_2))\n",
    "W_3_b = np.hstack((W_3,b_3))"
   ]
  },
  {
   "cell_type": "markdown",
   "metadata": {},
   "source": [
    "Lets run the \"old network\" notation:"
   ]
  },
  {
   "cell_type": "code",
   "execution_count": 22,
   "metadata": {},
   "outputs": [],
   "source": [
    "# layer 1\n",
    "a_1_old = sigmoid(W_1.dot(inputs.T) + b_1)\n",
    "\n",
    "# layer 2\n",
    "a_2_old = sigmoid(W_2.dot(a_1_old)+b_2)\n",
    "\n",
    "# output layer\n",
    "output_old = sigmoid(W_3.dot(a_2_old)+b_3)\n",
    "output_old = np.squeeze(np.asarray(output_old)).reshape(-1,1)"
   ]
  },
  {
   "cell_type": "markdown",
   "metadata": {},
   "source": [
    "And now the \"new\" network notation. Note: in order to run the inputs through, we need to add the \"extra dimension of 1's\", as we've done many times before!"
   ]
  },
  {
   "cell_type": "code",
   "execution_count": 23,
   "metadata": {},
   "outputs": [],
   "source": [
    "inputs_new = np.c_[inputs,np.ones(inputs.shape[0])]"
   ]
  },
  {
   "cell_type": "markdown",
   "metadata": {},
   "source": [
    "Now we can go ahead and \"feed it in\""
   ]
  },
  {
   "cell_type": "code",
   "execution_count": 24,
   "metadata": {},
   "outputs": [],
   "source": [
    "# layer 1\n",
    "a_1_new = sigmoid(W_1_b.dot(inputs_new.T))\n",
    "# append the 1 to the end of the previous layers activations:\n",
    "a_1_new = np.r_[a_1_new, np.ones((1,a_1_new.shape[1]))]\n",
    "\n",
    "# layer 2\n",
    "a_2_new = sigmoid(W_2_b.dot(a_1_new))\n",
    "# append the 1 to the end of the previous layers activations:\n",
    "a_2_new = np.r_[a_2_new, np.ones((1,a_2_new.shape[1]))]\n",
    "\n",
    "# output layer\n",
    "output_new = sigmoid(W_3_b.dot(a_2_new))\n",
    "output_new = np.squeeze(np.asarray(output_new)).reshape(-1,1)"
   ]
  },
  {
   "cell_type": "markdown",
   "metadata": {},
   "source": [
    "Lets verify they are both equal:"
   ]
  },
  {
   "cell_type": "code",
   "execution_count": 25,
   "metadata": {},
   "outputs": [
    {
     "data": {
      "text/plain": [
       "True"
      ]
     },
     "execution_count": 25,
     "metadata": {},
     "output_type": "execute_result"
    }
   ],
   "source": [
    "np.equal(output_new,output_old).all()"
   ]
  },
  {
   "cell_type": "markdown",
   "metadata": {},
   "source": [
    "<div class=\"info\">\n",
    "\n",
    "**Note**: This might seem like **a strange hack** - We have to reshape each layers weight matrix, and each layers activation matrix to account for this extra \"1\" flying around everywhere. \n",
    "\n",
    "I will not try to convince you one way or the other which makes the most sense. I'm just explaining it here in case it is useful to you to think of the bias as \"being wrapped up\" in our weight matrix, as it was when we discussed linear regression. \n",
    "    \n",
    "Moving forward, we will **not** be using this notation in the rest of the notebook.\n",
    "\n",
    "</div>"
   ]
  },
  {
   "cell_type": "code",
   "execution_count": null,
   "metadata": {},
   "outputs": [],
   "source": []
  },
  {
   "cell_type": "markdown",
   "metadata": {},
   "source": [
    "## Activation Functions\n",
    "\n",
    "Lets imagine revisiting the previous network structure under different activation functions:"
   ]
  },
  {
   "cell_type": "markdown",
   "metadata": {},
   "source": [
    "### Linear\n",
    "\n",
    "Lets start with a **linear activation** function:"
   ]
  },
  {
   "cell_type": "code",
   "execution_count": 26,
   "metadata": {},
   "outputs": [],
   "source": [
    "def linear(z):\n",
    "    return z"
   ]
  },
  {
   "cell_type": "markdown",
   "metadata": {},
   "source": [
    "This is almost always called a linear activation, but is better thought of as the identity activation - that is, it just returns what it was given, unaltered.\n",
    "\n",
    "What does this mean for the computation our network can perform? \n",
    "\n",
    "Once again, lets flatten our implementation to take a look:"
   ]
  },
  {
   "cell_type": "code",
   "execution_count": 27,
   "metadata": {},
   "outputs": [],
   "source": [
    "inputs,labels = toy()"
   ]
  },
  {
   "cell_type": "code",
   "execution_count": 28,
   "metadata": {},
   "outputs": [],
   "source": [
    "# initialize weight matrices - notice the dimensions\n",
    "W_1 = np.random.randn(3,1)\n",
    "W_2 = np.random.randn(2,3)\n",
    "W_3 = np.random.randn(1,2)\n",
    "\n",
    "# and our biases\n",
    "b_1 = np.random.randn(3,1)\n",
    "b_2 = np.random.randn(2,1)\n",
    "b_3 = np.random.randn(1,1)"
   ]
  },
  {
   "cell_type": "code",
   "execution_count": 29,
   "metadata": {},
   "outputs": [],
   "source": [
    "# layer 1\n",
    "a_1 = linear(W_1.dot(inputs.T) + b_1)\n",
    "\n",
    "# layer 2\n",
    "a_2 = linear(W_2.dot(a_1)+b_2)\n",
    "\n",
    "# output layer\n",
    "outputs = linear(W_3.dot(a_2)+b_3)\n",
    "outputs = np.squeeze(np.asarray(outputs)).reshape(-1,1)"
   ]
  },
  {
   "cell_type": "markdown",
   "metadata": {},
   "source": [
    "Lets plot it:"
   ]
  },
  {
   "cell_type": "code",
   "execution_count": 30,
   "metadata": {},
   "outputs": [
    {
     "data": {
      "image/png": "[encoded data removed]",
      "text/plain": [
       "<Figure size 1080x504 with 2 Axes>"
      ]
     },
     "metadata": {
      "needs_background": "light"
     },
     "output_type": "display_data"
    }
   ],
   "source": [
    "fig,(ax1,ax2) = plt.subplots(1,2,figsize=(15,7))\n",
    "ax1.set_title('Original poits and labels')\n",
    "ax1.scatter(inputs,labels);\n",
    "\n",
    "ax1.set_title('Original poits and Y_Hat')\n",
    "ax2.scatter(inputs,outputs,color='orange');"
   ]
  },
  {
   "cell_type": "markdown",
   "metadata": {},
   "source": [
    "<div class=\"info\">\n",
    "    \n",
    "🧐 **Pause-and-ponder**: Go back and re-run the above a few times. What does this mean?\n",
    "    \n",
    "</div>"
   ]
  },
  {
   "cell_type": "markdown",
   "metadata": {},
   "source": [
    "Remember, what we are visualizing is the inputs and the corresponding output value - what our network has been able to map to.\n",
    "\n",
    "You might be noticing that this is strangely linear! Indeed! With linear activation functions, all we are able to do is calculate some linear combination of our inputs! \n",
    "\n",
    "Lets dig in a bit more, and show what we are actually calculating at Layer $L$:\n",
    "\n",
    "$$\n",
    "A^L = W_3((W_2(W_1X^T + b_1) + b_2) + b_3\n",
    "$$\n",
    "\n",
    "Well, lets distribute this out:\n",
    "$$\n",
    "A^L = W_3W_2W_1X^T + W_3W_2b_1 + W_3b_2 + b_3\n",
    "$$"
   ]
  },
  {
   "cell_type": "markdown",
   "metadata": {},
   "source": [
    "Ok, wait a second... this is getting confusing - lets check to make sure the sizes work out! \n",
    "\n",
    "![](figures/linear-sizes.png)"
   ]
  },
  {
   "cell_type": "markdown",
   "metadata": {},
   "source": [
    "<div class=\"info\">\n",
    "\n",
    "Lets go through this part together in class!\n",
    "\n",
    "</div>"
   ]
  },
  {
   "cell_type": "markdown",
   "metadata": {},
   "source": [
    "Ok! We can see that the sizes do in fact work out!\n",
    "\n",
    "\n",
    "<div class=\"info\">\n",
    "\n",
    "🧐**Pause-and-ponder:** In your resulting equation, perform some clarifying substitutions. What do we discover? \n",
    "    \n",
    "</div>\n",
    "\n",
    "After some substitutions, we can write an equation like the following:\n",
    "\n",
    "$$\n",
    "\\hat{\\mathbf{Y}} = \\mathbf{W}^*X^T + \\mathbf{b}^*\n",
    "$$\n",
    "\n",
    "Which tells us that a NN with only linear activations, is ultimately just another linear function of its inputs! It doesn't matter how deep or wide it is! "
   ]
  },
  {
   "cell_type": "code",
   "execution_count": null,
   "metadata": {},
   "outputs": [],
   "source": []
  },
  {
   "cell_type": "markdown",
   "metadata": {},
   "source": [
    "### A Final Sigmoid\n",
    "\n",
    "Given our understanding above, what would happen if we only add a sigmoid at the end? Something like:\n",
    "\n",
    "![](figures/final-sig.png)\n",
    "\n",
    "<div class=\"info\">\n",
    "\n",
    "🧐**Pause-and-ponder**: What do you think it represents? What is its **representational capacity**? \n",
    "    \n",
    "</div>"
   ]
  },
  {
   "cell_type": "code",
   "execution_count": null,
   "metadata": {},
   "outputs": [],
   "source": []
  },
  {
   "cell_type": "markdown",
   "metadata": {},
   "source": [
    "# Backprop\n",
    "\n",
    "Now that we have a good idea about **forward propagation** we're ready to learn by **backpropagating an error** signal through the network, allowing us to **attribute** \"blame\"/\"error\" to each specific weight/bias in our network. \n",
    "\n",
    "In other words, one way to think of what the result of backprop is as a large vector which tells us which parameters are the most responsible for our error - or phrased another way - which ones we should change, and by how much, and in what direction, in order to get the biggest reduction of our error. "
   ]
  },
  {
   "cell_type": "markdown",
   "metadata": {},
   "source": [
    "## Latex definitions\n",
    "This cell just creates some latex definitions we will need later. \n",
    "$\n",
    "\\newcommand{\\bx}[1]{\\color{purple}{b^{#1}}}\n",
    "\\newcommand{\\bl}{\\color{purple}{b^L}}\n",
    "\\newcommand{\\wx}[1]{\\color{blue}{w^{#1}}}\n",
    "\\newcommand{\\wl}{\\color{blue}{w^L}}\n",
    "\\newcommand{\\wone}{\\color{blue}{w_1}}\n",
    "\\newcommand{\\ax}[1]{\\color{green}{a^{#1}}}\n",
    "\\newcommand{\\al}{\\color{green}{a^L}}\n",
    "\\newcommand{\\zx}[1]{\\color{orange}{z^{#1}}}\n",
    "\\newcommand{\\zl}{\\color{orange}{z^L}}\n",
    "\\newcommand{\\ap}{\\color{green}{a^{L-1}}}\n",
    "\\newcommand{\\czero}{\\color{red}{C_0}}\n",
    "\\newcommand{\\dc}{\\color{red}{\\partial C_0}}\n",
    "\\newcommand{\\dw}[1]{\\color{blue}{\\partial \\wx{#1}}}\n",
    "\\newcommand{\\dz}[1]{\\color{orange}{\\partial \\zx{#1}}}\n",
    "\\newcommand{\\da}[1]{\\color{green}{\\partial \\ax{#1}}}\n",
    "\\newcommand{\\db}[1]{\\color{purple}{\\partial \\bx{#1}}}\n",
    "\\newcommand{\\dap}{\\color{green}{\\partial \\ax{L-1}}}\n",
    "\\newcommand{\\dcdw}[1]{\\frac{\\dc}{\\dw{#1}}}\n",
    "\\newcommand{\\dcdz}[1]{\\frac{\\dc}{\\dz{#1}}}\n",
    "\\newcommand{\\dzdb}[1]{\\frac{\\dz{#1}}{\\db{#1}}}\n",
    "\\newcommand{\\dzdw}[1]{\\frac{\\dz{#1}}{\\dw{#1}}}\n",
    "\\newcommand{\\dadz}[1]{\\frac{\\da{#1}}{\\dz{#1}}}\n",
    "\\newcommand{\\dcda}[1]{\\frac{\\dc}{\\da{#1}}}\n",
    "\\newcommand{\\dcdb}[1]{\\frac{\\dc}{\\db{#1}}}\n",
    "\\newcommand{\\dcdap}{\\frac{\\dc}{\\dap}}\n",
    "\\newcommand{\\deltal}{\\delta^L}\n",
    "\\newcommand{\\deltax}[1]{\\delta^{#1}}\n",
    "$\n",
    "**Note: Make sure you run this cell!**"
   ]
  },
  {
   "cell_type": "code",
   "execution_count": null,
   "metadata": {},
   "outputs": [],
   "source": []
  },
  {
   "cell_type": "markdown",
   "metadata": {},
   "source": [
    "## 1-D Case"
   ]
  },
  {
   "cell_type": "markdown",
   "metadata": {},
   "source": [
    "**Note**: This presentation follows **very closely** these two **fantastic** resources\n",
    "* [3blue1brown - Backpropagation calculus](https://www.youtube.com/watch?v=tIeHLnjs5U8)\n",
    "* [Michael Nielsen - Neural Networks and Deep Learning - Chapter 2](http://neuralnetworksanddeeplearning.com/chap2.html)"
   ]
  },
  {
   "cell_type": "markdown",
   "metadata": {},
   "source": [
    "Lets revisit the simplest network we started with at the beginning of this notebook:\n",
    "\n",
    "![](figures/1d-bp-net.png)\n",
    "\n",
    "**Notation Note**: we're introducing a new notation $\\color{blue}{w_3 = w^L, w_2 = w^{L-1}}, \\ldots$ and we will be using them interchangeably. "
   ]
  },
  {
   "cell_type": "markdown",
   "metadata": {},
   "source": [
    "To focus our discussion, lets just focus on the last two levels, and label their activation values:\n",
    "\n",
    "![](figures/1d-bp-end.png)\n",
    "\n",
    "The output layer defines the \"representation\" our network has created for a specific input: \n",
    "\n",
    "$$\n",
    "\\begin{align}\n",
    "\\zl &= \\wl\\ap+\\bl \\\\\n",
    "\\al &= \\sigma(\\zl)\n",
    "\\end{align}\n",
    "$$\n",
    "\n",
    "Where now we are using color to denote the *kind* of variable we are talking about. For example, activations for any layer are <font color=\"green\">green</font>.\n",
    "\n",
    "So, its with this layers activation that we want to measure our **cost**, on a **specific example** $x_0$ run through our network:\n",
    "\n",
    "$$\n",
    "\\czero = (\\al - y)^2\n",
    "$$\n",
    "\n",
    "Another way to think about this process, is as this **computational graph**:\n",
    "\n",
    "![](figures/1d-bp-graph.png)\n",
    "\n",
    "This tells a \"causal\" story, about what variables are needed to compute other variables. Note: this could be carried even further back through the network, all the way to the inputs! \n",
    "\n",
    "<div class=\"info\">\n",
    "\n",
    "**Note:** This is a \"light weight\"/conceptual **computational graph**. Its a way to introduce the concept of backpropagating partial derivatives through a graph using the chain rule. \n",
    "\n",
    "</div>"
   ]
  },
  {
   "cell_type": "markdown",
   "metadata": {},
   "source": [
    "Lets try to understand exactly what a \"partial derivative\" like $\\dcdw{L}$ is telling us, by associating **a little number line** with each of these variables:\n",
    "\n",
    "![](figures/1d-bp-graph-num-line.png)\n",
    "\n",
    "Pictorially, this is telling us that a little nudge to a weight, results in a nudge to the \"activity\"/$\\zl$ of the neuron (Q: how big/how small of a nudge?), which then results in a nudge to the activation/$\\al$ of the neuron (Q: how big/how small of a nudge?) which then results in a nudge to the total cost of the network (how big/how small of a nudge?).\n",
    "\n",
    "So conceptually, the partial $\\dcdw{L}$ is capturing:\n",
    "\n",
    "![](figures/1d-bp-dcdw.png)"
   ]
  },
  {
   "cell_type": "markdown",
   "metadata": {},
   "source": [
    "### Simulation\n",
    "We actually go ahead and simulate this to better understand what its telling us! Lets start by running an example through our network:"
   ]
  },
  {
   "cell_type": "code",
   "execution_count": 31,
   "metadata": {},
   "outputs": [],
   "source": [
    "inputs,outputs = toy()\n",
    "input,output = inputs[0],outputs[0]"
   ]
  },
  {
   "cell_type": "code",
   "execution_count": 32,
   "metadata": {},
   "outputs": [],
   "source": [
    "# initialize weights\n",
    "w_1 = np.random.randn()\n",
    "w_2 = np.random.randn()\n",
    "w_3 = 1 #exagerating for plotting purposes\n",
    "\n",
    "# and our biases\n",
    "b_1 = np.random.randn()\n",
    "b_2 = np.random.randn()\n",
    "b_3 = np.random.randn()\n",
    "\n",
    "\n",
    "# layer 1\n",
    "z_1 = w_1*input+b_1\n",
    "a_1 = sigmoid(z_1)\n",
    "\n",
    "# layer 2\n",
    "z_2 = w_2*a_1+b_2\n",
    "a_2 = sigmoid(z_2)\n",
    "\n",
    "# output layer\n",
    "z_3 = w_3*a_2+b_3\n",
    "a_3 = sigmoid(z_3)"
   ]
  },
  {
   "cell_type": "code",
   "execution_count": 33,
   "metadata": {},
   "outputs": [],
   "source": [
    "cost_0 = (output - a_3)**2"
   ]
  },
  {
   "cell_type": "markdown",
   "metadata": {},
   "source": [
    "### Nudge $\\color{blue}{w^L}$\n",
    "\n",
    "Now lets give $\\wl$ a \"little nudge\", and see how it propagates through the network! \n",
    "\n",
    "**Note**: This is not really a little nudge. Ive greatly exaggerated it to provide a good looking plot."
   ]
  },
  {
   "cell_type": "code",
   "execution_count": 34,
   "metadata": {},
   "outputs": [],
   "source": [
    "nudge = np.linspace(-5,5,51)\n",
    "z_3_nudged = (w_3 + nudge)*a_2 + b_3\n",
    "a_3_nudged = sigmoid(z_3_nudged)\n",
    "cost_0_nudged = (a_3_nudged - output)**2"
   ]
  },
  {
   "cell_type": "markdown",
   "metadata": {},
   "source": [
    "Lets plot it!"
   ]
  },
  {
   "cell_type": "code",
   "execution_count": 35,
   "metadata": {},
   "outputs": [
    {
     "data": {
      "image/png": "[encoded data removed]",
      "text/plain": [
       "<Figure size 1440x504 with 3 Axes>"
      ]
     },
     "metadata": {
      "needs_background": "light"
     },
     "output_type": "display_data"
    }
   ],
   "source": [
    "fig, (ax1,ax2,ax3) = plt.subplots(1,3,figsize=(20,7),sharex=True)\n",
    "ax1.plot(w_3+nudge,z_3_nudged,c=\"orange\");\n",
    "ax1.scatter(w_3,w_3*a_2+b_3,s=100,c='orange');\n",
    "ax1.set_xlabel('w_3 + nudge');\n",
    "ax1.set_ylabel('z_3');\n",
    "ax1.set_title(\"How a nudge in w_3 affects z_3\")\n",
    "\n",
    "ax2.plot(w_3+nudge, a_3_nudged,c='green');\n",
    "ax2.scatter(w_3,sigmoid(w_3*a_2+b_3),s=100,c='green');\n",
    "ax2.set_xlabel('w_3 + nudge');\n",
    "ax2.set_ylabel('a_3');\n",
    "ax2.set_title(\"How a nudge in a_3 affects z_3\")\n",
    "\n",
    "ax3.plot(w_3+nudge, cost_0_nudged,c='red');\n",
    "ax3.scatter(w_3,(sigmoid(w_3*a_2+b_3)-output)**2,s=100,c='red');\n",
    "ax3.set_xlabel('w_3 + nudge');\n",
    "ax3.set_ylabel('C_0');\n",
    "ax3.set_title(\"How a nudge in w_3 affects C_0\");"
   ]
  },
  {
   "cell_type": "markdown",
   "metadata": {},
   "source": [
    "What is this telling us? That a little nudge in $w_3$ results in very different changes to each the variables down our computational graph! "
   ]
  },
  {
   "cell_type": "markdown",
   "metadata": {},
   "source": [
    "### Nudge $\\color{blue}{w_1}$\n",
    "\n",
    "Lets repeat this simulation, except go **more back/backer** to see how a nudge at $w_1$ affects our output layer and our cost!"
   ]
  },
  {
   "cell_type": "code",
   "execution_count": 36,
   "metadata": {},
   "outputs": [],
   "source": [
    "nudge = np.linspace(-5,5,51)\n",
    "z_1_nudged = (w_1 + nudge)*input + b_1\n",
    "a_1_nudged = sigmoid(z_1_nudged)\n",
    "\n",
    "z_2_nudged = w_2*a_1_nudged + b_2\n",
    "a_2_nudged = sigmoid(z_2_nudged)\n",
    "\n",
    "z_3_nudged = w_3*a_2_nudged + b_3\n",
    "a_3_nudged = sigmoid(z_3_nudged)\n",
    "\n",
    "cost_0_nudged = (a_3_nudged - output)**2"
   ]
  },
  {
   "cell_type": "markdown",
   "metadata": {},
   "source": [
    "Plot it!"
   ]
  },
  {
   "cell_type": "code",
   "execution_count": 37,
   "metadata": {},
   "outputs": [
    {
     "data": {
      "image/png": "[encoded data removed]",
      "text/plain": [
       "<Figure size 1440x504 with 3 Axes>"
      ]
     },
     "metadata": {
      "needs_background": "light"
     },
     "output_type": "display_data"
    }
   ],
   "source": [
    "fig, (ax1,ax2,ax3) = plt.subplots(1,3,figsize=(20,7),sharex=True)\n",
    "\n",
    "ax1.plot(w_1+nudge,z_1_nudged,c=\"orange\");\n",
    "ax1.scatter(w_1,w_1*input+b_1,s=100,c='orange');\n",
    "ax1.set_xlabel('W+nudge');\n",
    "ax1.set_ylabel('z_1');\n",
    "ax1.set_title(\"How a nudge in w_1 affects z_1\")\n",
    "\n",
    "ax2.plot(w_1+nudge, a_3_nudged,c='green');\n",
    "ax2.scatter(w_1,sigmoid(w_3*(sigmoid(w_2*sigmoid(w_1*input+b_1)+b_2))+b_3),s=100,c='green');\n",
    "ax2.set_xlabel('W+nudge');\n",
    "ax2.set_ylabel('a_3');\n",
    "ax2.set_title(\"How a nudge in w_1 affects a_3\")\n",
    "\n",
    "ax3.plot(w_1+nudge, cost_0_nudged,c='red');\n",
    "ax3.scatter(w_1,(sigmoid(w_3*(sigmoid(w_2*sigmoid(w_1*input+b_1)+b_2))+b_3)-output)**2,s=100,c='red');\n",
    "ax3.set_xlabel('W+nudge');\n",
    "ax3.set_ylabel('C_0');\n",
    "ax3.set_title(\"How a nudge in w_1 affects our cost\");"
   ]
  },
  {
   "cell_type": "markdown",
   "metadata": {},
   "source": [
    "Ah, these graphs have are a bit more interesting, so we can point out the following:\n",
    "\n",
    "**Implicit** in all of these graphs are the following idea:\n",
    "\n",
    "$$\n",
    "\\frac{\\text{the amount of change in a dependent variable}}{\\text{the amount of change in a variable that it depends on}}\n",
    "$$\n",
    "\n",
    "Well, this is just the **rate of change** of the graph! Which we might remember! Lets restate this idea for each subplot:\n",
    "\n",
    "The specific rate of change for the first subplot is:\n",
    "\n",
    "$$\n",
    "\\frac{\\text{resulting change in }\\color{orange}{z_1}}{\\text{some amount of change in } \\color{blue}{w_1}} = \\frac{\\color{orange}{\\Delta z_1}}{\\color{blue}{\\Delta w_1}}\n",
    "$$\n",
    "\n",
    "The specific rate of change for the second subplot is:\n",
    "\n",
    "$$\n",
    "\\frac{\\text{resulting change in }\\color{green}{a_3}}{\\text{some amount of change in } \\color{blue}{w_1}} = \\frac{\\color{green}{\\Delta a_3}}{\\color{blue}{\\Delta w_1}}\n",
    "$$\n",
    "\n",
    "\n",
    "The specific rate of change for the third subplot is:\n",
    "\n",
    "$$\n",
    "\\frac{\\text{resulting change in } \\color{red}{C_0}}{\\text{some amount of change in } \\color{blue}{w_1}} = \\frac{\\color{red}{\\Delta C_0}}{\\color{blue}{\\Delta w_1}}\n",
    "$$\n",
    "\n"
   ]
  },
  {
   "cell_type": "markdown",
   "metadata": {},
   "source": [
    "Aha! That last subplot is telling us something about how **sensitive** the cost $\\czero$ is to changes in $\\wone$. This is what we want! \n",
    "\n",
    "We can see that a little change to $\\wone$ to the left/right (depends on random vals), results in a big change to our final cost on this example! \n",
    "\n",
    "This **rate of change**/**derivative** tells us the direction we need to change $\\wone$ in order to reduce our costs!"
   ]
  },
  {
   "cell_type": "markdown",
   "metadata": {},
   "source": [
    "---\n",
    "### We could do better\n",
    "\n",
    "Now, from the plotting code for the last subplot up there you might notice that to generate that last subplot, we basically had to run the entire nudged $\\wone + \\Delta$ all the way through our entire network!\n",
    "\n",
    "We are also reasoning about the derivative by looking at a graph, instead of actually calculating it so that we can use it. \n",
    "\n",
    "Lets see if we can think of a clever scheme of **actually calculating** our partials with respect to our weights: $\\ldots,\\dcdw{L-1},\\dcdw{L}$, by starting with \n",
    "\n",
    "$$\n",
    "\\dcdw{L} = ?\n",
    "$$\n",
    "\n",
    "Lets **bring back our computational graph**:\n",
    "\n",
    "![](figures/1d-bp-graph.png)\n",
    "\n",
    "Lets use the following idea to **decompose our graph** starting from the end/bottom:\n",
    "\n",
    "$$\n",
    "\\frac{\\text{the amount of change in a dependent variable}}{\\text{the amount of change in a variable that it depends on}}\n",
    "$$"
   ]
  },
  {
   "cell_type": "markdown",
   "metadata": {},
   "source": [
    "---\n",
    "Starting at $\\czero$, we have:\n",
    "\n",
    "$$\n",
    "\\dcda{L}\n",
    "$$\n",
    "\n",
    "This object tells us how the cost changes with respect to the final layers activation. Lets calculate it:\n",
    "\n",
    "$$\n",
    "\\begin{align}\n",
    "\\czero &= (\\al - y)^2 \\\\\n",
    "\\dcda{L}  &= 2(\\al -y)\n",
    "\\end{align}\n",
    "$$\n",
    "\n",
    "What happens if $\\al$ is small? Well then it contributes less to our error! \n",
    "\n",
    "So we should focus on making sure that when $\\al$ is large, its correct!\n",
    "\n",
    "\n",
    "<div class=\"info\">\n",
    "\n",
    "🧐**Pause-and-ponder**: What about $\\frac{\\czero}{\\partial y}$ ? What can we say about this?\n",
    "    \n",
    "</div>"
   ]
  },
  {
   "cell_type": "markdown",
   "metadata": {},
   "source": [
    "---\n",
    "According to our computational graph, thats all of the **immediate** \"independent\" variables $\\czero$ has. So lets now switch our focus to $\\al$:\n",
    "\n",
    "$$\n",
    "\\begin{align}\n",
    "\\al &= \\sigma (\\zl) \\\\\n",
    "\\dadz{L} &= \\sigma ^{\\color{red}{\\prime}}(\\zl)\n",
    "\\end{align}\n",
    "$$\n",
    "\n",
    "where $\\sigma^{\\color{red}{\\prime}}(\\cdot)$ is the *derivative* of our sigmoid activation function:\n",
    "\n",
    "$$\n",
    "\\sigma^{\\color{red}{\\prime}}(\\cdot) = \\sigma(\\cdot)(1-\\sigma(\\cdot))\n",
    "$$\n",
    "\n",
    "This lets us rewrite the above as:\n",
    "\n",
    "$$\n",
    "\\begin{align}\n",
    "\\dadz{L} &= \\sigma(\\zl)(1-\\sigma(\\zl))\n",
    "\\end{align}\n",
    "$$"
   ]
  },
  {
   "cell_type": "markdown",
   "metadata": {},
   "source": [
    "---\n",
    "\n",
    "We now have the following partials:\n",
    "\n",
    "$$\n",
    "\\begin{align}\n",
    "\\dcda{L} &: \\text{how changing } \\al \\text{ changes } \\czero \\\\ \\\\\n",
    "\\dadz{L} &: \\text{how changing } \\zl \\text{ changes } \\al\n",
    "\\end{align}\n",
    "$$\n",
    "\n",
    "It shouldn't require too much convincing that we can **multiply** these two objects together to create a new partial:\n",
    "\n",
    "$$\n",
    "\\begin{align}\n",
    "\\dcda{L} \\cdot \\dadz{L} &= \\dcdz{L} \\\\\n",
    "                        &= \\text{how changing } \\zl \\text{ changes } \\czero\n",
    "\\end{align}\n",
    "$$\n",
    "\n",
    "Indeed, the notation itself suggests this by allowing us to \"cancel out\" partials that appear on top and on bottom:\n",
    "\n",
    "\n",
    "<div style=\"text-align:center\">\n",
    "<img src=\"figures/dcdz.png\">\n",
    "</div>\n",
    "\n",
    "The last step is to actually write this out to get an expression for $\\dcdz{L}$:\n",
    "\n",
    "$$\n",
    "\\begin{align}\n",
    "\\dcdz{L} &= \\dadz{L} \\cdot \\dcda{L} \\\\\n",
    "         &= \\underbrace{\\sigma(\\zl)(1-\\sigma(\\zl))}_{\\text{how changing }\\zl\\text{ affects }\\al} \\cdot  \\underbrace{2(\\al -y)}_{\\text{how changing }\\al\\text{ affects }\\czero}\n",
    "\\end{align}\n",
    "$$"
   ]
  },
  {
   "cell_type": "markdown",
   "metadata": {},
   "source": [
    "<div class=\"info\">\n",
    "\n",
    "🧐**Pause-and-ponder**: We have just discovered and applied the **chain rule**! We have used it to **backpropagate** a change at the output of our last layer: $\\dcda{L}$, to a change at the input of the activation function of our last layer: $\\dadz{L}$.\n",
    "\n",
    "</div>"
   ]
  },
  {
   "cell_type": "markdown",
   "metadata": {},
   "source": [
    "<div class=\"info\">\n",
    "    \n",
    "📖**Semi-Definition**: **Backpropagation** can be thought of as applying the chain rule **back** across our computational graph!\n",
    "    \n",
    "</div>"
   ]
  },
  {
   "cell_type": "code",
   "execution_count": null,
   "metadata": {},
   "outputs": [],
   "source": []
  },
  {
   "cell_type": "markdown",
   "metadata": {},
   "source": [
    "---\n",
    "### Lets keep going!\n",
    "\n",
    "So far we've backpropagated once. Lets look at our map so far:\n",
    "\n",
    "![](figures/1d-bp-graph-current.png)"
   ]
  },
  {
   "cell_type": "markdown",
   "metadata": {},
   "source": [
    "Lets keep **backpropagating** (chain-ruling)! We can now look at the inputs $\\zl$ has. Lets focus on one of the most interesting for right now, $\\wl$:\n",
    "\n",
    "$$\n",
    "\\begin{align}\n",
    "\\zl &= \\wl\\ax{L-1}+\\bl \\\\\n",
    "\\dzdw{L} &= \\ax{L-1}\n",
    "\\end{align}\n",
    "$$\n",
    "\n",
    "<div class=\"info\">\n",
    "\n",
    "🧐**Pause-and-ponder**: This derivative has a particularly interesting interpretation. Its saying that the amount a nudge to our weight in the last layer influences the \"activity\" of the last layer, depends on how strong the previous neuron was firing! In other words, if the previous neuron was very active, even a small nudge could cause big changes! But if the previous neuron was always low activation/low firing, then this weight doesn't really matter!\n",
    "    \n",
    "**Note:** This observation is often stated as:\n",
    "    \n",
    "* \"Neurons that fire together, wire together\",\n",
    "* \"Weights between low activation neurons learn very slowly\"\n",
    "\n",
    "</div>"
   ]
  },
  {
   "cell_type": "markdown",
   "metadata": {},
   "source": [
    "With this, we can **chain it** together with our other partials to write an expression for $\\dcdw{L}$:\n",
    "\n",
    "$$\n",
    "\\begin{align}\n",
    "\\dcdw{L} &= \\dzdw{L}\\dcdz{L}\\\\ \\\\\n",
    "         &= \\dzdw{L}\\dadz{L}\\dcda{L} \\\\ \\\\\n",
    "         &= \\underbrace{\\ax{L-1}}_{\\text{how changing }\\wl\\text{ affects } \\zl} \\quad \\underbrace{\\sigma(\\zl)(1-\\sigma(\\zl))}_{\\text{how changing }\\zl\\text{ affects }\\al} \\quad \\underbrace{2(\\al -y)}_{\\text{how changing }\\al\\text{ affects }\\czero}\n",
    "\\end{align}\n",
    "$$\n",
    "\n",
    "Or simply:\n",
    "\n",
    "$$\n",
    "\\begin{align}\n",
    "\\dcdw{L} &= \\dzdw{L}\\dadz{L}\\dcda{L} \\\\ \n",
    "         &= \\left(\\ax{L-1}\\right) \\left(\\sigma(\\zl)(1-\\sigma(\\zl))\\right) \\left(2(\\al -y)\\right)\n",
    "\\end{align}\n",
    "$$\n",
    "\n",
    "<div class=\"info\">\n",
    "\n",
    "🧐**Pause-and-ponder**: From here, can you guess the appropriate equation for $\\dcdb{L}$? \n",
    "    \n",
    "**Hint**:\n",
    "    \n",
    "$$\n",
    "\\frac{\\dc}{?} = \\frac{\\dz{L}}{?}\\dadz{L}\\dcda{L}\n",
    "$$\n",
    "    \n",
    "</div>"
   ]
  },
  {
   "cell_type": "markdown",
   "metadata": {},
   "source": [
    "---\n",
    "Wow! We've come a long way! We finally have an actual expression for how a change to **one of our weights** ($\\wl$) causes a change to our cost **for a single example**.\n",
    "\n",
    "![](figures/1d-bp-graph-wl.png)"
   ]
  },
  {
   "cell_type": "markdown",
   "metadata": {},
   "source": [
    "Lets finish up by using the **hint** I gave above \n",
    "    \n",
    "$$\n",
    "\\frac{\\dc}{?} = \\frac{\\dz{L}}{?}\\dadz{L}\\dcda{L}\n",
    "$$\n",
    "\n",
    "to find an expression for how the cost changes with respect to the **previous layers activity** $\\dcda{L-1}$:\n",
    "\n",
    "$$\n",
    "\\dcda{L-1} = \\underbrace{\\frac{\\dz{L}}{\\da{L-1}}}_{\\text{need to calculate}}\\underbrace{\\dadz{L}\\dcda{L}}_{\\text{already have this}}\n",
    "$$\n",
    "\n",
    "So all we need is an expression for $\\frac{\\dz{L}}{\\da{L-1}}$:\n",
    "\n",
    "$$\n",
    "\\begin{align}\n",
    "\\zl &= \\wl\\ax{L-1}+\\bl \\\\ \n",
    "\\frac{\\dz{L}}{\\da{L-1}} &= \\wl\n",
    "\\end{align}\n",
    "$$\n",
    "\n",
    "Letting us write:\n",
    "\n",
    "$$\n",
    "\\dcda{L-1} = \\left(\\wl\\right) \\left(\\sigma(\\zl)(1-\\sigma(\\zl))\\right) \\left(2(\\al -y)\\right)\n",
    "$$"
   ]
  },
  {
   "cell_type": "markdown",
   "metadata": {},
   "source": [
    "For completion, and as an answer to a previous pause-and-ponder, lets write out the expression for $\\dcdb{L}$:\n",
    "\n",
    "$$\n",
    "\\dcdb{L} = \\dzdb{L}\\dadz{L}\\dcda{L}\n",
    "$$\n",
    "\n",
    "We can get an expression for $\\dzdb{L}$:\n",
    "\n",
    "$$\n",
    "\\begin{align}\n",
    "\\zl      &= \\wl\\ax{L-1}+\\bl \\\\\n",
    "\\dzdb{L} &= 1\n",
    "\\end{align}\n",
    "$$\n",
    "\n",
    "And so\n",
    "$$\n",
    "\\begin{align}\n",
    "\\dcdb{L} &= 1\\cdot\\dadz{L}\\dcda{L}\\\\\n",
    "         &= \\left(\\sigma(\\zl)(1-\\sigma(\\zl))\\right) \\left(2(\\al -y)\\right)\n",
    "\\end{align}\n",
    "$$"
   ]
  },
  {
   "cell_type": "markdown",
   "metadata": {},
   "source": [
    "Lets group this level all together to write all partials for this level:\n",
    "\n",
    "$$\n",
    "\\begin{align}\n",
    "\\dcdw{L}   &= \\left(\\ax{L-1}\\right) &&\\cdot&\\left(\\sigma(\\zl)(1-\\sigma(\\zl))\\right) \\left(2(\\al -y)\\right) \\\\\n",
    "\\dcdb{L}   &= 1 &&\\cdot&\\left(\\sigma(\\zl)(1-\\sigma(\\zl))\\right) \\left(2(\\al -y)\\right) \\\\\n",
    "\\dcda{L-1} &=\\left(\\wl\\right) &&\\cdot&\\left(\\sigma(\\zl)(1-\\sigma(\\zl))\\right) \\left(2(\\al -y)\\right)\n",
    "\\end{align}\n",
    "$$"
   ]
  },
  {
   "cell_type": "markdown",
   "metadata": {},
   "source": [
    "---\n",
    "### Speaking of Error...\n",
    "Aha! We can notice they all have something in common: \n",
    "\n",
    "$$\n",
    "\\dcdz{L}=\\dadz{L}\\dcda{L}\n",
    "$$\n",
    "\n",
    "<div class=\"info\">\n",
    "\n",
    "**Definition**: The **error** associated with layer $L$ is given by:\n",
    "    \n",
    "$$\n",
    "\\deltal = \\dcdz{L}=\\dadz{L}\\dcda{L}\n",
    "$$\n",
    "    \n",
    "often stated simply as:\n",
    "    \n",
    "$$\n",
    "\\deltal = \\dcdz{L}\n",
    "$$\n",
    "    \n",
    "and completely as:\n",
    "    \n",
    "$$\n",
    "\\begin{align}\n",
    "\\deltal &= \\sigma(\\zl)(1-\\sigma(\\zl)) (\\al -y) \\\\\n",
    "        &= \\sigma^{\\color{red}{\\prime}}(\\zl) (\\al-y)\n",
    "\\end{align}\n",
    "$$\n",
    "\n",
    "**Note:** We've discarded that $2$ from the cost as is often done.\n",
    "    \n",
    "</div>"
   ]
  },
  {
   "cell_type": "markdown",
   "metadata": {},
   "source": [
    "<div class=\"info\">\n",
    "\n",
    "🧐**Pause-and-ponder**: Why is this called the error?\n",
    "    \n",
    "</div>"
   ]
  },
  {
   "cell_type": "markdown",
   "metadata": {},
   "source": [
    "This lets rewrite our partials as:\n",
    "\n",
    "$$\n",
    "\\begin{align}\n",
    "\\dcdw{L}   &= \\ax{L-1} \\deltal \\\\\n",
    "\\dcdb{L}   &= \\deltal \\\\\n",
    "\\dcda{L-1} &= \\wl \\deltal\n",
    "\\end{align}\n",
    "$$"
   ]
  },
  {
   "cell_type": "markdown",
   "metadata": {},
   "source": [
    "---\n",
    "### What about the rest?\n",
    "\n",
    "And thats it! We've **finally** finished out how our cost function changes with respect to one layer: $L$. But we've only done one layer! Not to worry! We've discovered backpropagation and the chain rule! So the rest is easy! \n",
    "\n",
    "Lets look at our map\n",
    "\n",
    "![](figures/1d-bp-map-lminus1.png)"
   ]
  },
  {
   "cell_type": "markdown",
   "metadata": {},
   "source": [
    "We've boxed in what we know how to do so far. This also tells us its very straight forward to now give the equations for layer $L-1$:\n",
    "\n",
    "$$\n",
    "\\begin{align}\n",
    "\\dcdw{L-1} &= \\dzdw{L-1} \\dadz{L-1} \\dcda{L-1} \\\\\n",
    "\\dcdb{L-1} &= \\dzdb{L-1} \\dadz{L-1} \\dcda{L-1} \\\\\n",
    "\\dcda{L-2} &= \\frac{\\dz{L-1}}{\\da{L-2}} \\dadz{L-1} \\dcda{L-1}\n",
    "\\end{align}\n",
    "$$"
   ]
  },
  {
   "cell_type": "markdown",
   "metadata": {},
   "source": [
    "---\n",
    "### Fully recursive definition \n",
    "Wow! We again see they have something in common!\n",
    "\n",
    "<div class=\"info\">\n",
    "\n",
    "**Definition**: The error for layer $L-1$ is:\n",
    "    \n",
    "$$\n",
    "\\deltax{L-1} = \\dcdz{L-1}=\\dadz{L-1}\\dcda{L-1}\n",
    "$$\n",
    "    \n",
    "often stated simply as:\n",
    "    \n",
    "$$\n",
    "\\deltax{L-1} = \\dcdz{L-1}\n",
    "$$\n",
    "    \n",
    "</div>"
   ]
  },
  {
   "cell_type": "markdown",
   "metadata": {},
   "source": [
    "We can now restate the above as:\n",
    "\n",
    "$$\n",
    "\\begin{align}\n",
    "\\dcdw{L-1} &= \\ax{L-2} \\deltax{L-1} \\\\\n",
    "\\dcdb{L-1} &=  \\deltax{L-1} \\\\\n",
    "\\dcda{L-2} &= \\wx{L-1} \\deltax{L-1}\n",
    "\\end{align}\n",
    "$$\n"
   ]
  },
  {
   "cell_type": "markdown",
   "metadata": {},
   "source": [
    "That is a **recursive definition** that serves for the rest of the graph!"
   ]
  },
  {
   "cell_type": "markdown",
   "metadata": {},
   "source": [
    "---\n",
    "### But wait...\n",
    "\n",
    "Theres more! Lets bring back the definitions of error for layer $L-1$, and the partials for layer $L$:\n",
    "\n",
    "Partials at layer $L$:\n",
    "\n",
    "$$\n",
    "\\begin{align}\n",
    "\\dcdw{L}   &= \\ax{L-1} \\deltal \\\\\n",
    "\\dcdb{L}   &= \\deltal \\\\\n",
    "\\dcda{L-1} &= \\wl \\deltal\n",
    "\\end{align}\n",
    "$$\n",
    "\n",
    "Error at layer $L-1$:\n",
    "\n",
    "$$\n",
    "\\deltax{L-1} = \\dcdz{L-1}=\\dadz{L-1}\\dcda{L-1}\n",
    "$$\n",
    "\n",
    "Aha! We see something in common again! \n",
    "\n",
    "$$\n",
    "\\boxed{\\dcda{L-1} = \\wl \\deltal}\n",
    "$$\n",
    "\n",
    "$$\n",
    "\\deltax{L-1} = \\dcdz{L-1}=\\dadz{L-1}\\boxed{\\dcda{L-1}}\n",
    "$$\n",
    "\n",
    "Lets sub that in and write:\n",
    "\n",
    "$$\n",
    "\\deltax{L-1} = \\dcdz{L-1}=\\dadz{L-1}\\wl \\deltal\n",
    "$$\n",
    "\n",
    "We've discovered another **major equation!**:\n",
    "\n",
    "<div class=\"info\">\n",
    "\n",
    "📖 **Definition**: The error at **any** layer $L-1$ can be written as a function of the next layer $L$:\n",
    "    \n",
    "$$\n",
    "\\deltax{L-1} = \\wl \\deltal \\cdot \\sigma^{\\color{red}{\\prime}}(\\zx{L-1})\n",
    "$$\n",
    "    \n",
    "</div>\n",
    "\n",
    "For example, for layer $L-2$:\n",
    "\n",
    "$$\n",
    "\\begin{align}\n",
    "\\deltax{L-2} &= \\wx{L-1}\\deltax{L-1}\\sigma^{\\color{red}{\\prime}}(\\zx{L-2}) \\\\\n",
    "             &= \\wx{L-1}\\left[  \\wl \\deltal \\cdot \\sigma^{\\color{red}{\\prime}}(\\zx{L-1}) \\right]\\sigma^{\\color{red}{\\prime}}(\\zx{L-2})\n",
    "\\end{align}\n",
    "$$"
   ]
  },
  {
   "cell_type": "markdown",
   "metadata": {},
   "source": [
    "### The Four Fundamental Backpropagation Equations™\n",
    "\n",
    "We did it! We've completed backprop on this simple 1D network!\n",
    "\n",
    "![](figures/1d-bp-net.png)"
   ]
  },
  {
   "cell_type": "markdown",
   "metadata": {},
   "source": [
    "Lets cap this off by rewriting **scalar versions** of the four fundamental backpropagation equations:\n",
    "\n",
    "<div class=\"info\">\n",
    "    \n",
    "**📖Definition**: **Scalar** versions of the **Four Fundamental Backpropagation Equations™** are given by:\n",
    "    \n",
    "$$\n",
    "\\begin{align}\n",
    "\\delta^L &= (\\al-y) \\cdot \\sigma^{\\color{red}{\\prime}}(\\zl)  \\tag{BP1} \\\\\n",
    "\\deltax{\\ell} &= \\wx{l+1} \\delta^{\\ell+1} \\cdot \\sigma^{\\color{red}{\\prime}}(\\zx{\\ell}) \\tag{BP2} \\\\\n",
    "\\dcdb{\\ell} &= \\delta^{\\ell} \\tag{BP3} \\\\\n",
    "\\dcdw{\\ell} &= \\ax{\\ell-1}\\delta^{\\ell} \\tag{BP4}\n",
    "\\end{align}\n",
    "$$\n",
    "    \n",
    "where $\\ell$ is any layer.\n",
    "\n",
    "</div>\n",
    "\n",
    "\n",
    "\n",
    "Some explanation of each:\n",
    "\n",
    "* BP1 defines the error for the **last layer**. This is the first thing we calculate to perform backprop.\n",
    "* BP2 defines the error for **any layer** $\\ell$ in terms of the error at the next level $\\ell+1$. \n",
    "* BP3 defines the bias update at **any layer** $\\ell$\n",
    "* BP4 defines the weight update at **any layer** $\\ell$"
   ]
  },
  {
   "cell_type": "markdown",
   "metadata": {},
   "source": [
    "BP2 and BP4 have **interesting interpretations** which will become more salient when we get to matrices/vectors, but that we can first describe here:\n",
    "\n",
    "---\n",
    "Lets start with BP2:\n",
    "\n",
    "$$\n",
    "\\deltax{\\ell} = \\wx{l+1} \\delta^{\\ell+1} \\cdot \\sigma^{\\color{red}{\\prime}}(\\zx{\\ell})\n",
    "$$\n",
    "\n",
    "We can think of this as **the** backprop equation, as it clearly captures the backward flow of errors from outputs back through the network! \n",
    "\n",
    "You can also think of BP2 as saying the following: Just as $\\wx{\\ell+1}$ acted on the **activation** of the **previous** layer $\\ax{l}$ to **bring it forward** to the current layer, it acts on the **error** of the **current layer** to **bring it back** to the previous layer! \n",
    " \n",
    "**Note:** This will become a bit more intutive when we get to matrices, as we will see this equation will have a weight matrix in the forward direction, and a **transpose** in the reverse direction\n",
    "\n",
    "---\n",
    "Lets rewrite BP4 as:\n",
    "\n",
    "$$\n",
    "\\dcdw{} = \\color{green}{a_{in}}\\delta_{out}\n",
    "$$\n",
    "\n",
    "\n",
    "where it's understood that $\\color{green}{a_{in}}$ is the activation of the neuron input to the weight $w$, and $\\delta_{out}$ is the **error** of the neuron output from the weight $w$.\n",
    "\n",
    "Clearly, when $\\color{green}{a_{in}}$ is small, then $\\dcdw{}$ is small. This is another way to say that this weight **learns slowly**, meaning that it's not changing much during gradient descent. In other words, one consequence of BP4 is that weights output from low-activation neurons learn slowly."
   ]
  },
  {
   "cell_type": "markdown",
   "metadata": {},
   "source": [
    "<div class=\"info\">\n",
    "\n",
    "🧐**Pause-and-ponder**: What else can we say? Think about what these equations are telling us! \n",
    "    \n",
    "</div>"
   ]
  },
  {
   "cell_type": "code",
   "execution_count": null,
   "metadata": {},
   "outputs": [],
   "source": []
  },
  {
   "cell_type": "markdown",
   "metadata": {},
   "source": [
    "### Implementation\n",
    "\n",
    "We're now ready to go ahead and implement backprop ourselves! \n",
    "\n",
    "<div class=\"info\">\n",
    "\n",
    "💪🏽**Exercise**: Implement this procedure on our toy example!\n",
    "    \n",
    "</div>"
   ]
  },
  {
   "cell_type": "code",
   "execution_count": 38,
   "metadata": {},
   "outputs": [],
   "source": [
    "def backprop_1d():\n",
    "    # EDIT HERE\n",
    "    return"
   ]
  },
  {
   "cell_type": "code",
   "execution_count": null,
   "metadata": {},
   "outputs": [],
   "source": []
  },
  {
   "cell_type": "markdown",
   "metadata": {},
   "source": [
    "<div class=\"info\">\n",
    "\n",
    "🧐**Pause-and-ponder**: Once we've implemented these equations and calculated our partials all the way back through our network, what do we do?! \n",
    "    \n",
    "</div>"
   ]
  },
  {
   "cell_type": "code",
   "execution_count": null,
   "metadata": {},
   "outputs": [],
   "source": []
  },
  {
   "cell_type": "markdown",
   "metadata": {},
   "source": [
    "## Multidimensional case\n",
    "\n",
    "\n",
    "Now things are going to get **interesting**! In our simple toy example, we only had one neuron per layer. This means in our resulting equations everything was just scalar values. "
   ]
  },
  {
   "cell_type": "markdown",
   "metadata": {},
   "source": [
    "### Latex definitions\n",
    "This cell contains more latex definitions. $\n",
    "\\newcommand{\\j}{{j}}\n",
    "\\newcommand{\\k}{{k}}\n",
    "\\newcommand{\\wjkl}{\\color{blue}{w_{\\j,\\k}^L}}\n",
    "\\newcommand{\\ajl}{\\color{green}{a_j^L}}\n",
    "\\newcommand{\\ajx}[1]{\\color{green}{a_j^{#1}}}\n",
    "\\newcommand{\\akx}[1]{\\color{green}{a_k^{#1}}}\n",
    "\\newcommand{\\zjl}{\\color{orange}{z_j^L}}\n",
    "\\newcommand{\\va}{\\color{green}{\\mathbf{a}}}\n",
    "\\newcommand{\\vy}{\\mathbf{y}}\n",
    "\\newcommand{\\vz}{\\color{orange}{\\mathbf{z}}}\n",
    "\\newcommand{\\dwjkl}{\\color{blue}{\\partial w_{\\j,\\k}^L}}\n",
    "\\newcommand{\\dcdwjk}{\\frac{\\dc}{\\dwjkl}}\n",
    "\\newcommand{\\dzjdwjk}{\\frac{\\color{orange}{\\partial z_j^L}}{\\dwjkl}}\n",
    "\\newcommand{\\dajdzj}{\\frac{\\color{green}{\\partial \\ajl}}{\\color{orange}{\\partial z_j^L}}}\n",
    "\\newcommand{\\dcdaj}{\\frac{\\dc}{\\color{green}{\\partial \\ajl}}}\n",
    "\\newcommand{\\dcdakx}[1]{\\frac{\\dc}{\\color{green}{\\partial \\akx{#1}}}}\n",
    "$**Note**: remember to run it!"
   ]
  },
  {
   "cell_type": "markdown",
   "metadata": {},
   "source": [
    "### Notation\n",
    "\n",
    "Now, we have to be a bit more careful! Lets remind ourselves of the notation we used above:\n",
    "\n",
    "![](figures/nd-net.png)"
   ]
  },
  {
   "cell_type": "markdown",
   "metadata": {},
   "source": [
    "Here, we've labeled each neuron by its activation, layer number, and number in layer. For example, $\\ajl$ is neuron $\\j$, in layer $L$, and $\\wjkl$ is the weight that connects neuron $\\k$ in layer $L-1$ to neuron $\\j$ in layer $L$.\n",
    "\n",
    "Now, the **cost** of a single example $\\czero$ is a sum over the activations of all neurons in the last layer:\n",
    "\n",
    "$$\n",
    "\\czero = \\frac{1}{2}\\sum_{\\j} (\\ajl - y_{\\j})^2\n",
    "$$\n",
    "\n",
    "which in vector notation is:\n",
    "\n",
    "$$\n",
    "\\czero = \\frac{1}{2}\\|\\va^L - \\vy\\|^2\n",
    "$$"
   ]
  },
  {
   "cell_type": "markdown",
   "metadata": {},
   "source": [
    "Before going into vector/matrix notation, lets still deal with an **individual weight** in this network: $\\wjkl$, and write out our backprop equation for this single weight:\n",
    "\n",
    "$$\n",
    "\\dcdwjk = \\dzjdwjk \\dajdzj \\dcdaj\n",
    "$$"
   ]
  },
  {
   "cell_type": "markdown",
   "metadata": {},
   "source": [
    "For completion, lets write expressions for each of its pieces.\n",
    "\n",
    "For $\\dcdaj$:\n",
    "\n",
    "$$\n",
    "\\begin{align}\n",
    "\\czero &= \\frac{1}{2}\\sum_{\\j} (\\ajl - y_{\\j})^2 \\\\\n",
    "\\dcdaj &= (\\ajl - y_j)\n",
    "\\end{align}\n",
    "$$\n",
    "\n",
    "For $\\dajdzj$:\n",
    "$$\n",
    "\\begin{align}\n",
    "\\dajdzj = \\sigma(\\zjl)(1-\\zjl)\n",
    "\\end{align}\n",
    "$$\n",
    "\n",
    "For $\\dzjdwjk$:\n",
    "$$\n",
    "\\begin{align}\n",
    "\\zjl     &= \\ldots + \\wjkl \\color{green}{a_k^{L-1}} + \\ldots \\\\\n",
    "\\dzjdwjk & =  \\color{green}{a_k^{L-1}}\n",
    "\\end{align}\n",
    "$$\n",
    "\n",
    "**Note:** Pay particular attention to the $k$ index in the equation above! Remember, our weights are applied to the activations of the previous layer, which we are using $k$ to index!"
   ]
  },
  {
   "cell_type": "markdown",
   "metadata": {},
   "source": [
    "Just as we did above, we can define a **neuron specific error measure** for neuron $j$ in layer $L$ as:\n",
    "\n",
    "$$\n",
    "\\begin{align}\n",
    "\\delta_{j}^L &= \\frac{\\dc}{\\color{orange}{\\partial}\\zjl} \\\\\n",
    "             &= \\dajdzj \\dcdaj \\\\\n",
    "             &= \\sigma(\\zjl)\\sigma(1-\\zjl) (\\ajl - y_j)\n",
    "\\end{align}\n",
    "$$\n",
    "\n",
    "**Note**: pay particular attention to the $j$ index above! This is with respect to the current layer, which we are using $j$ to index!\n",
    "\n",
    "This lets us rewrite the above as:\n",
    "\n",
    "$$\n",
    "\\dcdwjk = \\color{green}{a_k^{L-1}} \\delta_{j}^L\n",
    "$$"
   ]
  },
  {
   "cell_type": "markdown",
   "metadata": {},
   "source": [
    "Above we've given the equation for how the cost changes with a specific weight in our multi dimensional network. Notice how close it is to the 1D case! \n",
    "\n",
    "<div class=\"info\">\n",
    "    \n",
    "💪🏽**Exercise**: Give the equation for $\\frac{\\dc}{\\color{purple}{\\partial b^L_j}}$\n",
    "    \n",
    "</div>"
   ]
  },
  {
   "cell_type": "code",
   "execution_count": null,
   "metadata": {},
   "outputs": [],
   "source": []
  },
  {
   "cell_type": "markdown",
   "metadata": {},
   "source": [
    "Now, lets look at $\\dcdakx{L-1}$. This is asking how the cost varies when we change the activation of a neuron $k$ in layer $L-1$. \n",
    "\n",
    "Just using pattern matching, we might **want** to write:\n",
    "\n",
    "$$\n",
    "\\dcdakx{L-1} \\stackrel{\\color{red}{?}}{=} \\wjkl \\delta_j^L\n",
    "$$\n",
    "\n",
    "But **this is incorrect!** To see why, lets draw a picture showing how nueron $k$ in layer $L-1$ affects the current layer (and therefore the cost):\n",
    "\n",
    "![](figures/2d-ak.png)\n"
   ]
  },
  {
   "cell_type": "markdown",
   "metadata": {},
   "source": [
    "Aha! The activation of neuron $k$ in layer $L-1: \\akx{L-1}$ does **not** just flow through neuron $j$ in layer $L$, it flows through **every single neuron in layer $L$!**\n",
    "\n",
    "So if we want to account for the effect a small nudge to this neuron's activation value has on our cost, we need to account for **each neuron in layer $L$**, and each associated weight! \n",
    "\n",
    "Our correct equation is then:\n",
    "\n",
    "$$\n",
    "\\dcdakx{L-1} = \\sum_j \\left[ \\wjkl \\delta_j^L \\right]\n",
    "$$\n"
   ]
  },
  {
   "cell_type": "code",
   "execution_count": null,
   "metadata": {},
   "outputs": [],
   "source": []
  },
  {
   "cell_type": "markdown",
   "metadata": {},
   "source": [
    "### Implementation\n",
    "\n",
    "Ok! We've gone to the multidimensional case, but still given equations for each individual parameter. So really, its almost exactly as it was in the 1D case!\n",
    "\n",
    "<div class=\"info\">\n",
    "    \n",
    "💪🏽**Exercise**: Implement the backprop equations above! \n",
    "\n",
    "</div>\n",
    "\n",
    "As a hint, some **pseudo-code** for the implementation would be:\n",
    "\n",
    "```\n",
    "# skipping setup\n",
    "# skipping forward pass\n",
    "\n",
    "for sample in inputs:\n",
    "    # last layer\n",
    "    for neuron_j in layer[-1].neurons:\n",
    "        delta_j = # calculate according to formula above\n",
    "        dc_dwj = # calculate according to formula above\n",
    "        dc_dbj = # calculate according to formula above\n",
    "        dc_dak^{L-1} = # calculate according to formula above\n",
    "    \n",
    "    # other layers\n",
    "    for layer in layers-1:\n",
    "        for neuron_j in layer[l].neurons:\n",
    "            delta_j = # calculate according to formula above\n",
    "            dc_dwj = # calculate according to formula above\n",
    "            dc_dbj = # calculate according to formula above\n",
    "            dc_dak^{L-1} = # calculate according to formula above\n",
    "    \n",
    "```"
   ]
  },
  {
   "cell_type": "code",
   "execution_count": null,
   "metadata": {},
   "outputs": [],
   "source": []
  },
  {
   "cell_type": "code",
   "execution_count": null,
   "metadata": {},
   "outputs": [],
   "source": []
  },
  {
   "cell_type": "markdown",
   "metadata": {},
   "source": [
    "## N-D Revisited - Vector Notation\n",
    "\n",
    "Above, we gave specific equations for each parameter in a multi dimensional network. This will work, as your implementation should prove! \n",
    "\n",
    "However, it leaves much to be desired in terms of efficiency, and conciseness, and it doesn't allow us to make full use of the magic of our numerical linear algebra libraries! "
   ]
  },
  {
   "cell_type": "markdown",
   "metadata": {},
   "source": [
    "Lets begin our analysis with our error vector $\\delta_{j}^L$:\n",
    "\n",
    "$$\n",
    "\\begin{align}\n",
    "\\delta_{j}^L &= \\frac{\\dc}{\\color{orange}{\\partial}\\zjl} \\\\\n",
    "             &= \\dajdzj \\dcdaj \\\\\n",
    "             &= \\sigma(\\zjl)\\sigma(1-\\zjl) (\\ajl - y_j) \\\\\n",
    "             &= \\sigma^{\\color{red}{\\prime}}(\\zjl) (\\ajl - y_j)\n",
    "\\end{align}\n",
    "$$\n",
    "where we brought back the $\\sigma^{\\color{red}{\\prime}}(\\cdot)$ notation.\n",
    "\n",
    "\n",
    "We would like to write a **vector** for our error $\\delta^L$, where each component is:\n",
    "\n",
    "$$\n",
    "\\delta^L = \\begin{bmatrix}\n",
    "\\sigma^{\\color{red}{\\prime}}(\\color{orange}{z_1^L}) (\\color{green}{a_1^L} - y_1) \\\\\n",
    "\\cdots \\\\\n",
    "\\sigma^{\\color{red}{\\prime}}(\\zjl) (\\color{green}{a_j^L} - y_j)\\\\\n",
    "\\cdots\n",
    "\\end{bmatrix}\n",
    "$$\n",
    "\n",
    "This is exactly the definition of element-wise product of the following vectors: $\\color{orange}{\\mathbf{z}^L},\\color{green}{\\mathbf{a}^L}$ and $\\vy$:\n",
    "\n",
    "$$\n",
    "\\delta^L = \\sigma^{\\color{red}{\\prime}}(\\color{orange}{\\mathbf{z}^L}) \\odot (\\color{green}{\\mathbf{a}^L} - \\vy)\n",
    "$$\n",
    "\n",
    "where we introduce another piece of notation:\n",
    "\n",
    "<div class=\"info\">\n",
    "\n",
    "📖**Definition**: The **Hadamard product** between two vectors is the element-wise product:\n",
    "    \n",
    "$$\n",
    "\\mathbf{a} \\odot \\mathbf{b} = \n",
    "\\begin{bmatrix}\n",
    "a_1 \\cdot b_1 \\\\\n",
    "\\cdots \\\\\n",
    "a_n \\cdot b_n\n",
    "\\end{bmatrix}\n",
    "$$\n",
    "    \n",
    "</div>"
   ]
  },
  {
   "cell_type": "code",
   "execution_count": null,
   "metadata": {},
   "outputs": [],
   "source": []
  },
  {
   "cell_type": "code",
   "execution_count": null,
   "metadata": {},
   "outputs": [],
   "source": []
  },
  {
   "cell_type": "code",
   "execution_count": null,
   "metadata": {},
   "outputs": [],
   "source": []
  },
  {
   "cell_type": "code",
   "execution_count": null,
   "metadata": {},
   "outputs": [],
   "source": []
  },
  {
   "cell_type": "code",
   "execution_count": null,
   "metadata": {},
   "outputs": [],
   "source": []
  },
  {
   "cell_type": "code",
   "execution_count": null,
   "metadata": {},
   "outputs": [],
   "source": []
  },
  {
   "cell_type": "code",
   "execution_count": null,
   "metadata": {},
   "outputs": [],
   "source": []
  },
  {
   "cell_type": "code",
   "execution_count": null,
   "metadata": {},
   "outputs": [],
   "source": []
  },
  {
   "cell_type": "code",
   "execution_count": null,
   "metadata": {},
   "outputs": [],
   "source": []
  },
  {
   "cell_type": "code",
   "execution_count": null,
   "metadata": {},
   "outputs": [],
   "source": []
  },
  {
   "cell_type": "markdown",
   "metadata": {},
   "source": [
    "## Fully vectorized implementation\n",
    "\n",
    "This implementation follows the details of: \n",
    "* http://ufldl.stanford.edu/tutorial/supervised/MultiLayerNeuralNetworks/\n",
    "* https://www.youtube.com/watch?v=GlcnxUlrtek&list=PLiaHhY2iBX9hdHaRr6b7XevZtgZRa1PoU&index=4&pbjreload=101\n",
    "* https://github.com/stephencwelch/Neural-Networks-Demystified/blob/master/Part%202%20Forward%20Propagation.ipynb\n",
    "* https://www.youtube.com/watch?v=7bLEWDZng_M&list=PLkDaE6sCZn6Ec-XTbcX1uRg2_u4xOEky0&index=33\n",
    "* https://www.youtube.com/watch?v=gl3lfL-g5mA"
   ]
  },
  {
   "cell_type": "code",
   "execution_count": null,
   "metadata": {},
   "outputs": [],
   "source": []
  },
  {
   "cell_type": "markdown",
   "metadata": {},
   "source": [
    "## Additional Resources:\n",
    "\n",
    "* https://news.ycombinator.com/item?id=15782156\n",
    "* https://developers-dot-devsite-v2-prod.appspot.com/machine-learning/crash-course/backprop-scroll"
   ]
  },
  {
   "cell_type": "code",
   "execution_count": null,
   "metadata": {},
   "outputs": [],
   "source": []
  }
 ],
 "metadata": {
  "kernelspec": {
   "display_name": "Python 3",
   "language": "python",
   "name": "python3"
  },
  "language_info": {
   "codemirror_mode": {
    "name": "ipython",
    "version": 3
   },
   "file_extension": ".py",
   "mimetype": "text/x-python",
   "name": "python",
   "nbconvert_exporter": "python",
   "pygments_lexer": "ipython3",
   "version": "3.7.6"
  }
 },
 "nbformat": 4,
 "nbformat_minor": 4
}
