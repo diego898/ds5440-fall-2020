{
 "cells": [
  {
   "cell_type": "markdown",
   "metadata": {},
   "source": [
    "# Introduction to Information Theory\n",
    "\n",
    "In this notebook, we will introduce some of the **basics** of Information Theory! "
   ]
  },
  {
   "cell_type": "code",
   "execution_count": 1,
   "metadata": {},
   "outputs": [],
   "source": [
    "import numpy as np \n",
    "import sklearn\n",
    "import sklearn.datasets\n",
    "import matplotlib as mpl\n",
    "import matplotlib.pyplot as plt\n",
    "from mpl_toolkits.mplot3d import Axes3D\n",
    "from matplotlib import cm\n",
    "import seaborn as sns\n",
    "\n",
    "# for creating animations\n",
    "import matplotlib.animation\n",
    "from IPython.display import HTML"
   ]
  },
  {
   "cell_type": "code",
   "execution_count": 2,
   "metadata": {},
   "outputs": [
    {
     "data": {
      "text/html": [
       "<style>div.info{padding: 15px; border: 1px solid transparent; border-left: 5px solid #dfb5b4; border-color: transparent; margin-bottom: 10px; border-radius: 4px; background-color: #fcf8e3; border-color: #faebcc;}</style>"
      ],
      "text/plain": [
       "<IPython.core.display.HTML object>"
      ]
     },
     "execution_count": 2,
     "metadata": {},
     "output_type": "execute_result"
    }
   ],
   "source": [
    "# styling additions\n",
    "from IPython.display import HTML\n",
    "# style = \"<style>div.warn{background-color: #fcf2f2;border-color: #dFb5b4; border-left: 5px solid #dfb5b4; padding: 0.5em;}</style>\"\n",
    "style = \"<style>div.info{padding: 15px; border: 1px solid transparent; border-left: 5px solid #dfb5b4; border-color: transparent; margin-bottom: 10px; border-radius: 4px; background-color: #fcf8e3; border-color: #faebcc;}</style>\"\n",
    "HTML(style)"
   ]
  },
  {
   "cell_type": "markdown",
   "metadata": {},
   "source": [
    "One of the best non-technical introductions to information theory is [Chris Olah's](https://colah.github.io/about.html) blog post on [Visual Information Theory](https://colah.github.io/posts/2015-09-Visual-Information/). \n",
    "\n",
    "I will borrow some from him here."
   ]
  },
  {
   "cell_type": "markdown",
   "metadata": {},
   "source": [
    "# Average Message Length\n",
    "\n",
    "Lets setup a simple problem: Bob and Alice want to communicate. To keep it simple, say they only want to communicate messages composed of the following 4 words:"
   ]
  },
  {
   "cell_type": "code",
   "execution_count": 3,
   "metadata": {},
   "outputs": [],
   "source": [
    "words = ['dog','cat','fish','bird']"
   ]
  },
  {
   "cell_type": "markdown",
   "metadata": {},
   "source": [
    "Now, they can only do this over a \"wire\", which can either be \"buzzing\" or \"not buzzing\" at any given moment. In other words, the wire can either be $0$ or $1$.\n",
    "\n",
    "<div class=\"info\">\n",
    "\n",
    "<font size=\"7\">🤷🏽‍♂️</font>The main question at hand is how exactly should they **map** their words to **codewords** so that they communicate them **as efficiently as possible?**  \n",
    "\n",
    "</div>\n",
    "\n",
    "Before we worry about efficiency, lets start by assigning them the most obvious set of **codewords** we can come up with now. Since there are 4 possible words we can send, we can assign each word a **2-bit** codeword: "
   ]
  },
  {
   "cell_type": "code",
   "execution_count": 4,
   "metadata": {},
   "outputs": [],
   "source": [
    "decoding_dict = {'00':'dog','01':'cat','10':'fish','11':'bird'}\n",
    "encoding_dict = {v: k for k, v in decoding_dict.items()}    # invert dictionary"
   ]
  },
  {
   "cell_type": "code",
   "execution_count": 5,
   "metadata": {},
   "outputs": [
    {
     "data": {
      "text/plain": [
       "('00', 'dog')"
      ]
     },
     "execution_count": 5,
     "metadata": {},
     "output_type": "execute_result"
    }
   ],
   "source": [
    "encoding_dict['dog'], decoding_dict['00']"
   ]
  },
  {
   "cell_type": "markdown",
   "metadata": {},
   "source": [
    "So now when Bob and Alice want to talk to each other, they use these **codewords**. For example, lets say Alice sent Bob:"
   ]
  },
  {
   "cell_type": "code",
   "execution_count": 6,
   "metadata": {},
   "outputs": [
    {
     "data": {
      "text/plain": [
       "'0001010100000110'"
      ]
     },
     "execution_count": 6,
     "metadata": {},
     "output_type": "execute_result"
    }
   ],
   "source": [
    "codeword_len = 2\n",
    "words_to_send = 8\n",
    "message = [str(np.random.randint(0,2)) for i in range(codeword_len*words_to_send)]\n",
    "message = \"\".join([str(i) for i in message])\n",
    "message"
   ]
  },
  {
   "cell_type": "markdown",
   "metadata": {},
   "source": [
    "And Bob would **decode** this message as:"
   ]
  },
  {
   "cell_type": "code",
   "execution_count": 7,
   "metadata": {},
   "outputs": [
    {
     "name": "stdout",
     "output_type": "stream",
     "text": [
      "dog\n",
      "cat\n",
      "cat\n",
      "cat\n",
      "dog\n",
      "dog\n",
      "cat\n",
      "fish\n"
     ]
    }
   ],
   "source": [
    "for word_num in range(words_to_send):\n",
    "    codeword = message[word_num*codeword_len:word_num*codeword_len+codeword_len]\n",
    "    word = decoding_dict[codeword]\n",
    "    print(word)"
   ]
  },
  {
   "cell_type": "markdown",
   "metadata": {},
   "source": [
    "Under this codeword assignment:"
   ]
  },
  {
   "cell_type": "code",
   "execution_count": 8,
   "metadata": {},
   "outputs": [
    {
     "data": {
      "text/plain": [
       "{'dog': '00', 'cat': '01', 'fish': '10', 'bird': '11'}"
      ]
     },
     "execution_count": 8,
     "metadata": {},
     "output_type": "execute_result"
    }
   ],
   "source": [
    "encoding_dict"
   ]
  },
  {
   "cell_type": "markdown",
   "metadata": {},
   "source": [
    "We can ask ourselves the following: \n",
    "\n",
    "<div class=\"info\">\n",
    "\n",
    "<font size=\"7\">🧐</font>**Pause-and-ponder**: What is the **average** message length under this assignment?\n",
    "    \n",
    "</div>"
   ]
  },
  {
   "cell_type": "markdown",
   "metadata": {},
   "source": [
    "Well, you might have guessed that since each codeword is 2-bits long, the average message length would just be $2 *\\text{number of words}$, you'd be correct! \n",
    "\n",
    "What if the codeword length was 4? etc? \n",
    "\n",
    "Clearly, this is an uninteresting situation! It doesn't seem we can do any better!"
   ]
  },
  {
   "cell_type": "markdown",
   "metadata": {},
   "source": [
    "---\n",
    "\n",
    "Well, **we can't**! And its because we are not using any information about **how often** they want to communicate these words to each other! \n",
    "\n",
    "If we do use this information, then perhaps we can try to design a more efficient scheme! \n",
    "\n",
    "Intuitively, this should make sense. Imagine if Bob and Alice hated fish and birds, so they **never** wanted to communicate anything other than the words **dog** and **cat**. It doesn't matter how many words they **can** communicate, they only want to to send those two. \n",
    "\n",
    "Why would I need to send 2 bits in this case? \n",
    "\n",
    "Intuitively, I'd only need to send 1-bit! "
   ]
  },
  {
   "cell_type": "markdown",
   "metadata": {},
   "source": [
    "## Variable Length Codes\n",
    "\n",
    "Now that we're taking into account the **probability** with which they will send words to each other, we can think about assigning **variable-length codes** to our words! \n",
    "\n",
    "To state it simply, the common-sense™ principle we will follow is: \n",
    "\n",
    "<center>words that are sent more often should have shorter codewords!</center>"
   ]
  },
  {
   "cell_type": "markdown",
   "metadata": {},
   "source": [
    "That seems like a pretty intuitive principle that will **lead us to shorter average message lengths!** Lets use a probability distribution to represent how often we want to send out certain words. For example:\n",
    "\n",
    "![](figures/info-px.png)"
   ]
  },
  {
   "cell_type": "code",
   "execution_count": 9,
   "metadata": {},
   "outputs": [],
   "source": [
    "p_x = [0.5,0.25,0.125,0.125]   #[dog, cat, fish, bird]"
   ]
  },
  {
   "cell_type": "markdown",
   "metadata": {},
   "source": [
    "This means that half the time, they will want to send the word \"dog\", and only 1/8th of the time, will they want to send the word \"bird\". \n",
    "\n",
    "How should we assign the codewords now? \n",
    "\n",
    "<font size=\"7\">🧐</font>\n",
    "\n",
    "Before we go further, lets define some functions that will be useful to us:"
   ]
  },
  {
   "cell_type": "code",
   "execution_count": 10,
   "metadata": {},
   "outputs": [],
   "source": [
    "def encode(orig_message,encoding_dict):\n",
    "    encoded_message = []\n",
    "    \n",
    "    for word in orig_message:\n",
    "        encoded_message.append(encoding_dict[word])\n",
    "    \n",
    "    return encoded_message\n",
    "\n",
    "\n",
    "def decode(encoded_message,decoding_dict):\n",
    "    decoded_message = []\n",
    "    \n",
    "    for codeword in encoded_message:\n",
    "        decoded_message.append(decoding_dict[codeword])\n",
    "    \n",
    "    return decoded_message"
   ]
  },
  {
   "cell_type": "markdown",
   "metadata": {},
   "source": [
    "Lets verify they work as we expect:"
   ]
  },
  {
   "cell_type": "code",
   "execution_count": 11,
   "metadata": {},
   "outputs": [],
   "source": [
    "decoding_dict = {'00':'dog','01':'cat','10':'fish','11':'bird'}\n",
    "encoding_dict = {v: k for k, v in decoding_dict.items()}    # invert dictionary"
   ]
  },
  {
   "cell_type": "code",
   "execution_count": 12,
   "metadata": {},
   "outputs": [
    {
     "data": {
      "text/plain": [
       "['01', '11', '00']"
      ]
     },
     "execution_count": 12,
     "metadata": {},
     "output_type": "execute_result"
    }
   ],
   "source": [
    "message = ['cat', 'bird', 'dog']\n",
    "encoded_message = encode(message,encoding_dict)\n",
    "encoded_message"
   ]
  },
  {
   "cell_type": "code",
   "execution_count": 13,
   "metadata": {},
   "outputs": [
    {
     "data": {
      "text/plain": [
       "['cat', 'bird', 'dog']"
      ]
     },
     "execution_count": 13,
     "metadata": {},
     "output_type": "execute_result"
    }
   ],
   "source": [
    "decoded_message = decode(encoded_message,decoding_dict)\n",
    "decoded_message"
   ]
  },
  {
   "cell_type": "markdown",
   "metadata": {},
   "source": [
    "Perfect! They work! Now lets write a function to **calculate our average message length!** "
   ]
  },
  {
   "cell_type": "code",
   "execution_count": 14,
   "metadata": {},
   "outputs": [],
   "source": [
    "def average_message_length(encoded_message):\n",
    "    message_length = 0\n",
    "    for codeword in encoded_message:\n",
    "        message_length += len(codeword)\n",
    "    return message_length/len(encoded_message)"
   ]
  },
  {
   "cell_type": "code",
   "execution_count": 15,
   "metadata": {},
   "outputs": [
    {
     "data": {
      "text/plain": [
       "2.0"
      ]
     },
     "execution_count": 15,
     "metadata": {},
     "output_type": "execute_result"
    }
   ],
   "source": [
    "average_message_length(encoded_message)"
   ]
  },
  {
   "cell_type": "markdown",
   "metadata": {},
   "source": [
    "Its what we expected in the \"boring\" case. \n",
    "\n",
    "Great! Now we can continue. "
   ]
  },
  {
   "cell_type": "markdown",
   "metadata": {},
   "source": [
    "Lets try the following **variable length** scheme:\n",
    "\n",
    "![](figures/info-variable-code.png)"
   ]
  },
  {
   "cell_type": "markdown",
   "metadata": {},
   "source": [
    "We see here, we're assigning dog a shorter codeword, since we want to send it more often. But this means, we will have to assign bird a longer one! Thats ok, since we only send it infrequently. \n",
    "\n",
    "A technical point I'm happy to skip - we are focusing on **prefix free** codes. This is a fancy way yo say, the codes are uniquely decodable without any \"separator\" or \"prefix\".  \n",
    "\n",
    "For example, how can we decode the message `011010100`? How about `011010110`?\n",
    "\n",
    "Ok lets continue:"
   ]
  },
  {
   "cell_type": "code",
   "execution_count": 16,
   "metadata": {},
   "outputs": [],
   "source": [
    "decoding_dict = {'0':'dog','10':'cat','110':'fish','111':'bird'}\n",
    "encoding_dict = {v: k for k, v in decoding_dict.items()}    # invert dictionary"
   ]
  },
  {
   "cell_type": "code",
   "execution_count": 17,
   "metadata": {},
   "outputs": [
    {
     "data": {
      "text/plain": [
       "['110', '110', '0']"
      ]
     },
     "execution_count": 17,
     "metadata": {},
     "output_type": "execute_result"
    }
   ],
   "source": [
    "message = ['fish','fish','dog']\n",
    "encoded_message = encode(message,encoding_dict)\n",
    "encoded_message"
   ]
  },
  {
   "cell_type": "code",
   "execution_count": 18,
   "metadata": {},
   "outputs": [
    {
     "data": {
      "text/plain": [
       "['fish', 'fish', 'dog']"
      ]
     },
     "execution_count": 18,
     "metadata": {},
     "output_type": "execute_result"
    }
   ],
   "source": [
    "decoded_message = decode(encoded_message,decoding_dict)\n",
    "decoded_message"
   ]
  },
  {
   "cell_type": "code",
   "execution_count": 19,
   "metadata": {},
   "outputs": [
    {
     "data": {
      "text/plain": [
       "2.3333333333333335"
      ]
     },
     "execution_count": 19,
     "metadata": {},
     "output_type": "execute_result"
    }
   ],
   "source": [
    "average_message_length(encoded_message)"
   ]
  },
  {
   "cell_type": "markdown",
   "metadata": {},
   "source": [
    "<font size=\"7\">🧐</font> \n",
    "\n",
    "This doesn't seem shorter.\n",
    "\n",
    "Lets take a **larger average!**\n",
    "\n",
    "To do so, lets first create a large message "
   ]
  },
  {
   "cell_type": "code",
   "execution_count": 20,
   "metadata": {},
   "outputs": [],
   "source": [
    "num_words = 2000\n",
    "message = np.random.choice(['dog', 'cat', 'fish', 'bird'],size=num_words,p=p_x)\n",
    "encoded_message = encode(message,encoding_dict)"
   ]
  },
  {
   "cell_type": "code",
   "execution_count": 21,
   "metadata": {},
   "outputs": [
    {
     "data": {
      "text/plain": [
       "['0', '10', '0', '0', '0', '0', '10', '0', '111', '0']"
      ]
     },
     "execution_count": 21,
     "metadata": {},
     "output_type": "execute_result"
    }
   ],
   "source": [
    "encoded_message[0:10]"
   ]
  },
  {
   "cell_type": "markdown",
   "metadata": {},
   "source": [
    "Ok, now lets measure our average message length:"
   ]
  },
  {
   "cell_type": "code",
   "execution_count": 22,
   "metadata": {},
   "outputs": [
    {
     "data": {
      "text/plain": [
       "1.7635"
      ]
     },
     "execution_count": 22,
     "metadata": {},
     "output_type": "execute_result"
    }
   ],
   "source": [
    "average_message_length(encoded_message)"
   ]
  },
  {
   "cell_type": "markdown",
   "metadata": {},
   "source": [
    "Aha! So we see that **when we take into account the distribution**, we can get a more optimal encoding! "
   ]
  },
  {
   "cell_type": "markdown",
   "metadata": {},
   "source": [
    "The question now becomes:\n",
    "\n",
    "<div class=\"info\">\n",
    "\n",
    "<font size=\"7\">🤷🏽‍♂️</font>Is there some fundamental limit to how small we can make this?\n",
    "\n",
    "</div>"
   ]
  },
  {
   "cell_type": "markdown",
   "metadata": {},
   "source": [
    "Before we give the theoretical answer, lets see if there is an empirical answer!"
   ]
  },
  {
   "cell_type": "code",
   "execution_count": 23,
   "metadata": {},
   "outputs": [],
   "source": [
    "averages = []\n",
    "for power in range(8):\n",
    "    num_words = 10**power\n",
    "    message = np.random.choice(['dog', 'cat', 'fish', 'bird'],size=num_words,p=p_x)\n",
    "    encoded_message = encode(message,encoding_dict)\n",
    "    averages.append(average_message_length(encoded_message))"
   ]
  },
  {
   "cell_type": "code",
   "execution_count": 24,
   "metadata": {},
   "outputs": [
    {
     "data": {
      "image/png": "[encoded data removed]",
      "text/plain": [
       "<Figure size 432x288 with 1 Axes>"
      ]
     },
     "metadata": {
      "needs_background": "light"
     },
     "output_type": "display_data"
    }
   ],
   "source": [
    "plt.plot(averages);"
   ]
  },
  {
   "cell_type": "markdown",
   "metadata": {},
   "source": [
    "It does seem we are \"converging\" to something! \n",
    "\n",
    "Indeed - we are converging to the **entropy**! "
   ]
  },
  {
   "cell_type": "markdown",
   "metadata": {},
   "source": [
    "# Entropy \n",
    "\n",
    "<div class=\"info\">\n",
    "\n",
    "<font size=\"7\">📜</font>**Definition**: The **entropy** of a random variable $X$ with distribution $p$ is given by:\n",
    "    \n",
    "$$\n",
    "\\begin{align}\n",
    "H(X) = H(p) &= \\sum_x p(x)\\log \\frac{1}{p(x)} \\\\\n",
    "            &= \\color{red}{-} \\sum_x p(x)\\log p(x)\n",
    "\\end{align}\n",
    "$$\n",
    "    \n",
    "</div>"
   ]
  },
  {
   "cell_type": "markdown",
   "metadata": {},
   "source": [
    "We just gave its technical definition. In the section above, we also introduced entropy through one if its many **operational definitions**. Here are a few more:\n",
    "\n",
    "<div class=\"info\">\n",
    "\n",
    "<font size=\"7\">🙇🏽‍♂️</font>The **entropy** of a random variable $X$ (or a distribution $p$), can be thought of as:\n",
    "\n",
    "* the **compression limit/compressibility** of that random variable!\n",
    "* the **average** amount of **surprise** we feel at observing an outcome!\n",
    "    \n",
    "</div>\n",
    "\n",
    "Lets pause here to discuss these! "
   ]
  },
  {
   "cell_type": "markdown",
   "metadata": {},
   "source": [
    "To help us out, lets break down the entropy formula. Can you see the average? What is it an average of? \n",
    "\n",
    "Lets define another term that might help:\n",
    "<div class=\"info\">\n",
    "\n",
    "<font size=\"7\">📜</font>**Definition**: The **information content** of **an observation** is given by:\n",
    "    \n",
    "$$\n",
    "\\text{info}(x) = -\\log p(x) = \\log \\frac{1}{p(x)}\n",
    "$$\n",
    "\n",
    "</div>\n",
    "\n",
    "What does this look like as a function of $p(x)$?"
   ]
  },
  {
   "cell_type": "code",
   "execution_count": 25,
   "metadata": {},
   "outputs": [
    {
     "data": {
      "image/png": "[encoded data removed]",
      "text/plain": [
       "<Figure size 432x288 with 1 Axes>"
      ]
     },
     "metadata": {
      "needs_background": "light"
     },
     "output_type": "display_data"
    }
   ],
   "source": [
    "plt.plot(np.linspace(1e-4,1),-np.log2(np.linspace(1e-4,1)));"
   ]
  },
  {
   "cell_type": "markdown",
   "metadata": {},
   "source": [
    "What do you observe? Lets discuss!\n",
    "\n",
    "Why is this called the \"surprise\"? "
   ]
  },
  {
   "cell_type": "markdown",
   "metadata": {},
   "source": [
    "Now, we can rewrite the entropy directly as:\n",
    "\n",
    "$$\n",
    "H(X) = \\sum_x p(x) \\; \\text{info}(x)\n",
    "$$\n",
    "\n",
    "And it clearly becomes the average \"information content\"!"
   ]
  },
  {
   "cell_type": "markdown",
   "metadata": {},
   "source": [
    "---\n",
    "\n",
    "With this working definition in hand, lets try and measure the entropy of simple examples."
   ]
  },
  {
   "cell_type": "markdown",
   "metadata": {},
   "source": [
    "## Coins\n",
    "Lets start with a really unfair coin. It will almost always come up heads:"
   ]
  },
  {
   "cell_type": "code",
   "execution_count": 26,
   "metadata": {},
   "outputs": [],
   "source": [
    "p_x = [0.99,0.01] # H,T"
   ]
  },
  {
   "cell_type": "markdown",
   "metadata": {},
   "source": [
    "What is the information associated with a heads?"
   ]
  },
  {
   "cell_type": "code",
   "execution_count": 27,
   "metadata": {},
   "outputs": [
    {
     "data": {
      "text/plain": [
       "0.014499569695115089"
      ]
     },
     "execution_count": 27,
     "metadata": {},
     "output_type": "execute_result"
    }
   ],
   "source": [
    "-np.log2(0.99)"
   ]
  },
  {
   "cell_type": "markdown",
   "metadata": {},
   "source": [
    "What about a tails?    "
   ]
  },
  {
   "cell_type": "code",
   "execution_count": 28,
   "metadata": {},
   "outputs": [
    {
     "data": {
      "text/plain": [
       "6.643856189774724"
      ]
     },
     "execution_count": 28,
     "metadata": {},
     "output_type": "execute_result"
    }
   ],
   "source": [
    "-np.log2(0.01)"
   ]
  },
  {
   "cell_type": "markdown",
   "metadata": {},
   "source": [
    "Whoa! We are much more surprised when we see a tails than when we see a heads! \n",
    "\n",
    "Does this make sense?"
   ]
  },
  {
   "cell_type": "markdown",
   "metadata": {},
   "source": [
    "Ok, but **how surprised are we on average?**"
   ]
  },
  {
   "cell_type": "markdown",
   "metadata": {},
   "source": [
    "In other words, bringing back our operational definitions:\n",
    "\n",
    "* how much can we \"compress\" this unfair coin? \n",
    "* how surprised are we at observing an average coin flip from this distribution?\n",
    "\n",
    "Hm. Lets calculate it, and see if it matches our intuitions:"
   ]
  },
  {
   "cell_type": "code",
   "execution_count": 29,
   "metadata": {},
   "outputs": [
    {
     "data": {
      "text/plain": [
       "0.08079313589591126"
      ]
     },
     "execution_count": 29,
     "metadata": {},
     "output_type": "execute_result"
    }
   ],
   "source": [
    "0.01*np.log2(1/0.01) + 0.99*np.log2(1/0.99)"
   ]
  },
  {
   "cell_type": "markdown",
   "metadata": {},
   "source": [
    "Hm. That doesn't seem like very much - does that match our intuitions above? \n",
    "\n",
    "What about a fair coin? How much information, in bits, do you expect a fair coin to have?\n",
    "\n",
    "Lets calculate! "
   ]
  },
  {
   "cell_type": "code",
   "execution_count": 30,
   "metadata": {},
   "outputs": [],
   "source": [
    "p_x = [0.5, 0.5]"
   ]
  },
  {
   "cell_type": "code",
   "execution_count": 31,
   "metadata": {},
   "outputs": [
    {
     "data": {
      "text/plain": [
       "1.0"
      ]
     },
     "execution_count": 31,
     "metadata": {},
     "output_type": "execute_result"
    }
   ],
   "source": [
    "0.5*np.log2(1/0.5) + 0.5*np.log2(1/0.5)"
   ]
  },
  {
   "cell_type": "markdown",
   "metadata": {},
   "source": [
    "Does this match our intuition?\n",
    "\n",
    "Lets plot this function, as a function of the probability of heads:"
   ]
  },
  {
   "cell_type": "code",
   "execution_count": 32,
   "metadata": {},
   "outputs": [],
   "source": [
    "def entropy_coin_flip(prob_heads):\n",
    "    q = 1-p\n",
    "    H = p*np.log2(1/p) + q*np.log2(1/q)\n",
    "    return H"
   ]
  },
  {
   "cell_type": "code",
   "execution_count": 33,
   "metadata": {},
   "outputs": [
    {
     "data": {
      "image/png": "[encoded data removed]",
      "text/plain": [
       "<Figure size 432x288 with 1 Axes>"
      ]
     },
     "metadata": {
      "needs_background": "light"
     },
     "output_type": "display_data"
    }
   ],
   "source": [
    "p = np.linspace(1e-4,1-1e-4)\n",
    "plt.plot(p,entropy_coin_flip(p));"
   ]
  },
  {
   "cell_type": "markdown",
   "metadata": {},
   "source": [
    "What do you observe here?"
   ]
  },
  {
   "cell_type": "markdown",
   "metadata": {},
   "source": [
    "# Cross-Entropy \n",
    "\n",
    "Ok! Lets continue our discussion. In the example above, Bob and Alice used the same $p_x$ to speak to each other, so they could design a code that was super efficient! \n",
    "\n",
    "Now imagine, that Bob and Alice actually have different distributions of words they want to use:\n",
    "\n",
    "![](figures/info-cross-entropy-dist.png)"
   ]
  },
  {
   "cell_type": "code",
   "execution_count": 34,
   "metadata": {},
   "outputs": [],
   "source": [
    "bob_p_x = [0.5, 0.25, 0.125, 0.125]"
   ]
  },
  {
   "cell_type": "code",
   "execution_count": 35,
   "metadata": {},
   "outputs": [],
   "source": [
    "alice_q_x = [0.125, 0.5, 0.25, 0.125]"
   ]
  },
  {
   "cell_type": "markdown",
   "metadata": {},
   "source": [
    "So we see, Bob will use Dog much more frequently, and Alice will use Cat much more frequently. \n",
    "\n",
    "<div class=\"info\">\n",
    "\n",
    "<font size=\"7\">🤷🏽‍♂️</font>**Pause-and-ponder**: What do you expect the entropy of $q_x$ is? How will it compare to $p_x$? \n",
    "    \n",
    "</div>\n",
    "\n",
    "Having answered that, now the question becomes: \n",
    "* What happens if we design a code using $p_x$, but communicate using $q_x$? How \"inefficient\" will we be?\n",
    "* What about the other way around?\n",
    "\n",
    "Before we give theoretical statements/formulas, lets measure! "
   ]
  },
  {
   "cell_type": "code",
   "execution_count": 36,
   "metadata": {},
   "outputs": [],
   "source": [
    "bob_decoding_dict = {'0':'dog','10':'cat','110':'fish','111':'bird'}\n",
    "bob_encoding_dict = {v: k for k, v in bob_decoding_dict.items()}    # invert dictionary"
   ]
  },
  {
   "cell_type": "code",
   "execution_count": 37,
   "metadata": {},
   "outputs": [],
   "source": [
    "alice_decoding_dict = {'0':'cat','10':'fish','110':'dog','111':'bird'}\n",
    "alice_encoding_dict = {v: k for k, v in alice_decoding_dict.items()}    # invert dictionary"
   ]
  },
  {
   "cell_type": "markdown",
   "metadata": {},
   "source": [
    "Lets first use Bob's encoding for a message taken from Alice's distribution:"
   ]
  },
  {
   "cell_type": "code",
   "execution_count": 38,
   "metadata": {},
   "outputs": [
    {
     "data": {
      "text/plain": [
       "2.226"
      ]
     },
     "execution_count": 38,
     "metadata": {},
     "output_type": "execute_result"
    }
   ],
   "source": [
    "num_words = 2000\n",
    "alice_message = np.random.choice(['dog', 'cat', 'fish', 'bird'],size=num_words,p=alice_q_x)\n",
    "encoded_message = encode(alice_message,bob_encoding_dict)\n",
    "average_message_length(encoded_message)"
   ]
  },
  {
   "cell_type": "markdown",
   "metadata": {},
   "source": [
    "Aha! We **are** being inefficient! We are spending more bits than we need to! \n",
    "\n",
    "Lets measure the other way around:"
   ]
  },
  {
   "cell_type": "code",
   "execution_count": 39,
   "metadata": {},
   "outputs": [
    {
     "data": {
      "text/plain": [
       "2.3905"
      ]
     },
     "execution_count": 39,
     "metadata": {},
     "output_type": "execute_result"
    }
   ],
   "source": [
    "num_words = 2000\n",
    "bob_message = np.random.choice(['dog', 'cat', 'fish', 'bird'],size=num_words,p=bob_p_x)\n",
    "encoded_message = encode(bob_message,alice_encoding_dict)\n",
    "average_message_length(encoded_message)"
   ]
  },
  {
   "cell_type": "markdown",
   "metadata": {},
   "source": [
    "Aha! They are not the same! And they are both not the \"real\" entropy! \n",
    "\n",
    "What are they?\n",
    "\n",
    "We have discovered the **cross-entropy**:\n",
    "\n",
    "<div class=\"info\">\n",
    "\n",
    "<font size=\"7\">📜</font>**Definition**: The **cross-entropy** between two distributions $p$ and $q$ is given by:\n",
    "    \n",
    "$$\n",
    "\\begin{align}\n",
    "H_p(q) &= \\sum_x q(x) \\log_2 \\frac{1}{p(x)} \\\\\n",
    "       &= - \\sum_x q(x) \\log_2 p(x)\n",
    "\\end{align}\n",
    "$$\n",
    "\n",
    "You can think of this as:\n",
    "\n",
    "<center>How costly is it to use an optimal code for $p$, for messages coming from $q$?</center>\n",
    "\n",
    "<br/>\n",
    "\n",
    "---\n",
    "    \n",
    "By symmetry, we can also define the other way around:\n",
    "\n",
    "$$\n",
    "\\begin{align}\n",
    "H_q(p) &= \\sum_x p(x) \\log_2 \\frac{1}{q(x)} \\\\\n",
    "       &= - \\sum_x p(x) \\log_2 q(x)\n",
    "\\end{align}\n",
    "$$\n",
    "     \n",
    "You can think of this as:\n",
    "\n",
    "<center>How costly is it to use an optimal code for $q$, for messages coming from $p$?</center>\n",
    "    \n",
    "</div>"
   ]
  },
  {
   "cell_type": "markdown",
   "metadata": {},
   "source": [
    "Aha! We can see immediately why they are not symmetric - one is an expectation with respect to $p$, the other is with respect to $q$! \n",
    "\n",
    "Lets calculate: \n",
    "\n",
    "$$\n",
    "H_p(q) = H_{\\text{bob}}(\\text{alice}) = \\text{Using Alice's code for bob's messages}\n",
    "$$\n",
    "\n",
    "Plugging in we have:\n",
    "$$\n",
    "\\begin{align}\n",
    "H_p(q) &= -\\left[ p(dog)\\log q(dog) + p(cat)\\log q(cat) + p(fish)\\log q(fish) + p(bird)\\log q(bird) \\right]\\\\\n",
    "       &= -\\left[0.5 \\log 0.125 + 0.25 \\log 0.5 + 0.125 \\log 0.25 + 0.125 \\log 0.125\n",
    "       \\right]\n",
    "\\end{align}\n",
    "$$"
   ]
  },
  {
   "cell_type": "code",
   "execution_count": 40,
   "metadata": {},
   "outputs": [
    {
     "data": {
      "text/plain": [
       "2.375"
      ]
     },
     "execution_count": 40,
     "metadata": {},
     "output_type": "execute_result"
    }
   ],
   "source": [
    "H_p_q = -(0.5*np.log2(0.125) + 0.25*np.log2(0.5) + \\\n",
    "          0.125*np.log2(0.25) + 0.125*np.log2(0.125))\n",
    "H_p_q"
   ]
  },
  {
   "cell_type": "markdown",
   "metadata": {},
   "source": [
    "And the other way around we have:\n",
    "\n",
    "$$\n",
    "H_q(p) = H_{\\text{alice}}(\\text{bob}) =  \\text{Using Bob's code for Alice's messages}\n",
    "$$\n",
    "\n",
    "plugging in we have:\n",
    "\n",
    "$$\n",
    "\\begin{align}\n",
    "H_q(p) &= -\\left[ q(dog)\\log p(dog) + q(cat)\\log p(cat) + q(fish)\\log p(fish) + q(bird)\\log p(bird) \\right]\\\\\n",
    "       &= -\\left[0.125 \\log 0.5 + 0.5 \\log 0.25 + 0.25 \\log 0.125 + 0.125 \\log 0.125\n",
    "       \\right]\n",
    "\\end{align}\n",
    "$$"
   ]
  },
  {
   "cell_type": "code",
   "execution_count": 41,
   "metadata": {},
   "outputs": [
    {
     "data": {
      "text/plain": [
       "2.25"
      ]
     },
     "execution_count": 41,
     "metadata": {},
     "output_type": "execute_result"
    }
   ],
   "source": [
    "H_q_p = -(0.125*np.log2(0.5) + 0.5*np.log2(0.25) + \\\n",
    "          0.25*np.log2(0.125) + 0.125*np.log2(0.125))\n",
    "H_q_p"
   ]
  },
  {
   "cell_type": "markdown",
   "metadata": {},
   "source": [
    "So we have:\n",
    "\n",
    "* Bob using his own code: 1.75 bits\n",
    "* Alice using her own code: 1.75 bits\n",
    "* Bob using Alice's code: 2.375\n",
    "* Alice using Bob's code: 2.25 bits\n",
    "\n",
    "Wow! \n",
    "\n",
    "Why do you think this is non symmetric?"
   ]
  },
  {
   "cell_type": "markdown",
   "metadata": {},
   "source": [
    "---\n",
    "\n",
    "# KL Divergence\n",
    "\n",
    "So far, we have the the cross entropy is our encoding length when we use \"the wrong code\", and we see that its more than the true entropy. We can define a quantity that tells us \"how much more?\" \n",
    "\n",
    "In other words, a quantity that gives us the extra bits we have used because we used the wrong code. This is called the **Kullback–Leibler (KL) Divergence**:\n",
    "\n",
    "<div class=\"info\">\n",
    "\n",
    "<font size=\"7\">📜</font>**Definition**: The **KL-Divergence**: from $p$ to $q$ is given by:\n",
    "    \n",
    "$$\n",
    "D_{KL} (p \\| q) = H_q(p) - H(p)\n",
    "$$\n",
    "\n",
    "**Note:** This is also **not symmetric**!\n",
    "    \n",
    "</div>"
   ]
  },
  {
   "cell_type": "markdown",
   "metadata": {},
   "source": [
    "Visually: this is represented by:\n",
    "\n",
    "![](figures/info-kl.png)\n",
    "\n",
    "We treat the KL divergence, as a **distance between two distributions**. A non-symmetric one!  It measures how different they are! If you take that idea seriously, you end up with **information geometry**!. \n",
    "\n",
    "Cross-Entropy and KL divergence are incredibly useful in machine learning. Often, we want one distribution to be close to another. For example, we might want a predicted distribution to be close to the ground truth. KL divergence gives us a natural way to do this, and so it shows up everywhere."
   ]
  },
  {
   "cell_type": "markdown",
   "metadata": {},
   "source": [
    "## KL Exercises:\n",
    "\n",
    "Do the following exercises:\n",
    "* Calculate the KL divergence between $p$ and $q$\n",
    "* Calculate the KL divergence between $q$ and $p$\n",
    "* Hold $p$ constant, and vary the probability of **dog** in $q$, and plot the KL Divergence"
   ]
  },
  {
   "cell_type": "code",
   "execution_count": null,
   "metadata": {},
   "outputs": [],
   "source": []
  },
  {
   "cell_type": "markdown",
   "metadata": {},
   "source": [
    "---\n",
    "\n",
    "# Resources\n",
    "\n",
    "* Elements of Information Theory - Cover & Thomas\n",
    "* Information Theory, Inference,and Learning Algorithms - David J.C. MacKay"
   ]
  },
  {
   "cell_type": "code",
   "execution_count": null,
   "metadata": {},
   "outputs": [],
   "source": []
  }
 ],
 "metadata": {
  "kernelspec": {
   "display_name": "Python 3",
   "language": "python",
   "name": "python3"
  },
  "language_info": {
   "codemirror_mode": {
    "name": "ipython",
    "version": 3
   },
   "file_extension": ".py",
   "mimetype": "text/x-python",
   "name": "python",
   "nbconvert_exporter": "python",
   "pygments_lexer": "ipython3",
   "version": "3.8.3"
  },
  "toc-autonumbering": false,
  "toc-showtags": false
 },
 "nbformat": 4,
 "nbformat_minor": 4
}
